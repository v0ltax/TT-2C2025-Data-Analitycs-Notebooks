{
  "cells": [
    {
      "cell_type": "markdown",
      "metadata": {
        "colab_type": "text",
        "id": "view-in-github"
      },
      "source": [
        "<a href=\"https://colab.research.google.com/github/v0ltax/TT-2C2025-Data-Analitycs-Notebooks/blob/main/Robledo-Sebastian_Comision-252813_TPI-Data-Analytics/Pre-Entrega.ipynb\" target=\"_parent\"><img src=\"https://colab.research.google.com/assets/colab-badge.svg\" alt=\"Open In Colab\"/></a>"
      ]
    },
    {
      "cell_type": "markdown",
      "metadata": {
        "id": "G2HrbM6xhNs-"
      },
      "source": [
        "# Análisis de datos con Pyhon - Pre-entrega\n",
        "### Nombre y apellido: Sebastian Hernan Ariel Robledo"
      ]
    },
    {
      "cell_type": "markdown",
      "metadata": {
        "id": "-CxKqzBrhVHX"
      },
      "source": [
        "---\n",
        "# Etapa 1"
      ]
    },
    {
      "cell_type": "markdown",
      "metadata": {
        "id": "E39m-LmQyqpw"
      },
      "source": [
        "## Actividad 1.1"
      ]
    },
    {
      "cell_type": "markdown",
      "metadata": {
        "id": "Wm34ILh_i9hu"
      },
      "source": [
        "## Importar Datasets"
      ]
    },
    {
      "cell_type": "code",
      "execution_count": 333,
      "metadata": {
        "id": "fYHkJwfAt_lw"
      },
      "outputs": [],
      "source": [
        "# Carga de datasets alojados en github\n",
        "gitRepo = \"https://raw.githubusercontent.com/v0ltax/TT-2C2025-Data-Analitycs-Notebooks/refs/heads/main/Robledo-Sebastian_Comision-252813_TPI-Data-Analytics/\"\n",
        "urlClientes = gitRepo + \"clientes.csv\"\n",
        "urlMarketing = gitRepo + \"marketing.csv\"\n",
        "urlVentas = gitRepo + \"ventas.csv\"\n",
        "\n",
        "import pandas as pd\n",
        "\n",
        "df_clientes = pd.read_csv(urlClientes)\n",
        "df_marketing = pd.read_csv(urlMarketing)\n",
        "df_ventas = pd.read_csv(urlVentas)"
      ]
    },
    {
      "cell_type": "code",
      "execution_count": 334,
      "metadata": {
        "colab": {
          "base_uri": "https://localhost:8080/",
          "height": 143
        },
        "id": "33qnW9WX13Xc",
        "outputId": "dc168d59-36d2-4f95-ab74-97558d2db72c"
      },
      "outputs": [
        {
          "data": {
            "text/html": [
              "<div>\n",
              "<style scoped>\n",
              "    .dataframe tbody tr th:only-of-type {\n",
              "        vertical-align: middle;\n",
              "    }\n",
              "\n",
              "    .dataframe tbody tr th {\n",
              "        vertical-align: top;\n",
              "    }\n",
              "\n",
              "    .dataframe thead th {\n",
              "        text-align: right;\n",
              "    }\n",
              "</style>\n",
              "<table border=\"1\" class=\"dataframe\">\n",
              "  <thead>\n",
              "    <tr style=\"text-align: right;\">\n",
              "      <th></th>\n",
              "      <th>id_cliente</th>\n",
              "      <th>nombre</th>\n",
              "      <th>edad</th>\n",
              "      <th>ciudad</th>\n",
              "      <th>ingresos</th>\n",
              "    </tr>\n",
              "  </thead>\n",
              "  <tbody>\n",
              "    <tr>\n",
              "      <th>0</th>\n",
              "      <td>1</td>\n",
              "      <td>Aloysia Screase</td>\n",
              "      <td>44</td>\n",
              "      <td>Mar del Plata</td>\n",
              "      <td>42294.68</td>\n",
              "    </tr>\n",
              "    <tr>\n",
              "      <th>1</th>\n",
              "      <td>2</td>\n",
              "      <td>Kristina Scaplehorn</td>\n",
              "      <td>25</td>\n",
              "      <td>Posadas</td>\n",
              "      <td>24735.04</td>\n",
              "    </tr>\n",
              "    <tr>\n",
              "      <th>2</th>\n",
              "      <td>3</td>\n",
              "      <td>Filip Castagne</td>\n",
              "      <td>50</td>\n",
              "      <td>Resistencia</td>\n",
              "      <td>35744.85</td>\n",
              "    </tr>\n",
              "    <tr>\n",
              "      <th>3</th>\n",
              "      <td>4</td>\n",
              "      <td>Liuka Luard</td>\n",
              "      <td>39</td>\n",
              "      <td>Bahía Blanca</td>\n",
              "      <td>27647.96</td>\n",
              "    </tr>\n",
              "    <tr>\n",
              "      <th>4</th>\n",
              "      <td>5</td>\n",
              "      <td>Dore Cockshtt</td>\n",
              "      <td>28</td>\n",
              "      <td>Rosario</td>\n",
              "      <td>28245.65</td>\n",
              "    </tr>\n",
              "  </tbody>\n",
              "</table>\n",
              "</div>"
            ],
            "text/plain": [
              "   id_cliente               nombre  edad         ciudad  ingresos\n",
              "0           1      Aloysia Screase    44  Mar del Plata  42294.68\n",
              "1           2  Kristina Scaplehorn    25        Posadas  24735.04\n",
              "2           3       Filip Castagne    50    Resistencia  35744.85\n",
              "3           4          Liuka Luard    39   Bahía Blanca  27647.96\n",
              "4           5        Dore Cockshtt    28        Rosario  28245.65"
            ]
          },
          "execution_count": 334,
          "metadata": {},
          "output_type": "execute_result"
        }
      ],
      "source": [
        "# Verificar dataset clientes\n",
        "df_clientes.head()"
      ]
    },
    {
      "cell_type": "code",
      "execution_count": 335,
      "metadata": {
        "colab": {
          "base_uri": "https://localhost:8080/",
          "height": 143
        },
        "id": "gIiYBwWu2FzM",
        "outputId": "b3b67eff-4f66-4795-9c25-76a17675fc43"
      },
      "outputs": [
        {
          "data": {
            "text/html": [
              "<div>\n",
              "<style scoped>\n",
              "    .dataframe tbody tr th:only-of-type {\n",
              "        vertical-align: middle;\n",
              "    }\n",
              "\n",
              "    .dataframe tbody tr th {\n",
              "        vertical-align: top;\n",
              "    }\n",
              "\n",
              "    .dataframe thead th {\n",
              "        text-align: right;\n",
              "    }\n",
              "</style>\n",
              "<table border=\"1\" class=\"dataframe\">\n",
              "  <thead>\n",
              "    <tr style=\"text-align: right;\">\n",
              "      <th></th>\n",
              "      <th>id_campanha</th>\n",
              "      <th>producto</th>\n",
              "      <th>canal</th>\n",
              "      <th>costo</th>\n",
              "      <th>fecha_inicio</th>\n",
              "      <th>fecha_fin</th>\n",
              "    </tr>\n",
              "  </thead>\n",
              "  <tbody>\n",
              "    <tr>\n",
              "      <th>0</th>\n",
              "      <td>74</td>\n",
              "      <td>Adorno de pared</td>\n",
              "      <td>TV</td>\n",
              "      <td>4.81</td>\n",
              "      <td>20/03/2024</td>\n",
              "      <td>03/05/2024</td>\n",
              "    </tr>\n",
              "    <tr>\n",
              "      <th>1</th>\n",
              "      <td>12</td>\n",
              "      <td>Tablet</td>\n",
              "      <td>RRSS</td>\n",
              "      <td>3.40</td>\n",
              "      <td>26/03/2024</td>\n",
              "      <td>13/05/2024</td>\n",
              "    </tr>\n",
              "    <tr>\n",
              "      <th>2</th>\n",
              "      <td>32</td>\n",
              "      <td>Lámpara de mesa</td>\n",
              "      <td>Email</td>\n",
              "      <td>5.54</td>\n",
              "      <td>28/03/2024</td>\n",
              "      <td>20/04/2024</td>\n",
              "    </tr>\n",
              "    <tr>\n",
              "      <th>3</th>\n",
              "      <td>21</td>\n",
              "      <td>Smartphone</td>\n",
              "      <td>RRSS</td>\n",
              "      <td>6.37</td>\n",
              "      <td>29/03/2024</td>\n",
              "      <td>16/05/2024</td>\n",
              "    </tr>\n",
              "    <tr>\n",
              "      <th>4</th>\n",
              "      <td>58</td>\n",
              "      <td>Alfombra</td>\n",
              "      <td>Email</td>\n",
              "      <td>4.25</td>\n",
              "      <td>31/03/2024</td>\n",
              "      <td>05/05/2024</td>\n",
              "    </tr>\n",
              "  </tbody>\n",
              "</table>\n",
              "</div>"
            ],
            "text/plain": [
              "   id_campanha         producto  canal  costo fecha_inicio   fecha_fin\n",
              "0           74  Adorno de pared     TV   4.81   20/03/2024  03/05/2024\n",
              "1           12           Tablet   RRSS   3.40   26/03/2024  13/05/2024\n",
              "2           32  Lámpara de mesa  Email   5.54   28/03/2024  20/04/2024\n",
              "3           21       Smartphone   RRSS   6.37   29/03/2024  16/05/2024\n",
              "4           58         Alfombra  Email   4.25   31/03/2024  05/05/2024"
            ]
          },
          "execution_count": 335,
          "metadata": {},
          "output_type": "execute_result"
        }
      ],
      "source": [
        "# Verificar dataset marketing\n",
        "df_marketing.head()"
      ]
    },
    {
      "cell_type": "code",
      "execution_count": 336,
      "metadata": {
        "colab": {
          "base_uri": "https://localhost:8080/",
          "height": 143
        },
        "id": "H1JtDZtt2OYb",
        "outputId": "bc79d4e6-543f-4dc8-f874-af744bd52449"
      },
      "outputs": [
        {
          "data": {
            "text/html": [
              "<div>\n",
              "<style scoped>\n",
              "    .dataframe tbody tr th:only-of-type {\n",
              "        vertical-align: middle;\n",
              "    }\n",
              "\n",
              "    .dataframe tbody tr th {\n",
              "        vertical-align: top;\n",
              "    }\n",
              "\n",
              "    .dataframe thead th {\n",
              "        text-align: right;\n",
              "    }\n",
              "</style>\n",
              "<table border=\"1\" class=\"dataframe\">\n",
              "  <thead>\n",
              "    <tr style=\"text-align: right;\">\n",
              "      <th></th>\n",
              "      <th>id_venta</th>\n",
              "      <th>producto</th>\n",
              "      <th>precio</th>\n",
              "      <th>cantidad</th>\n",
              "      <th>fecha_venta</th>\n",
              "      <th>categoria</th>\n",
              "    </tr>\n",
              "  </thead>\n",
              "  <tbody>\n",
              "    <tr>\n",
              "      <th>0</th>\n",
              "      <td>792</td>\n",
              "      <td>Cuadro decorativo</td>\n",
              "      <td>$69.94</td>\n",
              "      <td>5.0</td>\n",
              "      <td>02/01/2024</td>\n",
              "      <td>Decoración</td>\n",
              "    </tr>\n",
              "    <tr>\n",
              "      <th>1</th>\n",
              "      <td>811</td>\n",
              "      <td>Lámpara de mesa</td>\n",
              "      <td>$105.10</td>\n",
              "      <td>5.0</td>\n",
              "      <td>02/01/2024</td>\n",
              "      <td>Decoración</td>\n",
              "    </tr>\n",
              "    <tr>\n",
              "      <th>2</th>\n",
              "      <td>1156</td>\n",
              "      <td>Secadora</td>\n",
              "      <td>$97.96</td>\n",
              "      <td>3.0</td>\n",
              "      <td>02/01/2024</td>\n",
              "      <td>Electrodomésticos</td>\n",
              "    </tr>\n",
              "    <tr>\n",
              "      <th>3</th>\n",
              "      <td>1372</td>\n",
              "      <td>Heladera</td>\n",
              "      <td>$114.35</td>\n",
              "      <td>8.0</td>\n",
              "      <td>02/01/2024</td>\n",
              "      <td>Electrodomésticos</td>\n",
              "    </tr>\n",
              "    <tr>\n",
              "      <th>4</th>\n",
              "      <td>1546</td>\n",
              "      <td>Secadora</td>\n",
              "      <td>$106.21</td>\n",
              "      <td>4.0</td>\n",
              "      <td>02/01/2024</td>\n",
              "      <td>Electrodomésticos</td>\n",
              "    </tr>\n",
              "  </tbody>\n",
              "</table>\n",
              "</div>"
            ],
            "text/plain": [
              "   id_venta           producto   precio  cantidad fecha_venta  \\\n",
              "0       792  Cuadro decorativo   $69.94       5.0  02/01/2024   \n",
              "1       811    Lámpara de mesa  $105.10       5.0  02/01/2024   \n",
              "2      1156           Secadora   $97.96       3.0  02/01/2024   \n",
              "3      1372           Heladera  $114.35       8.0  02/01/2024   \n",
              "4      1546           Secadora  $106.21       4.0  02/01/2024   \n",
              "\n",
              "           categoria  \n",
              "0         Decoración  \n",
              "1         Decoración  \n",
              "2  Electrodomésticos  \n",
              "3  Electrodomésticos  \n",
              "4  Electrodomésticos  "
            ]
          },
          "execution_count": 336,
          "metadata": {},
          "output_type": "execute_result"
        }
      ],
      "source": [
        "# Verificar dataset ventas\n",
        "df_ventas.head()"
      ]
    },
    {
      "cell_type": "markdown",
      "metadata": {
        "id": "AUR3xtgry4qc"
      },
      "source": [
        "## Actividades 1.2 y 1.3"
      ]
    },
    {
      "cell_type": "markdown",
      "metadata": {
        "id": "4ILasuZOlQH2"
      },
      "source": [
        "## Script básico"
      ]
    },
    {
      "cell_type": "code",
      "execution_count": 337,
      "metadata": {
        "id": "HCohGTwZlUL5"
      },
      "outputs": [],
      "source": [
        "# Generamos una lista de diccionarios que contenga algunos datos\n",
        "ventas = [\n",
        "  {'producto': 'Laptop', 'precio': 500.0, 'cantidad': 3},\n",
        "  {'producto': 'Heladera', 'precio': 1000.0, 'cantidad': 5},\n",
        "  {'producto': 'Smartphone', 'precio': 100.0, 'cantidad': 15}\n",
        "]"
      ]
    },
    {
      "cell_type": "code",
      "execution_count": 338,
      "metadata": {
        "colab": {
          "base_uri": "https://localhost:8080/"
        },
        "id": "OEfBFwOql3Du",
        "outputId": "c1bb4e91-f7b5-45f4-831f-d75c8d522959"
      },
      "outputs": [
        {
          "data": {
            "text/plain": [
              "8000.0"
            ]
          },
          "execution_count": 338,
          "metadata": {},
          "output_type": "execute_result"
        }
      ],
      "source": [
        "# Calculamos las ventas acumuladas - map\n",
        "ventas_totales = sum(map(lambda x: x['precio'] * x['cantidad'], ventas))\n",
        "ventas_totales"
      ]
    },
    {
      "cell_type": "code",
      "execution_count": 339,
      "metadata": {
        "colab": {
          "base_uri": "https://localhost:8080/"
        },
        "id": "bF7f3yB_rzAi",
        "outputId": "7f6cac0b-1eed-4e12-cd53-6ff462e80213"
      },
      "outputs": [
        {
          "data": {
            "text/plain": [
              "8000.0"
            ]
          },
          "execution_count": 339,
          "metadata": {},
          "output_type": "execute_result"
        }
      ],
      "source": [
        "# Calculamos las ventas acumuladas - listas por comprensión\n",
        "venta_acumuladas = sum([venta[\"precio\"] * venta[\"cantidad\"] for venta in ventas])\n",
        "venta_acumuladas"
      ]
    },
    {
      "cell_type": "markdown",
      "metadata": {
        "id": "OBTJokSHzBv1"
      },
      "source": [
        "## Actividad 1.4"
      ]
    },
    {
      "cell_type": "markdown",
      "metadata": {
        "id": "7CF7mLnpsQ8p"
      },
      "source": [
        "## Dataframe ventas"
      ]
    },
    {
      "cell_type": "markdown",
      "metadata": {
        "id": "4w1wg0w5zJYD"
      },
      "source": [
        "### Análisis exploratorio de **datos**"
      ]
    },
    {
      "cell_type": "markdown",
      "metadata": {
        "id": "l2yM5nTLwKjJ"
      },
      "source": [
        "Aplicamos los métodos de EDA vistos en clase, `info`, `columns`, `dtypes`, `head`, `tail`, `sample`, `unique`, `value_counts`, `describe`, `duplicated`, `isnull`, etc. y documentamos las observaciones:"
      ]
    },
    {
      "cell_type": "code",
      "execution_count": 340,
      "metadata": {
        "colab": {
          "base_uri": "https://localhost:8080/"
        },
        "id": "9u6pn82DsZ0k",
        "outputId": "7ba38566-23b6-4f31-a640-10077d94eb4e"
      },
      "outputs": [
        {
          "name": "stdout",
          "output_type": "stream",
          "text": [
            "<class 'pandas.core.frame.DataFrame'>\n",
            "RangeIndex: 3035 entries, 0 to 3034\n",
            "Data columns (total 6 columns):\n",
            " #   Column       Non-Null Count  Dtype  \n",
            "---  ------       --------------  -----  \n",
            " 0   id_venta     3035 non-null   int64  \n",
            " 1   producto     3035 non-null   object \n",
            " 2   precio       3033 non-null   object \n",
            " 3   cantidad     3033 non-null   float64\n",
            " 4   fecha_venta  3035 non-null   object \n",
            " 5   categoria    3035 non-null   object \n",
            "dtypes: float64(1), int64(1), object(4)\n",
            "memory usage: 142.4+ KB\n"
          ]
        }
      ],
      "source": [
        "# Aplicamos info() para familiarizarnos con el dataframe\n",
        "df_ventas.info()"
      ]
    },
    {
      "cell_type": "code",
      "execution_count": 341,
      "metadata": {
        "colab": {
          "base_uri": "https://localhost:8080/",
          "height": 206
        },
        "id": "QX_TXdPFwEpc",
        "outputId": "89ddce40-2558-413c-b963-39346d18d433"
      },
      "outputs": [
        {
          "data": {
            "text/html": [
              "<div>\n",
              "<style scoped>\n",
              "    .dataframe tbody tr th:only-of-type {\n",
              "        vertical-align: middle;\n",
              "    }\n",
              "\n",
              "    .dataframe tbody tr th {\n",
              "        vertical-align: top;\n",
              "    }\n",
              "\n",
              "    .dataframe thead th {\n",
              "        text-align: right;\n",
              "    }\n",
              "</style>\n",
              "<table border=\"1\" class=\"dataframe\">\n",
              "  <thead>\n",
              "    <tr style=\"text-align: right;\">\n",
              "      <th></th>\n",
              "      <th>id_venta</th>\n",
              "      <th>producto</th>\n",
              "      <th>precio</th>\n",
              "      <th>cantidad</th>\n",
              "      <th>fecha_venta</th>\n",
              "      <th>categoria</th>\n",
              "    </tr>\n",
              "  </thead>\n",
              "  <tbody>\n",
              "    <tr>\n",
              "      <th>0</th>\n",
              "      <td>792</td>\n",
              "      <td>Cuadro decorativo</td>\n",
              "      <td>$69.94</td>\n",
              "      <td>5.0</td>\n",
              "      <td>02/01/2024</td>\n",
              "      <td>Decoración</td>\n",
              "    </tr>\n",
              "    <tr>\n",
              "      <th>1</th>\n",
              "      <td>811</td>\n",
              "      <td>Lámpara de mesa</td>\n",
              "      <td>$105.10</td>\n",
              "      <td>5.0</td>\n",
              "      <td>02/01/2024</td>\n",
              "      <td>Decoración</td>\n",
              "    </tr>\n",
              "    <tr>\n",
              "      <th>2</th>\n",
              "      <td>1156</td>\n",
              "      <td>Secadora</td>\n",
              "      <td>$97.96</td>\n",
              "      <td>3.0</td>\n",
              "      <td>02/01/2024</td>\n",
              "      <td>Electrodomésticos</td>\n",
              "    </tr>\n",
              "    <tr>\n",
              "      <th>3</th>\n",
              "      <td>1372</td>\n",
              "      <td>Heladera</td>\n",
              "      <td>$114.35</td>\n",
              "      <td>8.0</td>\n",
              "      <td>02/01/2024</td>\n",
              "      <td>Electrodomésticos</td>\n",
              "    </tr>\n",
              "    <tr>\n",
              "      <th>4</th>\n",
              "      <td>1546</td>\n",
              "      <td>Secadora</td>\n",
              "      <td>$106.21</td>\n",
              "      <td>4.0</td>\n",
              "      <td>02/01/2024</td>\n",
              "      <td>Electrodomésticos</td>\n",
              "    </tr>\n",
              "  </tbody>\n",
              "</table>\n",
              "</div>"
            ],
            "text/plain": [
              "   id_venta           producto   precio  cantidad fecha_venta  \\\n",
              "0       792  Cuadro decorativo   $69.94       5.0  02/01/2024   \n",
              "1       811    Lámpara de mesa  $105.10       5.0  02/01/2024   \n",
              "2      1156           Secadora   $97.96       3.0  02/01/2024   \n",
              "3      1372           Heladera  $114.35       8.0  02/01/2024   \n",
              "4      1546           Secadora  $106.21       4.0  02/01/2024   \n",
              "\n",
              "           categoria  \n",
              "0         Decoración  \n",
              "1         Decoración  \n",
              "2  Electrodomésticos  \n",
              "3  Electrodomésticos  \n",
              "4  Electrodomésticos  "
            ]
          },
          "execution_count": 341,
          "metadata": {},
          "output_type": "execute_result"
        }
      ],
      "source": [
        "# Visualizamos los primeros registros con head()\n",
        "# también podemos usar tail() para visualizar los últimos\n",
        "df_ventas.head()"
      ]
    },
    {
      "cell_type": "code",
      "execution_count": 342,
      "metadata": {
        "colab": {
          "base_uri": "https://localhost:8080/",
          "height": 206
        },
        "id": "r4Yu43kOxpIK",
        "outputId": "85aef358-d119-43a2-86a6-2c049095d84c"
      },
      "outputs": [
        {
          "data": {
            "text/html": [
              "<div>\n",
              "<style scoped>\n",
              "    .dataframe tbody tr th:only-of-type {\n",
              "        vertical-align: middle;\n",
              "    }\n",
              "\n",
              "    .dataframe tbody tr th {\n",
              "        vertical-align: top;\n",
              "    }\n",
              "\n",
              "    .dataframe thead th {\n",
              "        text-align: right;\n",
              "    }\n",
              "</style>\n",
              "<table border=\"1\" class=\"dataframe\">\n",
              "  <thead>\n",
              "    <tr style=\"text-align: right;\">\n",
              "      <th></th>\n",
              "      <th>id_venta</th>\n",
              "      <th>producto</th>\n",
              "      <th>precio</th>\n",
              "      <th>cantidad</th>\n",
              "      <th>fecha_venta</th>\n",
              "      <th>categoria</th>\n",
              "    </tr>\n",
              "  </thead>\n",
              "  <tbody>\n",
              "    <tr>\n",
              "      <th>966</th>\n",
              "      <td>2615</td>\n",
              "      <td>Auriculares</td>\n",
              "      <td>$46.72</td>\n",
              "      <td>11.0</td>\n",
              "      <td>16/04/2024</td>\n",
              "      <td>Electrónica</td>\n",
              "    </tr>\n",
              "    <tr>\n",
              "      <th>212</th>\n",
              "      <td>2619</td>\n",
              "      <td>Proyector</td>\n",
              "      <td>$70.10</td>\n",
              "      <td>10.0</td>\n",
              "      <td>25/01/2024</td>\n",
              "      <td>Electrónica</td>\n",
              "    </tr>\n",
              "    <tr>\n",
              "      <th>1157</th>\n",
              "      <td>2415</td>\n",
              "      <td>Auriculares</td>\n",
              "      <td>$35.87</td>\n",
              "      <td>5.0</td>\n",
              "      <td>07/05/2024</td>\n",
              "      <td>Electrónica</td>\n",
              "    </tr>\n",
              "    <tr>\n",
              "      <th>1368</th>\n",
              "      <td>376</td>\n",
              "      <td>Cortinas</td>\n",
              "      <td>$106.27</td>\n",
              "      <td>2.0</td>\n",
              "      <td>01/06/2024</td>\n",
              "      <td>Decoración</td>\n",
              "    </tr>\n",
              "    <tr>\n",
              "      <th>1286</th>\n",
              "      <td>2676</td>\n",
              "      <td>Laptop</td>\n",
              "      <td>$32.36</td>\n",
              "      <td>9.0</td>\n",
              "      <td>21/05/2024</td>\n",
              "      <td>Electrónica</td>\n",
              "    </tr>\n",
              "  </tbody>\n",
              "</table>\n",
              "</div>"
            ],
            "text/plain": [
              "      id_venta     producto   precio  cantidad fecha_venta    categoria\n",
              "966       2615  Auriculares   $46.72      11.0  16/04/2024  Electrónica\n",
              "212       2619    Proyector   $70.10      10.0  25/01/2024  Electrónica\n",
              "1157      2415  Auriculares   $35.87       5.0  07/05/2024  Electrónica\n",
              "1368       376     Cortinas  $106.27       2.0  01/06/2024   Decoración\n",
              "1286      2676       Laptop   $32.36       9.0  21/05/2024  Electrónica"
            ]
          },
          "execution_count": 342,
          "metadata": {},
          "output_type": "execute_result"
        }
      ],
      "source": [
        "# Usar sample() para tomar registros al azar\n",
        "df_ventas.sample(5)"
      ]
    },
    {
      "cell_type": "code",
      "execution_count": 343,
      "metadata": {
        "colab": {
          "base_uri": "https://localhost:8080/",
          "height": 209
        },
        "id": "yS_uqM3ry7oW",
        "outputId": "ca571203-92f2-4d9d-caf8-55cc193f0370"
      },
      "outputs": [
        {
          "data": {
            "text/plain": [
              "count       3033\n",
              "unique      2590\n",
              "top       $76.32\n",
              "freq           5\n",
              "Name: precio, dtype: object"
            ]
          },
          "execution_count": 343,
          "metadata": {},
          "output_type": "execute_result"
        }
      ],
      "source": [
        "# Analizamos el campo precio\n",
        "# Si es numericos se puede aplicar describe()\n",
        "df_ventas[\"precio\"].describe()"
      ]
    },
    {
      "cell_type": "code",
      "execution_count": 344,
      "metadata": {
        "colab": {
          "base_uri": "https://localhost:8080/",
          "height": 241
        },
        "id": "JCZSmwXK18u9",
        "outputId": "94c14681-bde3-4bd6-a777-564dcaf40c02"
      },
      "outputs": [
        {
          "data": {
            "text/plain": [
              "1975     3.0\n",
              "408      8.0\n",
              "1038    11.0\n",
              "2821     4.0\n",
              "2385    11.0\n",
              "Name: cantidad, dtype: float64"
            ]
          },
          "execution_count": 344,
          "metadata": {},
          "output_type": "execute_result"
        }
      ],
      "source": [
        "# Analizamos el campo cantidad\n",
        "# si es numerico se puede aplicar describe()\n",
        "df_ventas[\"cantidad\"].sample(5)"
      ]
    },
    {
      "cell_type": "code",
      "execution_count": 345,
      "metadata": {
        "colab": {
          "base_uri": "https://localhost:8080/",
          "height": 458
        },
        "id": "IASdTdeN2OMw",
        "outputId": "45fbe40b-f61a-4918-f601-82da6755e622"
      },
      "outputs": [
        {
          "data": {
            "text/plain": [
              "0       02/01/2024\n",
              "1       02/01/2024\n",
              "2       02/01/2024\n",
              "3       02/01/2024\n",
              "4       02/01/2024\n",
              "           ...    \n",
              "3030    30/12/2024\n",
              "3031    30/12/2024\n",
              "3032    30/12/2024\n",
              "3033    30/12/2024\n",
              "3034    30/12/2024\n",
              "Name: fecha_venta, Length: 3035, dtype: object"
            ]
          },
          "execution_count": 345,
          "metadata": {},
          "output_type": "execute_result"
        }
      ],
      "source": [
        "# Analizamos el campo fecha_venta\n",
        "df_ventas[\"fecha_venta\"]"
      ]
    },
    {
      "cell_type": "code",
      "execution_count": 346,
      "metadata": {
        "colab": {
          "base_uri": "https://localhost:8080/",
          "height": 209
        },
        "id": "u0olGUXk2aQP",
        "outputId": "7e5691c3-0ba1-4abc-d26f-ba477a1563c6"
      },
      "outputs": [
        {
          "data": {
            "text/plain": [
              "categoria\n",
              "Decoración           1015\n",
              "Electrónica          1012\n",
              "Electrodomésticos    1008\n",
              "Name: count, dtype: int64"
            ]
          },
          "execution_count": 346,
          "metadata": {},
          "output_type": "execute_result"
        }
      ],
      "source": [
        "# Analizamos el campo categoria\n",
        "# Probar con value_counts y unique\n",
        "df_ventas[\"categoria\"].value_counts()"
      ]
    },
    {
      "cell_type": "markdown",
      "metadata": {
        "id": "Fww0q8PGzPRs"
      },
      "source": [
        "## Actividad 1.5"
      ]
    },
    {
      "cell_type": "markdown",
      "metadata": {
        "id": "qF-Q6rCC6Ql8"
      },
      "source": [
        "### Calidad de datos"
      ]
    },
    {
      "cell_type": "code",
      "execution_count": 347,
      "metadata": {
        "colab": {
          "base_uri": "https://localhost:8080/"
        },
        "id": "qoJWMCaNyb1n",
        "outputId": "4ae990c3-bc42-4e79-f62e-50ebc7fd638b"
      },
      "outputs": [
        {
          "data": {
            "text/plain": [
              "np.int64(35)"
            ]
          },
          "execution_count": 347,
          "metadata": {},
          "output_type": "execute_result"
        }
      ],
      "source": [
        "# Buscamos registros duplicados\n",
        "df_ventas.duplicated().sum()"
      ]
    },
    {
      "cell_type": "code",
      "execution_count": 348,
      "metadata": {
        "colab": {
          "base_uri": "https://localhost:8080/",
          "height": 423
        },
        "id": "T5ZrKVEn4aI-",
        "outputId": "e1716e7d-62f1-41ae-c21f-5dff02d2f346"
      },
      "outputs": [
        {
          "data": {
            "text/html": [
              "<div>\n",
              "<style scoped>\n",
              "    .dataframe tbody tr th:only-of-type {\n",
              "        vertical-align: middle;\n",
              "    }\n",
              "\n",
              "    .dataframe tbody tr th {\n",
              "        vertical-align: top;\n",
              "    }\n",
              "\n",
              "    .dataframe thead th {\n",
              "        text-align: right;\n",
              "    }\n",
              "</style>\n",
              "<table border=\"1\" class=\"dataframe\">\n",
              "  <thead>\n",
              "    <tr style=\"text-align: right;\">\n",
              "      <th></th>\n",
              "      <th>id_venta</th>\n",
              "      <th>producto</th>\n",
              "      <th>precio</th>\n",
              "      <th>cantidad</th>\n",
              "      <th>fecha_venta</th>\n",
              "      <th>categoria</th>\n",
              "    </tr>\n",
              "  </thead>\n",
              "  <tbody>\n",
              "    <tr>\n",
              "      <th>820</th>\n",
              "      <td>56</td>\n",
              "      <td>Cortinas</td>\n",
              "      <td>$66.24</td>\n",
              "      <td>5.0</td>\n",
              "      <td>05/04/2024</td>\n",
              "      <td>Decoración</td>\n",
              "    </tr>\n",
              "    <tr>\n",
              "      <th>826</th>\n",
              "      <td>56</td>\n",
              "      <td>Cortinas</td>\n",
              "      <td>$66.24</td>\n",
              "      <td>5.0</td>\n",
              "      <td>05/04/2024</td>\n",
              "      <td>Decoración</td>\n",
              "    </tr>\n",
              "    <tr>\n",
              "      <th>832</th>\n",
              "      <td>145</td>\n",
              "      <td>Alfombra</td>\n",
              "      <td>$41.72</td>\n",
              "      <td>8.0</td>\n",
              "      <td>06/04/2024</td>\n",
              "      <td>Decoración</td>\n",
              "    </tr>\n",
              "    <tr>\n",
              "      <th>844</th>\n",
              "      <td>145</td>\n",
              "      <td>Alfombra</td>\n",
              "      <td>$41.72</td>\n",
              "      <td>8.0</td>\n",
              "      <td>06/04/2024</td>\n",
              "      <td>Decoración</td>\n",
              "    </tr>\n",
              "    <tr>\n",
              "      <th>878</th>\n",
              "      <td>204</td>\n",
              "      <td>Jarrón decorativo</td>\n",
              "      <td>$94.75</td>\n",
              "      <td>1.0</td>\n",
              "      <td>08/04/2024</td>\n",
              "      <td>Decoración</td>\n",
              "    </tr>\n",
              "    <tr>\n",
              "      <th>...</th>\n",
              "      <td>...</td>\n",
              "      <td>...</td>\n",
              "      <td>...</td>\n",
              "      <td>...</td>\n",
              "      <td>...</td>\n",
              "      <td>...</td>\n",
              "    </tr>\n",
              "    <tr>\n",
              "      <th>830</th>\n",
              "      <td>2545</td>\n",
              "      <td>Auriculares</td>\n",
              "      <td>$32.81</td>\n",
              "      <td>11.0</td>\n",
              "      <td>05/04/2024</td>\n",
              "      <td>Electrónica</td>\n",
              "    </tr>\n",
              "    <tr>\n",
              "      <th>883</th>\n",
              "      <td>2705</td>\n",
              "      <td>Auriculares</td>\n",
              "      <td>$87.29</td>\n",
              "      <td>2.0</td>\n",
              "      <td>08/04/2024</td>\n",
              "      <td>Electrónica</td>\n",
              "    </tr>\n",
              "    <tr>\n",
              "      <th>889</th>\n",
              "      <td>2705</td>\n",
              "      <td>Auriculares</td>\n",
              "      <td>$87.29</td>\n",
              "      <td>2.0</td>\n",
              "      <td>08/04/2024</td>\n",
              "      <td>Electrónica</td>\n",
              "    </tr>\n",
              "    <tr>\n",
              "      <th>831</th>\n",
              "      <td>2778</td>\n",
              "      <td>SmartWatch</td>\n",
              "      <td>$70.66</td>\n",
              "      <td>7.0</td>\n",
              "      <td>05/04/2024</td>\n",
              "      <td>Electrónica</td>\n",
              "    </tr>\n",
              "    <tr>\n",
              "      <th>825</th>\n",
              "      <td>2778</td>\n",
              "      <td>SmartWatch</td>\n",
              "      <td>$70.66</td>\n",
              "      <td>7.0</td>\n",
              "      <td>05/04/2024</td>\n",
              "      <td>Electrónica</td>\n",
              "    </tr>\n",
              "  </tbody>\n",
              "</table>\n",
              "<p>70 rows × 6 columns</p>\n",
              "</div>"
            ],
            "text/plain": [
              "     id_venta           producto  precio  cantidad fecha_venta    categoria\n",
              "820        56           Cortinas  $66.24       5.0  05/04/2024   Decoración\n",
              "826        56           Cortinas  $66.24       5.0  05/04/2024   Decoración\n",
              "832       145           Alfombra  $41.72       8.0  06/04/2024   Decoración\n",
              "844       145           Alfombra  $41.72       8.0  06/04/2024   Decoración\n",
              "878       204  Jarrón decorativo  $94.75       1.0  08/04/2024   Decoración\n",
              "..        ...                ...     ...       ...         ...          ...\n",
              "830      2545        Auriculares  $32.81      11.0  05/04/2024  Electrónica\n",
              "883      2705        Auriculares  $87.29       2.0  08/04/2024  Electrónica\n",
              "889      2705        Auriculares  $87.29       2.0  08/04/2024  Electrónica\n",
              "831      2778         SmartWatch  $70.66       7.0  05/04/2024  Electrónica\n",
              "825      2778         SmartWatch  $70.66       7.0  05/04/2024  Electrónica\n",
              "\n",
              "[70 rows x 6 columns]"
            ]
          },
          "execution_count": 348,
          "metadata": {},
          "output_type": "execute_result"
        }
      ],
      "source": [
        "# Visualizamos los duplicados\n",
        "# keep: 'first', 'last', False\n",
        "df_ventas[df_ventas.duplicated(keep=False)].sort_values(by=\"id_venta\")"
      ]
    },
    {
      "cell_type": "code",
      "execution_count": 349,
      "metadata": {
        "colab": {
          "base_uri": "https://localhost:8080/",
          "height": 272
        },
        "id": "V0W9zk6I5dSG",
        "outputId": "ca6cdd5b-e46f-42f4-fb05-30893353aeb7"
      },
      "outputs": [
        {
          "data": {
            "text/plain": [
              "id_venta       0\n",
              "producto       0\n",
              "precio         2\n",
              "cantidad       2\n",
              "fecha_venta    0\n",
              "categoria      0\n",
              "dtype: int64"
            ]
          },
          "execution_count": 349,
          "metadata": {},
          "output_type": "execute_result"
        }
      ],
      "source": [
        "# Buscamos datos nulos\n",
        "df_ventas.isnull().sum()"
      ]
    },
    {
      "cell_type": "code",
      "execution_count": 350,
      "metadata": {
        "colab": {
          "base_uri": "https://localhost:8080/",
          "height": 112
        },
        "id": "UuOnQjyc5n0w",
        "outputId": "fee612a1-32ba-4c79-fbed-5572e13d88dd"
      },
      "outputs": [
        {
          "data": {
            "text/html": [
              "<div>\n",
              "<style scoped>\n",
              "    .dataframe tbody tr th:only-of-type {\n",
              "        vertical-align: middle;\n",
              "    }\n",
              "\n",
              "    .dataframe tbody tr th {\n",
              "        vertical-align: top;\n",
              "    }\n",
              "\n",
              "    .dataframe thead th {\n",
              "        text-align: right;\n",
              "    }\n",
              "</style>\n",
              "<table border=\"1\" class=\"dataframe\">\n",
              "  <thead>\n",
              "    <tr style=\"text-align: right;\">\n",
              "      <th></th>\n",
              "      <th>id_venta</th>\n",
              "      <th>producto</th>\n",
              "      <th>precio</th>\n",
              "      <th>cantidad</th>\n",
              "      <th>fecha_venta</th>\n",
              "      <th>categoria</th>\n",
              "    </tr>\n",
              "  </thead>\n",
              "  <tbody>\n",
              "    <tr>\n",
              "      <th>136</th>\n",
              "      <td>627</td>\n",
              "      <td>Elementos de cerámica</td>\n",
              "      <td>NaN</td>\n",
              "      <td>NaN</td>\n",
              "      <td>17/01/2024</td>\n",
              "      <td>Decoración</td>\n",
              "    </tr>\n",
              "    <tr>\n",
              "      <th>139</th>\n",
              "      <td>2171</td>\n",
              "      <td>Parlantes Bluetooth</td>\n",
              "      <td>NaN</td>\n",
              "      <td>NaN</td>\n",
              "      <td>17/01/2024</td>\n",
              "      <td>Electrónica</td>\n",
              "    </tr>\n",
              "  </tbody>\n",
              "</table>\n",
              "</div>"
            ],
            "text/plain": [
              "     id_venta               producto precio  cantidad fecha_venta    categoria\n",
              "136       627  Elementos de cerámica    NaN       NaN  17/01/2024   Decoración\n",
              "139      2171    Parlantes Bluetooth    NaN       NaN  17/01/2024  Electrónica"
            ]
          },
          "execution_count": 350,
          "metadata": {},
          "output_type": "execute_result"
        }
      ],
      "source": [
        "# Visualizar los nulos\n",
        "# df_ventas[df_ventas.isnull().any(axis=1)]\n",
        "df_ventas[df_ventas.isnull().any(axis=1)]"
      ]
    },
    {
      "cell_type": "code",
      "execution_count": 351,
      "metadata": {
        "colab": {
          "base_uri": "https://localhost:8080/",
          "height": 1000
        },
        "id": "mUWDRsVQP42q",
        "outputId": "92b48cec-9115-406f-ce5a-e1991abc836c"
      },
      "outputs": [
        {
          "data": {
            "text/plain": [
              "producto\n",
              "Lámpara de mesa           181\n",
              "Auriculares               147\n",
              "Microondas                135\n",
              "Cafetera                  118\n",
              "Laptop                    104\n",
              "Secadora                  103\n",
              "Jarrón decorativo         102\n",
              "Smartphone                102\n",
              "Alfombra                  102\n",
              "SmartWatch                102\n",
              "Aspiradora                102\n",
              "Cortinas                  102\n",
              "Rincón de plantas         102\n",
              "Freidora eléctrica        101\n",
              "Espejo decorativo         101\n",
              "Adorno de pared           101\n",
              "Lavadora                  100\n",
              "Consola de videojuegos    100\n",
              "Cuadro decorativo         100\n",
              "Horno eléctrico           100\n",
              "Plancha de vapor          100\n",
              "Proyector                 100\n",
              "Elementos de cerámica     100\n",
              "Batidora                  100\n",
              "Televisor                 100\n",
              "Cámara digital            100\n",
              "Parlantes Bluetooth        99\n",
              "Tablet                     58\n",
              "Heladera                   49\n",
              "Candelabro                 24\n",
              "Name: count, dtype: int64"
            ]
          },
          "execution_count": 351,
          "metadata": {},
          "output_type": "execute_result"
        }
      ],
      "source": [
        "# Analizar los precios de los NaN a ver que opciones tenemos\n",
        "# df_ventas[df_ventas[\"producto\"]==\"Elementos de cerámica\"]\n",
        "df_ventas[\"producto\"].value_counts()\n",
        "# df_ventas[\"producto\"].unique()\n"
      ]
    },
    {
      "cell_type": "markdown",
      "metadata": {
        "id": "MBdZ-O45lHho"
      },
      "source": [
        "### Observaciones\n",
        "* Cantidad de registros: 3035\n",
        "* Columnas 6\n",
        "* 35 duplicados, eliminarlos\n",
        "* Algunos nulos (2), 1% del faltante, dropna\n",
        "* Campo precio: encontre `$`, removerlo y luego cambiar el dtype a float64\n",
        "* Campo fecha: ajustar a dtype datetime"
      ]
    },
    {
      "cell_type": "markdown",
      "metadata": {
        "id": "ifR2yFTi8B95"
      },
      "source": [
        "## Dataframe marketing"
      ]
    },
    {
      "cell_type": "markdown",
      "metadata": {
        "id": "Ya-UhrM49tJU"
      },
      "source": [
        "### Analisis exploratorio de datos"
      ]
    },
    {
      "cell_type": "markdown",
      "metadata": {
        "id": "KhNX82PBTrSj"
      },
      "source": [
        "Aplicamos los métodos de EDA vistos en clase, `info`, `columns`, `dtypes`, `head`, `tail`, `sample`, `unique`, `value_counts`, `describe`, `duplicated`, `isnull`, etc. y documentamos las observaciones:"
      ]
    },
    {
      "cell_type": "code",
      "execution_count": 352,
      "metadata": {
        "colab": {
          "base_uri": "https://localhost:8080/"
        },
        "id": "RuH1lakzTiE0",
        "outputId": "36c14207-544e-41cd-eec3-e20b638f4927"
      },
      "outputs": [
        {
          "name": "stdout",
          "output_type": "stream",
          "text": [
            "<class 'pandas.core.frame.DataFrame'>\n",
            "RangeIndex: 90 entries, 0 to 89\n",
            "Data columns (total 6 columns):\n",
            " #   Column        Non-Null Count  Dtype  \n",
            "---  ------        --------------  -----  \n",
            " 0   id_campanha   90 non-null     int64  \n",
            " 1   producto      90 non-null     object \n",
            " 2   canal         90 non-null     object \n",
            " 3   costo         90 non-null     float64\n",
            " 4   fecha_inicio  90 non-null     object \n",
            " 5   fecha_fin     90 non-null     object \n",
            "dtypes: float64(1), int64(1), object(4)\n",
            "memory usage: 4.3+ KB\n"
          ]
        }
      ],
      "source": [
        "# Aplicamos info() para familiarizarnos con el dataframe\n",
        "df_marketing.info()"
      ]
    },
    {
      "cell_type": "code",
      "execution_count": 353,
      "metadata": {
        "colab": {
          "base_uri": "https://localhost:8080/",
          "height": 206
        },
        "id": "TFHFaSX5UWxy",
        "outputId": "37b29a7e-92c1-4852-e59d-54d4c23aa835"
      },
      "outputs": [
        {
          "data": {
            "text/html": [
              "<div>\n",
              "<style scoped>\n",
              "    .dataframe tbody tr th:only-of-type {\n",
              "        vertical-align: middle;\n",
              "    }\n",
              "\n",
              "    .dataframe tbody tr th {\n",
              "        vertical-align: top;\n",
              "    }\n",
              "\n",
              "    .dataframe thead th {\n",
              "        text-align: right;\n",
              "    }\n",
              "</style>\n",
              "<table border=\"1\" class=\"dataframe\">\n",
              "  <thead>\n",
              "    <tr style=\"text-align: right;\">\n",
              "      <th></th>\n",
              "      <th>id_campanha</th>\n",
              "      <th>producto</th>\n",
              "      <th>canal</th>\n",
              "      <th>costo</th>\n",
              "      <th>fecha_inicio</th>\n",
              "      <th>fecha_fin</th>\n",
              "    </tr>\n",
              "  </thead>\n",
              "  <tbody>\n",
              "    <tr>\n",
              "      <th>0</th>\n",
              "      <td>74</td>\n",
              "      <td>Adorno de pared</td>\n",
              "      <td>TV</td>\n",
              "      <td>4.81</td>\n",
              "      <td>20/03/2024</td>\n",
              "      <td>03/05/2024</td>\n",
              "    </tr>\n",
              "    <tr>\n",
              "      <th>1</th>\n",
              "      <td>12</td>\n",
              "      <td>Tablet</td>\n",
              "      <td>RRSS</td>\n",
              "      <td>3.40</td>\n",
              "      <td>26/03/2024</td>\n",
              "      <td>13/05/2024</td>\n",
              "    </tr>\n",
              "    <tr>\n",
              "      <th>2</th>\n",
              "      <td>32</td>\n",
              "      <td>Lámpara de mesa</td>\n",
              "      <td>Email</td>\n",
              "      <td>5.54</td>\n",
              "      <td>28/03/2024</td>\n",
              "      <td>20/04/2024</td>\n",
              "    </tr>\n",
              "    <tr>\n",
              "      <th>3</th>\n",
              "      <td>21</td>\n",
              "      <td>Smartphone</td>\n",
              "      <td>RRSS</td>\n",
              "      <td>6.37</td>\n",
              "      <td>29/03/2024</td>\n",
              "      <td>16/05/2024</td>\n",
              "    </tr>\n",
              "    <tr>\n",
              "      <th>4</th>\n",
              "      <td>58</td>\n",
              "      <td>Alfombra</td>\n",
              "      <td>Email</td>\n",
              "      <td>4.25</td>\n",
              "      <td>31/03/2024</td>\n",
              "      <td>05/05/2024</td>\n",
              "    </tr>\n",
              "  </tbody>\n",
              "</table>\n",
              "</div>"
            ],
            "text/plain": [
              "   id_campanha         producto  canal  costo fecha_inicio   fecha_fin\n",
              "0           74  Adorno de pared     TV   4.81   20/03/2024  03/05/2024\n",
              "1           12           Tablet   RRSS   3.40   26/03/2024  13/05/2024\n",
              "2           32  Lámpara de mesa  Email   5.54   28/03/2024  20/04/2024\n",
              "3           21       Smartphone   RRSS   6.37   29/03/2024  16/05/2024\n",
              "4           58         Alfombra  Email   4.25   31/03/2024  05/05/2024"
            ]
          },
          "execution_count": 353,
          "metadata": {},
          "output_type": "execute_result"
        }
      ],
      "source": [
        "# Visualizamos los primeros registros con head()\n",
        "# también podemos usar tail() para visualizar los últimos\n",
        "df_marketing.head()"
      ]
    },
    {
      "cell_type": "code",
      "execution_count": 354,
      "metadata": {
        "colab": {
          "base_uri": "https://localhost:8080/",
          "height": 241
        },
        "id": "SCRikVnBUkHS",
        "outputId": "77455023-b04c-4762-8f8c-7ff6ca65ab09"
      },
      "outputs": [
        {
          "data": {
            "text/plain": [
              "33    4.38\n",
              "4     4.25\n",
              "78    5.30\n",
              "66    4.78\n",
              "41    7.39\n",
              "Name: costo, dtype: float64"
            ]
          },
          "execution_count": 354,
          "metadata": {},
          "output_type": "execute_result"
        }
      ],
      "source": [
        "# Analizamos el campo costo\n",
        "df_marketing[\"costo\"].sample(5)"
      ]
    },
    {
      "cell_type": "code",
      "execution_count": 355,
      "metadata": {
        "colab": {
          "base_uri": "https://localhost:8080/",
          "height": 241
        },
        "id": "7dX9L7UwUq_7",
        "outputId": "7eb5b480-1588-4d0e-9b3d-bc51a88c32a8"
      },
      "outputs": [
        {
          "data": {
            "text/plain": [
              "65    28/09/2024\n",
              "16    17/05/2024\n",
              "71    23/10/2024\n",
              "32    08/07/2024\n",
              "36    15/07/2024\n",
              "Name: fecha_inicio, dtype: object"
            ]
          },
          "execution_count": 355,
          "metadata": {},
          "output_type": "execute_result"
        }
      ],
      "source": [
        "# Analizamos el campo fecha_inicio\n",
        "df_marketing[\"fecha_inicio\"].sample(5)"
      ]
    },
    {
      "cell_type": "code",
      "execution_count": 356,
      "metadata": {
        "colab": {
          "base_uri": "https://localhost:8080/",
          "height": 241
        },
        "id": "C7XtOyZPU56H",
        "outputId": "b8d685c2-5c88-4ed5-adbb-2f09c1046882"
      },
      "outputs": [
        {
          "data": {
            "text/plain": [
              "7     08/06/2024\n",
              "45    18/08/2024\n",
              "46    25/08/2024\n",
              "6     01/06/2024\n",
              "15    29/05/2024\n",
              "Name: fecha_fin, dtype: object"
            ]
          },
          "execution_count": 356,
          "metadata": {},
          "output_type": "execute_result"
        }
      ],
      "source": [
        "# Analizamos el campo fecha_fin\n",
        "df_marketing[\"fecha_fin\"].sample(5)"
      ]
    },
    {
      "cell_type": "markdown",
      "metadata": {
        "id": "FidOum8dU_82"
      },
      "source": [
        "### Calidad de los datos"
      ]
    },
    {
      "cell_type": "code",
      "execution_count": 357,
      "metadata": {
        "colab": {
          "base_uri": "https://localhost:8080/"
        },
        "id": "rjzHFqEqVC7p",
        "outputId": "9e96369e-96df-49ce-d556-d107c9bd15c4"
      },
      "outputs": [
        {
          "data": {
            "text/plain": [
              "np.int64(0)"
            ]
          },
          "execution_count": 357,
          "metadata": {},
          "output_type": "execute_result"
        }
      ],
      "source": [
        "# Buscamos registros duplicados\n",
        "df_marketing.duplicated().sum()"
      ]
    },
    {
      "cell_type": "code",
      "execution_count": 358,
      "metadata": {
        "colab": {
          "base_uri": "https://localhost:8080/",
          "height": 272
        },
        "id": "0lc6CM8Nt_l1",
        "outputId": "2039ac54-6a37-410a-d793-8723d9823e10"
      },
      "outputs": [
        {
          "data": {
            "text/plain": [
              "id_campanha     0\n",
              "producto        0\n",
              "canal           0\n",
              "costo           0\n",
              "fecha_inicio    0\n",
              "fecha_fin       0\n",
              "dtype: int64"
            ]
          },
          "execution_count": 358,
          "metadata": {},
          "output_type": "execute_result"
        }
      ],
      "source": [
        "# Buscamos registros nulos\n",
        "df_marketing.isnull().sum()"
      ]
    },
    {
      "cell_type": "markdown",
      "metadata": {
        "id": "5ozl6XDO9vaD"
      },
      "source": [
        "### Observaciones\n",
        "* Cantidad de registros: 90\n",
        "* Columnas: 6\n",
        "* 0 duplicados\n",
        "* 0 nulos\n",
        "* Campo fecha_inicio: ajustar a dtype datetime\n",
        "* Campo fecha_fin: ajustar a dtype datetime"
      ]
    },
    {
      "cell_type": "markdown",
      "metadata": {
        "id": "HG-gP0gu9qTb"
      },
      "source": [
        "## Dataframe clientes"
      ]
    },
    {
      "cell_type": "markdown",
      "metadata": {
        "id": "m_3WYdEx9xee"
      },
      "source": [
        "### Analisis exploratorio de datos"
      ]
    },
    {
      "cell_type": "code",
      "execution_count": 359,
      "metadata": {
        "colab": {
          "base_uri": "https://localhost:8080/"
        },
        "id": "PK05AHnAt_l5",
        "outputId": "e393c769-a49f-4006-90b5-5e8752b9f2b5"
      },
      "outputs": [
        {
          "name": "stdout",
          "output_type": "stream",
          "text": [
            "<class 'pandas.core.frame.DataFrame'>\n",
            "RangeIndex: 567 entries, 0 to 566\n",
            "Data columns (total 5 columns):\n",
            " #   Column      Non-Null Count  Dtype  \n",
            "---  ------      --------------  -----  \n",
            " 0   id_cliente  567 non-null    int64  \n",
            " 1   nombre      567 non-null    object \n",
            " 2   edad        567 non-null    int64  \n",
            " 3   ciudad      567 non-null    object \n",
            " 4   ingresos    567 non-null    float64\n",
            "dtypes: float64(1), int64(2), object(2)\n",
            "memory usage: 22.3+ KB\n"
          ]
        }
      ],
      "source": [
        "# Aplicamos info() para familiarizarnos con el dataframe\n",
        "df_clientes.info()"
      ]
    },
    {
      "cell_type": "code",
      "execution_count": 360,
      "metadata": {
        "colab": {
          "base_uri": "https://localhost:8080/",
          "height": 423
        },
        "id": "ISp4Ilkkt_l5",
        "outputId": "69d56bd1-8f7f-459e-80c1-8b310e614b0a"
      },
      "outputs": [
        {
          "data": {
            "text/html": [
              "<div>\n",
              "<style scoped>\n",
              "    .dataframe tbody tr th:only-of-type {\n",
              "        vertical-align: middle;\n",
              "    }\n",
              "\n",
              "    .dataframe tbody tr th {\n",
              "        vertical-align: top;\n",
              "    }\n",
              "\n",
              "    .dataframe thead th {\n",
              "        text-align: right;\n",
              "    }\n",
              "</style>\n",
              "<table border=\"1\" class=\"dataframe\">\n",
              "  <thead>\n",
              "    <tr style=\"text-align: right;\">\n",
              "      <th></th>\n",
              "      <th>id_cliente</th>\n",
              "      <th>nombre</th>\n",
              "      <th>edad</th>\n",
              "      <th>ciudad</th>\n",
              "      <th>ingresos</th>\n",
              "    </tr>\n",
              "  </thead>\n",
              "  <tbody>\n",
              "    <tr>\n",
              "      <th>0</th>\n",
              "      <td>1</td>\n",
              "      <td>Aloysia Screase</td>\n",
              "      <td>44</td>\n",
              "      <td>Mar del Plata</td>\n",
              "      <td>42294.68</td>\n",
              "    </tr>\n",
              "    <tr>\n",
              "      <th>1</th>\n",
              "      <td>2</td>\n",
              "      <td>Kristina Scaplehorn</td>\n",
              "      <td>25</td>\n",
              "      <td>Posadas</td>\n",
              "      <td>24735.04</td>\n",
              "    </tr>\n",
              "    <tr>\n",
              "      <th>2</th>\n",
              "      <td>3</td>\n",
              "      <td>Filip Castagne</td>\n",
              "      <td>50</td>\n",
              "      <td>Resistencia</td>\n",
              "      <td>35744.85</td>\n",
              "    </tr>\n",
              "    <tr>\n",
              "      <th>3</th>\n",
              "      <td>4</td>\n",
              "      <td>Liuka Luard</td>\n",
              "      <td>39</td>\n",
              "      <td>Bahía Blanca</td>\n",
              "      <td>27647.96</td>\n",
              "    </tr>\n",
              "    <tr>\n",
              "      <th>4</th>\n",
              "      <td>5</td>\n",
              "      <td>Dore Cockshtt</td>\n",
              "      <td>28</td>\n",
              "      <td>Rosario</td>\n",
              "      <td>28245.65</td>\n",
              "    </tr>\n",
              "    <tr>\n",
              "      <th>...</th>\n",
              "      <td>...</td>\n",
              "      <td>...</td>\n",
              "      <td>...</td>\n",
              "      <td>...</td>\n",
              "      <td>...</td>\n",
              "    </tr>\n",
              "    <tr>\n",
              "      <th>562</th>\n",
              "      <td>563</td>\n",
              "      <td>Dione Forsyde</td>\n",
              "      <td>29</td>\n",
              "      <td>Posadas</td>\n",
              "      <td>26757.73</td>\n",
              "    </tr>\n",
              "    <tr>\n",
              "      <th>563</th>\n",
              "      <td>564</td>\n",
              "      <td>Fleming Gow</td>\n",
              "      <td>39</td>\n",
              "      <td>Santa Fe</td>\n",
              "      <td>43674.96</td>\n",
              "    </tr>\n",
              "    <tr>\n",
              "      <th>564</th>\n",
              "      <td>565</td>\n",
              "      <td>Jewelle Mabbett</td>\n",
              "      <td>33</td>\n",
              "      <td>Córdoba</td>\n",
              "      <td>30522.64</td>\n",
              "    </tr>\n",
              "    <tr>\n",
              "      <th>565</th>\n",
              "      <td>566</td>\n",
              "      <td>Lauri Munns</td>\n",
              "      <td>23</td>\n",
              "      <td>Resistencia</td>\n",
              "      <td>31259.14</td>\n",
              "    </tr>\n",
              "    <tr>\n",
              "      <th>566</th>\n",
              "      <td>567</td>\n",
              "      <td>Micah Matis</td>\n",
              "      <td>31</td>\n",
              "      <td>Corrientes</td>\n",
              "      <td>42927.86</td>\n",
              "    </tr>\n",
              "  </tbody>\n",
              "</table>\n",
              "<p>567 rows × 5 columns</p>\n",
              "</div>"
            ],
            "text/plain": [
              "     id_cliente               nombre  edad         ciudad  ingresos\n",
              "0             1      Aloysia Screase    44  Mar del Plata  42294.68\n",
              "1             2  Kristina Scaplehorn    25        Posadas  24735.04\n",
              "2             3       Filip Castagne    50    Resistencia  35744.85\n",
              "3             4          Liuka Luard    39   Bahía Blanca  27647.96\n",
              "4             5        Dore Cockshtt    28        Rosario  28245.65\n",
              "..          ...                  ...   ...            ...       ...\n",
              "562         563        Dione Forsyde    29        Posadas  26757.73\n",
              "563         564          Fleming Gow    39       Santa Fe  43674.96\n",
              "564         565      Jewelle Mabbett    33        Córdoba  30522.64\n",
              "565         566          Lauri Munns    23    Resistencia  31259.14\n",
              "566         567          Micah Matis    31     Corrientes  42927.86\n",
              "\n",
              "[567 rows x 5 columns]"
            ]
          },
          "execution_count": 360,
          "metadata": {},
          "output_type": "execute_result"
        }
      ],
      "source": [
        "# para ver los datos head y tail del dataframe\n",
        "df_clientes"
      ]
    },
    {
      "cell_type": "markdown",
      "metadata": {
        "id": "7z2e8fFIt_l5"
      },
      "source": [
        "### Calidad de los datos"
      ]
    },
    {
      "cell_type": "code",
      "execution_count": 361,
      "metadata": {
        "colab": {
          "base_uri": "https://localhost:8080/"
        },
        "id": "wHSOH14Bt_l5",
        "outputId": "629eda1a-6619-4c8e-ba23-e9bdcc9318b3"
      },
      "outputs": [
        {
          "data": {
            "text/plain": [
              "np.int64(0)"
            ]
          },
          "execution_count": 361,
          "metadata": {},
          "output_type": "execute_result"
        }
      ],
      "source": [
        "# Buscamos registros duplicados\n",
        "df_clientes.duplicated().sum()"
      ]
    },
    {
      "cell_type": "code",
      "execution_count": 362,
      "metadata": {
        "colab": {
          "base_uri": "https://localhost:8080/",
          "height": 241
        },
        "id": "LcLdquY4t_l5",
        "outputId": "27cbd2e8-b6ed-4ced-c931-00a27699d12d"
      },
      "outputs": [
        {
          "data": {
            "text/plain": [
              "id_cliente    0\n",
              "nombre        0\n",
              "edad          0\n",
              "ciudad        0\n",
              "ingresos      0\n",
              "dtype: int64"
            ]
          },
          "execution_count": 362,
          "metadata": {},
          "output_type": "execute_result"
        }
      ],
      "source": [
        "# Buscamos datos nulos\n",
        "df_clientes.isnull().sum()"
      ]
    },
    {
      "cell_type": "markdown",
      "metadata": {
        "id": "tnUto8c_9zaV"
      },
      "source": [
        "### Observaciones\n",
        "* Cantidad de registros: 567\n",
        "* Columnas: 5\n",
        "* 0 duplicados\n",
        "* 0 nulos\n",
        "* No requiere limpieza"
      ]
    },
    {
      "cell_type": "markdown",
      "metadata": {
        "id": "rHt5rt_i93rw"
      },
      "source": [
        "---\n",
        "# Etapa 2"
      ]
    },
    {
      "cell_type": "markdown",
      "metadata": {
        "id": "-IM696oMz6ZU"
      },
      "source": [
        "## Actividad 2.1"
      ]
    },
    {
      "cell_type": "markdown",
      "metadata": {
        "id": "wtww21zh-LYZ"
      },
      "source": [
        "## Limpieza de datos\n",
        "Limpiar el conjunto de datos eliminando duplicados y caracteres no deseados. Documentar el proceso y los resultados."
      ]
    },
    {
      "cell_type": "markdown",
      "metadata": {
        "id": "J4Gwrqt1VxL0"
      },
      "source": [
        "### Dataframe ventas"
      ]
    },
    {
      "cell_type": "markdown",
      "metadata": {
        "id": "NByZ8lMdNPih"
      },
      "source": [
        "* 35 duplicados, eliminarlos - se eliminaron 35 duplicados\n",
        "* Algunos nulos (2), 1% del faltante, dropna - se eliminaron 2 registros con 2 NaN\n",
        "* Campo precio: encontre `$`, removerlo y luego cambiar el dtype a float64 - Ok\n",
        "* Campo fecha: ajustar a dtype datetime - Ok"
      ]
    },
    {
      "cell_type": "code",
      "execution_count": 299,
      "metadata": {
        "id": "X4a0lL4zM6p1"
      },
      "outputs": [],
      "source": [
        "# Eliminamos registros duplicados\n",
        "# atributos a evaluar, keep, ignore_index, inplace\n",
        "df_ventas.drop_duplicates(inplace=True, ignore_index=True)"
      ]
    },
    {
      "cell_type": "code",
      "execution_count": 300,
      "metadata": {
        "colab": {
          "base_uri": "https://localhost:8080/"
        },
        "id": "pyL2FvnRO8yf",
        "outputId": "31319df5-c1c9-4a1f-98ab-47439859b753"
      },
      "outputs": [
        {
          "data": {
            "text/plain": [
              "np.int64(0)"
            ]
          },
          "execution_count": 300,
          "metadata": {},
          "output_type": "execute_result"
        }
      ],
      "source": [
        "# Validamos que no haya duplicados\n",
        "df_ventas.duplicated().sum()"
      ]
    },
    {
      "cell_type": "code",
      "execution_count": 301,
      "metadata": {
        "id": "dGWwZLq9PjCc"
      },
      "outputs": [],
      "source": [
        "# Eliminamos registros con datos nulos\n",
        "df_ventas.dropna(inplace=True)"
      ]
    },
    {
      "cell_type": "code",
      "execution_count": 302,
      "metadata": {
        "colab": {
          "base_uri": "https://localhost:8080/"
        },
        "id": "M9wWpuyVRy-P",
        "outputId": "45397449-368e-40e7-e6f4-45115cc70aab"
      },
      "outputs": [
        {
          "name": "stdout",
          "output_type": "stream",
          "text": [
            "<class 'pandas.core.frame.DataFrame'>\n",
            "Index: 2998 entries, 0 to 2999\n",
            "Data columns (total 6 columns):\n",
            " #   Column       Non-Null Count  Dtype  \n",
            "---  ------       --------------  -----  \n",
            " 0   id_venta     2998 non-null   int64  \n",
            " 1   producto     2998 non-null   object \n",
            " 2   precio       2998 non-null   object \n",
            " 3   cantidad     2998 non-null   float64\n",
            " 4   fecha_venta  2998 non-null   object \n",
            " 5   categoria    2998 non-null   object \n",
            "dtypes: float64(1), int64(1), object(4)\n",
            "memory usage: 164.0+ KB\n"
          ]
        }
      ],
      "source": [
        "# Validamos que no haya nulos\n",
        "# df_ventas.isnull().sum()\n",
        "df_ventas.info()"
      ]
    },
    {
      "cell_type": "code",
      "execution_count": 303,
      "metadata": {
        "id": "U-VCJ_qWR563"
      },
      "outputs": [],
      "source": [
        "# Eliminamos el caracter especial $ de precio\n",
        "# Normalización: usar replace()\n",
        "# De ser necesario, podemos usar el atributo regex=True\n",
        "df_ventas[\"precio\"] = df_ventas[\"precio\"].str.strip().str.replace(\"$\", \"\")"
      ]
    },
    {
      "cell_type": "code",
      "execution_count": 304,
      "metadata": {
        "colab": {
          "base_uri": "https://localhost:8080/",
          "height": 178
        },
        "id": "SY_xSj6sSEji",
        "outputId": "856f5c9e-3d83-4c13-9811-1d013d82e9f3"
      },
      "outputs": [
        {
          "data": {
            "text/plain": [
              "1791    103.80\n",
              "574      37.11\n",
              "2395     28.60\n",
              "Name: precio, dtype: object"
            ]
          },
          "execution_count": 304,
          "metadata": {},
          "output_type": "execute_result"
        }
      ],
      "source": [
        "# Validamos que precio no contenga $\n",
        "df_ventas[\"precio\"].sample(3)"
      ]
    },
    {
      "cell_type": "code",
      "execution_count": 305,
      "metadata": {
        "id": "zoU01rGkT_tc"
      },
      "outputs": [],
      "source": [
        "# Convertimos precio de str a float\n",
        "# Podemos usar pd.to_numeric o astype o incluso combinarlos\n",
        "df_ventas[\"precio\"] = df_ventas[\"precio\"].astype(float)"
      ]
    },
    {
      "cell_type": "code",
      "execution_count": 306,
      "metadata": {
        "id": "NFv2jIKlSwbA"
      },
      "outputs": [],
      "source": [
        "# Convertir el dtype de cantidad, de float64 a int64\n",
        "df_ventas[\"cantidad\"]= df_ventas[\"cantidad\"].astype(int)"
      ]
    },
    {
      "cell_type": "code",
      "execution_count": 307,
      "metadata": {
        "colab": {
          "base_uri": "https://localhost:8080/"
        },
        "id": "bT2M5_wKT160",
        "outputId": "478151b3-6f36-4720-d490-2defd75fd3d9"
      },
      "outputs": [
        {
          "data": {
            "text/plain": [
              "dtype('int64')"
            ]
          },
          "execution_count": 307,
          "metadata": {},
          "output_type": "execute_result"
        }
      ],
      "source": [
        "# Validar la conversion a int\n",
        "df_ventas[\"cantidad\"].dtypes"
      ]
    },
    {
      "cell_type": "code",
      "execution_count": 308,
      "metadata": {
        "id": "HLZVUMnnUkSf"
      },
      "outputs": [],
      "source": [
        "# Convertir el campo fecha_venta a dtype datetime\n",
        "# pd.to_datetime(df_ventas[\"fecha_venta\"], format=\"%d/%m/%Y\")\n",
        "# pd.to_datetime(df_ventas[\"fecha_venta\"], dayfirst=True)\n",
        "df_ventas['fecha_venta'] = pd.to_datetime(df_ventas['fecha_venta'], format=\"%d/%m/%Y\")"
      ]
    },
    {
      "cell_type": "code",
      "execution_count": 309,
      "metadata": {
        "colab": {
          "base_uri": "https://localhost:8080/"
        },
        "id": "l5t40uUPUrY-",
        "outputId": "92bcaa8f-00a1-4b4f-a6a9-d43d15592423"
      },
      "outputs": [
        {
          "data": {
            "text/plain": [
              "dtype('<M8[ns]')"
            ]
          },
          "execution_count": 309,
          "metadata": {},
          "output_type": "execute_result"
        }
      ],
      "source": [
        "# Validar la conversion de fecha\n",
        "df_ventas['fecha_venta'].dtype"
      ]
    },
    {
      "cell_type": "markdown",
      "metadata": {
        "id": "Mpd7zlOIV2BV"
      },
      "source": [
        "### Dataframe marketing"
      ]
    },
    {
      "cell_type": "markdown",
      "metadata": {
        "id": "Z7-rjrs-V4W3"
      },
      "source": [
        "* Cantidad de registros: 90\n",
        "* Columnas: 6\n",
        "* 0 duplicados\n",
        "* 0 nulos\n",
        "* Campo fecha_inicio: ajustar a dtype datetime\n",
        "* Campo fecha_fin: ajustar a dtype datetime"
      ]
    },
    {
      "cell_type": "code",
      "execution_count": 310,
      "metadata": {
        "id": "JGZ5gwDYV8B9"
      },
      "outputs": [],
      "source": [
        "# Convertir el campo fecha_inicio a dtype datetime\n",
        "df_marketing['fecha_inicio'] = pd.to_datetime(df_marketing['fecha_inicio'], format=\"%d/%m/%Y\")"
      ]
    },
    {
      "cell_type": "code",
      "execution_count": 311,
      "metadata": {
        "id": "dNvT4ou6Whob"
      },
      "outputs": [],
      "source": [
        "# Convertir el campo fecha_fin a dtype datetime\n",
        "df_marketing['fecha_fin'] = pd.to_datetime(df_marketing['fecha_fin'], format=\"%d/%m/%Y\")"
      ]
    },
    {
      "cell_type": "code",
      "execution_count": 312,
      "metadata": {
        "colab": {
          "base_uri": "https://localhost:8080/",
          "height": 206
        },
        "id": "P4-yJ7-VWtf-",
        "outputId": "70762a55-7d87-49b2-b5e7-2d42be4286b5"
      },
      "outputs": [
        {
          "data": {
            "text/html": [
              "<div>\n",
              "<style scoped>\n",
              "    .dataframe tbody tr th:only-of-type {\n",
              "        vertical-align: middle;\n",
              "    }\n",
              "\n",
              "    .dataframe tbody tr th {\n",
              "        vertical-align: top;\n",
              "    }\n",
              "\n",
              "    .dataframe thead th {\n",
              "        text-align: right;\n",
              "    }\n",
              "</style>\n",
              "<table border=\"1\" class=\"dataframe\">\n",
              "  <thead>\n",
              "    <tr style=\"text-align: right;\">\n",
              "      <th></th>\n",
              "      <th>id_campanha</th>\n",
              "      <th>producto</th>\n",
              "      <th>canal</th>\n",
              "      <th>costo</th>\n",
              "      <th>fecha_inicio</th>\n",
              "      <th>fecha_fin</th>\n",
              "    </tr>\n",
              "  </thead>\n",
              "  <tbody>\n",
              "    <tr>\n",
              "      <th>86</th>\n",
              "      <td>89</td>\n",
              "      <td>Televisor</td>\n",
              "      <td>TV</td>\n",
              "      <td>4.98</td>\n",
              "      <td>2024-12-13</td>\n",
              "      <td>2025-02-08</td>\n",
              "    </tr>\n",
              "    <tr>\n",
              "      <th>82</th>\n",
              "      <td>25</td>\n",
              "      <td>SmartWatch</td>\n",
              "      <td>RRSS</td>\n",
              "      <td>4.84</td>\n",
              "      <td>2024-11-23</td>\n",
              "      <td>2024-12-29</td>\n",
              "    </tr>\n",
              "    <tr>\n",
              "      <th>65</th>\n",
              "      <td>60</td>\n",
              "      <td>Laptop</td>\n",
              "      <td>Email</td>\n",
              "      <td>4.89</td>\n",
              "      <td>2024-09-28</td>\n",
              "      <td>2024-10-27</td>\n",
              "    </tr>\n",
              "    <tr>\n",
              "      <th>25</th>\n",
              "      <td>45</td>\n",
              "      <td>Jarrón decorativo</td>\n",
              "      <td>Email</td>\n",
              "      <td>4.52</td>\n",
              "      <td>2024-06-05</td>\n",
              "      <td>2024-07-31</td>\n",
              "    </tr>\n",
              "    <tr>\n",
              "      <th>3</th>\n",
              "      <td>21</td>\n",
              "      <td>Smartphone</td>\n",
              "      <td>RRSS</td>\n",
              "      <td>6.37</td>\n",
              "      <td>2024-03-29</td>\n",
              "      <td>2024-05-16</td>\n",
              "    </tr>\n",
              "  </tbody>\n",
              "</table>\n",
              "</div>"
            ],
            "text/plain": [
              "    id_campanha           producto  canal  costo fecha_inicio  fecha_fin\n",
              "86           89          Televisor     TV   4.98   2024-12-13 2025-02-08\n",
              "82           25         SmartWatch   RRSS   4.84   2024-11-23 2024-12-29\n",
              "65           60             Laptop  Email   4.89   2024-09-28 2024-10-27\n",
              "25           45  Jarrón decorativo  Email   4.52   2024-06-05 2024-07-31\n",
              "3            21         Smartphone   RRSS   6.37   2024-03-29 2024-05-16"
            ]
          },
          "execution_count": 312,
          "metadata": {},
          "output_type": "execute_result"
        }
      ],
      "source": [
        "# Validamos los cambios\n",
        "df_marketing.sample(5)"
      ]
    },
    {
      "cell_type": "markdown",
      "metadata": {
        "id": "iohWxM990Bvb"
      },
      "source": [
        "## Actividad 2.2"
      ]
    },
    {
      "cell_type": "markdown",
      "metadata": {
        "id": "vw58H5kt-Ocd"
      },
      "source": [
        "## Transformación de datos\n",
        "Aplicar filtros y transformaciones para crear una tabla de ventas que muestre solo los productos con alto rendimiento."
      ]
    },
    {
      "cell_type": "code",
      "execution_count": 313,
      "metadata": {
        "colab": {
          "base_uri": "https://localhost:8080/",
          "height": 112
        },
        "id": "34USfJIXbfGL",
        "outputId": "7a12af92-aeee-4da5-b738-73830d3b34c9"
      },
      "outputs": [
        {
          "data": {
            "text/html": [
              "<div>\n",
              "<style scoped>\n",
              "    .dataframe tbody tr th:only-of-type {\n",
              "        vertical-align: middle;\n",
              "    }\n",
              "\n",
              "    .dataframe tbody tr th {\n",
              "        vertical-align: top;\n",
              "    }\n",
              "\n",
              "    .dataframe thead th {\n",
              "        text-align: right;\n",
              "    }\n",
              "</style>\n",
              "<table border=\"1\" class=\"dataframe\">\n",
              "  <thead>\n",
              "    <tr style=\"text-align: right;\">\n",
              "      <th></th>\n",
              "      <th>id_venta</th>\n",
              "      <th>producto</th>\n",
              "      <th>precio</th>\n",
              "      <th>cantidad</th>\n",
              "      <th>fecha_venta</th>\n",
              "      <th>categoria</th>\n",
              "    </tr>\n",
              "  </thead>\n",
              "  <tbody>\n",
              "    <tr>\n",
              "      <th>0</th>\n",
              "      <td>792</td>\n",
              "      <td>Cuadro decorativo</td>\n",
              "      <td>69.94</td>\n",
              "      <td>5</td>\n",
              "      <td>2024-01-02</td>\n",
              "      <td>Decoración</td>\n",
              "    </tr>\n",
              "    <tr>\n",
              "      <th>1</th>\n",
              "      <td>811</td>\n",
              "      <td>Lámpara de mesa</td>\n",
              "      <td>105.10</td>\n",
              "      <td>5</td>\n",
              "      <td>2024-01-02</td>\n",
              "      <td>Decoración</td>\n",
              "    </tr>\n",
              "  </tbody>\n",
              "</table>\n",
              "</div>"
            ],
            "text/plain": [
              "   id_venta           producto  precio  cantidad fecha_venta   categoria\n",
              "0       792  Cuadro decorativo   69.94         5  2024-01-02  Decoración\n",
              "1       811    Lámpara de mesa  105.10         5  2024-01-02  Decoración"
            ]
          },
          "execution_count": 313,
          "metadata": {},
          "output_type": "execute_result"
        }
      ],
      "source": [
        "df_ventas.head(2)"
      ]
    },
    {
      "cell_type": "code",
      "execution_count": 314,
      "metadata": {
        "id": "SYFA9Egcbrwz"
      },
      "outputs": [],
      "source": [
        "# Transformación:\n",
        "# Calculamos el valor de cada venta = precio * cantidad\n",
        "# Agregamos una nueva columnas\n",
        "df_ventas[\"valor_venta\"] = df_ventas[\"precio\"] * df_ventas[\"cantidad\"]"
      ]
    },
    {
      "cell_type": "code",
      "execution_count": 315,
      "metadata": {
        "colab": {
          "base_uri": "https://localhost:8080/",
          "height": 112
        },
        "id": "XjDkhBIKb8eF",
        "outputId": "69a8d464-8d09-4484-9412-4f2af50fc1b2"
      },
      "outputs": [
        {
          "data": {
            "text/html": [
              "<div>\n",
              "<style scoped>\n",
              "    .dataframe tbody tr th:only-of-type {\n",
              "        vertical-align: middle;\n",
              "    }\n",
              "\n",
              "    .dataframe tbody tr th {\n",
              "        vertical-align: top;\n",
              "    }\n",
              "\n",
              "    .dataframe thead th {\n",
              "        text-align: right;\n",
              "    }\n",
              "</style>\n",
              "<table border=\"1\" class=\"dataframe\">\n",
              "  <thead>\n",
              "    <tr style=\"text-align: right;\">\n",
              "      <th></th>\n",
              "      <th>id_venta</th>\n",
              "      <th>producto</th>\n",
              "      <th>precio</th>\n",
              "      <th>cantidad</th>\n",
              "      <th>fecha_venta</th>\n",
              "      <th>categoria</th>\n",
              "      <th>valor_venta</th>\n",
              "    </tr>\n",
              "  </thead>\n",
              "  <tbody>\n",
              "    <tr>\n",
              "      <th>0</th>\n",
              "      <td>792</td>\n",
              "      <td>Cuadro decorativo</td>\n",
              "      <td>69.94</td>\n",
              "      <td>5</td>\n",
              "      <td>2024-01-02</td>\n",
              "      <td>Decoración</td>\n",
              "      <td>349.7</td>\n",
              "    </tr>\n",
              "    <tr>\n",
              "      <th>1</th>\n",
              "      <td>811</td>\n",
              "      <td>Lámpara de mesa</td>\n",
              "      <td>105.10</td>\n",
              "      <td>5</td>\n",
              "      <td>2024-01-02</td>\n",
              "      <td>Decoración</td>\n",
              "      <td>525.5</td>\n",
              "    </tr>\n",
              "  </tbody>\n",
              "</table>\n",
              "</div>"
            ],
            "text/plain": [
              "   id_venta           producto  precio  cantidad fecha_venta   categoria  \\\n",
              "0       792  Cuadro decorativo   69.94         5  2024-01-02  Decoración   \n",
              "1       811    Lámpara de mesa  105.10         5  2024-01-02  Decoración   \n",
              "\n",
              "   valor_venta  \n",
              "0        349.7  \n",
              "1        525.5  "
            ]
          },
          "execution_count": 315,
          "metadata": {},
          "output_type": "execute_result"
        }
      ],
      "source": [
        "# Visualizamos\n",
        "df_ventas.head(2)"
      ]
    },
    {
      "cell_type": "code",
      "execution_count": 316,
      "metadata": {
        "colab": {
          "base_uri": "https://localhost:8080/",
          "height": 206
        },
        "id": "19aqzhamccGf",
        "outputId": "5453c5f4-ed56-42a9-e0d6-45fd8beb4faf"
      },
      "outputs": [
        {
          "data": {
            "text/html": [
              "<div>\n",
              "<style scoped>\n",
              "    .dataframe tbody tr th:only-of-type {\n",
              "        vertical-align: middle;\n",
              "    }\n",
              "\n",
              "    .dataframe tbody tr th {\n",
              "        vertical-align: top;\n",
              "    }\n",
              "\n",
              "    .dataframe thead th {\n",
              "        text-align: right;\n",
              "    }\n",
              "</style>\n",
              "<table border=\"1\" class=\"dataframe\">\n",
              "  <thead>\n",
              "    <tr style=\"text-align: right;\">\n",
              "      <th></th>\n",
              "      <th>producto</th>\n",
              "      <th>valor_venta</th>\n",
              "    </tr>\n",
              "  </thead>\n",
              "  <tbody>\n",
              "    <tr>\n",
              "      <th>0</th>\n",
              "      <td>Adorno de pared</td>\n",
              "      <td>48093.49</td>\n",
              "    </tr>\n",
              "    <tr>\n",
              "      <th>1</th>\n",
              "      <td>Alfombra</td>\n",
              "      <td>44773.06</td>\n",
              "    </tr>\n",
              "    <tr>\n",
              "      <th>2</th>\n",
              "      <td>Aspiradora</td>\n",
              "      <td>50085.86</td>\n",
              "    </tr>\n",
              "    <tr>\n",
              "      <th>3</th>\n",
              "      <td>Auriculares</td>\n",
              "      <td>74175.58</td>\n",
              "    </tr>\n",
              "    <tr>\n",
              "      <th>4</th>\n",
              "      <td>Batidora</td>\n",
              "      <td>50979.20</td>\n",
              "    </tr>\n",
              "  </tbody>\n",
              "</table>\n",
              "</div>"
            ],
            "text/plain": [
              "          producto  valor_venta\n",
              "0  Adorno de pared     48093.49\n",
              "1         Alfombra     44773.06\n",
              "2       Aspiradora     50085.86\n",
              "3      Auriculares     74175.58\n",
              "4         Batidora     50979.20"
            ]
          },
          "execution_count": 316,
          "metadata": {},
          "output_type": "execute_result"
        }
      ],
      "source": [
        "# Agregación:\n",
        "# Agrupar valor_venta por producto\n",
        "# Sumamos las ventas dentro de cada grupo\n",
        "tabla_ventas = (df_ventas.groupby(\"producto\", as_index=False)[\"valor_venta\"].sum())\n",
        "tabla_ventas.head()"
      ]
    },
    {
      "cell_type": "code",
      "execution_count": 317,
      "metadata": {
        "colab": {
          "base_uri": "https://localhost:8080/",
          "height": 300
        },
        "id": "xFr3GaReewb1",
        "outputId": "b1e43e29-552f-4da0-e7b6-521f4e679586"
      },
      "outputs": [
        {
          "data": {
            "text/html": [
              "<div>\n",
              "<style scoped>\n",
              "    .dataframe tbody tr th:only-of-type {\n",
              "        vertical-align: middle;\n",
              "    }\n",
              "\n",
              "    .dataframe tbody tr th {\n",
              "        vertical-align: top;\n",
              "    }\n",
              "\n",
              "    .dataframe thead th {\n",
              "        text-align: right;\n",
              "    }\n",
              "</style>\n",
              "<table border=\"1\" class=\"dataframe\">\n",
              "  <thead>\n",
              "    <tr style=\"text-align: right;\">\n",
              "      <th></th>\n",
              "      <th>valor_venta</th>\n",
              "    </tr>\n",
              "  </thead>\n",
              "  <tbody>\n",
              "    <tr>\n",
              "      <th>count</th>\n",
              "      <td>30.000000</td>\n",
              "    </tr>\n",
              "    <tr>\n",
              "      <th>mean</th>\n",
              "      <td>48903.117333</td>\n",
              "    </tr>\n",
              "    <tr>\n",
              "      <th>std</th>\n",
              "      <td>13265.561715</td>\n",
              "    </tr>\n",
              "    <tr>\n",
              "      <th>min</th>\n",
              "      <td>11128.800000</td>\n",
              "    </tr>\n",
              "    <tr>\n",
              "      <th>25%</th>\n",
              "      <td>45601.920000</td>\n",
              "    </tr>\n",
              "    <tr>\n",
              "      <th>50%</th>\n",
              "      <td>48140.245000</td>\n",
              "    </tr>\n",
              "    <tr>\n",
              "      <th>75%</th>\n",
              "      <td>51092.960000</td>\n",
              "    </tr>\n",
              "    <tr>\n",
              "      <th>max</th>\n",
              "      <td>82276.380000</td>\n",
              "    </tr>\n",
              "  </tbody>\n",
              "</table>\n",
              "</div>"
            ],
            "text/plain": [
              "        valor_venta\n",
              "count     30.000000\n",
              "mean   48903.117333\n",
              "std    13265.561715\n",
              "min    11128.800000\n",
              "25%    45601.920000\n",
              "50%    48140.245000\n",
              "75%    51092.960000\n",
              "max    82276.380000"
            ]
          },
          "execution_count": 317,
          "metadata": {},
          "output_type": "execute_result"
        }
      ],
      "source": [
        "# Usemos describe para analizar algunos valores del dataframe resultante\n",
        "tabla_ventas.describe()"
      ]
    },
    {
      "cell_type": "code",
      "execution_count": 318,
      "metadata": {
        "colab": {
          "base_uri": "https://localhost:8080/",
          "height": 472
        },
        "id": "2y-tJBOaLKsT",
        "outputId": "08517fd5-fecc-4c8f-8bf1-4fa69f9e2c4c"
      },
      "outputs": [
        {
          "data": {
            "image/png": "[encoded data removed]",
            "text/plain": [
              "<Figure size 640x480 with 1 Axes>"
            ]
          },
          "metadata": {},
          "output_type": "display_data"
        }
      ],
      "source": [
        "# Agregamos un plot para visualizar graficamente la distribución\n",
        "import seaborn as sns\n",
        "import matplotlib.pyplot as plt\n",
        "\n",
        "sns.histplot(tabla_ventas[\"valor_venta\"], bins=30, kde=True, edgecolor=\"black\")\n",
        "plt.title(\"Distribución de Valor de Venta con Curva de Densidad\")\n",
        "plt.xlabel(\"Valor de venta\")\n",
        "plt.ylabel(\"Frecuencia\")\n",
        "plt.show()"
      ]
    },
    {
      "cell_type": "code",
      "execution_count": 319,
      "metadata": {
        "colab": {
          "base_uri": "https://localhost:8080/"
        },
        "id": "eU4ZNyM7diww",
        "outputId": "54468d42-eea2-4203-9a43-14537a11ad3e"
      },
      "outputs": [
        {
          "data": {
            "text/plain": [
              "np.float64(51092.96)"
            ]
          },
          "execution_count": 319,
          "metadata": {},
          "output_type": "execute_result"
        }
      ],
      "source": [
        "# Calcular el percentil 75 (umbral de alto rendimiento)\n",
        "umbral_ventas = tabla_ventas[\"valor_venta\"].quantile(0.75)\n",
        "umbral_ventas"
      ]
    },
    {
      "cell_type": "code",
      "execution_count": 320,
      "metadata": {
        "colab": {
          "base_uri": "https://localhost:8080/",
          "height": 300
        },
        "id": "TjRRnE88eUZe",
        "outputId": "00768c23-86da-4cff-871f-b5761db7172a"
      },
      "outputs": [
        {
          "data": {
            "text/html": [
              "<div>\n",
              "<style scoped>\n",
              "    .dataframe tbody tr th:only-of-type {\n",
              "        vertical-align: middle;\n",
              "    }\n",
              "\n",
              "    .dataframe tbody tr th {\n",
              "        vertical-align: top;\n",
              "    }\n",
              "\n",
              "    .dataframe thead th {\n",
              "        text-align: right;\n",
              "    }\n",
              "</style>\n",
              "<table border=\"1\" class=\"dataframe\">\n",
              "  <thead>\n",
              "    <tr style=\"text-align: right;\">\n",
              "      <th></th>\n",
              "      <th>producto</th>\n",
              "      <th>valor_venta</th>\n",
              "    </tr>\n",
              "  </thead>\n",
              "  <tbody>\n",
              "    <tr>\n",
              "      <th>3</th>\n",
              "      <td>Auriculares</td>\n",
              "      <td>74175.58</td>\n",
              "    </tr>\n",
              "    <tr>\n",
              "      <th>5</th>\n",
              "      <td>Cafetera</td>\n",
              "      <td>59607.31</td>\n",
              "    </tr>\n",
              "    <tr>\n",
              "      <th>9</th>\n",
              "      <td>Cuadro decorativo</td>\n",
              "      <td>54297.60</td>\n",
              "    </tr>\n",
              "    <tr>\n",
              "      <th>16</th>\n",
              "      <td>Jarrón decorativo</td>\n",
              "      <td>51130.88</td>\n",
              "    </tr>\n",
              "    <tr>\n",
              "      <th>19</th>\n",
              "      <td>Lámpara de mesa</td>\n",
              "      <td>82276.38</td>\n",
              "    </tr>\n",
              "    <tr>\n",
              "      <th>20</th>\n",
              "      <td>Microondas</td>\n",
              "      <td>72562.89</td>\n",
              "    </tr>\n",
              "    <tr>\n",
              "      <th>25</th>\n",
              "      <td>Secadora</td>\n",
              "      <td>52115.45</td>\n",
              "    </tr>\n",
              "    <tr>\n",
              "      <th>27</th>\n",
              "      <td>Smartphone</td>\n",
              "      <td>54132.44</td>\n",
              "    </tr>\n",
              "  </tbody>\n",
              "</table>\n",
              "</div>"
            ],
            "text/plain": [
              "             producto  valor_venta\n",
              "3         Auriculares     74175.58\n",
              "5            Cafetera     59607.31\n",
              "9   Cuadro decorativo     54297.60\n",
              "16  Jarrón decorativo     51130.88\n",
              "19    Lámpara de mesa     82276.38\n",
              "20         Microondas     72562.89\n",
              "25           Secadora     52115.45\n",
              "27         Smartphone     54132.44"
            ]
          },
          "execution_count": 320,
          "metadata": {},
          "output_type": "execute_result"
        }
      ],
      "source": [
        "# Identificar productos que superan el umbral\n",
        "# productos_top = tabla_ventas.query(\"valor_venta >= @umbral\")\n",
        "productos_top = tabla_ventas[tabla_ventas[\"valor_venta\"] >= umbral_ventas]\n",
        "productos_top"
      ]
    },
    {
      "cell_type": "markdown",
      "metadata": {
        "id": "uXuJhtt50OUT"
      },
      "source": [
        "## Actividad 2.3"
      ]
    },
    {
      "cell_type": "markdown",
      "metadata": {
        "id": "-mb9io4x-SAD"
      },
      "source": [
        "## Agregación\n",
        "Resumir las ventas por categoría de producto y analizar los ingresos generados."
      ]
    },
    {
      "cell_type": "code",
      "execution_count": 321,
      "metadata": {
        "colab": {
          "base_uri": "https://localhost:8080/"
        },
        "id": "aK1C6C7kNFoy",
        "outputId": "12ce1996-058c-4087-952c-51731df98125"
      },
      "outputs": [
        {
          "data": {
            "text/plain": [
              "Index(['id_venta', 'producto', 'precio', 'cantidad', 'fecha_venta',\n",
              "       'categoria', 'valor_venta'],\n",
              "      dtype='object')"
            ]
          },
          "execution_count": 321,
          "metadata": {},
          "output_type": "execute_result"
        }
      ],
      "source": [
        "df_ventas.columns"
      ]
    },
    {
      "cell_type": "code",
      "execution_count": 322,
      "metadata": {},
      "outputs": [
        {
          "data": {
            "text/plain": [
              "3"
            ]
          },
          "execution_count": 322,
          "metadata": {},
          "output_type": "execute_result"
        }
      ],
      "source": [
        "df_ventas['categoria'].nunique()"
      ]
    },
    {
      "cell_type": "code",
      "execution_count": 323,
      "metadata": {
        "colab": {
          "base_uri": "https://localhost:8080/",
          "height": 143
        },
        "id": "MbADnST1mLBi",
        "outputId": "1e1e4777-c6c8-4129-b1b2-052a139f3d5b"
      },
      "outputs": [],
      "source": [
        "# Agrupamos por categoria y agregamos la suma\n",
        "ventas_categoria = df_ventas.groupby(\"categoria\", as_index=False)[\"valor_venta\"].sum()"
      ]
    },
    {
      "cell_type": "code",
      "execution_count": 324,
      "metadata": {
        "colab": {
          "base_uri": "https://localhost:8080/",
          "height": 143
        },
        "id": "iKLVXN9mn74g",
        "outputId": "7ae23060-53fc-47cb-f8b8-238c065803c9"
      },
      "outputs": [
        {
          "data": {
            "text/html": [
              "<div>\n",
              "<style scoped>\n",
              "    .dataframe tbody tr th:only-of-type {\n",
              "        vertical-align: middle;\n",
              "    }\n",
              "\n",
              "    .dataframe tbody tr th {\n",
              "        vertical-align: top;\n",
              "    }\n",
              "\n",
              "    .dataframe thead th {\n",
              "        text-align: right;\n",
              "    }\n",
              "</style>\n",
              "<table border=\"1\" class=\"dataframe\">\n",
              "  <thead>\n",
              "    <tr style=\"text-align: right;\">\n",
              "      <th></th>\n",
              "      <th>categoria</th>\n",
              "      <th>valor_venta</th>\n",
              "    </tr>\n",
              "  </thead>\n",
              "  <tbody>\n",
              "    <tr>\n",
              "      <th>0</th>\n",
              "      <td>Decoración</td>\n",
              "      <td>479216.09</td>\n",
              "    </tr>\n",
              "    <tr>\n",
              "      <th>1</th>\n",
              "      <td>Electrodomésticos</td>\n",
              "      <td>505299.63</td>\n",
              "    </tr>\n",
              "    <tr>\n",
              "      <th>2</th>\n",
              "      <td>Electrónica</td>\n",
              "      <td>482577.80</td>\n",
              "    </tr>\n",
              "  </tbody>\n",
              "</table>\n",
              "</div>"
            ],
            "text/plain": [
              "           categoria  valor_venta\n",
              "0         Decoración    479216.09\n",
              "1  Electrodomésticos    505299.63\n",
              "2        Electrónica    482577.80"
            ]
          },
          "execution_count": 324,
          "metadata": {},
          "output_type": "execute_result"
        }
      ],
      "source": [
        "# Ordenar y mostrar los resultados\n",
        "ventas_categoria"
      ]
    },
    {
      "cell_type": "markdown",
      "metadata": {
        "id": "XPoMh3yA0jZM"
      },
      "source": [
        "## Actividad 2.4"
      ]
    },
    {
      "cell_type": "markdown",
      "metadata": {
        "id": "YQB-_u0B-YsC"
      },
      "source": [
        "## Integración de datos\n",
        "Combinar los sets de datos de ventas y marketing para obtener una visión más amplia de las tendencias."
      ]
    },
    {
      "cell_type": "code",
      "execution_count": 325,
      "metadata": {
        "colab": {
          "base_uri": "https://localhost:8080/",
          "height": 112
        },
        "id": "Ee0ALtQoPm5v",
        "outputId": "3c953b71-d5b8-4ddb-ae1f-eb3dd368cd48"
      },
      "outputs": [
        {
          "name": "stdout",
          "output_type": "stream",
          "text": [
            "<class 'pandas.core.frame.DataFrame'>\n",
            "Index: 2998 entries, 0 to 2999\n",
            "Data columns (total 7 columns):\n",
            " #   Column       Non-Null Count  Dtype         \n",
            "---  ------       --------------  -----         \n",
            " 0   id_venta     2998 non-null   int64         \n",
            " 1   producto     2998 non-null   object        \n",
            " 2   precio       2998 non-null   float64       \n",
            " 3   cantidad     2998 non-null   int64         \n",
            " 4   fecha_venta  2998 non-null   datetime64[ns]\n",
            " 5   categoria    2998 non-null   object        \n",
            " 6   valor_venta  2998 non-null   float64       \n",
            "dtypes: datetime64[ns](1), float64(2), int64(2), object(2)\n",
            "memory usage: 187.4+ KB\n"
          ]
        }
      ],
      "source": [
        "df_ventas.info()"
      ]
    },
    {
      "cell_type": "code",
      "execution_count": 326,
      "metadata": {
        "colab": {
          "base_uri": "https://localhost:8080/"
        },
        "id": "nf43t38GPpFF",
        "outputId": "d9d4a3de-ca5a-4fb5-c236-96439385868c"
      },
      "outputs": [
        {
          "name": "stdout",
          "output_type": "stream",
          "text": [
            "<class 'pandas.core.frame.DataFrame'>\n",
            "RangeIndex: 90 entries, 0 to 89\n",
            "Data columns (total 6 columns):\n",
            " #   Column        Non-Null Count  Dtype         \n",
            "---  ------        --------------  -----         \n",
            " 0   id_campanha   90 non-null     int64         \n",
            " 1   producto      90 non-null     object        \n",
            " 2   canal         90 non-null     object        \n",
            " 3   costo         90 non-null     float64       \n",
            " 4   fecha_inicio  90 non-null     datetime64[ns]\n",
            " 5   fecha_fin     90 non-null     datetime64[ns]\n",
            "dtypes: datetime64[ns](2), float64(1), int64(1), object(2)\n",
            "memory usage: 4.3+ KB\n"
          ]
        }
      ],
      "source": [
        "df_marketing.info()"
      ]
    },
    {
      "cell_type": "code",
      "execution_count": 327,
      "metadata": {},
      "outputs": [
        {
          "name": "stdout",
          "output_type": "stream",
          "text": [
            "coincide en: ['producto']\n"
          ]
        }
      ],
      "source": [
        "# verifico coincidencias entre columnas de ambos dataframes\n",
        "col_match = []\n",
        "for col in df_ventas.columns:\n",
        "    if col in df_marketing.columns:\n",
        "        match = df_ventas[col].isin(df_marketing[col])\n",
        "        col_match.append(col)\n",
        "print('coincide en:', col_match)"
      ]
    },
    {
      "cell_type": "code",
      "execution_count": 328,
      "metadata": {
        "id": "XcPBF9V9xitw"
      },
      "outputs": [],
      "source": [
        "# Unir los datasets ventas y marketing por columna 'producto'\n",
        "ventas_marketing = pd.merge(df_ventas, df_marketing, on=\"producto\", how=\"left\")"
      ]
    },
    {
      "cell_type": "code",
      "execution_count": 329,
      "metadata": {
        "colab": {
          "base_uri": "https://localhost:8080/",
          "height": 313
        },
        "id": "V4_nJrEMXnOV",
        "outputId": "85f1490f-843c-4fe2-ca40-282fabe35c0c"
      },
      "outputs": [
        {
          "data": {
            "text/html": [
              "<div>\n",
              "<style scoped>\n",
              "    .dataframe tbody tr th:only-of-type {\n",
              "        vertical-align: middle;\n",
              "    }\n",
              "\n",
              "    .dataframe tbody tr th {\n",
              "        vertical-align: top;\n",
              "    }\n",
              "\n",
              "    .dataframe thead th {\n",
              "        text-align: right;\n",
              "    }\n",
              "</style>\n",
              "<table border=\"1\" class=\"dataframe\">\n",
              "  <thead>\n",
              "    <tr style=\"text-align: right;\">\n",
              "      <th></th>\n",
              "      <th>id_venta</th>\n",
              "      <th>producto</th>\n",
              "      <th>precio</th>\n",
              "      <th>cantidad</th>\n",
              "      <th>fecha_venta</th>\n",
              "      <th>categoria</th>\n",
              "      <th>valor_venta</th>\n",
              "      <th>id_campanha</th>\n",
              "      <th>canal</th>\n",
              "      <th>costo</th>\n",
              "      <th>fecha_inicio</th>\n",
              "      <th>fecha_fin</th>\n",
              "    </tr>\n",
              "  </thead>\n",
              "  <tbody>\n",
              "    <tr>\n",
              "      <th>5390</th>\n",
              "      <td>423</td>\n",
              "      <td>Espejo decorativo</td>\n",
              "      <td>115.45</td>\n",
              "      <td>4</td>\n",
              "      <td>2024-08-01</td>\n",
              "      <td>Decoración</td>\n",
              "      <td>461.80</td>\n",
              "      <td>23</td>\n",
              "      <td>RRSS</td>\n",
              "      <td>4.75</td>\n",
              "      <td>2024-08-28</td>\n",
              "      <td>2024-10-17</td>\n",
              "    </tr>\n",
              "    <tr>\n",
              "      <th>7022</th>\n",
              "      <td>670</td>\n",
              "      <td>Adorno de pared</td>\n",
              "      <td>55.21</td>\n",
              "      <td>7</td>\n",
              "      <td>2024-10-08</td>\n",
              "      <td>Decoración</td>\n",
              "      <td>386.47</td>\n",
              "      <td>14</td>\n",
              "      <td>RRSS</td>\n",
              "      <td>4.16</td>\n",
              "      <td>2024-10-22</td>\n",
              "      <td>2024-12-21</td>\n",
              "    </tr>\n",
              "    <tr>\n",
              "      <th>1313</th>\n",
              "      <td>1186</td>\n",
              "      <td>Secadora</td>\n",
              "      <td>80.16</td>\n",
              "      <td>9</td>\n",
              "      <td>2024-02-21</td>\n",
              "      <td>Electrodomésticos</td>\n",
              "      <td>721.44</td>\n",
              "      <td>33</td>\n",
              "      <td>Email</td>\n",
              "      <td>3.80</td>\n",
              "      <td>2024-12-20</td>\n",
              "      <td>2025-01-07</td>\n",
              "    </tr>\n",
              "    <tr>\n",
              "      <th>6563</th>\n",
              "      <td>2148</td>\n",
              "      <td>SmartWatch</td>\n",
              "      <td>84.06</td>\n",
              "      <td>9</td>\n",
              "      <td>2024-09-17</td>\n",
              "      <td>Electrónica</td>\n",
              "      <td>756.54</td>\n",
              "      <td>25</td>\n",
              "      <td>RRSS</td>\n",
              "      <td>4.84</td>\n",
              "      <td>2024-11-23</td>\n",
              "      <td>2024-12-29</td>\n",
              "    </tr>\n",
              "    <tr>\n",
              "      <th>2583</th>\n",
              "      <td>556</td>\n",
              "      <td>Cortinas</td>\n",
              "      <td>42.74</td>\n",
              "      <td>12</td>\n",
              "      <td>2024-04-10</td>\n",
              "      <td>Decoración</td>\n",
              "      <td>512.88</td>\n",
              "      <td>43</td>\n",
              "      <td>Email</td>\n",
              "      <td>5.67</td>\n",
              "      <td>2024-05-02</td>\n",
              "      <td>2024-06-17</td>\n",
              "    </tr>\n",
              "  </tbody>\n",
              "</table>\n",
              "</div>"
            ],
            "text/plain": [
              "      id_venta           producto  precio  cantidad fecha_venta  \\\n",
              "5390       423  Espejo decorativo  115.45         4  2024-08-01   \n",
              "7022       670    Adorno de pared   55.21         7  2024-10-08   \n",
              "1313      1186           Secadora   80.16         9  2024-02-21   \n",
              "6563      2148         SmartWatch   84.06         9  2024-09-17   \n",
              "2583       556           Cortinas   42.74        12  2024-04-10   \n",
              "\n",
              "              categoria  valor_venta  id_campanha  canal  costo fecha_inicio  \\\n",
              "5390         Decoración       461.80           23   RRSS   4.75   2024-08-28   \n",
              "7022         Decoración       386.47           14   RRSS   4.16   2024-10-22   \n",
              "1313  Electrodomésticos       721.44           33  Email   3.80   2024-12-20   \n",
              "6563        Electrónica       756.54           25   RRSS   4.84   2024-11-23   \n",
              "2583         Decoración       512.88           43  Email   5.67   2024-05-02   \n",
              "\n",
              "      fecha_fin  \n",
              "5390 2024-10-17  \n",
              "7022 2024-12-21  \n",
              "1313 2025-01-07  \n",
              "6563 2024-12-29  \n",
              "2583 2024-06-17  "
            ]
          },
          "execution_count": 329,
          "metadata": {},
          "output_type": "execute_result"
        }
      ],
      "source": [
        "# Verificar coincidencias (muestra)\n",
        "ventas_marketing.sample(5)"
      ]
    },
    {
      "cell_type": "markdown",
      "metadata": {
        "id": "YC40BdGVhCyj"
      },
      "source": [
        "### Analizamos el impacto de la campaña"
      ]
    },
    {
      "cell_type": "code",
      "execution_count": 330,
      "metadata": {
        "id": "GLyB_DgPfGrZ"
      },
      "outputs": [
        {
          "data": {
            "text/html": [
              "<div>\n",
              "<style scoped>\n",
              "    .dataframe tbody tr th:only-of-type {\n",
              "        vertical-align: middle;\n",
              "    }\n",
              "\n",
              "    .dataframe tbody tr th {\n",
              "        vertical-align: top;\n",
              "    }\n",
              "\n",
              "    .dataframe thead th {\n",
              "        text-align: right;\n",
              "    }\n",
              "</style>\n",
              "<table border=\"1\" class=\"dataframe\">\n",
              "  <thead>\n",
              "    <tr style=\"text-align: right;\">\n",
              "      <th></th>\n",
              "      <th>producto</th>\n",
              "      <th>valor_venta</th>\n",
              "      <th>costo</th>\n",
              "    </tr>\n",
              "  </thead>\n",
              "  <tbody>\n",
              "    <tr>\n",
              "      <th>0</th>\n",
              "      <td>Cuadro decorativo</td>\n",
              "      <td>349.7</td>\n",
              "      <td>5.27</td>\n",
              "    </tr>\n",
              "    <tr>\n",
              "      <th>1</th>\n",
              "      <td>Cuadro decorativo</td>\n",
              "      <td>349.7</td>\n",
              "      <td>5.28</td>\n",
              "    </tr>\n",
              "    <tr>\n",
              "      <th>2</th>\n",
              "      <td>Cuadro decorativo</td>\n",
              "      <td>349.7</td>\n",
              "      <td>5.30</td>\n",
              "    </tr>\n",
              "    <tr>\n",
              "      <th>3</th>\n",
              "      <td>Lámpara de mesa</td>\n",
              "      <td>525.5</td>\n",
              "      <td>5.54</td>\n",
              "    </tr>\n",
              "    <tr>\n",
              "      <th>4</th>\n",
              "      <td>Lámpara de mesa</td>\n",
              "      <td>525.5</td>\n",
              "      <td>5.88</td>\n",
              "    </tr>\n",
              "  </tbody>\n",
              "</table>\n",
              "</div>"
            ],
            "text/plain": [
              "            producto  valor_venta  costo\n",
              "0  Cuadro decorativo        349.7   5.27\n",
              "1  Cuadro decorativo        349.7   5.28\n",
              "2  Cuadro decorativo        349.7   5.30\n",
              "3    Lámpara de mesa        525.5   5.54\n",
              "4    Lámpara de mesa        525.5   5.88"
            ]
          },
          "execution_count": 330,
          "metadata": {},
          "output_type": "execute_result"
        }
      ],
      "source": [
        "# Nos quedamos solo con los registros de ventas durante la campaña de marketing\n",
        "# Seleccionamos solo los campos que nos interesan: \"producto\", \"valor_venta\", \"costo\"\n",
        "ganancias_marketing = ventas_marketing.query(\"fecha_venta > fecha_inicio & fecha_venta < fecha_fin\")\n",
        "ganancias_marketing = ventas_marketing[[\"producto\", \"valor_venta\", \"costo\"]]\n",
        "ganancias_marketing.head()"
      ]
    },
    {
      "cell_type": "code",
      "execution_count": 331,
      "metadata": {},
      "outputs": [],
      "source": [
        "# Agrupamos por producto y hacemos una agregación por \"valor de venta\" y \"costo\"\n",
        "ganancias_marketing = ganancias_marketing.groupby(\"producto\")[[\"valor_venta\",\"costo\"]].sum()"
      ]
    },
    {
      "cell_type": "code",
      "execution_count": 332,
      "metadata": {
        "colab": {
          "base_uri": "https://localhost:8080/",
          "height": 175
        },
        "id": "arV23U7ndcfR",
        "outputId": "d60e4abf-54ad-41ca-c05b-b7308a7ea14b"
      },
      "outputs": [
        {
          "data": {
            "text/html": [
              "<div>\n",
              "<style scoped>\n",
              "    .dataframe tbody tr th:only-of-type {\n",
              "        vertical-align: middle;\n",
              "    }\n",
              "\n",
              "    .dataframe tbody tr th {\n",
              "        vertical-align: top;\n",
              "    }\n",
              "\n",
              "    .dataframe thead th {\n",
              "        text-align: right;\n",
              "    }\n",
              "</style>\n",
              "<table border=\"1\" class=\"dataframe\">\n",
              "  <thead>\n",
              "    <tr style=\"text-align: right;\">\n",
              "      <th></th>\n",
              "      <th>valor_venta</th>\n",
              "      <th>costo</th>\n",
              "      <th>ganancia_neta</th>\n",
              "    </tr>\n",
              "    <tr>\n",
              "      <th>producto</th>\n",
              "      <th></th>\n",
              "      <th></th>\n",
              "      <th></th>\n",
              "    </tr>\n",
              "  </thead>\n",
              "  <tbody>\n",
              "    <tr>\n",
              "      <th>Lámpara de mesa</th>\n",
              "      <td>246829.14</td>\n",
              "      <td>2803.68</td>\n",
              "      <td>244025.46</td>\n",
              "    </tr>\n",
              "    <tr>\n",
              "      <th>Auriculares</th>\n",
              "      <td>222526.74</td>\n",
              "      <td>2179.32</td>\n",
              "      <td>220347.42</td>\n",
              "    </tr>\n",
              "    <tr>\n",
              "      <th>Microondas</th>\n",
              "      <td>217688.67</td>\n",
              "      <td>1915.65</td>\n",
              "      <td>215773.02</td>\n",
              "    </tr>\n",
              "    <tr>\n",
              "      <th>Cafetera</th>\n",
              "      <td>178821.93</td>\n",
              "      <td>2124.72</td>\n",
              "      <td>176697.21</td>\n",
              "    </tr>\n",
              "    <tr>\n",
              "      <th>Cuadro decorativo</th>\n",
              "      <td>162892.80</td>\n",
              "      <td>1585.00</td>\n",
              "      <td>161307.80</td>\n",
              "    </tr>\n",
              "    <tr>\n",
              "      <th>Smartphone</th>\n",
              "      <td>162397.32</td>\n",
              "      <td>1595.80</td>\n",
              "      <td>160801.52</td>\n",
              "    </tr>\n",
              "    <tr>\n",
              "      <th>Secadora</th>\n",
              "      <td>156346.35</td>\n",
              "      <td>1459.00</td>\n",
              "      <td>154887.35</td>\n",
              "    </tr>\n",
              "    <tr>\n",
              "      <th>Jarrón decorativo</th>\n",
              "      <td>153392.64</td>\n",
              "      <td>1327.00</td>\n",
              "      <td>152065.64</td>\n",
              "    </tr>\n",
              "    <tr>\n",
              "      <th>Batidora</th>\n",
              "      <td>152937.60</td>\n",
              "      <td>1528.00</td>\n",
              "      <td>151409.60</td>\n",
              "    </tr>\n",
              "    <tr>\n",
              "      <th>Rincón de plantas</th>\n",
              "      <td>151369.35</td>\n",
              "      <td>1661.45</td>\n",
              "      <td>149707.90</td>\n",
              "    </tr>\n",
              "    <tr>\n",
              "      <th>Freidora eléctrica</th>\n",
              "      <td>150465.45</td>\n",
              "      <td>1356.00</td>\n",
              "      <td>149109.45</td>\n",
              "    </tr>\n",
              "    <tr>\n",
              "      <th>Aspiradora</th>\n",
              "      <td>150257.58</td>\n",
              "      <td>1646.00</td>\n",
              "      <td>148611.58</td>\n",
              "    </tr>\n",
              "    <tr>\n",
              "      <th>Horno eléctrico</th>\n",
              "      <td>149741.70</td>\n",
              "      <td>1389.00</td>\n",
              "      <td>148352.70</td>\n",
              "    </tr>\n",
              "    <tr>\n",
              "      <th>Lavadora</th>\n",
              "      <td>146839.32</td>\n",
              "      <td>1185.00</td>\n",
              "      <td>145654.32</td>\n",
              "    </tr>\n",
              "    <tr>\n",
              "      <th>Proyector</th>\n",
              "      <td>144561.00</td>\n",
              "      <td>1234.53</td>\n",
              "      <td>143326.47</td>\n",
              "    </tr>\n",
              "    <tr>\n",
              "      <th>Adorno de pared</th>\n",
              "      <td>144280.47</td>\n",
              "      <td>1405.00</td>\n",
              "      <td>142875.47</td>\n",
              "    </tr>\n",
              "    <tr>\n",
              "      <th>SmartWatch</th>\n",
              "      <td>143510.58</td>\n",
              "      <td>1450.00</td>\n",
              "      <td>142060.58</td>\n",
              "    </tr>\n",
              "    <tr>\n",
              "      <th>Parlantes Bluetooth</th>\n",
              "      <td>143338.38</td>\n",
              "      <td>1310.26</td>\n",
              "      <td>142028.12</td>\n",
              "    </tr>\n",
              "    <tr>\n",
              "      <th>Televisor</th>\n",
              "      <td>141114.12</td>\n",
              "      <td>1313.00</td>\n",
              "      <td>139801.12</td>\n",
              "    </tr>\n",
              "    <tr>\n",
              "      <th>Espejo decorativo</th>\n",
              "      <td>140349.93</td>\n",
              "      <td>1489.00</td>\n",
              "      <td>138860.93</td>\n",
              "    </tr>\n",
              "    <tr>\n",
              "      <th>Consola de videojuegos</th>\n",
              "      <td>138523.23</td>\n",
              "      <td>1264.23</td>\n",
              "      <td>137259.00</td>\n",
              "    </tr>\n",
              "    <tr>\n",
              "      <th>Laptop</th>\n",
              "      <td>138538.44</td>\n",
              "      <td>1519.00</td>\n",
              "      <td>137019.44</td>\n",
              "    </tr>\n",
              "    <tr>\n",
              "      <th>Elementos de cerámica</th>\n",
              "      <td>136233.27</td>\n",
              "      <td>1670.13</td>\n",
              "      <td>134563.14</td>\n",
              "    </tr>\n",
              "    <tr>\n",
              "      <th>Plancha de vapor</th>\n",
              "      <td>135589.89</td>\n",
              "      <td>1412.00</td>\n",
              "      <td>134177.89</td>\n",
              "    </tr>\n",
              "    <tr>\n",
              "      <th>Cámara digital</th>\n",
              "      <td>135653.88</td>\n",
              "      <td>1640.00</td>\n",
              "      <td>134013.88</td>\n",
              "    </tr>\n",
              "    <tr>\n",
              "      <th>Cortinas</th>\n",
              "      <td>134595.09</td>\n",
              "      <td>1736.00</td>\n",
              "      <td>132859.09</td>\n",
              "    </tr>\n",
              "    <tr>\n",
              "      <th>Alfombra</th>\n",
              "      <td>134319.18</td>\n",
              "      <td>1746.00</td>\n",
              "      <td>132573.18</td>\n",
              "    </tr>\n",
              "    <tr>\n",
              "      <th>Tablet</th>\n",
              "      <td>77569.71</td>\n",
              "      <td>737.76</td>\n",
              "      <td>76831.95</td>\n",
              "    </tr>\n",
              "    <tr>\n",
              "      <th>Heladera</th>\n",
              "      <td>77210.40</td>\n",
              "      <td>629.28</td>\n",
              "      <td>76581.12</td>\n",
              "    </tr>\n",
              "    <tr>\n",
              "      <th>Candelabro</th>\n",
              "      <td>33386.40</td>\n",
              "      <td>351.60</td>\n",
              "      <td>33034.80</td>\n",
              "    </tr>\n",
              "  </tbody>\n",
              "</table>\n",
              "</div>"
            ],
            "text/plain": [
              "                        valor_venta    costo  ganancia_neta\n",
              "producto                                                   \n",
              "Lámpara de mesa           246829.14  2803.68      244025.46\n",
              "Auriculares               222526.74  2179.32      220347.42\n",
              "Microondas                217688.67  1915.65      215773.02\n",
              "Cafetera                  178821.93  2124.72      176697.21\n",
              "Cuadro decorativo         162892.80  1585.00      161307.80\n",
              "Smartphone                162397.32  1595.80      160801.52\n",
              "Secadora                  156346.35  1459.00      154887.35\n",
              "Jarrón decorativo         153392.64  1327.00      152065.64\n",
              "Batidora                  152937.60  1528.00      151409.60\n",
              "Rincón de plantas         151369.35  1661.45      149707.90\n",
              "Freidora eléctrica        150465.45  1356.00      149109.45\n",
              "Aspiradora                150257.58  1646.00      148611.58\n",
              "Horno eléctrico           149741.70  1389.00      148352.70\n",
              "Lavadora                  146839.32  1185.00      145654.32\n",
              "Proyector                 144561.00  1234.53      143326.47\n",
              "Adorno de pared           144280.47  1405.00      142875.47\n",
              "SmartWatch                143510.58  1450.00      142060.58\n",
              "Parlantes Bluetooth       143338.38  1310.26      142028.12\n",
              "Televisor                 141114.12  1313.00      139801.12\n",
              "Espejo decorativo         140349.93  1489.00      138860.93\n",
              "Consola de videojuegos    138523.23  1264.23      137259.00\n",
              "Laptop                    138538.44  1519.00      137019.44\n",
              "Elementos de cerámica     136233.27  1670.13      134563.14\n",
              "Plancha de vapor          135589.89  1412.00      134177.89\n",
              "Cámara digital            135653.88  1640.00      134013.88\n",
              "Cortinas                  134595.09  1736.00      132859.09\n",
              "Alfombra                  134319.18  1746.00      132573.18\n",
              "Tablet                     77569.71   737.76       76831.95\n",
              "Heladera                   77210.40   629.28       76581.12\n",
              "Candelabro                 33386.40   351.60       33034.80"
            ]
          },
          "execution_count": 332,
          "metadata": {},
          "output_type": "execute_result"
        }
      ],
      "source": [
        "# Agrupamos por producto y hacemos una agregación por \"valor de venta\" y \"costo\"\n",
        "ganancias_marketing[\"ganancia_neta\"] = ganancias_marketing['valor_venta']-ganancias_marketing['costo']\n",
        "ganancias_marketing = ganancias_marketing.sort_values(by=[\"ganancia_neta\"], ascending=False)\n",
        "ganancias_marketing"
      ]
    }
  ],
  "metadata": {
    "colab": {
      "include_colab_link": true,
      "provenance": [],
      "toc_visible": true
    },
    "kernelspec": {
      "display_name": "Python 3",
      "name": "python3"
    },
    "language_info": {
      "codemirror_mode": {
        "name": "ipython",
        "version": 3
      },
      "file_extension": ".py",
      "mimetype": "text/x-python",
      "name": "python",
      "nbconvert_exporter": "python",
      "pygments_lexer": "ipython3",
      "version": "3.13.7"
    }
  },
  "nbformat": 4,
  "nbformat_minor": 0
}
