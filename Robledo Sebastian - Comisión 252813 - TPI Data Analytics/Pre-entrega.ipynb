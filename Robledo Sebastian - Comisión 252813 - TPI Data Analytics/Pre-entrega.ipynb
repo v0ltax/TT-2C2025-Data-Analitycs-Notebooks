{
 "cells": [
  {
   "cell_type": "markdown",
   "metadata": {
    "id": "G2HrbM6xhNs-"
   },
   "source": [
    "# Análisis de datos con Pyhon - Pre-entrega\n",
    "### Nombre y apellido: Sebastian Hernan Ariel Robledo"
   ]
  },
  {
   "cell_type": "markdown",
   "metadata": {
    "id": "-CxKqzBrhVHX"
   },
   "source": [
    "---\n",
    "# Etapa 1"
   ]
  },
  {
   "cell_type": "markdown",
   "metadata": {
    "id": "Wm34ILh_i9hu"
   },
   "source": [
    "## Importar Datasets\n",
    "### Actividad 1"
   ]
  },
  {
   "cell_type": "code",
   "execution_count": null,
   "metadata": {},
   "outputs": [],
   "source": [
    "# Carga de datasets alojados en github\n",
    "urlClientes = \"https://raw.githubusercontent.com/v0ltax/TT-2C2025-Data-Analitycs-Notebooks/refs/heads/main/_Pre-Entrega/clientes.csv\"\n",
    "urlMarketing = \"https://raw.githubusercontent.com/v0ltax/TT-2C2025-Data-Analitycs-Notebooks/refs/heads/main/_Pre-Entrega/marketing.csv\"\n",
    "urlVentas = \"https://raw.githubusercontent.com/v0ltax/TT-2C2025-Data-Analitycs-Notebooks/refs/heads/main/_Pre-Entrega/ventas.csv\"\n",
    "\n",
    "import pandas as pd\n",
    "\n",
    "df_clientes = pd.read_csv(urlClientes)\n",
    "df_marketing = pd.read_csv(urlMarketing)\n",
    "df_ventas = pd.read_csv(urlVentas)"
   ]
  },
  {
   "cell_type": "code",
   "execution_count": null,
   "metadata": {},
   "outputs": [],
   "source": [
    "df_ventas"
   ]
  },
  {
   "cell_type": "markdown",
   "metadata": {
    "id": "4ILasuZOlQH2"
   },
   "source": [
    "## Script básico\n",
    "### Actividades 2 y 3"
   ]
  },
  {
   "cell_type": "code",
   "execution_count": null,
   "metadata": {
    "id": "HCohGTwZlUL5"
   },
   "outputs": [],
   "source": [
    "# Generamos una lista de diccionarios que contenga algunos datos\n",
    "ventas = [\n",
    "  {'producto': 'Laptop', 'precio': 500.0, 'cantidad': 3},\n",
    "  {'producto': 'Heladera', 'precio': 1000.0, 'cantidad': 5},\n",
    "  {'producto': 'Smartphone', 'precio': 100.0, 'cantidad': 15}\n",
    "]"
   ]
  },
  {
   "cell_type": "code",
   "execution_count": null,
   "metadata": {
    "id": "OEfBFwOql3Du"
   },
   "outputs": [],
   "source": [
    "# Calculamos las ventas acumuladas - map\n",
    "ventas_totales = sum(map(lambda x: x['precio'] * x['cantidad'], ventas))\n",
    "ventas_totales"
   ]
  },
  {
   "cell_type": "code",
   "execution_count": null,
   "metadata": {
    "id": "bF7f3yB_rzAi"
   },
   "outputs": [],
   "source": [
    "# Calculamos las ventas acumuladas - listas por comprensión\n",
    "venta_acumuladas = sum([venta[\"precio\"] * venta[\"cantidad\"] for venta in ventas])\n",
    "venta_acumuladas"
   ]
  },
  {
   "cell_type": "markdown",
   "metadata": {
    "id": "7CF7mLnpsQ8p"
   },
   "source": [
    "## Dataframe ventas\n",
    "### Actividad 4\n",
    "### Análisis exploratorio de **datos**"
   ]
  },
  {
   "cell_type": "markdown",
   "metadata": {
    "id": "l2yM5nTLwKjJ"
   },
   "source": [
    "Aplicamos los métodos de EDA vistos en clase, `info`, `columns`, `dtypes`, `head`, `tail`, `sample`, `unique`, `value_counts`, `describe`, `duplicated`, `isnull`, etc. y documentamos las observaciones:"
   ]
  },
  {
   "cell_type": "code",
   "execution_count": null,
   "metadata": {
    "id": "9u6pn82DsZ0k"
   },
   "outputs": [],
   "source": [
    "# Aplicamos info() para familiarizarnos con el dataframe\n",
    "df_ventas.info()"
   ]
  },
  {
   "cell_type": "code",
   "execution_count": null,
   "metadata": {
    "id": "QX_TXdPFwEpc"
   },
   "outputs": [],
   "source": [
    "# Visualizamos los primeros registros con head()\n",
    "# también podemos usar tail() para visualizar los últimos\n",
    "df_ventas.head()"
   ]
  },
  {
   "cell_type": "code",
   "execution_count": null,
   "metadata": {
    "id": "r4Yu43kOxpIK"
   },
   "outputs": [],
   "source": [
    "# Usar sample() para tomar registros al azar\n",
    "df_ventas.sample(5)"
   ]
  },
  {
   "cell_type": "code",
   "execution_count": null,
   "metadata": {
    "id": "yS_uqM3ry7oW"
   },
   "outputs": [],
   "source": [
    "# Analizamos el campo precio\n",
    "# Si es numericos se puede aplicar describe()\n",
    "df_ventas[\"precio\"].describe()"
   ]
  },
  {
   "cell_type": "code",
   "execution_count": null,
   "metadata": {
    "id": "JCZSmwXK18u9"
   },
   "outputs": [],
   "source": [
    "# Analizamos el campo cantidad\n",
    "# si es numerico se puede aplicar describe()\n",
    "df_ventas[\"cantidad\"].sample(5)"
   ]
  },
  {
   "cell_type": "code",
   "execution_count": null,
   "metadata": {
    "id": "IASdTdeN2OMw"
   },
   "outputs": [],
   "source": [
    "# Analizamos el campo fecha_venta\n",
    "df_ventas[\"fecha_venta\"]"
   ]
  },
  {
   "cell_type": "code",
   "execution_count": null,
   "metadata": {
    "id": "u0olGUXk2aQP"
   },
   "outputs": [],
   "source": [
    "# Analizamos el campo categoria\n",
    "# Probar con value_counts y unique\n",
    "df_ventas[\"categoria\"].value_counts()"
   ]
  },
  {
   "cell_type": "markdown",
   "metadata": {
    "id": "qF-Q6rCC6Ql8"
   },
   "source": [
    "### Actividad 5\n",
    "### Calidad de datos"
   ]
  },
  {
   "cell_type": "code",
   "execution_count": null,
   "metadata": {
    "id": "qoJWMCaNyb1n"
   },
   "outputs": [],
   "source": [
    "# Buscamos registros duplicados\n",
    "df_ventas.duplicated().sum()"
   ]
  },
  {
   "cell_type": "code",
   "execution_count": null,
   "metadata": {
    "id": "T5ZrKVEn4aI-"
   },
   "outputs": [],
   "source": [
    "# Visualizamos los duplicados\n",
    "# keep: 'first', 'last', False\n",
    "df_ventas[df_ventas.duplicated(keep=False)].sort_values(by=\"id_venta\")"
   ]
  },
  {
   "cell_type": "code",
   "execution_count": null,
   "metadata": {
    "id": "V0W9zk6I5dSG"
   },
   "outputs": [],
   "source": [
    "# Buscamos datos nulos\n",
    "df_ventas.isnull().sum()"
   ]
  },
  {
   "cell_type": "code",
   "execution_count": null,
   "metadata": {
    "id": "UuOnQjyc5n0w"
   },
   "outputs": [],
   "source": [
    "# Visualizar los nulos\n",
    "# df_ventas[df_ventas.isnull().any(axis=1)]\n",
    "df_ventas[df_ventas.isnull().any(axis=1)]"
   ]
  },
  {
   "cell_type": "code",
   "execution_count": null,
   "metadata": {
    "id": "mUWDRsVQP42q"
   },
   "outputs": [],
   "source": [
    "# Analizar los precios de los NaN a ver que opciones tenemos\n",
    "# df_ventas[df_ventas[\"producto\"]==\"Elementos de cerámica\"]\n",
    "df_ventas[\"producto\"].value_counts()\n",
    "# df_ventas[\"producto\"].unique()\n"
   ]
  },
  {
   "cell_type": "markdown",
   "metadata": {
    "id": "MBdZ-O45lHho"
   },
   "source": [
    "### Observaciones\n",
    "* Cantidad de registros: 3035\n",
    "* Columnas 6\n",
    "* 35 duplicados, eliminarlos\n",
    "* Algunos nulos (2), 1% del faltante, dropna\n",
    "* Campo precio: encontre `$`, removerlo y luego cambiar el dtype a float64\n",
    "* Campo fecha: ajustar a dtype datetime"
   ]
  },
  {
   "cell_type": "markdown",
   "metadata": {
    "id": "ifR2yFTi8B95"
   },
   "source": [
    "## Dataframe marketing"
   ]
  },
  {
   "cell_type": "markdown",
   "metadata": {
    "id": "Ya-UhrM49tJU"
   },
   "source": [
    "### Analisis exploratorio de datos"
   ]
  },
  {
   "cell_type": "markdown",
   "metadata": {
    "id": "KhNX82PBTrSj"
   },
   "source": [
    "Aplicamos los métodos de EDA vistos en clase, `info`, `columns`, `dtypes`, `head`, `tail`, `sample`, `unique`, `value_counts`, `describe`, `duplicated`, `isnull`, etc. y documentamos las observaciones:"
   ]
  },
  {
   "cell_type": "code",
   "execution_count": null,
   "metadata": {
    "id": "RuH1lakzTiE0"
   },
   "outputs": [],
   "source": [
    "# Aplicamos info() para familiarizarnos con el dataframe\n",
    "df_marketing.info()"
   ]
  },
  {
   "cell_type": "code",
   "execution_count": null,
   "metadata": {
    "id": "TFHFaSX5UWxy"
   },
   "outputs": [],
   "source": [
    "# Visualizamos los primeros registros con head()\n",
    "# también podemos usar tail() para visualizar los últimos\n",
    "df_marketing.head()"
   ]
  },
  {
   "cell_type": "code",
   "execution_count": null,
   "metadata": {
    "id": "SCRikVnBUkHS"
   },
   "outputs": [],
   "source": [
    "# Analizamos el campo costo\n",
    "df_marketing[\"costo\"].sample(5)"
   ]
  },
  {
   "cell_type": "code",
   "execution_count": null,
   "metadata": {
    "id": "7dX9L7UwUq_7"
   },
   "outputs": [],
   "source": [
    "# Analizamos el campo fecha_inicio\n",
    "df_marketing[\"fecha_inicio\"].sample(5)"
   ]
  },
  {
   "cell_type": "code",
   "execution_count": null,
   "metadata": {
    "id": "C7XtOyZPU56H"
   },
   "outputs": [],
   "source": [
    "# Analizamos el campo fecha_fin\n",
    "df_marketing[\"fecha_fin\"].sample(5)"
   ]
  },
  {
   "cell_type": "markdown",
   "metadata": {
    "id": "FidOum8dU_82"
   },
   "source": [
    "### Calidad de los datos"
   ]
  },
  {
   "cell_type": "code",
   "execution_count": null,
   "metadata": {
    "id": "rjzHFqEqVC7p"
   },
   "outputs": [],
   "source": [
    "# Buscamos registros duplicados\n",
    "df_marketing.duplicated().sum()"
   ]
  },
  {
   "cell_type": "code",
   "execution_count": null,
   "metadata": {},
   "outputs": [],
   "source": [
    "# Buscamos registros nulos\n",
    "df_marketing.isnull().sum()"
   ]
  },
  {
   "cell_type": "markdown",
   "metadata": {
    "id": "5ozl6XDO9vaD"
   },
   "source": [
    "### Observaciones\n",
    "* Cantidad de registros: 90\n",
    "* Columnas: 6\n",
    "* 0 duplicados\n",
    "* 0 nulos\n",
    "* Campo fecha_inicio: ajustar a dtype datetime\n",
    "* Campo fecha_fin: ajustar a dtype datetime"
   ]
  },
  {
   "cell_type": "markdown",
   "metadata": {
    "id": "HG-gP0gu9qTb"
   },
   "source": [
    "## Dataframe clientes"
   ]
  },
  {
   "cell_type": "markdown",
   "metadata": {
    "id": "m_3WYdEx9xee"
   },
   "source": [
    "### Analisis exploratorio de datos"
   ]
  },
  {
   "cell_type": "code",
   "execution_count": null,
   "metadata": {},
   "outputs": [],
   "source": [
    "# Aplicamos info() para familiarizarnos con el dataframe\n",
    "df_clientes.info()"
   ]
  },
  {
   "cell_type": "code",
   "execution_count": null,
   "metadata": {},
   "outputs": [],
   "source": [
    "# para ver los datos head y tail del dataframe\n",
    "df_clientes"
   ]
  },
  {
   "cell_type": "markdown",
   "metadata": {},
   "source": [
    "### Calidad de los datos"
   ]
  },
  {
   "cell_type": "code",
   "execution_count": null,
   "metadata": {},
   "outputs": [],
   "source": [
    "# Buscamos registros duplicados\n",
    "df_clientes.duplicated().sum()"
   ]
  },
  {
   "cell_type": "code",
   "execution_count": null,
   "metadata": {},
   "outputs": [],
   "source": [
    "# Buscamos datos nulos\n",
    "df_clientes.isnull().sum()"
   ]
  },
  {
   "cell_type": "markdown",
   "metadata": {
    "id": "tnUto8c_9zaV"
   },
   "source": [
    "### Observaciones\n",
    "* Cantidad de registros: 567\n",
    "* Columnas: 5\n",
    "* 0 duplicados\n",
    "* 0 nulos"
   ]
  },
  {
   "cell_type": "markdown",
   "metadata": {
    "id": "rHt5rt_i93rw"
   },
   "source": [
    "---\n",
    "# Etapa 2"
   ]
  },
  {
   "cell_type": "markdown",
   "metadata": {
    "id": "wtww21zh-LYZ"
   },
   "source": [
    "## Limpieza de datos\n",
    "Actividad 1 - Limpiar el conjunto de datos eliminando duplicados y caracteres no deseados. Documentar el proceso y los resultados."
   ]
  },
  {
   "cell_type": "markdown",
   "metadata": {
    "id": "J4Gwrqt1VxL0"
   },
   "source": [
    "### Dataframe ventas"
   ]
  },
  {
   "cell_type": "markdown",
   "metadata": {
    "id": "NByZ8lMdNPih"
   },
   "source": [
    "* 35 duplicados, eliminarlos - se eliminaron 35 duplicados\n",
    "* Algunos nulos (2), 1% del faltante, dropna - se eliminaron 2 registros con 2 NaN\n",
    "* Campo precio: encontre `$`, removerlo y luego cambiar el dtype a float64 - Ok\n",
    "* Campo fecha: ajustar a dtype datetime - Ok"
   ]
  },
  {
   "cell_type": "code",
   "execution_count": null,
   "metadata": {
    "id": "X4a0lL4zM6p1"
   },
   "outputs": [],
   "source": [
    "# Eliminamos registros duplicados\n",
    "# atributos a evaluar, keep, ignore_index, inplace\n",
    "df_ventas.drop_duplicates(inplace=True, ignore_index=True)"
   ]
  },
  {
   "cell_type": "code",
   "execution_count": null,
   "metadata": {
    "id": "pyL2FvnRO8yf"
   },
   "outputs": [],
   "source": [
    "# Validamos que no haya duplicados\n",
    "df_ventas.duplicated().sum()"
   ]
  },
  {
   "cell_type": "code",
   "execution_count": null,
   "metadata": {
    "id": "dGWwZLq9PjCc"
   },
   "outputs": [],
   "source": [
    "# Eliminamos registros con datos nulos\n",
    "df_ventas.dropna(inplace=True)"
   ]
  },
  {
   "cell_type": "code",
   "execution_count": null,
   "metadata": {
    "id": "M9wWpuyVRy-P"
   },
   "outputs": [],
   "source": [
    "# Validamos que no haya nulos\n",
    "# df_ventas.isnull().sum()\n",
    "df_ventas.info()"
   ]
  },
  {
   "cell_type": "code",
   "execution_count": null,
   "metadata": {
    "id": "U-VCJ_qWR563"
   },
   "outputs": [],
   "source": [
    "# Eliminamos el caracter especial $ de precio\n",
    "# Normalización: usar replace()\n",
    "# De ser necesario, podemos usar el atributo regex=True\n",
    "df_ventas[\"precio\"] = df_ventas[\"precio\"].str.strip().str.replace(\"$\", \"\")"
   ]
  },
  {
   "cell_type": "code",
   "execution_count": null,
   "metadata": {
    "id": "SY_xSj6sSEji"
   },
   "outputs": [],
   "source": [
    "# Validamos que precio no contenga $\n",
    "df_ventas[\"precio\"].sample(3)"
   ]
  },
  {
   "cell_type": "code",
   "execution_count": null,
   "metadata": {
    "id": "zoU01rGkT_tc"
   },
   "outputs": [],
   "source": [
    "# Convertimos precio de str a float\n",
    "# Podemos usar pd.to_numeric o astype o incluso combinarlos\n",
    "df_ventas[\"precio\"] = df_ventas[\"precio\"].astype(float)"
   ]
  },
  {
   "cell_type": "code",
   "execution_count": null,
   "metadata": {
    "id": "NFv2jIKlSwbA"
   },
   "outputs": [],
   "source": [
    "# Convertir el dtype de cantidad, de float64 a int64\n",
    "df_ventas[\"cantidad\"]= df_ventas[\"cantidad\"].astype(int)"
   ]
  },
  {
   "cell_type": "code",
   "execution_count": null,
   "metadata": {
    "id": "bT2M5_wKT160"
   },
   "outputs": [],
   "source": [
    "# Validar la conversion a int\n",
    "df_ventas[\"cantidad\"].dtypes"
   ]
  },
  {
   "cell_type": "code",
   "execution_count": null,
   "metadata": {
    "id": "HLZVUMnnUkSf"
   },
   "outputs": [],
   "source": [
    "# Convertir el campo fecha_venta a dtype datetime\n",
    "# pd.to_datetime(df_ventas[\"fecha_venta\"], format=\"%d/%m/%Y\")\n",
    "# pd.to_datetime(df_ventas[\"fecha_venta\"], dayfirst=True)\n",
    "df_ventas['fecha_venta'] = pd.to_datetime(df_ventas['fecha_venta'], format=\"%d/%m/%Y\")"
   ]
  },
  {
   "cell_type": "code",
   "execution_count": null,
   "metadata": {
    "id": "l5t40uUPUrY-"
   },
   "outputs": [],
   "source": [
    "# Validar la conversion de fecha\n",
    "df_ventas['fecha_venta'].dtype"
   ]
  },
  {
   "cell_type": "markdown",
   "metadata": {
    "id": "Mpd7zlOIV2BV"
   },
   "source": [
    "### Dataframe marketing"
   ]
  },
  {
   "cell_type": "markdown",
   "metadata": {
    "id": "Z7-rjrs-V4W3"
   },
   "source": [
    "*** Acciones ***"
   ]
  },
  {
   "cell_type": "code",
   "execution_count": null,
   "metadata": {
    "id": "JGZ5gwDYV8B9"
   },
   "outputs": [],
   "source": [
    "# Convertir el campo fecha_inicio a dtype datetime\n"
   ]
  },
  {
   "cell_type": "code",
   "execution_count": null,
   "metadata": {
    "id": "dNvT4ou6Whob"
   },
   "outputs": [],
   "source": [
    "# Convertir el campo fecha_fin a dtype datetime\n"
   ]
  },
  {
   "cell_type": "code",
   "execution_count": null,
   "metadata": {
    "id": "P4-yJ7-VWtf-"
   },
   "outputs": [],
   "source": [
    "# Validamos los cambios\n"
   ]
  },
  {
   "cell_type": "markdown",
   "metadata": {
    "id": "vw58H5kt-Ocd"
   },
   "source": [
    "## Transformación de datos\n",
    "Actividad 2 - Aplicar filtros y transformaciones para crear una tabla de ventas que muestre solo los productos con alto rendimiento."
   ]
  },
  {
   "cell_type": "code",
   "execution_count": null,
   "metadata": {
    "id": "34USfJIXbfGL"
   },
   "outputs": [],
   "source": [
    "df_ventas.head(2)"
   ]
  },
  {
   "cell_type": "code",
   "execution_count": null,
   "metadata": {
    "id": "SYFA9Egcbrwz"
   },
   "outputs": [],
   "source": [
    "# Transformación:\n",
    "# Calculamos el valor de cada venta = precio * cantidad\n",
    "# Agregamos una nueva columnas\n",
    "df_ventas[\"valor_venta\"] = df_ventas[\"precio\"] * df_ventas[\"cantidad\"]"
   ]
  },
  {
   "cell_type": "code",
   "execution_count": null,
   "metadata": {
    "id": "XjDkhBIKb8eF"
   },
   "outputs": [],
   "source": [
    "# Visualizamos\n",
    "df_ventas.head(2)"
   ]
  },
  {
   "cell_type": "code",
   "execution_count": null,
   "metadata": {
    "id": "19aqzhamccGf"
   },
   "outputs": [],
   "source": [
    "# Agregación:\n",
    "# Agrupar valor_venta por producto\n",
    "# Sumamos las ventas dentro de cada grupo\n",
    "tabla_ventas = (df_ventas.groupby(\"producto\", as_index=False)[\"valor_venta\"].sum())\n",
    "tabla_ventas.head()"
   ]
  },
  {
   "cell_type": "code",
   "execution_count": null,
   "metadata": {
    "id": "xFr3GaReewb1"
   },
   "outputs": [],
   "source": [
    "# Usemos describe para analizar algunos valores del dataframe resultante\n",
    "tabla_ventas.describe()"
   ]
  },
  {
   "cell_type": "code",
   "execution_count": null,
   "metadata": {
    "id": "2y-tJBOaLKsT"
   },
   "outputs": [],
   "source": [
    "# Agregamos un plot para visualizar graficamente la distribución\n",
    "import seaborn as sns\n",
    "import matplotlib.pyplot as plt\n",
    "\n",
    "sns.histplot(tabla_ventas[\"valor_venta\"], bins=30, kde=True, edgecolor=\"black\")\n",
    "plt.title(\"Distribución de Valor de Venta con Curva de Densidad\")\n",
    "plt.xlabel(\"Valor de venta\")\n",
    "plt.ylabel(\"Frecuencia\")\n",
    "plt.show()"
   ]
  },
  {
   "cell_type": "code",
   "execution_count": null,
   "metadata": {
    "id": "eU4ZNyM7diww"
   },
   "outputs": [],
   "source": [
    "# Calcular el percentil 75 (umbral de alto rendimiento)\n",
    "umbral_ventas = tabla_ventas[\"valor_venta\"].quantile(0.75)\n",
    "umbral_ventas"
   ]
  },
  {
   "cell_type": "code",
   "execution_count": null,
   "metadata": {
    "id": "TjRRnE88eUZe"
   },
   "outputs": [],
   "source": [
    "# Identificar productos que superan el umbral\n",
    "# productos_top = tabla_ventas.query(\"valor_venta >= @umbral\")\n",
    "productos_top = tabla_ventas[tabla_ventas[\"valor_venta\"] >= umbral_ventas]\n",
    "productos_top"
   ]
  },
  {
   "cell_type": "markdown",
   "metadata": {
    "id": "-mb9io4x-SAD"
   },
   "source": [
    "## Agregación\n",
    "Actividad 3 - Resumir las ventas por categoría de producto y analizar los ingresos generados."
   ]
  },
  {
   "cell_type": "code",
   "execution_count": null,
   "metadata": {
    "id": "aK1C6C7kNFoy"
   },
   "outputs": [],
   "source": [
    "df_ventas.columns"
   ]
  },
  {
   "cell_type": "code",
   "execution_count": null,
   "metadata": {
    "id": "MbADnST1mLBi"
   },
   "outputs": [],
   "source": [
    "# Agrupamos por categoria y agregamos la suma\n",
    "ventas_categoria = df_ventas.groupby(\"categoria\", as_index=False)[\"valor_venta\"].sum()\n",
    "ventas_categoria.head()"
   ]
  },
  {
   "cell_type": "code",
   "execution_count": null,
   "metadata": {
    "id": "NHqXS2hxN2GC"
   },
   "outputs": [],
   "source": [
    "ventas_categoria"
   ]
  },
  {
   "cell_type": "code",
   "execution_count": null,
   "metadata": {
    "id": "iKLVXN9mn74g"
   },
   "outputs": [],
   "source": [
    "# Ordenar y mostrar los resultados\n",
    "ventas_categoria"
   ]
  },
  {
   "cell_type": "markdown",
   "metadata": {
    "id": "YQB-_u0B-YsC"
   },
   "source": [
    "## Integración de datos\n",
    "Actividad 4 - Combinar los sets de datos de ventas y marketing para obtener una visión más amplia de las tendencias."
   ]
  },
  {
   "cell_type": "code",
   "execution_count": null,
   "metadata": {
    "id": "Ee0ALtQoPm5v"
   },
   "outputs": [],
   "source": [
    "df_ventas.head(2)"
   ]
  },
  {
   "cell_type": "code",
   "execution_count": null,
   "metadata": {
    "id": "nf43t38GPpFF"
   },
   "outputs": [],
   "source": [
    "df_marketing.info()"
   ]
  },
  {
   "cell_type": "code",
   "execution_count": null,
   "metadata": {
    "id": "XcPBF9V9xitw"
   },
   "outputs": [],
   "source": [
    "# Unir los datasets ventas y marketing por columna 'producto'\n",
    "ventas_marketing = pd.merge(df_ventas, df_marketing, on=\"producto\", how=\"left\")"
   ]
  },
  {
   "cell_type": "code",
   "execution_count": null,
   "metadata": {
    "id": "V4_nJrEMXnOV"
   },
   "outputs": [],
   "source": [
    "# Verificar coincidencias (muestra)\n",
    "ventas_marketing.head()"
   ]
  },
  {
   "cell_type": "markdown",
   "metadata": {
    "id": "YC40BdGVhCyj"
   },
   "source": [
    "### Analizamos el impacto de la campaña"
   ]
  },
  {
   "cell_type": "code",
   "execution_count": null,
   "metadata": {
    "id": "GLyB_DgPfGrZ"
   },
   "outputs": [],
   "source": [
    "# Nos quedamos solo con los registros de ventas durante la campaña de marketing\n",
    "# Seleccionamos solo los campos que nos interesan: \"producto\", \"valor_venta\", \"costo\"\n"
   ]
  },
  {
   "cell_type": "code",
   "execution_count": null,
   "metadata": {
    "id": "arV23U7ndcfR"
   },
   "outputs": [],
   "source": [
    "# Agrupamos por producto y hacemos una agregación por \"valor de venta\" y \"costo\"\n",
    "ventas_marketing.groupby(\"categoria\")[[\"valor_venta\",\"costo\"]].sum()"
   ]
  },
  {
   "cell_type": "code",
   "execution_count": null,
   "metadata": {
    "id": "Mi20QG2MhspI"
   },
   "outputs": [],
   "source": [
    "# Generamos una nueva columna con la diferencia entre lo vendido y lo invertido en la campaña\n"
   ]
  }
 ],
 "metadata": {
  "colab": {
   "authorship_tag": "ABX9TyN76tCvEZqQSERkd3UmCJ4F",
   "provenance": [],
   "toc_visible": true
  },
  "kernelspec": {
   "display_name": "Python 3",
   "name": "python3"
  },
  "language_info": {
   "codemirror_mode": {
    "name": "ipython",
    "version": 3
   },
   "file_extension": ".py",
   "mimetype": "text/x-python",
   "name": "python",
   "nbconvert_exporter": "python",
   "pygments_lexer": "ipython3",
   "version": "3.13.7"
  }
 },
 "nbformat": 4,
 "nbformat_minor": 0
}
