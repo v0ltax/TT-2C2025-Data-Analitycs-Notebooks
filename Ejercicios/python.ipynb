{
  "cells": [
    {
      "cell_type": "code",
      "execution_count": null,
      "id": "824ff1c5",
      "metadata": {
        "id": "824ff1c5",
        "outputId": "d165c37d-cea2-4981-bb09-051b392d9210"
      },
      "outputs": [],
      "source": [
        "for letra in \"Python\":\n",
        "    if letra == \"h\":\n",
        "        continue\n",
        "    print(\"Viendo la letra: \" + letra)"
      ]
    },
    {
      "cell_type": "code",
      "execution_count": null,
      "id": "bf6c2820",
      "metadata": {
        "id": "bf6c2820",
        "outputId": "18f2fd2d-a1a9-4e69-d8f0-bb9e930cfe8c"
      },
      "outputs": [],
      "source": [
        "for element in range(1,5):\n",
        "    print (element)"
      ]
    },
    {
      "cell_type": "code",
      "execution_count": null,
      "id": "ce58f7ca",
      "metadata": {
        "id": "ce58f7ca",
        "outputId": "b6572153-c1e0-4cfb-91b0-3826e73cfec9"
      },
      "outputs": [],
      "source": [
        "c = 0\n",
        "while c <= 5:\n",
        "    print(c)\n",
        "    c += 1\n",
        "    if c == 3:\n",
        "        break"
      ]
    },
    {
      "cell_type": "code",
      "execution_count": null,
      "id": "e32bc72e",
      "metadata": {
        "id": "e32bc72e",
        "outputId": "c2974a89-97f6-44ef-d1b6-59e2198079f7"
      },
      "outputs": [],
      "source": [
        "lenguajes = [\"Python\", \"Java\", \"JavaScript\", \"C\", \"C++\", \"Go\", \"PHP\"]\n",
        "for index in range(len(lenguajes)):\n",
        "    print(\"en índice\", index,\"el lenguaje es\", lenguajes[index])"
      ]
    },
    {
      "cell_type": "code",
      "execution_count": null,
      "id": "f3b29865",
      "metadata": {
        "id": "f3b29865",
        "outputId": "d87ed6be-1436-4d00-88f8-ac1c051171bd"
      },
      "outputs": [],
      "source": [
        "i = 0\n",
        "while i < len(lenguajes):\n",
        "    print(lenguajes[i])\n",
        "    i += 1"
      ]
    },
    {
      "cell_type": "code",
      "execution_count": null,
      "id": "332b4fdd",
      "metadata": {
        "id": "332b4fdd",
        "outputId": "98dc02af-ae44-4239-eb9d-8212ba90009d"
      },
      "outputs": [],
      "source": [
        "lenguaje = {\n",
        "    \"nombre\": \"Python\",\n",
        "    \"creador\": \"Guido van Rossum\",\n",
        "    \"año\": 1991,\n",
        "}\n",
        "for llave in lenguaje:\n",
        "    print(\"La llave es\", llave, \"y su valor es\", lenguaje[llave])\n",
        "print(lenguaje.keys())\n",
        "print(lenguaje.values())\n",
        "print(lenguaje.items())"
      ]
    },
    {
      "cell_type": "code",
      "execution_count": null,
      "id": "6c72c2d2",
      "metadata": {
        "id": "6c72c2d2",
        "outputId": "a73a80bf-7f4c-4b77-a68c-67da8a631132"
      },
      "outputs": [],
      "source": [
        "def funcion():\n",
        "    print(\"Hola mundo\")\n",
        "funcion()"
      ]
    },
    {
      "cell_type": "code",
      "execution_count": null,
      "id": "f9587bea",
      "metadata": {
        "id": "f9587bea",
        "outputId": "5e3f7b79-f403-4dc6-fe7b-29194fd0e0a7"
      },
      "outputs": [],
      "source": [
        "def perimetro_cuadrado(lado):\n",
        "    return lado * 4\n",
        "perimetro = perimetro_cuadrado(5)\n",
        "print(\"El perímetro del cuadrado es:\", perimetro)"
      ]
    },
    {
      "cell_type": "code",
      "execution_count": null,
      "id": "55050eeb",
      "metadata": {
        "id": "55050eeb",
        "outputId": "3bc8a4be-03a0-4670-cdcf-0299dbb14589"
      },
      "outputs": [],
      "source": [
        "def mensaje(men):\n",
        "   y = \"\"\n",
        "   for x in men:\n",
        "       y = y + x\n",
        "       print(y)\n",
        "\n",
        "mensaje(\"Hola\")"
      ]
    },
    {
      "cell_type": "code",
      "execution_count": null,
      "id": "19d1ac95",
      "metadata": {
        "id": "19d1ac95",
        "outputId": "5c87e351-1049-41cc-cf84-78756d684df3"
      },
      "outputs": [],
      "source": [
        "import datetime as dt\n",
        "print(dt.datetime.now())"
      ]
    },
    {
      "cell_type": "markdown",
      "id": "pBQONGhS1Y3t",
      "metadata": {
        "id": "pBQONGhS1Y3t"
      },
      "source": [
        "##importar drive"
      ]
    },
    {
      "cell_type": "code",
      "execution_count": null,
      "id": "r_ERBf8Nz1TQ",
      "metadata": {
        "colab": {
          "base_uri": "https://localhost:8080/"
        },
        "id": "r_ERBf8Nz1TQ",
        "outputId": "af14d42d-b785-4914-aabe-1e77eba1cd7f"
      },
      "outputs": [],
      "source": [
        "from google.colab import drive\n",
        "drive.mount('/content/gdrive')"
      ]
    },
    {
      "cell_type": "code",
      "execution_count": null,
      "id": "hfRUz9RA3CYP",
      "metadata": {
        "id": "hfRUz9RA3CYP"
      },
      "outputs": [],
      "source": [
        "drive.flush_and_unmount()"
      ]
    },
    {
      "cell_type": "code",
      "execution_count": null,
      "id": "hNMmDwR7zGVO",
      "metadata": {
        "colab": {
          "base_uri": "https://localhost:8080/"
        },
        "collapsed": true,
        "id": "hNMmDwR7zGVO",
        "outputId": "56bb08fa-f17b-4d5e-8c3d-b5a4ca16b0e5"
      },
      "outputs": [],
      "source": [
        "with open('/content/gdrive/My Drive/foo.txt', 'w') as f:\n",
        "  f.write('Hello Google Drive!')\n",
        "!cat '/content/gdrive/My Drive/foo.txt'"
      ]
    },
    {
      "cell_type": "code",
      "execution_count": null,
      "id": "26iD1jSKAJiS",
      "metadata": {
        "colab": {
          "base_uri": "https://localhost:8080/"
        },
        "id": "26iD1jSKAJiS",
        "outputId": "24a481ca-1014-4d8e-ce2a-031d29c3c26d"
      },
      "outputs": [],
      "source": [
        "pip install flask"
      ]
    },
    {
      "cell_type": "code",
      "execution_count": null,
      "id": "QYuk3N9gGfMQ",
      "metadata": {
        "colab": {
          "base_uri": "https://localhost:8080/"
        },
        "collapsed": true,
        "id": "QYuk3N9gGfMQ",
        "outputId": "ed560dfa-fda1-46e6-d495-2ec43369ffff"
      },
      "outputs": [],
      "source": [
        "pip freeze"
      ]
    },
    {
      "cell_type": "code",
      "execution_count": null,
      "id": "qE5zqmA6B2LV",
      "metadata": {
        "colab": {
          "base_uri": "https://localhost:8080/"
        },
        "id": "qE5zqmA6B2LV",
        "outputId": "fdb3acda-aaae-4ddd-bb6b-787c2f48ec53"
      },
      "outputs": [],
      "source": [
        "pip uninstall flask"
      ]
    },
    {
      "cell_type": "code",
      "execution_count": null,
      "id": "9--VOs4XE-EJ",
      "metadata": {
        "colab": {
          "base_uri": "https://localhost:8080/",
          "height": 297
        },
        "id": "9--VOs4XE-EJ",
        "outputId": "8673c284-b5f4-4886-842d-a70cc73a628b"
      },
      "outputs": [],
      "source": [
        "def validar(x):\n",
        "  if x > 1:\n",
        "    raise Exception('es mayor')\n",
        "  else:\n",
        "    print('es menor')\n",
        "\n",
        "x=5\n",
        "validar(x)"
      ]
    },
    {
      "cell_type": "code",
      "execution_count": 2,
      "id": "9ec80786",
      "metadata": {},
      "outputs": [
        {
          "name": "stdout",
          "output_type": "stream",
          "text": [
            "<class 'pandas.core.frame.DataFrame'>\n",
            "RangeIndex: 8807 entries, 0 to 8806\n",
            "Data columns (total 12 columns):\n",
            " #   Column        Non-Null Count  Dtype \n",
            "---  ------        --------------  ----- \n",
            " 0   show_id       8807 non-null   object\n",
            " 1   type          8807 non-null   object\n",
            " 2   title         8807 non-null   object\n",
            " 3   director      6173 non-null   object\n",
            " 4   cast          7982 non-null   object\n",
            " 5   country       7976 non-null   object\n",
            " 6   date_added    8797 non-null   object\n",
            " 7   release_year  8807 non-null   int64 \n",
            " 8   rating        8803 non-null   object\n",
            " 9   duration      8804 non-null   object\n",
            " 10  listed_in     8807 non-null   object\n",
            " 11  description   8807 non-null   object\n",
            "dtypes: int64(1), object(11)\n",
            "memory usage: 825.8+ KB\n"
          ]
        }
      ],
      "source": [
        "# Cargar en una variable la URL del archivo csv de Github\n",
        "url = \"https://raw.githubusercontent.com/v0ltax/TT-2C2025-Data-Analitycs-Notebooks/refs/heads/main/Datasets/netflix_titles.csv\"\n",
        "\n",
        "# Importar la librería Pandas\n",
        "import pandas as pd\n",
        "# Leer el archivo csv y cargarlo en un DataFrame\n",
        "df = pd.read_csv(url)\n",
        "# Mostrar las primeras filas del DataFrame\n",
        "df.info()"
      ]
    }
  ],
  "metadata": {
    "colab": {
      "provenance": []
    },
    "kernelspec": {
      "display_name": "Python 3",
      "language": "python",
      "name": "python3"
    },
    "language_info": {
      "codemirror_mode": {
        "name": "ipython",
        "version": 3
      },
      "file_extension": ".py",
      "mimetype": "text/x-python",
      "name": "python",
      "nbconvert_exporter": "python",
      "pygments_lexer": "ipython3",
      "version": "3.13.7"
    },
    "widgets": {
      "application/vnd.jupyter.widget-state+json": {
        "01031cfa6ea1411bb3a05379eae8e2bd": {
          "model_module": "@jupyter-widgets/base",
          "model_module_version": "1.2.0",
          "model_name": "LayoutModel",
          "state": {
            "_model_module": "@jupyter-widgets/base",
            "_model_module_version": "1.2.0",
            "_model_name": "LayoutModel",
            "_view_count": null,
            "_view_module": "@jupyter-widgets/base",
            "_view_module_version": "1.2.0",
            "_view_name": "LayoutView",
            "align_content": null,
            "align_items": null,
            "align_self": null,
            "border": null,
            "bottom": null,
            "display": null,
            "flex": null,
            "flex_flow": null,
            "grid_area": null,
            "grid_auto_columns": null,
            "grid_auto_flow": null,
            "grid_auto_rows": null,
            "grid_column": null,
            "grid_gap": null,
            "grid_row": null,
            "grid_template_areas": null,
            "grid_template_columns": null,
            "grid_template_rows": null,
            "height": null,
            "justify_content": null,
            "justify_items": null,
            "left": null,
            "margin": null,
            "max_height": null,
            "max_width": null,
            "min_height": null,
            "min_width": null,
            "object_fit": null,
            "object_position": null,
            "order": null,
            "overflow": null,
            "overflow_x": null,
            "overflow_y": null,
            "padding": null,
            "right": null,
            "top": null,
            "visibility": null,
            "width": null
          }
        },
        "0272e4baac2743ab9f6e44f4e97fc9ab": {
          "model_module": "@jupyter-widgets/controls",
          "model_module_version": "1.5.0",
          "model_name": "ButtonStyleModel",
          "state": {
            "_model_module": "@jupyter-widgets/controls",
            "_model_module_version": "1.5.0",
            "_model_name": "ButtonStyleModel",
            "_view_count": null,
            "_view_module": "@jupyter-widgets/base",
            "_view_module_version": "1.2.0",
            "_view_name": "StyleView",
            "button_color": null,
            "font_weight": ""
          }
        },
        "2931b6f2e5c6445183ba7f00201c3e51": {
          "model_module": "@jupyter-widgets/output",
          "model_module_version": "1.0.0",
          "model_name": "OutputModel",
          "state": {
            "_dom_classes": [],
            "_model_module": "@jupyter-widgets/output",
            "_model_module_version": "1.0.0",
            "_model_name": "OutputModel",
            "_view_count": null,
            "_view_module": "@jupyter-widgets/output",
            "_view_module_version": "1.0.0",
            "_view_name": "OutputView",
            "layout": "IPY_MODEL_01031cfa6ea1411bb3a05379eae8e2bd",
            "msg_id": "",
            "outputs": [
              {
                "name": "stdout",
                "output_type": "stream",
                "text": [
                  "Tu año de nacimiento es: 1980\n"
                ]
              }
            ]
          }
        },
        "52bd8ff482d64a0496a9eec6303fc191": {
          "model_module": "@jupyter-widgets/base",
          "model_module_version": "1.2.0",
          "model_name": "LayoutModel",
          "state": {
            "_model_module": "@jupyter-widgets/base",
            "_model_module_version": "1.2.0",
            "_model_name": "LayoutModel",
            "_view_count": null,
            "_view_module": "@jupyter-widgets/base",
            "_view_module_version": "1.2.0",
            "_view_name": "LayoutView",
            "align_content": null,
            "align_items": null,
            "align_self": null,
            "border": null,
            "bottom": null,
            "display": null,
            "flex": null,
            "flex_flow": null,
            "grid_area": null,
            "grid_auto_columns": null,
            "grid_auto_flow": null,
            "grid_auto_rows": null,
            "grid_column": null,
            "grid_gap": null,
            "grid_row": null,
            "grid_template_areas": null,
            "grid_template_columns": null,
            "grid_template_rows": null,
            "height": null,
            "justify_content": null,
            "justify_items": null,
            "left": null,
            "margin": null,
            "max_height": null,
            "max_width": null,
            "min_height": null,
            "min_width": null,
            "object_fit": null,
            "object_position": null,
            "order": null,
            "overflow": null,
            "overflow_x": null,
            "overflow_y": null,
            "padding": null,
            "right": null,
            "top": null,
            "visibility": null,
            "width": null
          }
        },
        "a43bf6fd245b4710ad21d4187cf7e910": {
          "model_module": "@jupyter-widgets/controls",
          "model_module_version": "1.5.0",
          "model_name": "IntTextModel",
          "state": {
            "_dom_classes": [],
            "_model_module": "@jupyter-widgets/controls",
            "_model_module_version": "1.5.0",
            "_model_name": "IntTextModel",
            "_view_count": null,
            "_view_module": "@jupyter-widgets/controls",
            "_view_module_version": "1.5.0",
            "_view_name": "IntTextView",
            "continuous_update": false,
            "description": "edad:",
            "description_tooltip": null,
            "disabled": false,
            "layout": "IPY_MODEL_ef1bc83dc50a4ace9490a8c9bd148a4a",
            "step": 1,
            "style": "IPY_MODEL_a8ca7b3606d34a3a81130dfd3fcafecf",
            "value": 45
          }
        },
        "a8ca7b3606d34a3a81130dfd3fcafecf": {
          "model_module": "@jupyter-widgets/controls",
          "model_module_version": "1.5.0",
          "model_name": "DescriptionStyleModel",
          "state": {
            "_model_module": "@jupyter-widgets/controls",
            "_model_module_version": "1.5.0",
            "_model_name": "DescriptionStyleModel",
            "_view_count": null,
            "_view_module": "@jupyter-widgets/base",
            "_view_module_version": "1.2.0",
            "_view_name": "StyleView",
            "description_width": ""
          }
        },
        "c90eccb6a48c47dab6e0eaef0bcbd4ef": {
          "model_module": "@jupyter-widgets/controls",
          "model_module_version": "1.5.0",
          "model_name": "ButtonModel",
          "state": {
            "_dom_classes": [],
            "_model_module": "@jupyter-widgets/controls",
            "_model_module_version": "1.5.0",
            "_model_name": "ButtonModel",
            "_view_count": null,
            "_view_module": "@jupyter-widgets/controls",
            "_view_module_version": "1.5.0",
            "_view_name": "ButtonView",
            "button_style": "",
            "description": "Calcular año de nacimiento",
            "disabled": false,
            "icon": "",
            "layout": "IPY_MODEL_52bd8ff482d64a0496a9eec6303fc191",
            "style": "IPY_MODEL_0272e4baac2743ab9f6e44f4e97fc9ab",
            "tooltip": ""
          }
        },
        "ef1bc83dc50a4ace9490a8c9bd148a4a": {
          "model_module": "@jupyter-widgets/base",
          "model_module_version": "1.2.0",
          "model_name": "LayoutModel",
          "state": {
            "_model_module": "@jupyter-widgets/base",
            "_model_module_version": "1.2.0",
            "_model_name": "LayoutModel",
            "_view_count": null,
            "_view_module": "@jupyter-widgets/base",
            "_view_module_version": "1.2.0",
            "_view_name": "LayoutView",
            "align_content": null,
            "align_items": null,
            "align_self": null,
            "border": null,
            "bottom": null,
            "display": null,
            "flex": null,
            "flex_flow": null,
            "grid_area": null,
            "grid_auto_columns": null,
            "grid_auto_flow": null,
            "grid_auto_rows": null,
            "grid_column": null,
            "grid_gap": null,
            "grid_row": null,
            "grid_template_areas": null,
            "grid_template_columns": null,
            "grid_template_rows": null,
            "height": null,
            "justify_content": null,
            "justify_items": null,
            "left": null,
            "margin": null,
            "max_height": null,
            "max_width": null,
            "min_height": null,
            "min_width": null,
            "object_fit": null,
            "object_position": null,
            "order": null,
            "overflow": null,
            "overflow_x": null,
            "overflow_y": null,
            "padding": null,
            "right": null,
            "top": null,
            "visibility": null,
            "width": null
          }
        }
      }
    }
  },
  "nbformat": 4,
  "nbformat_minor": 5
}
