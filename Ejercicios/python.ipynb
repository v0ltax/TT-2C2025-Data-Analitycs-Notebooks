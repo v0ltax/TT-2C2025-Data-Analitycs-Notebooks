{
 "cells": [
  {
   "cell_type": "code",
   "execution_count": 1,
   "id": "824ff1c5",
   "metadata": {},
   "outputs": [
    {
     "name": "stdout",
     "output_type": "stream",
     "text": [
      "Viendo la letra: P\n",
      "Viendo la letra: y\n",
      "Viendo la letra: t\n",
      "Viendo la letra: o\n",
      "Viendo la letra: n\n"
     ]
    }
   ],
   "source": [
    "for letra in \"Python\":\n",
    "    if letra == \"h\":\n",
    "        continue\n",
    "    print(\"Viendo la letra: \" + letra)"
   ]
  },
  {
   "cell_type": "code",
   "execution_count": 4,
   "id": "bf6c2820",
   "metadata": {},
   "outputs": [
    {
     "name": "stdout",
     "output_type": "stream",
     "text": [
      "1\n",
      "2\n",
      "3\n",
      "4\n"
     ]
    }
   ],
   "source": [
    "for element in range(1,5):\n",
    "    print (element)"
   ]
  },
  {
   "cell_type": "code",
   "execution_count": 7,
   "id": "ce58f7ca",
   "metadata": {},
   "outputs": [
    {
     "name": "stdout",
     "output_type": "stream",
     "text": [
      "0\n",
      "1\n",
      "2\n"
     ]
    }
   ],
   "source": [
    "c = 0\n",
    "while c <= 5:\n",
    "    print(c)\n",
    "    c += 1\n",
    "    if c == 3:\n",
    "        break"
   ]
  },
  {
   "cell_type": "code",
   "execution_count": 16,
   "id": "e32bc72e",
   "metadata": {},
   "outputs": [
    {
     "name": "stdout",
     "output_type": "stream",
     "text": [
      "en índice 0 el lenguaje es Python\n",
      "en índice 1 el lenguaje es Java\n",
      "en índice 2 el lenguaje es JavaScript\n",
      "en índice 3 el lenguaje es C\n",
      "en índice 4 el lenguaje es C++\n",
      "en índice 5 el lenguaje es Go\n",
      "en índice 6 el lenguaje es PHP\n"
     ]
    }
   ],
   "source": [
    "lenguajes = [\"Python\", \"Java\", \"JavaScript\", \"C\", \"C++\", \"Go\", \"PHP\"]\n",
    "for index in range(len(lenguajes)):\n",
    "    print(\"en índice\", index,\"el lenguaje es\", lenguajes[index])"
   ]
  },
  {
   "cell_type": "code",
   "execution_count": 20,
   "id": "f3b29865",
   "metadata": {},
   "outputs": [
    {
     "name": "stdout",
     "output_type": "stream",
     "text": [
      "Python\n",
      "Java\n",
      "JavaScript\n",
      "C\n",
      "C++\n",
      "Go\n",
      "PHP\n"
     ]
    }
   ],
   "source": [
    "i = 0\n",
    "while i < len(lenguajes):\n",
    "    print(lenguajes[i])\n",
    "    i += 1"
   ]
  },
  {
   "cell_type": "code",
   "execution_count": 33,
   "id": "332b4fdd",
   "metadata": {},
   "outputs": [
    {
     "name": "stdout",
     "output_type": "stream",
     "text": [
      "La llave es nombre y su valor es Python\n",
      "La llave es creador y su valor es Guido van Rossum\n",
      "La llave es año y su valor es 1991\n",
      "dict_keys(['nombre', 'creador', 'año'])\n",
      "dict_values(['Python', 'Guido van Rossum', 1991])\n",
      "dict_items([('nombre', 'Python'), ('creador', 'Guido van Rossum'), ('año', 1991)])\n"
     ]
    }
   ],
   "source": [
    "lenguaje = {\n",
    "    \"nombre\": \"Python\",\n",
    "    \"creador\": \"Guido van Rossum\",\n",
    "    \"año\": 1991,\n",
    "}\n",
    "for llave in lenguaje:\n",
    "    print(\"La llave es\", llave, \"y su valor es\", lenguaje[llave])\n",
    "print(lenguaje.keys())\n",
    "print(lenguaje.values())\n",
    "print(lenguaje.items())"
   ]
  },
  {
   "cell_type": "code",
   "execution_count": 34,
   "id": "6c72c2d2",
   "metadata": {},
   "outputs": [
    {
     "name": "stdout",
     "output_type": "stream",
     "text": [
      "Hola mundo\n"
     ]
    }
   ],
   "source": [
    "def funcion():\n",
    "    print(\"Hola mundo\")\n",
    "funcion()"
   ]
  },
  {
   "cell_type": "code",
   "execution_count": 40,
   "id": "f9587bea",
   "metadata": {},
   "outputs": [
    {
     "name": "stdout",
     "output_type": "stream",
     "text": [
      "El perímetro del cuadrado es: 20\n"
     ]
    }
   ],
   "source": [
    "def perimetro_cuadrado(lado):\n",
    "    return lado * 4\n",
    "perimetro = perimetro_cuadrado(5)\n",
    "print(\"El perímetro del cuadrado es:\", perimetro)"
   ]
  },
  {
   "cell_type": "code",
   "execution_count": 41,
   "id": "55050eeb",
   "metadata": {},
   "outputs": [
    {
     "name": "stdout",
     "output_type": "stream",
     "text": [
      "H\n",
      "Ho\n",
      "Hol\n",
      "Hola\n"
     ]
    }
   ],
   "source": [
    "def mensaje(men):\n",
    "   y = \"\"\n",
    "   for x in men:\n",
    "       y = y + x\n",
    "       print(y)\n",
    "\n",
    "mensaje(\"Hola\")"
   ]
  },
  {
   "cell_type": "code",
   "execution_count": 50,
   "id": "19d1ac95",
   "metadata": {},
   "outputs": [
    {
     "name": "stdout",
     "output_type": "stream",
     "text": [
      "2025-09-14 20:34:55.682944\n"
     ]
    }
   ],
   "source": [
    "import datetime as dt\n",
    "print(dt.datetime.now())  "
   ]
  }
 ],
 "metadata": {
  "kernelspec": {
   "display_name": "Python 3",
   "language": "python",
   "name": "python3"
  },
  "language_info": {
   "codemirror_mode": {
    "name": "ipython",
    "version": 3
   },
   "file_extension": ".py",
   "mimetype": "text/x-python",
   "name": "python",
   "nbconvert_exporter": "python",
   "pygments_lexer": "ipython3",
   "version": "3.13.7"
  }
 },
 "nbformat": 4,
 "nbformat_minor": 5
}
