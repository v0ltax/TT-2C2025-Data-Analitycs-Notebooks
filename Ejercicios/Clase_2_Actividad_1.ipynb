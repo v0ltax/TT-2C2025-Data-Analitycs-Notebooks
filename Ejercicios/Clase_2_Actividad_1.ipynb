{
  "nbformat": 4,
  "nbformat_minor": 0,
  "metadata": {
    "colab": {
      "provenance": [],
      "include_colab_link": true
    },
    "kernelspec": {
      "name": "python3",
      "display_name": "Python 3"
    },
    "language_info": {
      "name": "python"
    }
  },
  "cells": [
    {
      "cell_type": "markdown",
      "metadata": {
        "id": "view-in-github",
        "colab_type": "text"
      },
      "source": [
        "<a href=\"https://colab.research.google.com/github/v0ltax/TT-2C2025-Data-Analitycs-Notebooks/blob/main/Ejercicios/Clase_2_Actividad_1.ipynb\" target=\"_parent\"><img src=\"https://colab.research.google.com/assets/colab-badge.svg\" alt=\"Open In Colab\"/></a>"
      ]
    },
    {
      "cell_type": "markdown",
      "source": [
        "# Ejercicio 1. Lambda"
      ],
      "metadata": {
        "id": "KBEiKOiHFtcy"
      }
    },
    {
      "cell_type": "markdown",
      "source": [
        "Declara una función lambda llamada mayor que reciba dos números y devuelva el mayor de los dos.\n",
        "<BR>\n",
        "Prueba con los pares: (7, 3), (10, 15).\n",
        "<BR>\n",
        "Qué sucede si son iguales (20, 20)?"
      ],
      "metadata": {
        "id": "KkZLAEDmF-dY"
      }
    },
    {
      "cell_type": "code",
      "source": [
        "mayor = lambda a, b: a if a>b else (b if a<b else \"son iguales\")\n",
        "print(mayor(7, 3))\n",
        "print(mayor(10, 15))\n",
        "print(mayor(20, 20))"
      ],
      "metadata": {
        "id": "FdRQRANHoQXN",
        "outputId": "2aca590f-d62c-487a-ac01-1998f6fe2f07",
        "colab": {
          "base_uri": "https://localhost:8080/"
        }
      },
      "execution_count": null,
      "outputs": [
        {
          "output_type": "stream",
          "name": "stdout",
          "text": [
            "7\n",
            "15\n",
            "son iguales\n"
          ]
        }
      ]
    },
    {
      "cell_type": "markdown",
      "source": [
        "# Ejercicio 2. Lambda"
      ],
      "metadata": {
        "id": "jOQzCnNmGD4a"
      }
    },
    {
      "cell_type": "markdown",
      "source": [
        "Declara una función lambda llamada cuadrado que reciba un número y devuelva ese número al cuadrado.\n",
        "Prueba tu función con los valores 2, 5 y 10.\n",
        "<BR>\n",
        "*Hint* usar pow de math"
      ],
      "metadata": {
        "id": "CzdL_z0GHeva"
      }
    },
    {
      "cell_type": "code",
      "source": [
        "cuadrado = lambda a: a**2\n",
        "print(cuadrado(2))\n",
        "print(cuadrado(5))\n",
        "print(cuadrado(10))"
      ],
      "metadata": {
        "id": "kuc5kIGtHt2n",
        "colab": {
          "base_uri": "https://localhost:8080/"
        },
        "outputId": "153b8e80-b492-43ba-d532-62fbc08dcbfa"
      },
      "execution_count": null,
      "outputs": [
        {
          "output_type": "stream",
          "name": "stdout",
          "text": [
            "4\n",
            "25\n",
            "100\n"
          ]
        }
      ]
    },
    {
      "cell_type": "code",
      "source": [
        "import math\n",
        "cuadrado = lambda a: math.pow(a, 2)\n",
        "print(cuadrado(2))\n",
        "print(cuadrado(5))\n",
        "print(cuadrado(10))"
      ],
      "metadata": {
        "colab": {
          "base_uri": "https://localhost:8080/"
        },
        "id": "tpC6wbRiaVsX",
        "outputId": "dbd49fe5-24df-4c65-8626-a9a946f82dc5"
      },
      "execution_count": null,
      "outputs": [
        {
          "output_type": "stream",
          "name": "stdout",
          "text": [
            "4.0\n",
            "25.0\n",
            "100.0\n"
          ]
        }
      ]
    },
    {
      "cell_type": "markdown",
      "source": [
        "# Ejercicio 3. List Comprehension"
      ],
      "metadata": {
        "id": "Zl6pnzu_JEjd"
      }
    },
    {
      "cell_type": "markdown",
      "source": [
        "Convertir montos y aplicar IVA\n",
        "<BR>\n",
        "Objetivo: pasar montos en USD a ARS"
      ],
      "metadata": {
        "id": "ToPga-kzKQ0E"
      }
    },
    {
      "cell_type": "code",
      "source": [
        "ventas = [\n",
        "    {\"id\": 1, \"monto_usd\": 10.0},\n",
        "    {\"id\": 2, \"monto_usd\": 25.5},\n",
        "    {\"id\": 3, \"monto_usd\": 13.2},\n",
        "]\n",
        "tipo_cambio = 1350\n",
        "\n",
        "\n",
        "# 👉 Generar lista de montos finales en ARS (redondeados a 2 decimales)\n",
        "montos_finales_ars = [ round(precio_dolar[\"monto_usd\"]*tipo_cambio,2) for precio_dolar in ventas ]\n",
        "print(montos_finales_ars)  # Ej: [?, ?, ?]"
      ],
      "metadata": {
        "id": "KRigrrXrKXXJ",
        "outputId": "f3decb9c-5f9b-401d-f3a3-1fb59b02b2a8",
        "colab": {
          "base_uri": "https://localhost:8080/"
        }
      },
      "execution_count": null,
      "outputs": [
        {
          "output_type": "stream",
          "name": "stdout",
          "text": [
            "[13500.0, 34425.0, 17820.0]\n"
          ]
        }
      ]
    },
    {
      "cell_type": "markdown",
      "source": [
        "Ejercicio 4. List Comprehension"
      ],
      "metadata": {
        "id": "d6YKawUYJsBU"
      }
    },
    {
      "cell_type": "markdown",
      "source": [
        "Crear una lista con el IMC de cada paciente (redondeado a 1 decimal)."
      ],
      "metadata": {
        "id": "Zk2FAh0gNEbU"
      }
    },
    {
      "cell_type": "code",
      "source": [
        "pacientes = [\n",
        "    {\"nombre\": \"Ana\", \"peso_kg\": 62, \"altura_m\": 1.65},\n",
        "    {\"nombre\": \"Luis\", \"peso_kg\": 80, \"altura_m\": 1.78},\n",
        "    {\"nombre\": \"Mia\", \"peso_kg\": 54, \"altura_m\": 1.60},\n",
        "]\n",
        "\n",
        "# IMC = peso_kg / (altura_m ** 2)\n",
        "imc = [ round(p[\"peso_kg\"] / (p[\"altura_m\"] ** 2), 1) for p in pacientes ]\n",
        "print(imc)"
      ],
      "metadata": {
        "id": "cSq_E63kNGwh",
        "colab": {
          "base_uri": "https://localhost:8080/"
        },
        "outputId": "9dc5c6a5-b19c-42aa-d7b4-1dc84a7f544f"
      },
      "execution_count": null,
      "outputs": [
        {
          "output_type": "stream",
          "name": "stdout",
          "text": [
            "[22.8, 25.2, 21.1]\n"
          ]
        }
      ]
    },
    {
      "cell_type": "markdown",
      "source": [
        "Ejercicio 5. List Comprehension"
      ],
      "metadata": {
        "id": "kVXLCrb_NRDv"
      }
    },
    {
      "cell_type": "markdown",
      "source": [
        "Con condicional: filtrar y transformar temperaturas\n",
        "<BR>\n",
        "Objetivo: quedarte solo con temperaturas numéricas > 25°C y convertirlas a °F."
      ],
      "metadata": {
        "id": "ZVU-eXyHNT7v"
      }
    },
    {
      "cell_type": "code",
      "source": [
        "temperaturas = [23, 29, None, 31, 18, \"N/A\", 27]\n",
        "\n",
        "#  °F = °C * 9/5 + 32\n",
        "temps_f = [(t*9/5 + 32) for t in temperaturas if isinstance(t,int) and t>25]\n",
        "print(temps_f)  # Ej: [84.2, 87.8, 80.6]"
      ],
      "metadata": {
        "id": "15ioRkjENYAJ",
        "outputId": "6cc650b4-1570-42b0-f834-01d4e0484933",
        "colab": {
          "base_uri": "https://localhost:8080/"
        }
      },
      "execution_count": null,
      "outputs": [
        {
          "output_type": "stream",
          "name": "stdout",
          "text": [
            "[84.2, 87.8, 80.6]\n"
          ]
        }
      ]
    },
    {
      "cell_type": "markdown",
      "source": [
        "# Ejercicio 6\n"
      ],
      "metadata": {
        "id": "RRj0-2IcNdsQ"
      }
    },
    {
      "cell_type": "markdown",
      "source": [
        "Con condicional: limpiar y convertir métricas\n",
        "<BR>\n",
        "Objetivo: de una lista de strings con números y “ruido” (N/A, 0, vacío),\n",
        "obtener solo enteros válidos > 0.\n",
        "<BR>\n",
        "*Hint* round, isinstance, o str.isdigit()"
      ],
      "metadata": {
        "id": "0B3_GK_QNiUZ"
      }
    },
    {
      "cell_type": "code",
      "source": [
        "clicks_str = [\"100\", \"N/A\", \"250\", \"0\", \"\", \"300\", \"—\", \"75\"]\n",
        "\n",
        "clicks_validos = [int(s) for s in clicks_str if s.isdigit() and int(s) > 0]\n",
        "print(clicks_validos)  # Ej: [100, 250, 300, 75]"
      ],
      "metadata": {
        "id": "TeAIg3BHNoyl",
        "colab": {
          "base_uri": "https://localhost:8080/"
        },
        "outputId": "3ae96ccf-39c8-4d5c-d9ce-50a5825ffade"
      },
      "execution_count": 53,
      "outputs": [
        {
          "output_type": "stream",
          "name": "stdout",
          "text": [
            "[100, 250, 300, 75]\n"
          ]
        }
      ]
    }
  ]
}