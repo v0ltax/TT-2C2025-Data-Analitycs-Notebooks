{
  "nbformat": 4,
  "nbformat_minor": 0,
  "metadata": {
    "colab": {
      "provenance": [],
      "toc_visible": true,
      "include_colab_link": true
    },
    "kernelspec": {
      "name": "python3",
      "display_name": "Python 3"
    },
    "language_info": {
      "name": "python"
    }
  },
  "cells": [
    {
      "cell_type": "markdown",
      "metadata": {
        "id": "view-in-github",
        "colab_type": "text"
      },
      "source": [
        "<a href=\"https://colab.research.google.com/github/v0ltax/TT-2C2025-Data-Analitycs-Notebooks/blob/main/Clase_1/Ejercicios/Actividad_1_Lenguaje_Markup.ipynb\" target=\"_parent\"><img src=\"https://colab.research.google.com/assets/colab-badge.svg\" alt=\"Open In Colab\"/></a>"
      ]
    },
    {
      "cell_type": "markdown",
      "source": [
        "# Actividades"
      ],
      "metadata": {
        "id": "gCJoH7KuEUga"
      }
    },
    {
      "cell_type": "markdown",
      "source": [
        "## Actividad 1"
      ],
      "metadata": {
        "id": "NHa-sP3zJ8Db"
      }
    },
    {
      "cell_type": "markdown",
      "source": [
        "  Creá tu propio bloque de texto. Utiliza:\n",
        "  - formatos de texto\n",
        "  - links\n",
        "  - al menos una imagen de tu carpeta Drive"
      ],
      "metadata": {
        "id": "ZlSXlWj4KAZZ"
      }
    },
    {
      "cell_type": "markdown",
      "source": [
        "### ejercicio"
      ],
      "metadata": {
        "id": "aE5b8pbJ3kNo"
      }
    },
    {
      "cell_type": "markdown",
      "source": [
        "> Probando **texto en negrita**, *texto en cursiva*, ***texto en negrita cursiva***"
      ],
      "metadata": {
        "id": "CMkaZoZYzYep"
      }
    },
    {
      "cell_type": "markdown",
      "source": [
        "probando vinculo a [Tutorial Python](http://www.w3schools.com/python/)"
      ],
      "metadata": {
        "id": "ohXf_yKbz3gT"
      }
    },
    {
      "cell_type": "markdown",
      "source": [
        "cargando una imagen de mi drive:\n",
        "<img src=\"https://drive.google.com/uc?id=1PleSjWkUQx4RkJF1ULuGgr1nwUUwSDNJ\">\n"
      ],
      "metadata": {
        "id": "m7NinxOw0M_V"
      }
    },
    {
      "cell_type": "markdown",
      "source": [
        "## Actividad 2"
      ],
      "metadata": {
        "id": "LTFeKV5uKDPK"
      }
    },
    {
      "cell_type": "markdown",
      "source": [
        "Creá un bloque de código con un programa que pida un número por teclado, y responda si es par o impar. Ejecutalo."
      ],
      "metadata": {
        "id": "NfVvRVxMKUu8"
      }
    },
    {
      "cell_type": "markdown",
      "source": [
        "### ejercicio"
      ],
      "metadata": {
        "id": "19CqP4tE6G3E"
      }
    },
    {
      "cell_type": "code",
      "source": [
        "num = int(input(\"ingrese un numero: \"))\n",
        "if num % 2 == 0:\n",
        "  print(\"el numero es par\")\n",
        "else:\n",
        "  print(\"el numero es impar\")"
      ],
      "metadata": {
        "colab": {
          "base_uri": "https://localhost:8080/"
        },
        "id": "c9y3vaNp32B8",
        "outputId": "384821f0-ce05-4b0a-d2c0-b9dd7ffe7d9d"
      },
      "execution_count": null,
      "outputs": [
        {
          "output_type": "stream",
          "name": "stdout",
          "text": [
            "ingrese un numero: 23\n",
            "el numero es impar\n"
          ]
        }
      ]
    }
  ]
}
