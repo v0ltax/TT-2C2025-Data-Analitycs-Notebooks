{
 "cells": [
  {
   "cell_type": "markdown",
   "metadata": {
    "id": "coxpELWGHydE"
   },
   "source": [
    "# Tecnicas para limpieza de datos"
   ]
  },
  {
   "cell_type": "markdown",
   "metadata": {
    "id": "C2-trU9kH3CD"
   },
   "source": [
    "1. Eliminar duplicados\n",
    "`drop_duplicates()`\n",
    "2. Eliminar caracteres no deseados\n",
    "`str.replace()`\n",
    "3. Corrección del tipo de dato\n",
    "df[ “campo” ].astype(float) [texto del enlace](https://)\n",
    "4. Manejo de datos faltantes\n",
    "`dropna()`\n",
    "`fillna()`\n",
    "5. Normalización de datos\n",
    "`.str.strip().lower()`\n",
    "6. Filtrado de datos\n",
    "`df [ df[“campo”] + condición ]`\n"
   ]
  },
  {
   "cell_type": "markdown",
   "metadata": {
    "id": "YMopub5oINB3"
   },
   "source": [
    "## Importamos algunos datasets para explorar"
   ]
  },
  {
   "cell_type": "code",
   "execution_count": 1,
   "metadata": {
    "id": "RfKtSouMJgGm"
   },
   "outputs": [],
   "source": [
    "# Importar la librería Pandas\n",
    "import pandas as pd"
   ]
  },
  {
   "cell_type": "code",
   "execution_count": null,
   "metadata": {
    "id": "7crL5focIWRd"
   },
   "outputs": [],
   "source": [
    "# Montar la unidad\n",
    "from google.colab import drive\n",
    "drive.mount('/content/drive')"
   ]
  },
  {
   "cell_type": "code",
   "execution_count": null,
   "metadata": {
    "id": "dexkg6aTJysV"
   },
   "outputs": [],
   "source": [
    "# Verificar que los archivos csv se encuentren en la carpeta datasets\n",
    "import os\n",
    "os.listdir(\"/content/drive/MyDrive/datasets\")"
   ]
  },
  {
   "cell_type": "code",
   "execution_count": 5,
   "metadata": {
    "id": "yZDvce32KpJo"
   },
   "outputs": [
    {
     "name": "stdout",
     "output_type": "stream",
     "text": [
      "<class 'pandas.core.frame.DataFrame'>\n",
      "RangeIndex: 1128 entries, 0 to 1127\n",
      "Data columns (total 5 columns):\n",
      " #   Column        Non-Null Count  Dtype  \n",
      "---  ------        --------------  -----  \n",
      " 0   id            1128 non-null   int64  \n",
      " 1   Empresa       1128 non-null   object \n",
      " 2   Fecha         1128 non-null   object \n",
      " 3   Calificación  904 non-null    float64\n",
      " 4   Comentarios   818 non-null    object \n",
      "dtypes: float64(1), int64(1), object(3)\n",
      "memory usage: 44.2+ KB\n"
     ]
    }
   ],
   "source": [
    "# Importamos el Dataset satis (customer satisfaction)\n",
    "df_satis = pd.read_csv(\"https://raw.githubusercontent.com/v0ltax/TT-2C2025-Data-Analitycs-Notebooks/refs/heads/main/Clase_4/Datasets/satis_clientes.csv\")\n",
    "df_satis.info()"
   ]
  },
  {
   "cell_type": "code",
   "execution_count": 28,
   "metadata": {},
   "outputs": [
    {
     "name": "stdout",
     "output_type": "stream",
     "text": [
      "Path to dataset files: C:\\Users\\sebas\\.cache\\kagglehub\\datasets\\shivamb\\netflix-shows\\versions\\5\n"
     ]
    }
   ],
   "source": [
    "import kagglehub\n",
    "\n",
    "# Download latest version\n",
    "path = kagglehub.dataset_download(\"shivamb/netflix-shows\")\n",
    "\n",
    "print(\"Path to dataset files:\", path)"
   ]
  },
  {
   "cell_type": "code",
   "execution_count": null,
   "metadata": {
    "id": "Ly3Tn2CyGl8S"
   },
   "outputs": [
    {
     "name": "stdout",
     "output_type": "stream",
     "text": [
      "<class 'pandas.core.frame.DataFrame'>\n",
      "RangeIndex: 8807 entries, 0 to 8806\n",
      "Data columns (total 12 columns):\n",
      " #   Column        Non-Null Count  Dtype \n",
      "---  ------        --------------  ----- \n",
      " 0   show_id       8807 non-null   object\n",
      " 1   type          8807 non-null   object\n",
      " 2   title         8807 non-null   object\n",
      " 3   director      6173 non-null   object\n",
      " 4   cast          7982 non-null   object\n",
      " 5   country       7976 non-null   object\n",
      " 6   date_added    8797 non-null   object\n",
      " 7   release_year  8807 non-null   int64 \n",
      " 8   rating        8803 non-null   object\n",
      " 9   duration      8804 non-null   object\n",
      " 10  listed_in     8807 non-null   object\n",
      " 11  description   8807 non-null   object\n",
      "dtypes: int64(1), object(11)\n",
      "memory usage: 825.8+ KB\n"
     ]
    }
   ],
   "source": [
    "# Importamos el Dataset Netflix\n",
    "df_netflix = pd.read_csv(f\"{path}/netflix_titles.csv\")\n",
    "df_netflix.info()"
   ]
  },
  {
   "cell_type": "code",
   "execution_count": 11,
   "metadata": {
    "id": "BGW2keyALM-p"
   },
   "outputs": [
    {
     "name": "stdout",
     "output_type": "stream",
     "text": [
      "<class 'pandas.core.frame.DataFrame'>\n",
      "RangeIndex: 3018 entries, 0 to 3017\n",
      "Data columns (total 11 columns):\n",
      " #   Column  Non-Null Count  Dtype  \n",
      "---  ------  --------------  -----  \n",
      " 0   nombre  3018 non-null   object \n",
      " 1   d1      2832 non-null   float64\n",
      " 2   d2      2871 non-null   float64\n",
      " 3   d3      2822 non-null   float64\n",
      " 4   d4      2839 non-null   float64\n",
      " 5   d5      2855 non-null   float64\n",
      " 6   d6      2820 non-null   float64\n",
      " 7   d7      2864 non-null   float64\n",
      " 8   d8      2834 non-null   float64\n",
      " 9   d9      2816 non-null   float64\n",
      " 10  d10     2845 non-null   float64\n",
      "dtypes: float64(10), object(1)\n",
      "memory usage: 259.5+ KB\n"
     ]
    }
   ],
   "source": [
    "# Importamos el Dataset de pacientes con sus mediciones de temperatura\n",
    "df_pacientes = pd.read_csv('https://docs.google.com/spreadsheets/d/1-rUn4TUwpGrLE1DH8moeiR5eSyeF-jOOTpfhRgZxVIQ/gviz/tq?tqx=out:csv&sheet=')\n",
    "df_pacientes.info()\n"
   ]
  },
  {
   "cell_type": "markdown",
   "metadata": {
    "id": "wA26PM5dOH3q"
   },
   "source": [
    "## Identificación de datos duplicados\n",
    "\n",
    "[duplicated()](https://pandas.pydata.org/docs/reference/api/pandas.DataFrame.duplicated.html)"
   ]
  },
  {
   "cell_type": "markdown",
   "metadata": {
    "id": "03DYUagAh88_"
   },
   "source": [
    "### Dataframe satis"
   ]
  },
  {
   "cell_type": "code",
   "execution_count": 6,
   "metadata": {
    "id": "L0c7cEg7ZjhP"
   },
   "outputs": [
    {
     "name": "stdout",
     "output_type": "stream",
     "text": [
      "<class 'pandas.core.frame.DataFrame'>\n",
      "RangeIndex: 1128 entries, 0 to 1127\n",
      "Data columns (total 5 columns):\n",
      " #   Column        Non-Null Count  Dtype  \n",
      "---  ------        --------------  -----  \n",
      " 0   id            1128 non-null   int64  \n",
      " 1   Empresa       1128 non-null   object \n",
      " 2   Fecha         1128 non-null   object \n",
      " 3   Calificación  904 non-null    float64\n",
      " 4   Comentarios   818 non-null    object \n",
      "dtypes: float64(1), int64(1), object(3)\n",
      "memory usage: 44.2+ KB\n"
     ]
    }
   ],
   "source": [
    "df_satis.info()"
   ]
  },
  {
   "cell_type": "code",
   "execution_count": 7,
   "metadata": {
    "id": "yc_Nk9vUhhkM"
   },
   "outputs": [
    {
     "data": {
      "text/plain": [
       "np.int64(128)"
      ]
     },
     "execution_count": 7,
     "metadata": {},
     "output_type": "execute_result"
    }
   ],
   "source": [
    "# Veamos si hay duplicados\n",
    "df_satis.duplicated().sum()"
   ]
  },
  {
   "cell_type": "code",
   "execution_count": 8,
   "metadata": {
    "id": "TvNui7WWS12w"
   },
   "outputs": [
    {
     "data": {
      "text/plain": [
       "np.int64(134)"
      ]
     },
     "execution_count": 8,
     "metadata": {},
     "output_type": "execute_result"
    }
   ],
   "source": [
    "# Veamos cuantos registros duplicados hay\n",
    "df_satis.duplicated(subset=[\"Empresa\", \"Calificación\"]).sum()"
   ]
  },
  {
   "cell_type": "code",
   "execution_count": 9,
   "metadata": {
    "id": "kymrG0MHgvRZ"
   },
   "outputs": [
    {
     "data": {
      "text/plain": [
       "Empresa                       Calificación\n",
       "Johnson Inc                   4.0             2\n",
       "Green, Nienow and Emard       2.0             2\n",
       "Cremin-Ruecker                3.0             2\n",
       "Huel Group                    1.0             2\n",
       "Hintz, White and Kuphal       5.0             2\n",
       "                                             ..\n",
       "Zieme, Hintz and Cronin       4.0             1\n",
       "Zieme-Kohler                  4.0             1\n",
       "Bergnaum Inc                  2.0             1\n",
       "Zulauf, Considine and Wisozk  1.0             1\n",
       "Abbott LLC                    4.0             1\n",
       "Name: count, Length: 798, dtype: int64"
      ]
     },
     "execution_count": 9,
     "metadata": {},
     "output_type": "execute_result"
    }
   ],
   "source": [
    "# Contar valores unicos\n",
    "df_satis.value_counts(subset=[\"Empresa\", \"Calificación\"]).sort_values(ascending=False)"
   ]
  },
  {
   "cell_type": "code",
   "execution_count": 21,
   "metadata": {
    "id": "jY9BIRBvdTCz"
   },
   "outputs": [
    {
     "data": {
      "text/html": [
       "<div>\n",
       "<style scoped>\n",
       "    .dataframe tbody tr th:only-of-type {\n",
       "        vertical-align: middle;\n",
       "    }\n",
       "\n",
       "    .dataframe tbody tr th {\n",
       "        vertical-align: top;\n",
       "    }\n",
       "\n",
       "    .dataframe thead th {\n",
       "        text-align: right;\n",
       "    }\n",
       "</style>\n",
       "<table border=\"1\" class=\"dataframe\">\n",
       "  <thead>\n",
       "    <tr style=\"text-align: right;\">\n",
       "      <th></th>\n",
       "      <th>id</th>\n",
       "      <th>Empresa</th>\n",
       "      <th>Fecha</th>\n",
       "      <th>Calificación</th>\n",
       "      <th>Comentarios</th>\n",
       "    </tr>\n",
       "  </thead>\n",
       "  <tbody>\n",
       "    <tr>\n",
       "      <th>1122</th>\n",
       "      <td>995</td>\n",
       "      <td>Altenwerth LLC</td>\n",
       "      <td>13/09/2024</td>\n",
       "      <td>NaN</td>\n",
       "      <td>NaN</td>\n",
       "    </tr>\n",
       "    <tr>\n",
       "      <th>1121</th>\n",
       "      <td>995</td>\n",
       "      <td>Altenwerth LLC</td>\n",
       "      <td>13/09/2024</td>\n",
       "      <td>NaN</td>\n",
       "      <td>NaN</td>\n",
       "    </tr>\n",
       "    <tr>\n",
       "      <th>811</th>\n",
       "      <td>726</td>\n",
       "      <td>Altenwerth, Blanda and Waelchi</td>\n",
       "      <td>28/09/2024</td>\n",
       "      <td>1.0</td>\n",
       "      <td>Proin leo odio, porttitor id, consequat in, co...</td>\n",
       "    </tr>\n",
       "    <tr>\n",
       "      <th>812</th>\n",
       "      <td>726</td>\n",
       "      <td>Altenwerth, Blanda and Waelchi</td>\n",
       "      <td>28/09/2024</td>\n",
       "      <td>1.0</td>\n",
       "      <td>Proin leo odio, porttitor id, consequat in, co...</td>\n",
       "    </tr>\n",
       "    <tr>\n",
       "      <th>186</th>\n",
       "      <td>172</td>\n",
       "      <td>Altenwerth, Reichert and Mills</td>\n",
       "      <td>07/08/2024</td>\n",
       "      <td>3.0</td>\n",
       "      <td>Proin eu mi. Nulla ac enim. In tempor, turpis ...</td>\n",
       "    </tr>\n",
       "    <tr>\n",
       "      <th>...</th>\n",
       "      <td>...</td>\n",
       "      <td>...</td>\n",
       "      <td>...</td>\n",
       "      <td>...</td>\n",
       "      <td>...</td>\n",
       "    </tr>\n",
       "    <tr>\n",
       "      <th>469</th>\n",
       "      <td>423</td>\n",
       "      <td>Zemlak Group</td>\n",
       "      <td>13/12/2024</td>\n",
       "      <td>5.0</td>\n",
       "      <td>Duis consequat dui nec nisi volutpat eleifend....</td>\n",
       "    </tr>\n",
       "    <tr>\n",
       "      <th>974</th>\n",
       "      <td>865</td>\n",
       "      <td>Zemlak Inc</td>\n",
       "      <td>29/03/2024</td>\n",
       "      <td>3.0</td>\n",
       "      <td>Fusce consequat. Nulla nisl. Nunc nisl.\\n\\nDui...</td>\n",
       "    </tr>\n",
       "    <tr>\n",
       "      <th>973</th>\n",
       "      <td>865</td>\n",
       "      <td>Zemlak Inc</td>\n",
       "      <td>29/03/2024</td>\n",
       "      <td>3.0</td>\n",
       "      <td>Fusce consequat. Nulla nisl. Nunc nisl.\\n\\nDui...</td>\n",
       "    </tr>\n",
       "    <tr>\n",
       "      <th>512</th>\n",
       "      <td>459</td>\n",
       "      <td>Zulauf LLC</td>\n",
       "      <td>29/04/2024</td>\n",
       "      <td>5.0</td>\n",
       "      <td>NaN</td>\n",
       "    </tr>\n",
       "    <tr>\n",
       "      <th>511</th>\n",
       "      <td>459</td>\n",
       "      <td>Zulauf LLC</td>\n",
       "      <td>29/04/2024</td>\n",
       "      <td>5.0</td>\n",
       "      <td>NaN</td>\n",
       "    </tr>\n",
       "  </tbody>\n",
       "</table>\n",
       "<p>304 rows × 5 columns</p>\n",
       "</div>"
      ],
      "text/plain": [
       "       id                         Empresa       Fecha  Calificación  \\\n",
       "1122  995                  Altenwerth LLC  13/09/2024           NaN   \n",
       "1121  995                  Altenwerth LLC  13/09/2024           NaN   \n",
       "811   726  Altenwerth, Blanda and Waelchi  28/09/2024           1.0   \n",
       "812   726  Altenwerth, Blanda and Waelchi  28/09/2024           1.0   \n",
       "186   172  Altenwerth, Reichert and Mills  07/08/2024           3.0   \n",
       "...   ...                             ...         ...           ...   \n",
       "469   423                    Zemlak Group  13/12/2024           5.0   \n",
       "974   865                      Zemlak Inc  29/03/2024           3.0   \n",
       "973   865                      Zemlak Inc  29/03/2024           3.0   \n",
       "512   459                      Zulauf LLC  29/04/2024           5.0   \n",
       "511   459                      Zulauf LLC  29/04/2024           5.0   \n",
       "\n",
       "                                            Comentarios  \n",
       "1122                                                NaN  \n",
       "1121                                                NaN  \n",
       "811   Proin leo odio, porttitor id, consequat in, co...  \n",
       "812   Proin leo odio, porttitor id, consequat in, co...  \n",
       "186   Proin eu mi. Nulla ac enim. In tempor, turpis ...  \n",
       "...                                                 ...  \n",
       "469   Duis consequat dui nec nisi volutpat eleifend....  \n",
       "974   Fusce consequat. Nulla nisl. Nunc nisl.\\n\\nDui...  \n",
       "973   Fusce consequat. Nulla nisl. Nunc nisl.\\n\\nDui...  \n",
       "512                                                 NaN  \n",
       "511                                                 NaN  \n",
       "\n",
       "[304 rows x 5 columns]"
      ]
     },
     "execution_count": 21,
     "metadata": {},
     "output_type": "execute_result"
    }
   ],
   "source": [
    "# Visualizar los duplicados con diferentes argumentos\n",
    "df_satis[df_satis.duplicated(subset=['Empresa'], keep=False)].sort_values(by='Empresa')"
   ]
  },
  {
   "cell_type": "code",
   "execution_count": 19,
   "metadata": {
    "id": "F6kQASVog0V0"
   },
   "outputs": [
    {
     "data": {
      "text/html": [
       "<div>\n",
       "<style scoped>\n",
       "    .dataframe tbody tr th:only-of-type {\n",
       "        vertical-align: middle;\n",
       "    }\n",
       "\n",
       "    .dataframe tbody tr th {\n",
       "        vertical-align: top;\n",
       "    }\n",
       "\n",
       "    .dataframe thead th {\n",
       "        text-align: right;\n",
       "    }\n",
       "</style>\n",
       "<table border=\"1\" class=\"dataframe\">\n",
       "  <thead>\n",
       "    <tr style=\"text-align: right;\">\n",
       "      <th></th>\n",
       "      <th>id</th>\n",
       "      <th>Empresa</th>\n",
       "      <th>Fecha</th>\n",
       "      <th>Calificación</th>\n",
       "      <th>Comentarios</th>\n",
       "    </tr>\n",
       "  </thead>\n",
       "  <tbody>\n",
       "    <tr>\n",
       "      <th>4</th>\n",
       "      <td>5</td>\n",
       "      <td>Keebler Inc</td>\n",
       "      <td>12/01/2024</td>\n",
       "      <td>4.0</td>\n",
       "      <td>Integer ac leo. Pellentesque ultrices mattis o...</td>\n",
       "    </tr>\n",
       "    <tr>\n",
       "      <th>636</th>\n",
       "      <td>570</td>\n",
       "      <td>Keebler Inc</td>\n",
       "      <td>28/07/2024</td>\n",
       "      <td>5.0</td>\n",
       "      <td>Vestibulum ac est lacinia nisi venenatis trist...</td>\n",
       "    </tr>\n",
       "  </tbody>\n",
       "</table>\n",
       "</div>"
      ],
      "text/plain": [
       "      id      Empresa       Fecha  Calificación  \\\n",
       "4      5  Keebler Inc  12/01/2024           4.0   \n",
       "636  570  Keebler Inc  28/07/2024           5.0   \n",
       "\n",
       "                                           Comentarios  \n",
       "4    Integer ac leo. Pellentesque ultrices mattis o...  \n",
       "636  Vestibulum ac est lacinia nisi venenatis trist...  "
      ]
     },
     "execution_count": 19,
     "metadata": {},
     "output_type": "execute_result"
    }
   ],
   "source": [
    "# Aplicar filtros\n",
    "df_satis[df_satis['Empresa'] == \"Keebler Inc\"]"
   ]
  },
  {
   "cell_type": "code",
   "execution_count": 22,
   "metadata": {
    "collapsed": true,
    "id": "F1Zh35WLasP_"
   },
   "outputs": [
    {
     "data": {
      "text/html": [
       "<div>\n",
       "<style scoped>\n",
       "    .dataframe tbody tr th:only-of-type {\n",
       "        vertical-align: middle;\n",
       "    }\n",
       "\n",
       "    .dataframe tbody tr th {\n",
       "        vertical-align: top;\n",
       "    }\n",
       "\n",
       "    .dataframe thead th {\n",
       "        text-align: right;\n",
       "    }\n",
       "</style>\n",
       "<table border=\"1\" class=\"dataframe\">\n",
       "  <thead>\n",
       "    <tr style=\"text-align: right;\">\n",
       "      <th></th>\n",
       "      <th>id</th>\n",
       "      <th>Empresa</th>\n",
       "      <th>Fecha</th>\n",
       "      <th>Calificación</th>\n",
       "      <th>Comentarios</th>\n",
       "    </tr>\n",
       "  </thead>\n",
       "  <tbody>\n",
       "    <tr>\n",
       "      <th>9</th>\n",
       "      <td>10</td>\n",
       "      <td>Legros-Olson</td>\n",
       "      <td>12/11/2024</td>\n",
       "      <td>5.0</td>\n",
       "      <td>NaN</td>\n",
       "    </tr>\n",
       "    <tr>\n",
       "      <th>10</th>\n",
       "      <td>10</td>\n",
       "      <td>Legros-Olson</td>\n",
       "      <td>12/11/2024</td>\n",
       "      <td>5.0</td>\n",
       "      <td>NaN</td>\n",
       "    </tr>\n",
       "    <tr>\n",
       "      <th>11</th>\n",
       "      <td>11</td>\n",
       "      <td>Harris-Davis</td>\n",
       "      <td>13/11/2024</td>\n",
       "      <td>1.0</td>\n",
       "      <td>Nullam sit amet turpis elementum ligula vehicu...</td>\n",
       "    </tr>\n",
       "    <tr>\n",
       "      <th>12</th>\n",
       "      <td>11</td>\n",
       "      <td>Harris-Davis</td>\n",
       "      <td>13/11/2024</td>\n",
       "      <td>1.0</td>\n",
       "      <td>Nullam sit amet turpis elementum ligula vehicu...</td>\n",
       "    </tr>\n",
       "    <tr>\n",
       "      <th>17</th>\n",
       "      <td>16</td>\n",
       "      <td>White, Balistreri and Daugherty</td>\n",
       "      <td>29/06/2024</td>\n",
       "      <td>5.0</td>\n",
       "      <td>NaN</td>\n",
       "    </tr>\n",
       "    <tr>\n",
       "      <th>...</th>\n",
       "      <td>...</td>\n",
       "      <td>...</td>\n",
       "      <td>...</td>\n",
       "      <td>...</td>\n",
       "      <td>...</td>\n",
       "    </tr>\n",
       "    <tr>\n",
       "      <th>1109</th>\n",
       "      <td>984</td>\n",
       "      <td>Strosin, Raynor and Oberbrunner</td>\n",
       "      <td>14/02/2024</td>\n",
       "      <td>1.0</td>\n",
       "      <td>Morbi porttitor lorem id ligula. Suspendisse o...</td>\n",
       "    </tr>\n",
       "    <tr>\n",
       "      <th>1117</th>\n",
       "      <td>992</td>\n",
       "      <td>Donnelly-Bashirian</td>\n",
       "      <td>14/03/2024</td>\n",
       "      <td>NaN</td>\n",
       "      <td>Nullam porttitor lacus at turpis. Donec posuer...</td>\n",
       "    </tr>\n",
       "    <tr>\n",
       "      <th>1118</th>\n",
       "      <td>992</td>\n",
       "      <td>Donnelly-Bashirian</td>\n",
       "      <td>14/03/2024</td>\n",
       "      <td>NaN</td>\n",
       "      <td>Nullam porttitor lacus at turpis. Donec posuer...</td>\n",
       "    </tr>\n",
       "    <tr>\n",
       "      <th>1121</th>\n",
       "      <td>995</td>\n",
       "      <td>Altenwerth LLC</td>\n",
       "      <td>13/09/2024</td>\n",
       "      <td>NaN</td>\n",
       "      <td>NaN</td>\n",
       "    </tr>\n",
       "    <tr>\n",
       "      <th>1122</th>\n",
       "      <td>995</td>\n",
       "      <td>Altenwerth LLC</td>\n",
       "      <td>13/09/2024</td>\n",
       "      <td>NaN</td>\n",
       "      <td>NaN</td>\n",
       "    </tr>\n",
       "  </tbody>\n",
       "</table>\n",
       "<p>256 rows × 5 columns</p>\n",
       "</div>"
      ],
      "text/plain": [
       "       id                          Empresa       Fecha  Calificación  \\\n",
       "9      10                     Legros-Olson  12/11/2024           5.0   \n",
       "10     10                     Legros-Olson  12/11/2024           5.0   \n",
       "11     11                     Harris-Davis  13/11/2024           1.0   \n",
       "12     11                     Harris-Davis  13/11/2024           1.0   \n",
       "17     16  White, Balistreri and Daugherty  29/06/2024           5.0   \n",
       "...   ...                              ...         ...           ...   \n",
       "1109  984  Strosin, Raynor and Oberbrunner  14/02/2024           1.0   \n",
       "1117  992               Donnelly-Bashirian  14/03/2024           NaN   \n",
       "1118  992               Donnelly-Bashirian  14/03/2024           NaN   \n",
       "1121  995                   Altenwerth LLC  13/09/2024           NaN   \n",
       "1122  995                   Altenwerth LLC  13/09/2024           NaN   \n",
       "\n",
       "                                            Comentarios  \n",
       "9                                                   NaN  \n",
       "10                                                  NaN  \n",
       "11    Nullam sit amet turpis elementum ligula vehicu...  \n",
       "12    Nullam sit amet turpis elementum ligula vehicu...  \n",
       "17                                                  NaN  \n",
       "...                                                 ...  \n",
       "1109  Morbi porttitor lorem id ligula. Suspendisse o...  \n",
       "1117  Nullam porttitor lacus at turpis. Donec posuer...  \n",
       "1118  Nullam porttitor lacus at turpis. Donec posuer...  \n",
       "1121                                                NaN  \n",
       "1122                                                NaN  \n",
       "\n",
       "[256 rows x 5 columns]"
      ]
     },
     "execution_count": 22,
     "metadata": {},
     "output_type": "execute_result"
    }
   ],
   "source": [
    "df_satis[df_satis.duplicated(subset=[\"Empresa\", \"Fecha\"],keep=False)].sort_values(by='id')"
   ]
  },
  {
   "cell_type": "code",
   "execution_count": null,
   "metadata": {},
   "outputs": [],
   "source": [
    "df_satis"
   ]
  },
  {
   "cell_type": "code",
   "execution_count": 23,
   "metadata": {
    "id": "dw_lDCa6Rmb6"
   },
   "outputs": [
    {
     "data": {
      "text/html": [
       "<div>\n",
       "<style scoped>\n",
       "    .dataframe tbody tr th:only-of-type {\n",
       "        vertical-align: middle;\n",
       "    }\n",
       "\n",
       "    .dataframe tbody tr th {\n",
       "        vertical-align: top;\n",
       "    }\n",
       "\n",
       "    .dataframe thead th {\n",
       "        text-align: right;\n",
       "    }\n",
       "</style>\n",
       "<table border=\"1\" class=\"dataframe\">\n",
       "  <thead>\n",
       "    <tr style=\"text-align: right;\">\n",
       "      <th></th>\n",
       "      <th>id</th>\n",
       "      <th>Empresa</th>\n",
       "      <th>Fecha</th>\n",
       "      <th>Calificación</th>\n",
       "      <th>Comentarios</th>\n",
       "    </tr>\n",
       "  </thead>\n",
       "  <tbody>\n",
       "    <tr>\n",
       "      <th>1122</th>\n",
       "      <td>995</td>\n",
       "      <td>Altenwerth LLC</td>\n",
       "      <td>13/09/2024</td>\n",
       "      <td>NaN</td>\n",
       "      <td>NaN</td>\n",
       "    </tr>\n",
       "    <tr>\n",
       "      <th>1121</th>\n",
       "      <td>995</td>\n",
       "      <td>Altenwerth LLC</td>\n",
       "      <td>13/09/2024</td>\n",
       "      <td>NaN</td>\n",
       "      <td>NaN</td>\n",
       "    </tr>\n",
       "    <tr>\n",
       "      <th>811</th>\n",
       "      <td>726</td>\n",
       "      <td>Altenwerth, Blanda and Waelchi</td>\n",
       "      <td>28/09/2024</td>\n",
       "      <td>1.0</td>\n",
       "      <td>Proin leo odio, porttitor id, consequat in, co...</td>\n",
       "    </tr>\n",
       "    <tr>\n",
       "      <th>812</th>\n",
       "      <td>726</td>\n",
       "      <td>Altenwerth, Blanda and Waelchi</td>\n",
       "      <td>28/09/2024</td>\n",
       "      <td>1.0</td>\n",
       "      <td>Proin leo odio, porttitor id, consequat in, co...</td>\n",
       "    </tr>\n",
       "    <tr>\n",
       "      <th>187</th>\n",
       "      <td>172</td>\n",
       "      <td>Altenwerth, Reichert and Mills</td>\n",
       "      <td>07/08/2024</td>\n",
       "      <td>3.0</td>\n",
       "      <td>Proin eu mi. Nulla ac enim. In tempor, turpis ...</td>\n",
       "    </tr>\n",
       "    <tr>\n",
       "      <th>...</th>\n",
       "      <td>...</td>\n",
       "      <td>...</td>\n",
       "      <td>...</td>\n",
       "      <td>...</td>\n",
       "      <td>...</td>\n",
       "    </tr>\n",
       "    <tr>\n",
       "      <th>469</th>\n",
       "      <td>423</td>\n",
       "      <td>Zemlak Group</td>\n",
       "      <td>13/12/2024</td>\n",
       "      <td>5.0</td>\n",
       "      <td>Duis consequat dui nec nisi volutpat eleifend....</td>\n",
       "    </tr>\n",
       "    <tr>\n",
       "      <th>973</th>\n",
       "      <td>865</td>\n",
       "      <td>Zemlak Inc</td>\n",
       "      <td>29/03/2024</td>\n",
       "      <td>3.0</td>\n",
       "      <td>Fusce consequat. Nulla nisl. Nunc nisl.\\n\\nDui...</td>\n",
       "    </tr>\n",
       "    <tr>\n",
       "      <th>974</th>\n",
       "      <td>865</td>\n",
       "      <td>Zemlak Inc</td>\n",
       "      <td>29/03/2024</td>\n",
       "      <td>3.0</td>\n",
       "      <td>Fusce consequat. Nulla nisl. Nunc nisl.\\n\\nDui...</td>\n",
       "    </tr>\n",
       "    <tr>\n",
       "      <th>512</th>\n",
       "      <td>459</td>\n",
       "      <td>Zulauf LLC</td>\n",
       "      <td>29/04/2024</td>\n",
       "      <td>5.0</td>\n",
       "      <td>NaN</td>\n",
       "    </tr>\n",
       "    <tr>\n",
       "      <th>511</th>\n",
       "      <td>459</td>\n",
       "      <td>Zulauf LLC</td>\n",
       "      <td>29/04/2024</td>\n",
       "      <td>5.0</td>\n",
       "      <td>NaN</td>\n",
       "    </tr>\n",
       "  </tbody>\n",
       "</table>\n",
       "<p>256 rows × 5 columns</p>\n",
       "</div>"
      ],
      "text/plain": [
       "       id                         Empresa       Fecha  Calificación  \\\n",
       "1122  995                  Altenwerth LLC  13/09/2024           NaN   \n",
       "1121  995                  Altenwerth LLC  13/09/2024           NaN   \n",
       "811   726  Altenwerth, Blanda and Waelchi  28/09/2024           1.0   \n",
       "812   726  Altenwerth, Blanda and Waelchi  28/09/2024           1.0   \n",
       "187   172  Altenwerth, Reichert and Mills  07/08/2024           3.0   \n",
       "...   ...                             ...         ...           ...   \n",
       "469   423                    Zemlak Group  13/12/2024           5.0   \n",
       "973   865                      Zemlak Inc  29/03/2024           3.0   \n",
       "974   865                      Zemlak Inc  29/03/2024           3.0   \n",
       "512   459                      Zulauf LLC  29/04/2024           5.0   \n",
       "511   459                      Zulauf LLC  29/04/2024           5.0   \n",
       "\n",
       "                                            Comentarios  \n",
       "1122                                                NaN  \n",
       "1121                                                NaN  \n",
       "811   Proin leo odio, porttitor id, consequat in, co...  \n",
       "812   Proin leo odio, porttitor id, consequat in, co...  \n",
       "187   Proin eu mi. Nulla ac enim. In tempor, turpis ...  \n",
       "...                                                 ...  \n",
       "469   Duis consequat dui nec nisi volutpat eleifend....  \n",
       "973   Fusce consequat. Nulla nisl. Nunc nisl.\\n\\nDui...  \n",
       "974   Fusce consequat. Nulla nisl. Nunc nisl.\\n\\nDui...  \n",
       "512                                                 NaN  \n",
       "511                                                 NaN  \n",
       "\n",
       "[256 rows x 5 columns]"
      ]
     },
     "execution_count": 23,
     "metadata": {},
     "output_type": "execute_result"
    }
   ],
   "source": [
    "df_satis[df_satis.duplicated(subset=df_satis.columns[1:],keep=False)].sort_values(by='Empresa')"
   ]
  },
  {
   "cell_type": "markdown",
   "metadata": {
    "id": "7yZ0UKPiZNWw"
   },
   "source": [
    "### Dataframe Pacientes"
   ]
  },
  {
   "cell_type": "code",
   "execution_count": null,
   "metadata": {
    "id": "sTlHqI0sZUo8"
   },
   "outputs": [],
   "source": [
    "# Veamos cuantos registros duplicados hay\n",
    "df_pacientes.duplicated().sum()"
   ]
  },
  {
   "cell_type": "code",
   "execution_count": null,
   "metadata": {
    "id": "LXak9CVpS1YK"
   },
   "outputs": [],
   "source": [
    "# Si hay, entonces los listamos (keep, first, last, False)\n",
    "df_pacientes[df_pacientes.duplicated(subset=[\"nombre\"], keep=False)].sort_values(by='nombre')"
   ]
  },
  {
   "cell_type": "markdown",
   "metadata": {
    "id": "quNPvQHhcXF6"
   },
   "source": [
    "### Dataframe Netflix"
   ]
  },
  {
   "cell_type": "code",
   "execution_count": null,
   "metadata": {
    "id": "LXuZr1KncYxY"
   },
   "outputs": [],
   "source": [
    "df_netflix.duplicated().sum()"
   ]
  },
  {
   "cell_type": "code",
   "execution_count": null,
   "metadata": {
    "id": "vhKHF-2mcc-c"
   },
   "outputs": [],
   "source": [
    "df_netflix[df_netflix.duplicated()]"
   ]
  },
  {
   "cell_type": "markdown",
   "metadata": {
    "id": "vDYh-QrWcrlx"
   },
   "source": [
    "## Tratamiento de datos duplicados\n",
    "[Pandas drop_duplicates()](https://pandas.pydata.org/docs/reference/api/pandas.DataFrame.drop_duplicates.html)"
   ]
  },
  {
   "cell_type": "markdown",
   "metadata": {
    "id": "1Szdxzs2lo9C"
   },
   "source": [
    "### Dataset Satis"
   ]
  },
  {
   "cell_type": "code",
   "execution_count": null,
   "metadata": {
    "id": "FYxJSeZ9fQkt"
   },
   "outputs": [],
   "source": [
    "df_satis.info()"
   ]
  },
  {
   "cell_type": "code",
   "execution_count": null,
   "metadata": {
    "id": "GvXQPiXSdL1K"
   },
   "outputs": [],
   "source": [
    "df_satis_pp1 = df_satis.drop_duplicates(subset=[\"Empresa\", \"Calificación\"], keep=\"first\")\n",
    "df_satis_pp1.info()"
   ]
  },
  {
   "cell_type": "code",
   "execution_count": null,
   "metadata": {
    "id": "zDFfjl47NOK7"
   },
   "outputs": [],
   "source": [
    "df_netflix.duplicated().sum()"
   ]
  },
  {
   "cell_type": "code",
   "execution_count": null,
   "metadata": {
    "id": "j_GtWCfWo_Jg"
   },
   "outputs": [],
   "source": [
    "df_satis_pp1[df_satis_pp1.duplicated(subset=[\"Empresa\", \"Calificación\"], keep=False)].sort_values(by='Empresa')\n"
   ]
  },
  {
   "cell_type": "markdown",
   "metadata": {
    "id": "UgoJnK5MrB1p"
   },
   "source": [
    "## Exploración de datos nulos"
   ]
  },
  {
   "cell_type": "code",
   "execution_count": null,
   "metadata": {
    "id": "Fd9KBubBrF3l"
   },
   "outputs": [],
   "source": [
    "df_satis.info()"
   ]
  },
  {
   "cell_type": "code",
   "execution_count": null,
   "metadata": {
    "id": "GO9EkysBF9fq"
   },
   "outputs": [],
   "source": []
  },
  {
   "cell_type": "code",
   "execution_count": null,
   "metadata": {
    "id": "GAa6Fu8jrLft"
   },
   "outputs": [],
   "source": [
    "# Ver si hay valores nulos, en general o en columnas especificas\n",
    "#df_satis.isnull().sum()\n",
    "#df_satis[[\"Comentarios\", \"Calificación\"]].isnull().sum()\n",
    "df_satis.isnull().any(axis=1).sum()"
   ]
  },
  {
   "cell_type": "code",
   "execution_count": null,
   "metadata": {
    "id": "lfLrT3UWrctd"
   },
   "outputs": [],
   "source": [
    "# Visualizar los registros con celdas null / NaN\n",
    "df_satis[df_satis.isnull().any(axis=1)][[\"Comentarios\", \"Calificación\"]]"
   ]
  },
  {
   "cell_type": "markdown",
   "metadata": {
    "id": "Zi0n5cJ9twro"
   },
   "source": [
    "## Tratamiento de datos nulos"
   ]
  },
  {
   "cell_type": "markdown",
   "metadata": {
    "id": "HboQX6EjmoXk"
   },
   "source": [
    "### drop"
   ]
  },
  {
   "cell_type": "markdown",
   "metadata": {
    "id": "rqqvPnXqDXSz"
   },
   "source": [
    "`dropna` se usa para eliminar registros que contengan datos nulos\n",
    "<BR>\n",
    "[Pandas dropna](https://pandas.pydata.org/docs/reference/api/pandas.DataFrame.dropna.html)\n",
    "\n",
    "* how: para especificar si (any / all) celdas deben tener NaN\n",
    "* thresh: indicar la cantidad de NaN para ejecutar el drop (no se puede combinar con any)\n",
    "* subset: indicar las columnas a evaluar\n",
    "* inplace: si guarda los cambios en el dataframe o retorna una copia"
   ]
  },
  {
   "cell_type": "markdown",
   "metadata": {
    "id": "cOVL42yRhcd5"
   },
   "source": [
    "Analizar y comparar que sucede cuando aplicamos dropna a todas las columnas o a algunas especificas."
   ]
  },
  {
   "cell_type": "code",
   "execution_count": null,
   "metadata": {
    "id": "gcSHOHrzt11p"
   },
   "outputs": [],
   "source": [
    "# Eliminar un registro si alguna las columnas contienen NaA\n",
    "df_satis_pp2 = df_satis.dropna()\n",
    "df_satis_pp2.info()"
   ]
  },
  {
   "cell_type": "code",
   "execution_count": null,
   "metadata": {
    "id": "Obuej6GHg1xY"
   },
   "outputs": [],
   "source": [
    "# Eliminar un registro si alguna o tdas las columnas contienen NaA\n",
    "df_satis_pp2 = df_satis.dropna(how=\"all\")\n",
    "df_satis_pp2.info()"
   ]
  },
  {
   "cell_type": "code",
   "execution_count": null,
   "metadata": {
    "id": "dZhzbrx62Hse"
   },
   "outputs": [],
   "source": [
    "# Eliminar un registro solo evaluando NaN en las columnas indicadas\n",
    "df_satis_pp2 = df_satis.dropna(subset=[\"Comentarios\", \"Calificación\"])\n",
    "df_satis_pp2.info()"
   ]
  },
  {
   "cell_type": "code",
   "execution_count": null,
   "metadata": {
    "id": "Nd0sdRmjeHa8"
   },
   "outputs": [],
   "source": [
    "# Eliminar una columna si contiene NaN\n",
    "df_satis_pp2 = df_satis.dropna(axis=1) # no accepta subset\n",
    "df_satis_pp2.info()"
   ]
  },
  {
   "cell_type": "markdown",
   "metadata": {
    "id": "Wlrcc3jeDVEh"
   },
   "source": [
    "### fill"
   ]
  },
  {
   "cell_type": "markdown",
   "metadata": {
    "id": "814RqpKuDdYP"
   },
   "source": [
    "`fillna` se utiliza para completar el dato faltante\n",
    "<BR>\n",
    "[Pandas fillna](https://pandas.pydata.org/docs/reference/api/pandas.DataFrame.fillna.html)\n",
    "<BR>\n",
    "* df.fillna(0)  se completa con un valor fijo\n",
    "* df.fillna(method=\"ffill\")  completa con el valor del registro anterior\n",
    "* df.fillna(method=\"bfill\") completa con el valor del registro previo\n",
    "* df[\"col\"].fillna(df[\"col\"].mean()) completa con la media de la columna\n",
    "* df.fillna({\"col1\": 0, \"col2\": \"desconocido\"})"
   ]
  },
  {
   "cell_type": "markdown",
   "metadata": {
    "id": "lkVpokeetAzd"
   },
   "source": [
    "1. completamos con un valor fijo"
   ]
  },
  {
   "cell_type": "code",
   "execution_count": null,
   "metadata": {
    "id": "G-Uk5sk3nf2Z"
   },
   "outputs": [],
   "source": [
    "# usamos el atributo value con un valor fijo en 0\n",
    "df_satis_pp3 = df_satis.fillna(value = 0)\n",
    "df_satis_pp3.info()"
   ]
  },
  {
   "cell_type": "code",
   "execution_count": null,
   "metadata": {
    "id": "J7BqXahzsIXk"
   },
   "outputs": [],
   "source": [
    "# También podríamos usar un diccionario\n",
    "df_satis_pp3 = df_satis.fillna({\"Calificación\": 0, \"Comentarios\": \"Sin dato\"})"
   ]
  },
  {
   "cell_type": "code",
   "execution_count": null,
   "metadata": {
    "id": "5l6K3Ch8p3iz"
   },
   "outputs": [],
   "source": [
    "# listamos los primeros registros\n",
    "df_satis_pp3.head(10)"
   ]
  },
  {
   "cell_type": "code",
   "execution_count": null,
   "metadata": {
    "collapsed": true,
    "id": "kgZc2LqiokLt"
   },
   "outputs": [],
   "source": [
    "# Eventualmente ajustamos el tipo de dato\n",
    "df_satis_pp3 = df_satis_pp3.astype({\"Comentarios\": \"string\"})\n",
    "df_satis_pp3.info()"
   ]
  },
  {
   "cell_type": "code",
   "execution_count": null,
   "metadata": {
    "id": "fg4NNCoCnlMI"
   },
   "outputs": [],
   "source": [
    "# Podemos aplicar filtros\n",
    "df_satis_pp3[df_satis_pp3[\"Comentarios\"]==\"0\"]"
   ]
  },
  {
   "cell_type": "markdown",
   "metadata": {
    "id": "NYIeIyXftF9d"
   },
   "source": [
    "2. Completamos con el valor próximo"
   ]
  },
  {
   "cell_type": "code",
   "execution_count": null,
   "metadata": {
    "id": "gH12WAjWpvRk"
   },
   "outputs": [],
   "source": [
    "df_satis_pp3 = df_satis.fillna(method = \"ffill\")\n",
    "df_satis_pp3.info()"
   ]
  },
  {
   "cell_type": "markdown",
   "metadata": {
    "id": "5BZgmxVmtMH7"
   },
   "source": [
    "3. Completamos con el valor previo"
   ]
  },
  {
   "cell_type": "code",
   "execution_count": null,
   "metadata": {
    "id": "RoNmFPentOep"
   },
   "outputs": [],
   "source": [
    "df_satis_pp3 = df_satis.fillna(method = \"bfill\")\n",
    "df_satis_pp3.info()"
   ]
  },
  {
   "cell_type": "markdown",
   "metadata": {
    "id": "hpYrnpu5tVuX"
   },
   "source": [
    "4. Completamos con la media, meadiana, moda"
   ]
  },
  {
   "cell_type": "code",
   "execution_count": null,
   "metadata": {
    "id": "_m_azcEhtZ4D"
   },
   "outputs": [],
   "source": [
    "df_satis_pp3 = df_satis.fillna(df_satis.mean(numeric_only=True))\n",
    "df_satis_pp3.info()"
   ]
  },
  {
   "cell_type": "code",
   "execution_count": null,
   "metadata": {
    "id": "PWILEjXpInLC"
   },
   "outputs": [],
   "source": [
    "# calcular la media de la columna Calificación\n",
    "media_calif = df_satis[\"Calificación\"].mode()[0] # mean() / median() / mode()[0]\n",
    "\n",
    "# aplicar fillna con diccionario\n",
    "df_satis_pp3 = df_satis.fillna({\n",
    "    \"Calificación\": media_calif,\n",
    "    \"Comentarios\": \"Sin dato\"\n",
    "})"
   ]
  },
  {
   "cell_type": "code",
   "execution_count": null,
   "metadata": {
    "id": "Gsc7wa8Luhuz"
   },
   "outputs": [],
   "source": [
    "df_satis_pp3.head(5)"
   ]
  },
  {
   "cell_type": "markdown",
   "metadata": {
    "id": "irB1hu0SL0zD"
   },
   "source": [
    "Analicemos el dataset pacientes"
   ]
  },
  {
   "cell_type": "code",
   "execution_count": null,
   "metadata": {
    "id": "sfPx4yl3MSz2"
   },
   "outputs": [],
   "source": [
    "df_pacientes.info()"
   ]
  },
  {
   "cell_type": "code",
   "execution_count": null,
   "metadata": {
    "id": "-dpCdJYhMVFD"
   },
   "outputs": [],
   "source": [
    "# Completamos con la media de la columna\n",
    "df_pacientes_pp1 = df_pacientes.fillna(df_pacientes.mean(numeric_only=True))\n",
    "df_pacientes_pp1.info()"
   ]
  },
  {
   "cell_type": "code",
   "execution_count": null,
   "metadata": {
    "id": "EZbSji4PMjRo"
   },
   "outputs": [],
   "source": [
    "# Completamos con la media de la fila usando lambda\n",
    "\n",
    "# seleccionar solo las columnas d1...d10\n",
    "cols = df_pacientes.columns[1:]   # todas excepto 'nombre'\n",
    "\n",
    "# aplicar moda por fila\n",
    "df_pacientes_pp1[cols] = df_pacientes[cols].apply(\n",
    "    lambda row: row.fillna(row.mean()), axis=1\n",
    ")"
   ]
  },
  {
   "cell_type": "code",
   "execution_count": null,
   "metadata": {
    "id": "FRGn91HNPUtT"
   },
   "outputs": [],
   "source": [
    "# Completamos con la media de la fila usando T (traspuesta)\n",
    "df_pacientes_pp1[cols] = df_pacientes[cols].T.fillna(df_pacientes[cols].mean(axis=1)).T"
   ]
  },
  {
   "cell_type": "code",
   "execution_count": null,
   "metadata": {
    "id": "5htetQ0ROA1Y"
   },
   "outputs": [],
   "source": [
    "#df_pacientes.head()\n",
    "df_pacientes_pp1.head()"
   ]
  },
  {
   "cell_type": "markdown",
   "metadata": {
    "id": "INXLSCxaPreV"
   },
   "source": [
    "Veamos el concepto de Traspuesta"
   ]
  },
  {
   "cell_type": "code",
   "execution_count": null,
   "metadata": {
    "id": "ijYKicyTPvoW"
   },
   "outputs": [],
   "source": [
    "df = pd.DataFrame({\n",
    "    \"A\": [1, 2, 3],\n",
    "    \"B\": [4, 5, 6]\n",
    "})\n",
    "print(\"Original:\")\n",
    "print(df)\n",
    "\n",
    "print(\"\\nTranspuesta:\")\n",
    "print(df.T)"
   ]
  },
  {
   "cell_type": "markdown",
   "metadata": {
    "id": "DaGJeJEJNSy5"
   },
   "source": [
    "## Normalización de datos"
   ]
  },
  {
   "cell_type": "markdown",
   "metadata": {
    "id": "zqzMRpOvL24q"
   },
   "source": [
    "## Ajustar tipo de dato"
   ]
  },
  {
   "cell_type": "markdown",
   "metadata": {
    "id": "puSQmvDdP-4l"
   },
   "source": [
    "### astype()"
   ]
  },
  {
   "cell_type": "markdown",
   "metadata": {
    "id": "qgJXk5YWQDPg"
   },
   "source": [
    "* df[\"col\"] = df[\"col\"].astype(int)\n",
    "* df[\"col\"] = df[\"col\"].astype(float)\n",
    "* df[\"col\"] = df[\"col\"].astype(str)"
   ]
  },
  {
   "cell_type": "code",
   "execution_count": null,
   "metadata": {
    "id": "YgYCrtZHQNrD"
   },
   "outputs": [],
   "source": [
    "df_satis_pp4 = df_satis.copy()\n",
    "df_satis_pp4[\"Comentarios\"] = df_satis[\"Comentarios\"].astype(\"string\")"
   ]
  },
  {
   "cell_type": "code",
   "execution_count": null,
   "metadata": {
    "id": "jHcS9qJcQCkw"
   },
   "outputs": [],
   "source": [
    "df_satis_pp4.info()"
   ]
  },
  {
   "cell_type": "markdown",
   "metadata": {
    "id": "KLdTIJTmQ1BJ"
   },
   "source": [
    "### to_numeric()"
   ]
  },
  {
   "cell_type": "code",
   "execution_count": null,
   "metadata": {
    "id": "H3ILDagaQ8rt"
   },
   "outputs": [],
   "source": [
    "pd.to_numeric(df[\"col\"], errors=\"coerce\")"
   ]
  },
  {
   "cell_type": "markdown",
   "metadata": {
    "id": "y536nQ_1GU12"
   },
   "source": [
    "### to_datetime()"
   ]
  },
  {
   "cell_type": "code",
   "execution_count": null,
   "metadata": {
    "id": "zScj_SodHWXm"
   },
   "outputs": [],
   "source": [
    "type(df_satis[\"Fecha\"][0])\n",
    "df_satis[\"Fecha\"][0]"
   ]
  },
  {
   "cell_type": "code",
   "execution_count": null,
   "metadata": {
    "id": "qH0J8NRLGZOK"
   },
   "outputs": [],
   "source": [
    "# pd.to_datetime(df_satis.Fecha)\n",
    "pd.to_datetime(df_satis[\"Fecha\"], format=\"%d/%m/%Y\")\n"
   ]
  },
  {
   "cell_type": "markdown",
   "metadata": {
    "id": "vH7IoUz7Nclh"
   },
   "source": [
    "## Filtrado de datos"
   ]
  },
  {
   "cell_type": "code",
   "execution_count": null,
   "metadata": {
    "id": "G-E9FpFTR07-"
   },
   "outputs": [],
   "source": [
    "df_satis.info()"
   ]
  },
  {
   "cell_type": "code",
   "execution_count": null,
   "metadata": {
    "id": "4_86iYp-R0DR"
   },
   "outputs": [],
   "source": [
    "# Con una sola columna\n",
    "df_satis[\"Empresa\"]"
   ]
  },
  {
   "cell_type": "code",
   "execution_count": null,
   "metadata": {
    "id": "ZyrhE8uHR59U"
   },
   "outputs": [],
   "source": [
    "# Con varias columnas\n",
    "df_satis[[\"Empresa\", \"Fecha\"]]"
   ]
  },
  {
   "cell_type": "code",
   "execution_count": null,
   "metadata": {
    "id": "wL0YWCEhSycC"
   },
   "outputs": [],
   "source": [
    "df_satis[df_satis[\"Empresa\"] == \"Kuhn-Fay\"]"
   ]
  },
  {
   "cell_type": "code",
   "execution_count": null,
   "metadata": {
    "id": "TVVA2KMgSEbN"
   },
   "outputs": [],
   "source": [
    "# Con condición\n",
    "df_satis[[(\"Empresa\") ==\"Alpha\" & (\"Comentarios\" > \"3\")]]"
   ]
  }
 ],
 "metadata": {
  "colab": {
   "authorship_tag": "ABX9TyPPNffOeglLI8vY9psOO6YG",
   "provenance": [
    {
     "file_id": "1yiZU3RVCCIe_JJXyTO8bmlkdakoI3U_b",
     "timestamp": 1758576138671
    }
   ],
   "toc_visible": true
  },
  "kernelspec": {
   "display_name": "Python 3",
   "name": "python3"
  },
  "language_info": {
   "codemirror_mode": {
    "name": "ipython",
    "version": 3
   },
   "file_extension": ".py",
   "mimetype": "text/x-python",
   "name": "python",
   "nbconvert_exporter": "python",
   "pygments_lexer": "ipython3",
   "version": "3.13.7"
  }
 },
 "nbformat": 4,
 "nbformat_minor": 0
}
