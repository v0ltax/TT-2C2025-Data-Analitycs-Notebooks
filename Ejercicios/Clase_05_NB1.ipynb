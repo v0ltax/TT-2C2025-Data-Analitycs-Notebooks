{
 "cells": [
  {
   "cell_type": "markdown",
   "metadata": {
    "id": "coxpELWGHydE"
   },
   "source": [
    "# Tecnicas para limpieza de datos"
   ]
  },
  {
   "cell_type": "markdown",
   "metadata": {
    "id": "C2-trU9kH3CD"
   },
   "source": [
    "1. Eliminar duplicados\n",
    "`drop_duplicates()`\n",
    "2. Eliminar caracteres no deseados\n",
    "`str.replace()`\n",
    "3. Corrección del tipo de dato\n",
    "df[ “campo” ].astype(float) [texto del enlace](https://)\n",
    "4. Manejo de datos faltantes\n",
    "`dropna()`\n",
    "`fillna()`\n",
    "5. Normalización de datos\n",
    "`.str.strip().lower()`\n",
    "6. Filtrado de datos\n",
    "`df [ df[“campo”] + condición ]`\n"
   ]
  },
  {
   "cell_type": "markdown",
   "metadata": {
    "id": "YMopub5oINB3"
   },
   "source": [
    "## Importamos algunos datasets para explorar"
   ]
  },
  {
   "cell_type": "code",
   "execution_count": 1,
   "metadata": {
    "id": "RfKtSouMJgGm"
   },
   "outputs": [],
   "source": [
    "# Importar la librería Pandas\n",
    "import pandas as pd"
   ]
  },
  {
   "cell_type": "code",
   "execution_count": null,
   "metadata": {
    "id": "7crL5focIWRd"
   },
   "outputs": [],
   "source": [
    "# Montar la unidad\n",
    "from google.colab import drive\n",
    "drive.mount('/content/drive')"
   ]
  },
  {
   "cell_type": "code",
   "execution_count": null,
   "metadata": {
    "id": "dexkg6aTJysV"
   },
   "outputs": [],
   "source": [
    "# Verificar que los archivos csv se encuentren en la carpeta datasets\n",
    "import os\n",
    "os.listdir(\"/content/drive/MyDrive/datasets\")"
   ]
  },
  {
   "cell_type": "code",
   "execution_count": 2,
   "metadata": {
    "id": "yZDvce32KpJo"
   },
   "outputs": [
    {
     "name": "stdout",
     "output_type": "stream",
     "text": [
      "<class 'pandas.core.frame.DataFrame'>\n",
      "RangeIndex: 1128 entries, 0 to 1127\n",
      "Data columns (total 5 columns):\n",
      " #   Column        Non-Null Count  Dtype  \n",
      "---  ------        --------------  -----  \n",
      " 0   id            1128 non-null   int64  \n",
      " 1   Empresa       1128 non-null   object \n",
      " 2   Fecha         1128 non-null   object \n",
      " 3   Calificación  904 non-null    float64\n",
      " 4   Comentarios   818 non-null    object \n",
      "dtypes: float64(1), int64(1), object(3)\n",
      "memory usage: 44.2+ KB\n"
     ]
    }
   ],
   "source": [
    "# Importamos el Dataset satis (customer satisfaction)\n",
    "df_satis = pd.read_csv(\"https://raw.githubusercontent.com/v0ltax/TT-2C2025-Data-Analitycs-Notebooks/refs/heads/main/Clase_4/Datasets/satis_clientes.csv\")\n",
    "df_satis.info()"
   ]
  },
  {
   "cell_type": "code",
   "execution_count": 3,
   "metadata": {},
   "outputs": [
    {
     "name": "stderr",
     "output_type": "stream",
     "text": [
      "C:\\Users\\sebas\\AppData\\Roaming\\Python\\Python313\\site-packages\\tqdm\\auto.py:21: TqdmWarning: IProgress not found. Please update jupyter and ipywidgets. See https://ipywidgets.readthedocs.io/en/stable/user_install.html\n",
      "  from .autonotebook import tqdm as notebook_tqdm\n"
     ]
    },
    {
     "name": "stdout",
     "output_type": "stream",
     "text": [
      "Path to dataset files: C:\\Users\\sebas\\.cache\\kagglehub\\datasets\\shivamb\\netflix-shows\\versions\\5\n"
     ]
    }
   ],
   "source": [
    "import kagglehub\n",
    "\n",
    "# Download latest version\n",
    "path = kagglehub.dataset_download(\"shivamb/netflix-shows\")\n",
    "\n",
    "print(\"Path to dataset files:\", path)"
   ]
  },
  {
   "cell_type": "code",
   "execution_count": 4,
   "metadata": {
    "id": "Ly3Tn2CyGl8S"
   },
   "outputs": [
    {
     "name": "stdout",
     "output_type": "stream",
     "text": [
      "<class 'pandas.core.frame.DataFrame'>\n",
      "RangeIndex: 8807 entries, 0 to 8806\n",
      "Data columns (total 12 columns):\n",
      " #   Column        Non-Null Count  Dtype \n",
      "---  ------        --------------  ----- \n",
      " 0   show_id       8807 non-null   object\n",
      " 1   type          8807 non-null   object\n",
      " 2   title         8807 non-null   object\n",
      " 3   director      6173 non-null   object\n",
      " 4   cast          7982 non-null   object\n",
      " 5   country       7976 non-null   object\n",
      " 6   date_added    8797 non-null   object\n",
      " 7   release_year  8807 non-null   int64 \n",
      " 8   rating        8803 non-null   object\n",
      " 9   duration      8804 non-null   object\n",
      " 10  listed_in     8807 non-null   object\n",
      " 11  description   8807 non-null   object\n",
      "dtypes: int64(1), object(11)\n",
      "memory usage: 825.8+ KB\n"
     ]
    }
   ],
   "source": [
    "# Importamos el Dataset Netflix\n",
    "df_netflix = pd.read_csv(f\"{path}/netflix_titles.csv\")\n",
    "df_netflix.info()"
   ]
  },
  {
   "cell_type": "code",
   "execution_count": 17,
   "metadata": {
    "id": "BGW2keyALM-p"
   },
   "outputs": [
    {
     "name": "stdout",
     "output_type": "stream",
     "text": [
      "<class 'pandas.core.frame.DataFrame'>\n",
      "RangeIndex: 3018 entries, 0 to 3017\n",
      "Data columns (total 11 columns):\n",
      " #   Column  Non-Null Count  Dtype  \n",
      "---  ------  --------------  -----  \n",
      " 0   nombre  3018 non-null   object \n",
      " 1   d1      2832 non-null   float64\n",
      " 2   d2      2871 non-null   float64\n",
      " 3   d3      2822 non-null   float64\n",
      " 4   d4      2839 non-null   float64\n",
      " 5   d5      2855 non-null   float64\n",
      " 6   d6      2820 non-null   float64\n",
      " 7   d7      2864 non-null   float64\n",
      " 8   d8      2834 non-null   float64\n",
      " 9   d9      2816 non-null   float64\n",
      " 10  d10     2845 non-null   float64\n",
      "dtypes: float64(10), object(1)\n",
      "memory usage: 259.5+ KB\n"
     ]
    }
   ],
   "source": [
    "# Importamos el Dataset de pacientes con sus mediciones de temperatura\n",
    "df_pacientes = pd.read_csv('https://docs.google.com/spreadsheets/d/1-rUn4TUwpGrLE1DH8moeiR5eSyeF-jOOTpfhRgZxVIQ/gviz/tq?tqx=out:csv&sheet=')\n",
    "df_pacientes.info()\n"
   ]
  },
  {
   "cell_type": "markdown",
   "metadata": {
    "id": "wA26PM5dOH3q"
   },
   "source": [
    "## Identificación de datos duplicados\n",
    "\n",
    "[duplicated()](https://pandas.pydata.org/docs/reference/api/pandas.DataFrame.duplicated.html)"
   ]
  },
  {
   "cell_type": "markdown",
   "metadata": {
    "id": "03DYUagAh88_"
   },
   "source": [
    "### Dataframe satis"
   ]
  },
  {
   "cell_type": "code",
   "execution_count": 6,
   "metadata": {
    "id": "L0c7cEg7ZjhP"
   },
   "outputs": [
    {
     "name": "stdout",
     "output_type": "stream",
     "text": [
      "<class 'pandas.core.frame.DataFrame'>\n",
      "RangeIndex: 1128 entries, 0 to 1127\n",
      "Data columns (total 5 columns):\n",
      " #   Column        Non-Null Count  Dtype  \n",
      "---  ------        --------------  -----  \n",
      " 0   id            1128 non-null   int64  \n",
      " 1   Empresa       1128 non-null   object \n",
      " 2   Fecha         1128 non-null   object \n",
      " 3   Calificación  904 non-null    float64\n",
      " 4   Comentarios   818 non-null    object \n",
      "dtypes: float64(1), int64(1), object(3)\n",
      "memory usage: 44.2+ KB\n"
     ]
    }
   ],
   "source": [
    "df_satis.info()"
   ]
  },
  {
   "cell_type": "code",
   "execution_count": 7,
   "metadata": {
    "id": "yc_Nk9vUhhkM"
   },
   "outputs": [
    {
     "data": {
      "text/plain": [
       "np.int64(128)"
      ]
     },
     "execution_count": 7,
     "metadata": {},
     "output_type": "execute_result"
    }
   ],
   "source": [
    "# Veamos si hay duplicados\n",
    "df_satis.duplicated().sum()"
   ]
  },
  {
   "cell_type": "code",
   "execution_count": 8,
   "metadata": {
    "id": "TvNui7WWS12w"
   },
   "outputs": [
    {
     "data": {
      "text/plain": [
       "np.int64(134)"
      ]
     },
     "execution_count": 8,
     "metadata": {},
     "output_type": "execute_result"
    }
   ],
   "source": [
    "# Veamos cuantos registros duplicados hay\n",
    "df_satis.duplicated(subset=[\"Empresa\", \"Calificación\"]).sum()"
   ]
  },
  {
   "cell_type": "code",
   "execution_count": 9,
   "metadata": {
    "id": "kymrG0MHgvRZ"
   },
   "outputs": [
    {
     "data": {
      "text/plain": [
       "Empresa                       Calificación\n",
       "Johnson Inc                   4.0             2\n",
       "Green, Nienow and Emard       2.0             2\n",
       "Cremin-Ruecker                3.0             2\n",
       "Huel Group                    1.0             2\n",
       "Hintz, White and Kuphal       5.0             2\n",
       "                                             ..\n",
       "Zieme, Hintz and Cronin       4.0             1\n",
       "Zieme-Kohler                  4.0             1\n",
       "Bergnaum Inc                  2.0             1\n",
       "Zulauf, Considine and Wisozk  1.0             1\n",
       "Abbott LLC                    4.0             1\n",
       "Name: count, Length: 798, dtype: int64"
      ]
     },
     "execution_count": 9,
     "metadata": {},
     "output_type": "execute_result"
    }
   ],
   "source": [
    "# Contar valores unicos\n",
    "df_satis.value_counts(subset=[\"Empresa\", \"Calificación\"]).sort_values(ascending=False)"
   ]
  },
  {
   "cell_type": "code",
   "execution_count": 10,
   "metadata": {
    "id": "jY9BIRBvdTCz"
   },
   "outputs": [
    {
     "data": {
      "text/html": [
       "<div>\n",
       "<style scoped>\n",
       "    .dataframe tbody tr th:only-of-type {\n",
       "        vertical-align: middle;\n",
       "    }\n",
       "\n",
       "    .dataframe tbody tr th {\n",
       "        vertical-align: top;\n",
       "    }\n",
       "\n",
       "    .dataframe thead th {\n",
       "        text-align: right;\n",
       "    }\n",
       "</style>\n",
       "<table border=\"1\" class=\"dataframe\">\n",
       "  <thead>\n",
       "    <tr style=\"text-align: right;\">\n",
       "      <th></th>\n",
       "      <th>id</th>\n",
       "      <th>Empresa</th>\n",
       "      <th>Fecha</th>\n",
       "      <th>Calificación</th>\n",
       "      <th>Comentarios</th>\n",
       "    </tr>\n",
       "  </thead>\n",
       "  <tbody>\n",
       "    <tr>\n",
       "      <th>1122</th>\n",
       "      <td>995</td>\n",
       "      <td>Altenwerth LLC</td>\n",
       "      <td>13/09/2024</td>\n",
       "      <td>NaN</td>\n",
       "      <td>NaN</td>\n",
       "    </tr>\n",
       "    <tr>\n",
       "      <th>1121</th>\n",
       "      <td>995</td>\n",
       "      <td>Altenwerth LLC</td>\n",
       "      <td>13/09/2024</td>\n",
       "      <td>NaN</td>\n",
       "      <td>NaN</td>\n",
       "    </tr>\n",
       "    <tr>\n",
       "      <th>811</th>\n",
       "      <td>726</td>\n",
       "      <td>Altenwerth, Blanda and Waelchi</td>\n",
       "      <td>28/09/2024</td>\n",
       "      <td>1.0</td>\n",
       "      <td>Proin leo odio, porttitor id, consequat in, co...</td>\n",
       "    </tr>\n",
       "    <tr>\n",
       "      <th>812</th>\n",
       "      <td>726</td>\n",
       "      <td>Altenwerth, Blanda and Waelchi</td>\n",
       "      <td>28/09/2024</td>\n",
       "      <td>1.0</td>\n",
       "      <td>Proin leo odio, porttitor id, consequat in, co...</td>\n",
       "    </tr>\n",
       "    <tr>\n",
       "      <th>186</th>\n",
       "      <td>172</td>\n",
       "      <td>Altenwerth, Reichert and Mills</td>\n",
       "      <td>07/08/2024</td>\n",
       "      <td>3.0</td>\n",
       "      <td>Proin eu mi. Nulla ac enim. In tempor, turpis ...</td>\n",
       "    </tr>\n",
       "    <tr>\n",
       "      <th>...</th>\n",
       "      <td>...</td>\n",
       "      <td>...</td>\n",
       "      <td>...</td>\n",
       "      <td>...</td>\n",
       "      <td>...</td>\n",
       "    </tr>\n",
       "    <tr>\n",
       "      <th>469</th>\n",
       "      <td>423</td>\n",
       "      <td>Zemlak Group</td>\n",
       "      <td>13/12/2024</td>\n",
       "      <td>5.0</td>\n",
       "      <td>Duis consequat dui nec nisi volutpat eleifend....</td>\n",
       "    </tr>\n",
       "    <tr>\n",
       "      <th>974</th>\n",
       "      <td>865</td>\n",
       "      <td>Zemlak Inc</td>\n",
       "      <td>29/03/2024</td>\n",
       "      <td>3.0</td>\n",
       "      <td>Fusce consequat. Nulla nisl. Nunc nisl.\\n\\nDui...</td>\n",
       "    </tr>\n",
       "    <tr>\n",
       "      <th>973</th>\n",
       "      <td>865</td>\n",
       "      <td>Zemlak Inc</td>\n",
       "      <td>29/03/2024</td>\n",
       "      <td>3.0</td>\n",
       "      <td>Fusce consequat. Nulla nisl. Nunc nisl.\\n\\nDui...</td>\n",
       "    </tr>\n",
       "    <tr>\n",
       "      <th>512</th>\n",
       "      <td>459</td>\n",
       "      <td>Zulauf LLC</td>\n",
       "      <td>29/04/2024</td>\n",
       "      <td>5.0</td>\n",
       "      <td>NaN</td>\n",
       "    </tr>\n",
       "    <tr>\n",
       "      <th>511</th>\n",
       "      <td>459</td>\n",
       "      <td>Zulauf LLC</td>\n",
       "      <td>29/04/2024</td>\n",
       "      <td>5.0</td>\n",
       "      <td>NaN</td>\n",
       "    </tr>\n",
       "  </tbody>\n",
       "</table>\n",
       "<p>304 rows × 5 columns</p>\n",
       "</div>"
      ],
      "text/plain": [
       "       id                         Empresa       Fecha  Calificación  \\\n",
       "1122  995                  Altenwerth LLC  13/09/2024           NaN   \n",
       "1121  995                  Altenwerth LLC  13/09/2024           NaN   \n",
       "811   726  Altenwerth, Blanda and Waelchi  28/09/2024           1.0   \n",
       "812   726  Altenwerth, Blanda and Waelchi  28/09/2024           1.0   \n",
       "186   172  Altenwerth, Reichert and Mills  07/08/2024           3.0   \n",
       "...   ...                             ...         ...           ...   \n",
       "469   423                    Zemlak Group  13/12/2024           5.0   \n",
       "974   865                      Zemlak Inc  29/03/2024           3.0   \n",
       "973   865                      Zemlak Inc  29/03/2024           3.0   \n",
       "512   459                      Zulauf LLC  29/04/2024           5.0   \n",
       "511   459                      Zulauf LLC  29/04/2024           5.0   \n",
       "\n",
       "                                            Comentarios  \n",
       "1122                                                NaN  \n",
       "1121                                                NaN  \n",
       "811   Proin leo odio, porttitor id, consequat in, co...  \n",
       "812   Proin leo odio, porttitor id, consequat in, co...  \n",
       "186   Proin eu mi. Nulla ac enim. In tempor, turpis ...  \n",
       "...                                                 ...  \n",
       "469   Duis consequat dui nec nisi volutpat eleifend....  \n",
       "974   Fusce consequat. Nulla nisl. Nunc nisl.\\n\\nDui...  \n",
       "973   Fusce consequat. Nulla nisl. Nunc nisl.\\n\\nDui...  \n",
       "512                                                 NaN  \n",
       "511                                                 NaN  \n",
       "\n",
       "[304 rows x 5 columns]"
      ]
     },
     "execution_count": 10,
     "metadata": {},
     "output_type": "execute_result"
    }
   ],
   "source": [
    "# Visualizar los duplicados con diferentes argumentos\n",
    "df_satis[df_satis.duplicated(subset=['Empresa'], keep=False)].sort_values(by='Empresa')"
   ]
  },
  {
   "cell_type": "code",
   "execution_count": 19,
   "metadata": {
    "id": "F6kQASVog0V0"
   },
   "outputs": [
    {
     "data": {
      "text/html": [
       "<div>\n",
       "<style scoped>\n",
       "    .dataframe tbody tr th:only-of-type {\n",
       "        vertical-align: middle;\n",
       "    }\n",
       "\n",
       "    .dataframe tbody tr th {\n",
       "        vertical-align: top;\n",
       "    }\n",
       "\n",
       "    .dataframe thead th {\n",
       "        text-align: right;\n",
       "    }\n",
       "</style>\n",
       "<table border=\"1\" class=\"dataframe\">\n",
       "  <thead>\n",
       "    <tr style=\"text-align: right;\">\n",
       "      <th></th>\n",
       "      <th>id</th>\n",
       "      <th>Empresa</th>\n",
       "      <th>Fecha</th>\n",
       "      <th>Calificación</th>\n",
       "      <th>Comentarios</th>\n",
       "    </tr>\n",
       "  </thead>\n",
       "  <tbody>\n",
       "    <tr>\n",
       "      <th>4</th>\n",
       "      <td>5</td>\n",
       "      <td>Keebler Inc</td>\n",
       "      <td>12/01/2024</td>\n",
       "      <td>4.0</td>\n",
       "      <td>Integer ac leo. Pellentesque ultrices mattis o...</td>\n",
       "    </tr>\n",
       "    <tr>\n",
       "      <th>636</th>\n",
       "      <td>570</td>\n",
       "      <td>Keebler Inc</td>\n",
       "      <td>28/07/2024</td>\n",
       "      <td>5.0</td>\n",
       "      <td>Vestibulum ac est lacinia nisi venenatis trist...</td>\n",
       "    </tr>\n",
       "  </tbody>\n",
       "</table>\n",
       "</div>"
      ],
      "text/plain": [
       "      id      Empresa       Fecha  Calificación  \\\n",
       "4      5  Keebler Inc  12/01/2024           4.0   \n",
       "636  570  Keebler Inc  28/07/2024           5.0   \n",
       "\n",
       "                                           Comentarios  \n",
       "4    Integer ac leo. Pellentesque ultrices mattis o...  \n",
       "636  Vestibulum ac est lacinia nisi venenatis trist...  "
      ]
     },
     "execution_count": 19,
     "metadata": {},
     "output_type": "execute_result"
    }
   ],
   "source": [
    "# Aplicar filtros\n",
    "df_satis[df_satis['Empresa'] == \"Keebler Inc\"]"
   ]
  },
  {
   "cell_type": "code",
   "execution_count": 11,
   "metadata": {
    "collapsed": true,
    "id": "F1Zh35WLasP_"
   },
   "outputs": [
    {
     "data": {
      "text/html": [
       "<div>\n",
       "<style scoped>\n",
       "    .dataframe tbody tr th:only-of-type {\n",
       "        vertical-align: middle;\n",
       "    }\n",
       "\n",
       "    .dataframe tbody tr th {\n",
       "        vertical-align: top;\n",
       "    }\n",
       "\n",
       "    .dataframe thead th {\n",
       "        text-align: right;\n",
       "    }\n",
       "</style>\n",
       "<table border=\"1\" class=\"dataframe\">\n",
       "  <thead>\n",
       "    <tr style=\"text-align: right;\">\n",
       "      <th></th>\n",
       "      <th>id</th>\n",
       "      <th>Empresa</th>\n",
       "      <th>Fecha</th>\n",
       "      <th>Calificación</th>\n",
       "      <th>Comentarios</th>\n",
       "    </tr>\n",
       "  </thead>\n",
       "  <tbody>\n",
       "    <tr>\n",
       "      <th>9</th>\n",
       "      <td>10</td>\n",
       "      <td>Legros-Olson</td>\n",
       "      <td>12/11/2024</td>\n",
       "      <td>5.0</td>\n",
       "      <td>NaN</td>\n",
       "    </tr>\n",
       "    <tr>\n",
       "      <th>10</th>\n",
       "      <td>10</td>\n",
       "      <td>Legros-Olson</td>\n",
       "      <td>12/11/2024</td>\n",
       "      <td>5.0</td>\n",
       "      <td>NaN</td>\n",
       "    </tr>\n",
       "    <tr>\n",
       "      <th>11</th>\n",
       "      <td>11</td>\n",
       "      <td>Harris-Davis</td>\n",
       "      <td>13/11/2024</td>\n",
       "      <td>1.0</td>\n",
       "      <td>Nullam sit amet turpis elementum ligula vehicu...</td>\n",
       "    </tr>\n",
       "    <tr>\n",
       "      <th>12</th>\n",
       "      <td>11</td>\n",
       "      <td>Harris-Davis</td>\n",
       "      <td>13/11/2024</td>\n",
       "      <td>1.0</td>\n",
       "      <td>Nullam sit amet turpis elementum ligula vehicu...</td>\n",
       "    </tr>\n",
       "    <tr>\n",
       "      <th>17</th>\n",
       "      <td>16</td>\n",
       "      <td>White, Balistreri and Daugherty</td>\n",
       "      <td>29/06/2024</td>\n",
       "      <td>5.0</td>\n",
       "      <td>NaN</td>\n",
       "    </tr>\n",
       "    <tr>\n",
       "      <th>...</th>\n",
       "      <td>...</td>\n",
       "      <td>...</td>\n",
       "      <td>...</td>\n",
       "      <td>...</td>\n",
       "      <td>...</td>\n",
       "    </tr>\n",
       "    <tr>\n",
       "      <th>1109</th>\n",
       "      <td>984</td>\n",
       "      <td>Strosin, Raynor and Oberbrunner</td>\n",
       "      <td>14/02/2024</td>\n",
       "      <td>1.0</td>\n",
       "      <td>Morbi porttitor lorem id ligula. Suspendisse o...</td>\n",
       "    </tr>\n",
       "    <tr>\n",
       "      <th>1117</th>\n",
       "      <td>992</td>\n",
       "      <td>Donnelly-Bashirian</td>\n",
       "      <td>14/03/2024</td>\n",
       "      <td>NaN</td>\n",
       "      <td>Nullam porttitor lacus at turpis. Donec posuer...</td>\n",
       "    </tr>\n",
       "    <tr>\n",
       "      <th>1118</th>\n",
       "      <td>992</td>\n",
       "      <td>Donnelly-Bashirian</td>\n",
       "      <td>14/03/2024</td>\n",
       "      <td>NaN</td>\n",
       "      <td>Nullam porttitor lacus at turpis. Donec posuer...</td>\n",
       "    </tr>\n",
       "    <tr>\n",
       "      <th>1121</th>\n",
       "      <td>995</td>\n",
       "      <td>Altenwerth LLC</td>\n",
       "      <td>13/09/2024</td>\n",
       "      <td>NaN</td>\n",
       "      <td>NaN</td>\n",
       "    </tr>\n",
       "    <tr>\n",
       "      <th>1122</th>\n",
       "      <td>995</td>\n",
       "      <td>Altenwerth LLC</td>\n",
       "      <td>13/09/2024</td>\n",
       "      <td>NaN</td>\n",
       "      <td>NaN</td>\n",
       "    </tr>\n",
       "  </tbody>\n",
       "</table>\n",
       "<p>256 rows × 5 columns</p>\n",
       "</div>"
      ],
      "text/plain": [
       "       id                          Empresa       Fecha  Calificación  \\\n",
       "9      10                     Legros-Olson  12/11/2024           5.0   \n",
       "10     10                     Legros-Olson  12/11/2024           5.0   \n",
       "11     11                     Harris-Davis  13/11/2024           1.0   \n",
       "12     11                     Harris-Davis  13/11/2024           1.0   \n",
       "17     16  White, Balistreri and Daugherty  29/06/2024           5.0   \n",
       "...   ...                              ...         ...           ...   \n",
       "1109  984  Strosin, Raynor and Oberbrunner  14/02/2024           1.0   \n",
       "1117  992               Donnelly-Bashirian  14/03/2024           NaN   \n",
       "1118  992               Donnelly-Bashirian  14/03/2024           NaN   \n",
       "1121  995                   Altenwerth LLC  13/09/2024           NaN   \n",
       "1122  995                   Altenwerth LLC  13/09/2024           NaN   \n",
       "\n",
       "                                            Comentarios  \n",
       "9                                                   NaN  \n",
       "10                                                  NaN  \n",
       "11    Nullam sit amet turpis elementum ligula vehicu...  \n",
       "12    Nullam sit amet turpis elementum ligula vehicu...  \n",
       "17                                                  NaN  \n",
       "...                                                 ...  \n",
       "1109  Morbi porttitor lorem id ligula. Suspendisse o...  \n",
       "1117  Nullam porttitor lacus at turpis. Donec posuer...  \n",
       "1118  Nullam porttitor lacus at turpis. Donec posuer...  \n",
       "1121                                                NaN  \n",
       "1122                                                NaN  \n",
       "\n",
       "[256 rows x 5 columns]"
      ]
     },
     "execution_count": 11,
     "metadata": {},
     "output_type": "execute_result"
    }
   ],
   "source": [
    "df_satis[df_satis.duplicated(subset=[\"Empresa\", \"Fecha\"],keep=False)].sort_values(by='id')"
   ]
  },
  {
   "cell_type": "code",
   "execution_count": 12,
   "metadata": {},
   "outputs": [
    {
     "data": {
      "text/html": [
       "<div>\n",
       "<style scoped>\n",
       "    .dataframe tbody tr th:only-of-type {\n",
       "        vertical-align: middle;\n",
       "    }\n",
       "\n",
       "    .dataframe tbody tr th {\n",
       "        vertical-align: top;\n",
       "    }\n",
       "\n",
       "    .dataframe thead th {\n",
       "        text-align: right;\n",
       "    }\n",
       "</style>\n",
       "<table border=\"1\" class=\"dataframe\">\n",
       "  <thead>\n",
       "    <tr style=\"text-align: right;\">\n",
       "      <th></th>\n",
       "      <th>id</th>\n",
       "      <th>Empresa</th>\n",
       "      <th>Fecha</th>\n",
       "      <th>Calificación</th>\n",
       "      <th>Comentarios</th>\n",
       "    </tr>\n",
       "  </thead>\n",
       "  <tbody>\n",
       "    <tr>\n",
       "      <th>0</th>\n",
       "      <td>1</td>\n",
       "      <td>Mitchell Group</td>\n",
       "      <td>11/12/2024</td>\n",
       "      <td>1.0</td>\n",
       "      <td>Integer ac leo. Pellentesque ultrices mattis o...</td>\n",
       "    </tr>\n",
       "    <tr>\n",
       "      <th>1</th>\n",
       "      <td>2</td>\n",
       "      <td>Kuhn-Fay</td>\n",
       "      <td>25/01/2024</td>\n",
       "      <td>4.0</td>\n",
       "      <td>Vestibulum ac est lacinia nisi venenatis trist...</td>\n",
       "    </tr>\n",
       "    <tr>\n",
       "      <th>2</th>\n",
       "      <td>3</td>\n",
       "      <td>Moen-Blick</td>\n",
       "      <td>11/11/2024</td>\n",
       "      <td>3.0</td>\n",
       "      <td>Aliquam quis turpis eget elit sodales sceleris...</td>\n",
       "    </tr>\n",
       "    <tr>\n",
       "      <th>3</th>\n",
       "      <td>4</td>\n",
       "      <td>McDermott Inc</td>\n",
       "      <td>01/12/2024</td>\n",
       "      <td>1.0</td>\n",
       "      <td>NaN</td>\n",
       "    </tr>\n",
       "    <tr>\n",
       "      <th>4</th>\n",
       "      <td>5</td>\n",
       "      <td>Keebler Inc</td>\n",
       "      <td>12/01/2024</td>\n",
       "      <td>4.0</td>\n",
       "      <td>Integer ac leo. Pellentesque ultrices mattis o...</td>\n",
       "    </tr>\n",
       "    <tr>\n",
       "      <th>...</th>\n",
       "      <td>...</td>\n",
       "      <td>...</td>\n",
       "      <td>...</td>\n",
       "      <td>...</td>\n",
       "      <td>...</td>\n",
       "    </tr>\n",
       "    <tr>\n",
       "      <th>1123</th>\n",
       "      <td>996</td>\n",
       "      <td>Schiller-Armstrong</td>\n",
       "      <td>19/04/2024</td>\n",
       "      <td>2.0</td>\n",
       "      <td>In hac habitasse platea dictumst. Etiam faucib...</td>\n",
       "    </tr>\n",
       "    <tr>\n",
       "      <th>1124</th>\n",
       "      <td>997</td>\n",
       "      <td>Schimmel, Gleichner and O'Keefe</td>\n",
       "      <td>25/12/2024</td>\n",
       "      <td>NaN</td>\n",
       "      <td>In hac habitasse platea dictumst. Morbi vestib...</td>\n",
       "    </tr>\n",
       "    <tr>\n",
       "      <th>1125</th>\n",
       "      <td>998</td>\n",
       "      <td>Strosin, Tromp and Dicki</td>\n",
       "      <td>23/05/2024</td>\n",
       "      <td>4.0</td>\n",
       "      <td>NaN</td>\n",
       "    </tr>\n",
       "    <tr>\n",
       "      <th>1126</th>\n",
       "      <td>999</td>\n",
       "      <td>Schultz, Vandervort and Mosciski</td>\n",
       "      <td>14/11/2024</td>\n",
       "      <td>4.0</td>\n",
       "      <td>Nullam sit amet turpis elementum ligula vehicu...</td>\n",
       "    </tr>\n",
       "    <tr>\n",
       "      <th>1127</th>\n",
       "      <td>1000</td>\n",
       "      <td>Prohaska, Quitzon and Strosin</td>\n",
       "      <td>30/03/2024</td>\n",
       "      <td>1.0</td>\n",
       "      <td>NaN</td>\n",
       "    </tr>\n",
       "  </tbody>\n",
       "</table>\n",
       "<p>1128 rows × 5 columns</p>\n",
       "</div>"
      ],
      "text/plain": [
       "        id                           Empresa       Fecha  Calificación  \\\n",
       "0        1                    Mitchell Group  11/12/2024           1.0   \n",
       "1        2                          Kuhn-Fay  25/01/2024           4.0   \n",
       "2        3                        Moen-Blick  11/11/2024           3.0   \n",
       "3        4                     McDermott Inc  01/12/2024           1.0   \n",
       "4        5                       Keebler Inc  12/01/2024           4.0   \n",
       "...    ...                               ...         ...           ...   \n",
       "1123   996                Schiller-Armstrong  19/04/2024           2.0   \n",
       "1124   997   Schimmel, Gleichner and O'Keefe  25/12/2024           NaN   \n",
       "1125   998          Strosin, Tromp and Dicki  23/05/2024           4.0   \n",
       "1126   999  Schultz, Vandervort and Mosciski  14/11/2024           4.0   \n",
       "1127  1000     Prohaska, Quitzon and Strosin  30/03/2024           1.0   \n",
       "\n",
       "                                            Comentarios  \n",
       "0     Integer ac leo. Pellentesque ultrices mattis o...  \n",
       "1     Vestibulum ac est lacinia nisi venenatis trist...  \n",
       "2     Aliquam quis turpis eget elit sodales sceleris...  \n",
       "3                                                   NaN  \n",
       "4     Integer ac leo. Pellentesque ultrices mattis o...  \n",
       "...                                                 ...  \n",
       "1123  In hac habitasse platea dictumst. Etiam faucib...  \n",
       "1124  In hac habitasse platea dictumst. Morbi vestib...  \n",
       "1125                                                NaN  \n",
       "1126  Nullam sit amet turpis elementum ligula vehicu...  \n",
       "1127                                                NaN  \n",
       "\n",
       "[1128 rows x 5 columns]"
      ]
     },
     "execution_count": 12,
     "metadata": {},
     "output_type": "execute_result"
    }
   ],
   "source": [
    "df_satis"
   ]
  },
  {
   "cell_type": "code",
   "execution_count": 13,
   "metadata": {
    "id": "dw_lDCa6Rmb6"
   },
   "outputs": [
    {
     "data": {
      "text/html": [
       "<div>\n",
       "<style scoped>\n",
       "    .dataframe tbody tr th:only-of-type {\n",
       "        vertical-align: middle;\n",
       "    }\n",
       "\n",
       "    .dataframe tbody tr th {\n",
       "        vertical-align: top;\n",
       "    }\n",
       "\n",
       "    .dataframe thead th {\n",
       "        text-align: right;\n",
       "    }\n",
       "</style>\n",
       "<table border=\"1\" class=\"dataframe\">\n",
       "  <thead>\n",
       "    <tr style=\"text-align: right;\">\n",
       "      <th></th>\n",
       "      <th>id</th>\n",
       "      <th>Empresa</th>\n",
       "      <th>Fecha</th>\n",
       "      <th>Calificación</th>\n",
       "      <th>Comentarios</th>\n",
       "    </tr>\n",
       "  </thead>\n",
       "  <tbody>\n",
       "    <tr>\n",
       "      <th>1122</th>\n",
       "      <td>995</td>\n",
       "      <td>Altenwerth LLC</td>\n",
       "      <td>13/09/2024</td>\n",
       "      <td>NaN</td>\n",
       "      <td>NaN</td>\n",
       "    </tr>\n",
       "    <tr>\n",
       "      <th>1121</th>\n",
       "      <td>995</td>\n",
       "      <td>Altenwerth LLC</td>\n",
       "      <td>13/09/2024</td>\n",
       "      <td>NaN</td>\n",
       "      <td>NaN</td>\n",
       "    </tr>\n",
       "    <tr>\n",
       "      <th>811</th>\n",
       "      <td>726</td>\n",
       "      <td>Altenwerth, Blanda and Waelchi</td>\n",
       "      <td>28/09/2024</td>\n",
       "      <td>1.0</td>\n",
       "      <td>Proin leo odio, porttitor id, consequat in, co...</td>\n",
       "    </tr>\n",
       "    <tr>\n",
       "      <th>812</th>\n",
       "      <td>726</td>\n",
       "      <td>Altenwerth, Blanda and Waelchi</td>\n",
       "      <td>28/09/2024</td>\n",
       "      <td>1.0</td>\n",
       "      <td>Proin leo odio, porttitor id, consequat in, co...</td>\n",
       "    </tr>\n",
       "    <tr>\n",
       "      <th>187</th>\n",
       "      <td>172</td>\n",
       "      <td>Altenwerth, Reichert and Mills</td>\n",
       "      <td>07/08/2024</td>\n",
       "      <td>3.0</td>\n",
       "      <td>Proin eu mi. Nulla ac enim. In tempor, turpis ...</td>\n",
       "    </tr>\n",
       "    <tr>\n",
       "      <th>...</th>\n",
       "      <td>...</td>\n",
       "      <td>...</td>\n",
       "      <td>...</td>\n",
       "      <td>...</td>\n",
       "      <td>...</td>\n",
       "    </tr>\n",
       "    <tr>\n",
       "      <th>469</th>\n",
       "      <td>423</td>\n",
       "      <td>Zemlak Group</td>\n",
       "      <td>13/12/2024</td>\n",
       "      <td>5.0</td>\n",
       "      <td>Duis consequat dui nec nisi volutpat eleifend....</td>\n",
       "    </tr>\n",
       "    <tr>\n",
       "      <th>973</th>\n",
       "      <td>865</td>\n",
       "      <td>Zemlak Inc</td>\n",
       "      <td>29/03/2024</td>\n",
       "      <td>3.0</td>\n",
       "      <td>Fusce consequat. Nulla nisl. Nunc nisl.\\n\\nDui...</td>\n",
       "    </tr>\n",
       "    <tr>\n",
       "      <th>974</th>\n",
       "      <td>865</td>\n",
       "      <td>Zemlak Inc</td>\n",
       "      <td>29/03/2024</td>\n",
       "      <td>3.0</td>\n",
       "      <td>Fusce consequat. Nulla nisl. Nunc nisl.\\n\\nDui...</td>\n",
       "    </tr>\n",
       "    <tr>\n",
       "      <th>512</th>\n",
       "      <td>459</td>\n",
       "      <td>Zulauf LLC</td>\n",
       "      <td>29/04/2024</td>\n",
       "      <td>5.0</td>\n",
       "      <td>NaN</td>\n",
       "    </tr>\n",
       "    <tr>\n",
       "      <th>511</th>\n",
       "      <td>459</td>\n",
       "      <td>Zulauf LLC</td>\n",
       "      <td>29/04/2024</td>\n",
       "      <td>5.0</td>\n",
       "      <td>NaN</td>\n",
       "    </tr>\n",
       "  </tbody>\n",
       "</table>\n",
       "<p>256 rows × 5 columns</p>\n",
       "</div>"
      ],
      "text/plain": [
       "       id                         Empresa       Fecha  Calificación  \\\n",
       "1122  995                  Altenwerth LLC  13/09/2024           NaN   \n",
       "1121  995                  Altenwerth LLC  13/09/2024           NaN   \n",
       "811   726  Altenwerth, Blanda and Waelchi  28/09/2024           1.0   \n",
       "812   726  Altenwerth, Blanda and Waelchi  28/09/2024           1.0   \n",
       "187   172  Altenwerth, Reichert and Mills  07/08/2024           3.0   \n",
       "...   ...                             ...         ...           ...   \n",
       "469   423                    Zemlak Group  13/12/2024           5.0   \n",
       "973   865                      Zemlak Inc  29/03/2024           3.0   \n",
       "974   865                      Zemlak Inc  29/03/2024           3.0   \n",
       "512   459                      Zulauf LLC  29/04/2024           5.0   \n",
       "511   459                      Zulauf LLC  29/04/2024           5.0   \n",
       "\n",
       "                                            Comentarios  \n",
       "1122                                                NaN  \n",
       "1121                                                NaN  \n",
       "811   Proin leo odio, porttitor id, consequat in, co...  \n",
       "812   Proin leo odio, porttitor id, consequat in, co...  \n",
       "187   Proin eu mi. Nulla ac enim. In tempor, turpis ...  \n",
       "...                                                 ...  \n",
       "469   Duis consequat dui nec nisi volutpat eleifend....  \n",
       "973   Fusce consequat. Nulla nisl. Nunc nisl.\\n\\nDui...  \n",
       "974   Fusce consequat. Nulla nisl. Nunc nisl.\\n\\nDui...  \n",
       "512                                                 NaN  \n",
       "511                                                 NaN  \n",
       "\n",
       "[256 rows x 5 columns]"
      ]
     },
     "execution_count": 13,
     "metadata": {},
     "output_type": "execute_result"
    }
   ],
   "source": [
    "df_satis[df_satis.duplicated(subset=df_satis.columns[1:],keep=False)].sort_values(by='Empresa')"
   ]
  },
  {
   "cell_type": "markdown",
   "metadata": {
    "id": "7yZ0UKPiZNWw"
   },
   "source": [
    "### Dataframe Pacientes"
   ]
  },
  {
   "cell_type": "code",
   "execution_count": 18,
   "metadata": {
    "id": "sTlHqI0sZUo8"
   },
   "outputs": [
    {
     "data": {
      "text/plain": [
       "np.int64(18)"
      ]
     },
     "execution_count": 18,
     "metadata": {},
     "output_type": "execute_result"
    }
   ],
   "source": [
    "# Veamos cuantos registros duplicados hay\n",
    "df_pacientes.duplicated().sum()"
   ]
  },
  {
   "cell_type": "code",
   "execution_count": 19,
   "metadata": {
    "id": "LXak9CVpS1YK"
   },
   "outputs": [
    {
     "data": {
      "text/html": [
       "<div>\n",
       "<style scoped>\n",
       "    .dataframe tbody tr th:only-of-type {\n",
       "        vertical-align: middle;\n",
       "    }\n",
       "\n",
       "    .dataframe tbody tr th {\n",
       "        vertical-align: top;\n",
       "    }\n",
       "\n",
       "    .dataframe thead th {\n",
       "        text-align: right;\n",
       "    }\n",
       "</style>\n",
       "<table border=\"1\" class=\"dataframe\">\n",
       "  <thead>\n",
       "    <tr style=\"text-align: right;\">\n",
       "      <th></th>\n",
       "      <th>nombre</th>\n",
       "      <th>d1</th>\n",
       "      <th>d2</th>\n",
       "      <th>d3</th>\n",
       "      <th>d4</th>\n",
       "      <th>d5</th>\n",
       "      <th>d6</th>\n",
       "      <th>d7</th>\n",
       "      <th>d8</th>\n",
       "      <th>d9</th>\n",
       "      <th>d10</th>\n",
       "    </tr>\n",
       "  </thead>\n",
       "  <tbody>\n",
       "    <tr>\n",
       "      <th>2200</th>\n",
       "      <td>Ailyn Hexter</td>\n",
       "      <td>36.67</td>\n",
       "      <td>36.10</td>\n",
       "      <td>36.36</td>\n",
       "      <td>36.59</td>\n",
       "      <td>36.99</td>\n",
       "      <td>37.22</td>\n",
       "      <td>36.34</td>\n",
       "      <td>37.51</td>\n",
       "      <td>36.72</td>\n",
       "      <td>37.59</td>\n",
       "    </tr>\n",
       "    <tr>\n",
       "      <th>85</th>\n",
       "      <td>Ailyn Hexter</td>\n",
       "      <td>36.67</td>\n",
       "      <td>36.10</td>\n",
       "      <td>36.36</td>\n",
       "      <td>36.59</td>\n",
       "      <td>36.99</td>\n",
       "      <td>37.22</td>\n",
       "      <td>36.34</td>\n",
       "      <td>37.51</td>\n",
       "      <td>36.72</td>\n",
       "      <td>37.59</td>\n",
       "    </tr>\n",
       "    <tr>\n",
       "      <th>1352</th>\n",
       "      <td>Andriana Mossman</td>\n",
       "      <td>37.40</td>\n",
       "      <td>36.81</td>\n",
       "      <td>37.46</td>\n",
       "      <td>36.89</td>\n",
       "      <td>36.22</td>\n",
       "      <td>36.40</td>\n",
       "      <td>37.97</td>\n",
       "      <td>36.07</td>\n",
       "      <td>37.86</td>\n",
       "      <td>NaN</td>\n",
       "    </tr>\n",
       "    <tr>\n",
       "      <th>1528</th>\n",
       "      <td>Andriana Mossman</td>\n",
       "      <td>37.40</td>\n",
       "      <td>36.81</td>\n",
       "      <td>37.46</td>\n",
       "      <td>36.89</td>\n",
       "      <td>36.22</td>\n",
       "      <td>36.40</td>\n",
       "      <td>37.97</td>\n",
       "      <td>36.07</td>\n",
       "      <td>37.86</td>\n",
       "      <td>NaN</td>\n",
       "    </tr>\n",
       "    <tr>\n",
       "      <th>847</th>\n",
       "      <td>Bernarr D'Arrigo</td>\n",
       "      <td>36.83</td>\n",
       "      <td>36.94</td>\n",
       "      <td>NaN</td>\n",
       "      <td>36.01</td>\n",
       "      <td>37.80</td>\n",
       "      <td>37.94</td>\n",
       "      <td>36.30</td>\n",
       "      <td>37.97</td>\n",
       "      <td>37.75</td>\n",
       "      <td>37.35</td>\n",
       "    </tr>\n",
       "    <tr>\n",
       "      <th>306</th>\n",
       "      <td>Bernarr D'Arrigo</td>\n",
       "      <td>36.83</td>\n",
       "      <td>36.94</td>\n",
       "      <td>NaN</td>\n",
       "      <td>36.01</td>\n",
       "      <td>37.80</td>\n",
       "      <td>37.94</td>\n",
       "      <td>36.30</td>\n",
       "      <td>37.97</td>\n",
       "      <td>37.75</td>\n",
       "      <td>37.35</td>\n",
       "    </tr>\n",
       "    <tr>\n",
       "      <th>453</th>\n",
       "      <td>Celeste Gooch</td>\n",
       "      <td>36.11</td>\n",
       "      <td>36.87</td>\n",
       "      <td>36.68</td>\n",
       "      <td>NaN</td>\n",
       "      <td>37.92</td>\n",
       "      <td>36.72</td>\n",
       "      <td>37.93</td>\n",
       "      <td>37.29</td>\n",
       "      <td>36.15</td>\n",
       "      <td>36.60</td>\n",
       "    </tr>\n",
       "    <tr>\n",
       "      <th>2954</th>\n",
       "      <td>Celeste Gooch</td>\n",
       "      <td>36.11</td>\n",
       "      <td>36.87</td>\n",
       "      <td>36.68</td>\n",
       "      <td>NaN</td>\n",
       "      <td>37.92</td>\n",
       "      <td>36.72</td>\n",
       "      <td>37.93</td>\n",
       "      <td>37.29</td>\n",
       "      <td>36.15</td>\n",
       "      <td>36.60</td>\n",
       "    </tr>\n",
       "    <tr>\n",
       "      <th>136</th>\n",
       "      <td>Dagny Burree</td>\n",
       "      <td>37.58</td>\n",
       "      <td>36.17</td>\n",
       "      <td>37.00</td>\n",
       "      <td>37.84</td>\n",
       "      <td>37.29</td>\n",
       "      <td>37.54</td>\n",
       "      <td>36.07</td>\n",
       "      <td>36.75</td>\n",
       "      <td>NaN</td>\n",
       "      <td>36.53</td>\n",
       "    </tr>\n",
       "    <tr>\n",
       "      <th>73</th>\n",
       "      <td>Dagny Burree</td>\n",
       "      <td>37.58</td>\n",
       "      <td>36.17</td>\n",
       "      <td>37.00</td>\n",
       "      <td>37.84</td>\n",
       "      <td>37.29</td>\n",
       "      <td>37.54</td>\n",
       "      <td>36.07</td>\n",
       "      <td>36.75</td>\n",
       "      <td>NaN</td>\n",
       "      <td>36.53</td>\n",
       "    </tr>\n",
       "    <tr>\n",
       "      <th>1329</th>\n",
       "      <td>Dennison Vanyashkin</td>\n",
       "      <td>36.67</td>\n",
       "      <td>36.47</td>\n",
       "      <td>36.41</td>\n",
       "      <td>37.09</td>\n",
       "      <td>36.86</td>\n",
       "      <td>36.48</td>\n",
       "      <td>36.01</td>\n",
       "      <td>37.86</td>\n",
       "      <td>36.99</td>\n",
       "      <td>36.10</td>\n",
       "    </tr>\n",
       "    <tr>\n",
       "      <th>2456</th>\n",
       "      <td>Dennison Vanyashkin</td>\n",
       "      <td>36.67</td>\n",
       "      <td>36.47</td>\n",
       "      <td>36.41</td>\n",
       "      <td>37.09</td>\n",
       "      <td>36.86</td>\n",
       "      <td>36.48</td>\n",
       "      <td>36.01</td>\n",
       "      <td>37.86</td>\n",
       "      <td>36.99</td>\n",
       "      <td>36.10</td>\n",
       "    </tr>\n",
       "    <tr>\n",
       "      <th>863</th>\n",
       "      <td>Gerladina Maguire</td>\n",
       "      <td>36.60</td>\n",
       "      <td>36.69</td>\n",
       "      <td>37.69</td>\n",
       "      <td>37.17</td>\n",
       "      <td>36.57</td>\n",
       "      <td>37.29</td>\n",
       "      <td>36.01</td>\n",
       "      <td>36.52</td>\n",
       "      <td>37.73</td>\n",
       "      <td>36.26</td>\n",
       "    </tr>\n",
       "    <tr>\n",
       "      <th>1451</th>\n",
       "      <td>Gerladina Maguire</td>\n",
       "      <td>36.60</td>\n",
       "      <td>36.69</td>\n",
       "      <td>37.69</td>\n",
       "      <td>37.17</td>\n",
       "      <td>36.57</td>\n",
       "      <td>37.29</td>\n",
       "      <td>36.01</td>\n",
       "      <td>36.52</td>\n",
       "      <td>37.73</td>\n",
       "      <td>36.26</td>\n",
       "    </tr>\n",
       "    <tr>\n",
       "      <th>280</th>\n",
       "      <td>Ginger Iacoviello</td>\n",
       "      <td>36.06</td>\n",
       "      <td>37.71</td>\n",
       "      <td>36.05</td>\n",
       "      <td>36.88</td>\n",
       "      <td>NaN</td>\n",
       "      <td>36.37</td>\n",
       "      <td>37.15</td>\n",
       "      <td>36.90</td>\n",
       "      <td>37.03</td>\n",
       "      <td>37.61</td>\n",
       "    </tr>\n",
       "    <tr>\n",
       "      <th>1687</th>\n",
       "      <td>Ginger Iacoviello</td>\n",
       "      <td>36.06</td>\n",
       "      <td>37.71</td>\n",
       "      <td>36.05</td>\n",
       "      <td>36.88</td>\n",
       "      <td>NaN</td>\n",
       "      <td>36.37</td>\n",
       "      <td>37.15</td>\n",
       "      <td>36.90</td>\n",
       "      <td>37.03</td>\n",
       "      <td>37.61</td>\n",
       "    </tr>\n",
       "    <tr>\n",
       "      <th>2255</th>\n",
       "      <td>Hamlin Denial</td>\n",
       "      <td>36.62</td>\n",
       "      <td>37.66</td>\n",
       "      <td>37.99</td>\n",
       "      <td>NaN</td>\n",
       "      <td>NaN</td>\n",
       "      <td>36.01</td>\n",
       "      <td>37.32</td>\n",
       "      <td>36.71</td>\n",
       "      <td>36.47</td>\n",
       "      <td>37.43</td>\n",
       "    </tr>\n",
       "    <tr>\n",
       "      <th>2629</th>\n",
       "      <td>Hamlin Denial</td>\n",
       "      <td>36.62</td>\n",
       "      <td>37.66</td>\n",
       "      <td>37.99</td>\n",
       "      <td>NaN</td>\n",
       "      <td>NaN</td>\n",
       "      <td>36.01</td>\n",
       "      <td>37.32</td>\n",
       "      <td>36.71</td>\n",
       "      <td>36.47</td>\n",
       "      <td>37.43</td>\n",
       "    </tr>\n",
       "    <tr>\n",
       "      <th>42</th>\n",
       "      <td>Holden Kerry</td>\n",
       "      <td>36.07</td>\n",
       "      <td>37.11</td>\n",
       "      <td>36.58</td>\n",
       "      <td>NaN</td>\n",
       "      <td>36.41</td>\n",
       "      <td>36.63</td>\n",
       "      <td>36.60</td>\n",
       "      <td>36.70</td>\n",
       "      <td>36.51</td>\n",
       "      <td>37.53</td>\n",
       "    </tr>\n",
       "    <tr>\n",
       "      <th>2461</th>\n",
       "      <td>Holden Kerry</td>\n",
       "      <td>36.07</td>\n",
       "      <td>37.11</td>\n",
       "      <td>36.58</td>\n",
       "      <td>NaN</td>\n",
       "      <td>36.41</td>\n",
       "      <td>36.63</td>\n",
       "      <td>36.60</td>\n",
       "      <td>36.70</td>\n",
       "      <td>36.51</td>\n",
       "      <td>37.53</td>\n",
       "    </tr>\n",
       "    <tr>\n",
       "      <th>3016</th>\n",
       "      <td>Hoyt Koenen</td>\n",
       "      <td>37.57</td>\n",
       "      <td>37.23</td>\n",
       "      <td>36.76</td>\n",
       "      <td>36.17</td>\n",
       "      <td>36.61</td>\n",
       "      <td>37.21</td>\n",
       "      <td>37.66</td>\n",
       "      <td>37.18</td>\n",
       "      <td>36.45</td>\n",
       "      <td>36.68</td>\n",
       "    </tr>\n",
       "    <tr>\n",
       "      <th>508</th>\n",
       "      <td>Hoyt Koenen</td>\n",
       "      <td>37.57</td>\n",
       "      <td>37.23</td>\n",
       "      <td>36.76</td>\n",
       "      <td>36.17</td>\n",
       "      <td>36.61</td>\n",
       "      <td>37.21</td>\n",
       "      <td>37.66</td>\n",
       "      <td>37.18</td>\n",
       "      <td>36.45</td>\n",
       "      <td>36.68</td>\n",
       "    </tr>\n",
       "    <tr>\n",
       "      <th>1414</th>\n",
       "      <td>Marijn Lothean</td>\n",
       "      <td>37.89</td>\n",
       "      <td>37.06</td>\n",
       "      <td>37.05</td>\n",
       "      <td>37.05</td>\n",
       "      <td>37.32</td>\n",
       "      <td>37.78</td>\n",
       "      <td>36.97</td>\n",
       "      <td>37.84</td>\n",
       "      <td>37.62</td>\n",
       "      <td>37.78</td>\n",
       "    </tr>\n",
       "    <tr>\n",
       "      <th>741</th>\n",
       "      <td>Marijn Lothean</td>\n",
       "      <td>37.89</td>\n",
       "      <td>37.06</td>\n",
       "      <td>37.05</td>\n",
       "      <td>37.05</td>\n",
       "      <td>37.32</td>\n",
       "      <td>37.78</td>\n",
       "      <td>36.97</td>\n",
       "      <td>37.84</td>\n",
       "      <td>37.62</td>\n",
       "      <td>37.78</td>\n",
       "    </tr>\n",
       "    <tr>\n",
       "      <th>13</th>\n",
       "      <td>Merola Muscat</td>\n",
       "      <td>36.24</td>\n",
       "      <td>37.19</td>\n",
       "      <td>37.16</td>\n",
       "      <td>37.66</td>\n",
       "      <td>36.88</td>\n",
       "      <td>37.80</td>\n",
       "      <td>36.04</td>\n",
       "      <td>37.47</td>\n",
       "      <td>38.00</td>\n",
       "      <td>36.92</td>\n",
       "    </tr>\n",
       "    <tr>\n",
       "      <th>235</th>\n",
       "      <td>Merola Muscat</td>\n",
       "      <td>36.24</td>\n",
       "      <td>37.19</td>\n",
       "      <td>37.16</td>\n",
       "      <td>37.66</td>\n",
       "      <td>36.88</td>\n",
       "      <td>37.80</td>\n",
       "      <td>36.04</td>\n",
       "      <td>37.47</td>\n",
       "      <td>38.00</td>\n",
       "      <td>36.92</td>\n",
       "    </tr>\n",
       "    <tr>\n",
       "      <th>2991</th>\n",
       "      <td>Paige Catherine</td>\n",
       "      <td>37.55</td>\n",
       "      <td>36.08</td>\n",
       "      <td>37.17</td>\n",
       "      <td>36.72</td>\n",
       "      <td>36.01</td>\n",
       "      <td>36.42</td>\n",
       "      <td>37.97</td>\n",
       "      <td>37.66</td>\n",
       "      <td>36.12</td>\n",
       "      <td>37.77</td>\n",
       "    </tr>\n",
       "    <tr>\n",
       "      <th>216</th>\n",
       "      <td>Paige Catherine</td>\n",
       "      <td>37.55</td>\n",
       "      <td>36.08</td>\n",
       "      <td>37.17</td>\n",
       "      <td>36.72</td>\n",
       "      <td>36.01</td>\n",
       "      <td>36.42</td>\n",
       "      <td>37.97</td>\n",
       "      <td>37.66</td>\n",
       "      <td>36.12</td>\n",
       "      <td>37.77</td>\n",
       "    </tr>\n",
       "    <tr>\n",
       "      <th>1409</th>\n",
       "      <td>Pascal Merfin</td>\n",
       "      <td>37.14</td>\n",
       "      <td>36.31</td>\n",
       "      <td>37.61</td>\n",
       "      <td>37.12</td>\n",
       "      <td>37.28</td>\n",
       "      <td>36.43</td>\n",
       "      <td>37.39</td>\n",
       "      <td>36.69</td>\n",
       "      <td>37.83</td>\n",
       "      <td>37.17</td>\n",
       "    </tr>\n",
       "    <tr>\n",
       "      <th>1413</th>\n",
       "      <td>Pascal Merfin</td>\n",
       "      <td>37.14</td>\n",
       "      <td>36.31</td>\n",
       "      <td>37.61</td>\n",
       "      <td>37.12</td>\n",
       "      <td>37.28</td>\n",
       "      <td>36.43</td>\n",
       "      <td>37.39</td>\n",
       "      <td>36.69</td>\n",
       "      <td>37.83</td>\n",
       "      <td>37.17</td>\n",
       "    </tr>\n",
       "    <tr>\n",
       "      <th>2525</th>\n",
       "      <td>Read Wemyss</td>\n",
       "      <td>36.79</td>\n",
       "      <td>36.00</td>\n",
       "      <td>37.50</td>\n",
       "      <td>36.82</td>\n",
       "      <td>37.13</td>\n",
       "      <td>37.94</td>\n",
       "      <td>37.63</td>\n",
       "      <td>37.81</td>\n",
       "      <td>37.71</td>\n",
       "      <td>37.28</td>\n",
       "    </tr>\n",
       "    <tr>\n",
       "      <th>2230</th>\n",
       "      <td>Read Wemyss</td>\n",
       "      <td>36.79</td>\n",
       "      <td>36.00</td>\n",
       "      <td>37.50</td>\n",
       "      <td>36.82</td>\n",
       "      <td>37.13</td>\n",
       "      <td>37.94</td>\n",
       "      <td>37.63</td>\n",
       "      <td>37.81</td>\n",
       "      <td>37.71</td>\n",
       "      <td>37.28</td>\n",
       "    </tr>\n",
       "    <tr>\n",
       "      <th>2433</th>\n",
       "      <td>Sal Oury</td>\n",
       "      <td>36.77</td>\n",
       "      <td>36.51</td>\n",
       "      <td>36.51</td>\n",
       "      <td>36.56</td>\n",
       "      <td>36.60</td>\n",
       "      <td>36.30</td>\n",
       "      <td>37.26</td>\n",
       "      <td>37.12</td>\n",
       "      <td>37.60</td>\n",
       "      <td>36.90</td>\n",
       "    </tr>\n",
       "    <tr>\n",
       "      <th>2668</th>\n",
       "      <td>Sal Oury</td>\n",
       "      <td>36.77</td>\n",
       "      <td>36.51</td>\n",
       "      <td>36.51</td>\n",
       "      <td>36.56</td>\n",
       "      <td>36.60</td>\n",
       "      <td>36.30</td>\n",
       "      <td>37.26</td>\n",
       "      <td>37.12</td>\n",
       "      <td>37.60</td>\n",
       "      <td>36.90</td>\n",
       "    </tr>\n",
       "    <tr>\n",
       "      <th>1637</th>\n",
       "      <td>Winne Margiotta</td>\n",
       "      <td>37.84</td>\n",
       "      <td>37.40</td>\n",
       "      <td>37.23</td>\n",
       "      <td>37.90</td>\n",
       "      <td>NaN</td>\n",
       "      <td>NaN</td>\n",
       "      <td>37.01</td>\n",
       "      <td>37.03</td>\n",
       "      <td>36.84</td>\n",
       "      <td>37.53</td>\n",
       "    </tr>\n",
       "    <tr>\n",
       "      <th>2261</th>\n",
       "      <td>Winne Margiotta</td>\n",
       "      <td>37.84</td>\n",
       "      <td>37.40</td>\n",
       "      <td>37.23</td>\n",
       "      <td>37.90</td>\n",
       "      <td>NaN</td>\n",
       "      <td>NaN</td>\n",
       "      <td>37.01</td>\n",
       "      <td>37.03</td>\n",
       "      <td>36.84</td>\n",
       "      <td>37.53</td>\n",
       "    </tr>\n",
       "  </tbody>\n",
       "</table>\n",
       "</div>"
      ],
      "text/plain": [
       "                   nombre     d1     d2     d3     d4     d5     d6     d7  \\\n",
       "2200         Ailyn Hexter  36.67  36.10  36.36  36.59  36.99  37.22  36.34   \n",
       "85           Ailyn Hexter  36.67  36.10  36.36  36.59  36.99  37.22  36.34   \n",
       "1352     Andriana Mossman  37.40  36.81  37.46  36.89  36.22  36.40  37.97   \n",
       "1528     Andriana Mossman  37.40  36.81  37.46  36.89  36.22  36.40  37.97   \n",
       "847      Bernarr D'Arrigo  36.83  36.94    NaN  36.01  37.80  37.94  36.30   \n",
       "306      Bernarr D'Arrigo  36.83  36.94    NaN  36.01  37.80  37.94  36.30   \n",
       "453         Celeste Gooch  36.11  36.87  36.68    NaN  37.92  36.72  37.93   \n",
       "2954        Celeste Gooch  36.11  36.87  36.68    NaN  37.92  36.72  37.93   \n",
       "136          Dagny Burree  37.58  36.17  37.00  37.84  37.29  37.54  36.07   \n",
       "73           Dagny Burree  37.58  36.17  37.00  37.84  37.29  37.54  36.07   \n",
       "1329  Dennison Vanyashkin  36.67  36.47  36.41  37.09  36.86  36.48  36.01   \n",
       "2456  Dennison Vanyashkin  36.67  36.47  36.41  37.09  36.86  36.48  36.01   \n",
       "863     Gerladina Maguire  36.60  36.69  37.69  37.17  36.57  37.29  36.01   \n",
       "1451    Gerladina Maguire  36.60  36.69  37.69  37.17  36.57  37.29  36.01   \n",
       "280     Ginger Iacoviello  36.06  37.71  36.05  36.88    NaN  36.37  37.15   \n",
       "1687    Ginger Iacoviello  36.06  37.71  36.05  36.88    NaN  36.37  37.15   \n",
       "2255        Hamlin Denial  36.62  37.66  37.99    NaN    NaN  36.01  37.32   \n",
       "2629        Hamlin Denial  36.62  37.66  37.99    NaN    NaN  36.01  37.32   \n",
       "42           Holden Kerry  36.07  37.11  36.58    NaN  36.41  36.63  36.60   \n",
       "2461         Holden Kerry  36.07  37.11  36.58    NaN  36.41  36.63  36.60   \n",
       "3016          Hoyt Koenen  37.57  37.23  36.76  36.17  36.61  37.21  37.66   \n",
       "508           Hoyt Koenen  37.57  37.23  36.76  36.17  36.61  37.21  37.66   \n",
       "1414       Marijn Lothean  37.89  37.06  37.05  37.05  37.32  37.78  36.97   \n",
       "741        Marijn Lothean  37.89  37.06  37.05  37.05  37.32  37.78  36.97   \n",
       "13          Merola Muscat  36.24  37.19  37.16  37.66  36.88  37.80  36.04   \n",
       "235         Merola Muscat  36.24  37.19  37.16  37.66  36.88  37.80  36.04   \n",
       "2991      Paige Catherine  37.55  36.08  37.17  36.72  36.01  36.42  37.97   \n",
       "216       Paige Catherine  37.55  36.08  37.17  36.72  36.01  36.42  37.97   \n",
       "1409        Pascal Merfin  37.14  36.31  37.61  37.12  37.28  36.43  37.39   \n",
       "1413        Pascal Merfin  37.14  36.31  37.61  37.12  37.28  36.43  37.39   \n",
       "2525          Read Wemyss  36.79  36.00  37.50  36.82  37.13  37.94  37.63   \n",
       "2230          Read Wemyss  36.79  36.00  37.50  36.82  37.13  37.94  37.63   \n",
       "2433             Sal Oury  36.77  36.51  36.51  36.56  36.60  36.30  37.26   \n",
       "2668             Sal Oury  36.77  36.51  36.51  36.56  36.60  36.30  37.26   \n",
       "1637      Winne Margiotta  37.84  37.40  37.23  37.90    NaN    NaN  37.01   \n",
       "2261      Winne Margiotta  37.84  37.40  37.23  37.90    NaN    NaN  37.01   \n",
       "\n",
       "         d8     d9    d10  \n",
       "2200  37.51  36.72  37.59  \n",
       "85    37.51  36.72  37.59  \n",
       "1352  36.07  37.86    NaN  \n",
       "1528  36.07  37.86    NaN  \n",
       "847   37.97  37.75  37.35  \n",
       "306   37.97  37.75  37.35  \n",
       "453   37.29  36.15  36.60  \n",
       "2954  37.29  36.15  36.60  \n",
       "136   36.75    NaN  36.53  \n",
       "73    36.75    NaN  36.53  \n",
       "1329  37.86  36.99  36.10  \n",
       "2456  37.86  36.99  36.10  \n",
       "863   36.52  37.73  36.26  \n",
       "1451  36.52  37.73  36.26  \n",
       "280   36.90  37.03  37.61  \n",
       "1687  36.90  37.03  37.61  \n",
       "2255  36.71  36.47  37.43  \n",
       "2629  36.71  36.47  37.43  \n",
       "42    36.70  36.51  37.53  \n",
       "2461  36.70  36.51  37.53  \n",
       "3016  37.18  36.45  36.68  \n",
       "508   37.18  36.45  36.68  \n",
       "1414  37.84  37.62  37.78  \n",
       "741   37.84  37.62  37.78  \n",
       "13    37.47  38.00  36.92  \n",
       "235   37.47  38.00  36.92  \n",
       "2991  37.66  36.12  37.77  \n",
       "216   37.66  36.12  37.77  \n",
       "1409  36.69  37.83  37.17  \n",
       "1413  36.69  37.83  37.17  \n",
       "2525  37.81  37.71  37.28  \n",
       "2230  37.81  37.71  37.28  \n",
       "2433  37.12  37.60  36.90  \n",
       "2668  37.12  37.60  36.90  \n",
       "1637  37.03  36.84  37.53  \n",
       "2261  37.03  36.84  37.53  "
      ]
     },
     "execution_count": 19,
     "metadata": {},
     "output_type": "execute_result"
    }
   ],
   "source": [
    "# Si hay, entonces los listamos (keep, first, last, False)\n",
    "df_pacientes[df_pacientes.duplicated(subset=[\"nombre\"], keep=False)].sort_values(by='nombre')"
   ]
  },
  {
   "cell_type": "markdown",
   "metadata": {
    "id": "quNPvQHhcXF6"
   },
   "source": [
    "### Dataframe Netflix"
   ]
  },
  {
   "cell_type": "code",
   "execution_count": 20,
   "metadata": {
    "id": "LXuZr1KncYxY"
   },
   "outputs": [
    {
     "data": {
      "text/plain": [
       "np.int64(0)"
      ]
     },
     "execution_count": 20,
     "metadata": {},
     "output_type": "execute_result"
    }
   ],
   "source": [
    "df_netflix.duplicated().sum()"
   ]
  },
  {
   "cell_type": "code",
   "execution_count": 21,
   "metadata": {
    "id": "vhKHF-2mcc-c"
   },
   "outputs": [
    {
     "data": {
      "text/html": [
       "<div>\n",
       "<style scoped>\n",
       "    .dataframe tbody tr th:only-of-type {\n",
       "        vertical-align: middle;\n",
       "    }\n",
       "\n",
       "    .dataframe tbody tr th {\n",
       "        vertical-align: top;\n",
       "    }\n",
       "\n",
       "    .dataframe thead th {\n",
       "        text-align: right;\n",
       "    }\n",
       "</style>\n",
       "<table border=\"1\" class=\"dataframe\">\n",
       "  <thead>\n",
       "    <tr style=\"text-align: right;\">\n",
       "      <th></th>\n",
       "      <th>show_id</th>\n",
       "      <th>type</th>\n",
       "      <th>title</th>\n",
       "      <th>director</th>\n",
       "      <th>cast</th>\n",
       "      <th>country</th>\n",
       "      <th>date_added</th>\n",
       "      <th>release_year</th>\n",
       "      <th>rating</th>\n",
       "      <th>duration</th>\n",
       "      <th>listed_in</th>\n",
       "      <th>description</th>\n",
       "    </tr>\n",
       "  </thead>\n",
       "  <tbody>\n",
       "  </tbody>\n",
       "</table>\n",
       "</div>"
      ],
      "text/plain": [
       "Empty DataFrame\n",
       "Columns: [show_id, type, title, director, cast, country, date_added, release_year, rating, duration, listed_in, description]\n",
       "Index: []"
      ]
     },
     "execution_count": 21,
     "metadata": {},
     "output_type": "execute_result"
    }
   ],
   "source": [
    "df_netflix[df_netflix.duplicated()]"
   ]
  },
  {
   "cell_type": "markdown",
   "metadata": {
    "id": "vDYh-QrWcrlx"
   },
   "source": [
    "## Tratamiento de datos duplicados\n",
    "[Pandas drop_duplicates()](https://pandas.pydata.org/docs/reference/api/pandas.DataFrame.drop_duplicates.html)"
   ]
  },
  {
   "cell_type": "markdown",
   "metadata": {
    "id": "1Szdxzs2lo9C"
   },
   "source": [
    "### Dataset Satis"
   ]
  },
  {
   "cell_type": "code",
   "execution_count": 22,
   "metadata": {
    "id": "FYxJSeZ9fQkt"
   },
   "outputs": [
    {
     "name": "stdout",
     "output_type": "stream",
     "text": [
      "<class 'pandas.core.frame.DataFrame'>\n",
      "RangeIndex: 1128 entries, 0 to 1127\n",
      "Data columns (total 5 columns):\n",
      " #   Column        Non-Null Count  Dtype  \n",
      "---  ------        --------------  -----  \n",
      " 0   id            1128 non-null   int64  \n",
      " 1   Empresa       1128 non-null   object \n",
      " 2   Fecha         1128 non-null   object \n",
      " 3   Calificación  904 non-null    float64\n",
      " 4   Comentarios   818 non-null    object \n",
      "dtypes: float64(1), int64(1), object(3)\n",
      "memory usage: 44.2+ KB\n"
     ]
    }
   ],
   "source": [
    "df_satis.info()"
   ]
  },
  {
   "cell_type": "code",
   "execution_count": 23,
   "metadata": {
    "id": "GvXQPiXSdL1K"
   },
   "outputs": [
    {
     "name": "stdout",
     "output_type": "stream",
     "text": [
      "<class 'pandas.core.frame.DataFrame'>\n",
      "Index: 994 entries, 0 to 1127\n",
      "Data columns (total 5 columns):\n",
      " #   Column        Non-Null Count  Dtype  \n",
      "---  ------        --------------  -----  \n",
      " 0   id            994 non-null    int64  \n",
      " 1   Empresa       994 non-null    object \n",
      " 2   Fecha         994 non-null    object \n",
      " 3   Calificación  798 non-null    float64\n",
      " 4   Comentarios   728 non-null    object \n",
      "dtypes: float64(1), int64(1), object(3)\n",
      "memory usage: 46.6+ KB\n"
     ]
    }
   ],
   "source": [
    "df_satis_pp1 = df_satis.drop_duplicates(subset=[\"Empresa\", \"Calificación\"], keep=\"first\")\n",
    "df_satis_pp1.info()"
   ]
  },
  {
   "cell_type": "code",
   "execution_count": 24,
   "metadata": {
    "id": "zDFfjl47NOK7"
   },
   "outputs": [
    {
     "data": {
      "text/plain": [
       "np.int64(0)"
      ]
     },
     "execution_count": 24,
     "metadata": {},
     "output_type": "execute_result"
    }
   ],
   "source": [
    "df_netflix.duplicated().sum()"
   ]
  },
  {
   "cell_type": "code",
   "execution_count": 25,
   "metadata": {
    "id": "j_GtWCfWo_Jg"
   },
   "outputs": [
    {
     "data": {
      "text/html": [
       "<div>\n",
       "<style scoped>\n",
       "    .dataframe tbody tr th:only-of-type {\n",
       "        vertical-align: middle;\n",
       "    }\n",
       "\n",
       "    .dataframe tbody tr th {\n",
       "        vertical-align: top;\n",
       "    }\n",
       "\n",
       "    .dataframe thead th {\n",
       "        text-align: right;\n",
       "    }\n",
       "</style>\n",
       "<table border=\"1\" class=\"dataframe\">\n",
       "  <thead>\n",
       "    <tr style=\"text-align: right;\">\n",
       "      <th></th>\n",
       "      <th>id</th>\n",
       "      <th>Empresa</th>\n",
       "      <th>Fecha</th>\n",
       "      <th>Calificación</th>\n",
       "      <th>Comentarios</th>\n",
       "    </tr>\n",
       "  </thead>\n",
       "  <tbody>\n",
       "  </tbody>\n",
       "</table>\n",
       "</div>"
      ],
      "text/plain": [
       "Empty DataFrame\n",
       "Columns: [id, Empresa, Fecha, Calificación, Comentarios]\n",
       "Index: []"
      ]
     },
     "execution_count": 25,
     "metadata": {},
     "output_type": "execute_result"
    }
   ],
   "source": [
    "df_satis_pp1[df_satis_pp1.duplicated(subset=[\"Empresa\", \"Calificación\"], keep=False)].sort_values(by='Empresa')\n"
   ]
  },
  {
   "cell_type": "markdown",
   "metadata": {
    "id": "UgoJnK5MrB1p"
   },
   "source": [
    "## Exploración de datos nulos"
   ]
  },
  {
   "cell_type": "code",
   "execution_count": 26,
   "metadata": {
    "id": "Fd9KBubBrF3l"
   },
   "outputs": [
    {
     "name": "stdout",
     "output_type": "stream",
     "text": [
      "<class 'pandas.core.frame.DataFrame'>\n",
      "RangeIndex: 1128 entries, 0 to 1127\n",
      "Data columns (total 5 columns):\n",
      " #   Column        Non-Null Count  Dtype  \n",
      "---  ------        --------------  -----  \n",
      " 0   id            1128 non-null   int64  \n",
      " 1   Empresa       1128 non-null   object \n",
      " 2   Fecha         1128 non-null   object \n",
      " 3   Calificación  904 non-null    float64\n",
      " 4   Comentarios   818 non-null    object \n",
      "dtypes: float64(1), int64(1), object(3)\n",
      "memory usage: 44.2+ KB\n"
     ]
    }
   ],
   "source": [
    "df_satis.info()"
   ]
  },
  {
   "cell_type": "code",
   "execution_count": 27,
   "metadata": {
    "id": "GAa6Fu8jrLft"
   },
   "outputs": [
    {
     "data": {
      "text/plain": [
       "np.int64(477)"
      ]
     },
     "execution_count": 27,
     "metadata": {},
     "output_type": "execute_result"
    }
   ],
   "source": [
    "# Ver si hay valores nulos, en general o en columnas especificas\n",
    "#df_satis.isnull().sum()\n",
    "#df_satis[[\"Comentarios\", \"Calificación\"]].isnull().sum()\n",
    "df_satis.isnull().any(axis=1).sum()"
   ]
  },
  {
   "cell_type": "code",
   "execution_count": 28,
   "metadata": {
    "id": "lfLrT3UWrctd"
   },
   "outputs": [
    {
     "data": {
      "text/html": [
       "<div>\n",
       "<style scoped>\n",
       "    .dataframe tbody tr th:only-of-type {\n",
       "        vertical-align: middle;\n",
       "    }\n",
       "\n",
       "    .dataframe tbody tr th {\n",
       "        vertical-align: top;\n",
       "    }\n",
       "\n",
       "    .dataframe thead th {\n",
       "        text-align: right;\n",
       "    }\n",
       "</style>\n",
       "<table border=\"1\" class=\"dataframe\">\n",
       "  <thead>\n",
       "    <tr style=\"text-align: right;\">\n",
       "      <th></th>\n",
       "      <th>Comentarios</th>\n",
       "      <th>Calificación</th>\n",
       "    </tr>\n",
       "  </thead>\n",
       "  <tbody>\n",
       "    <tr>\n",
       "      <th>3</th>\n",
       "      <td>NaN</td>\n",
       "      <td>1.0</td>\n",
       "    </tr>\n",
       "    <tr>\n",
       "      <th>6</th>\n",
       "      <td>NaN</td>\n",
       "      <td>NaN</td>\n",
       "    </tr>\n",
       "    <tr>\n",
       "      <th>7</th>\n",
       "      <td>Donec diam neque, vestibulum eget, vulputate u...</td>\n",
       "      <td>NaN</td>\n",
       "    </tr>\n",
       "    <tr>\n",
       "      <th>8</th>\n",
       "      <td>NaN</td>\n",
       "      <td>NaN</td>\n",
       "    </tr>\n",
       "    <tr>\n",
       "      <th>9</th>\n",
       "      <td>NaN</td>\n",
       "      <td>5.0</td>\n",
       "    </tr>\n",
       "    <tr>\n",
       "      <th>...</th>\n",
       "      <td>...</td>\n",
       "      <td>...</td>\n",
       "    </tr>\n",
       "    <tr>\n",
       "      <th>1121</th>\n",
       "      <td>NaN</td>\n",
       "      <td>NaN</td>\n",
       "    </tr>\n",
       "    <tr>\n",
       "      <th>1122</th>\n",
       "      <td>NaN</td>\n",
       "      <td>NaN</td>\n",
       "    </tr>\n",
       "    <tr>\n",
       "      <th>1124</th>\n",
       "      <td>In hac habitasse platea dictumst. Morbi vestib...</td>\n",
       "      <td>NaN</td>\n",
       "    </tr>\n",
       "    <tr>\n",
       "      <th>1125</th>\n",
       "      <td>NaN</td>\n",
       "      <td>4.0</td>\n",
       "    </tr>\n",
       "    <tr>\n",
       "      <th>1127</th>\n",
       "      <td>NaN</td>\n",
       "      <td>1.0</td>\n",
       "    </tr>\n",
       "  </tbody>\n",
       "</table>\n",
       "<p>477 rows × 2 columns</p>\n",
       "</div>"
      ],
      "text/plain": [
       "                                            Comentarios  Calificación\n",
       "3                                                   NaN           1.0\n",
       "6                                                   NaN           NaN\n",
       "7     Donec diam neque, vestibulum eget, vulputate u...           NaN\n",
       "8                                                   NaN           NaN\n",
       "9                                                   NaN           5.0\n",
       "...                                                 ...           ...\n",
       "1121                                                NaN           NaN\n",
       "1122                                                NaN           NaN\n",
       "1124  In hac habitasse platea dictumst. Morbi vestib...           NaN\n",
       "1125                                                NaN           4.0\n",
       "1127                                                NaN           1.0\n",
       "\n",
       "[477 rows x 2 columns]"
      ]
     },
     "execution_count": 28,
     "metadata": {},
     "output_type": "execute_result"
    }
   ],
   "source": [
    "# Visualizar los registros con celdas null / NaN\n",
    "df_satis[df_satis.isnull().any(axis=1)][[\"Comentarios\", \"Calificación\"]]"
   ]
  },
  {
   "cell_type": "code",
   "execution_count": 46,
   "metadata": {},
   "outputs": [
    {
     "data": {
      "text/html": [
       "<div>\n",
       "<style scoped>\n",
       "    .dataframe tbody tr th:only-of-type {\n",
       "        vertical-align: middle;\n",
       "    }\n",
       "\n",
       "    .dataframe tbody tr th {\n",
       "        vertical-align: top;\n",
       "    }\n",
       "\n",
       "    .dataframe thead th {\n",
       "        text-align: right;\n",
       "    }\n",
       "</style>\n",
       "<table border=\"1\" class=\"dataframe\">\n",
       "  <thead>\n",
       "    <tr style=\"text-align: right;\">\n",
       "      <th></th>\n",
       "      <th>id</th>\n",
       "      <th>Empresa</th>\n",
       "      <th>Fecha</th>\n",
       "      <th>Calificación</th>\n",
       "      <th>Comentarios</th>\n",
       "    </tr>\n",
       "  </thead>\n",
       "  <tbody>\n",
       "    <tr>\n",
       "      <th>3</th>\n",
       "      <td>4</td>\n",
       "      <td>McDermott Inc</td>\n",
       "      <td>01/12/2024</td>\n",
       "      <td>1.0</td>\n",
       "      <td>NaN</td>\n",
       "    </tr>\n",
       "    <tr>\n",
       "      <th>6</th>\n",
       "      <td>7</td>\n",
       "      <td>Moen-Hartmann</td>\n",
       "      <td>11/03/2024</td>\n",
       "      <td>NaN</td>\n",
       "      <td>NaN</td>\n",
       "    </tr>\n",
       "    <tr>\n",
       "      <th>7</th>\n",
       "      <td>8</td>\n",
       "      <td>Lubowitz and Sons</td>\n",
       "      <td>27/01/2024</td>\n",
       "      <td>NaN</td>\n",
       "      <td>Donec diam neque, vestibulum eget, vulputate u...</td>\n",
       "    </tr>\n",
       "    <tr>\n",
       "      <th>8</th>\n",
       "      <td>9</td>\n",
       "      <td>Waters-Lakin</td>\n",
       "      <td>04/09/2024</td>\n",
       "      <td>NaN</td>\n",
       "      <td>NaN</td>\n",
       "    </tr>\n",
       "    <tr>\n",
       "      <th>9</th>\n",
       "      <td>10</td>\n",
       "      <td>Legros-Olson</td>\n",
       "      <td>12/11/2024</td>\n",
       "      <td>5.0</td>\n",
       "      <td>NaN</td>\n",
       "    </tr>\n",
       "    <tr>\n",
       "      <th>...</th>\n",
       "      <td>...</td>\n",
       "      <td>...</td>\n",
       "      <td>...</td>\n",
       "      <td>...</td>\n",
       "      <td>...</td>\n",
       "    </tr>\n",
       "    <tr>\n",
       "      <th>1121</th>\n",
       "      <td>995</td>\n",
       "      <td>Altenwerth LLC</td>\n",
       "      <td>13/09/2024</td>\n",
       "      <td>NaN</td>\n",
       "      <td>NaN</td>\n",
       "    </tr>\n",
       "    <tr>\n",
       "      <th>1122</th>\n",
       "      <td>995</td>\n",
       "      <td>Altenwerth LLC</td>\n",
       "      <td>13/09/2024</td>\n",
       "      <td>NaN</td>\n",
       "      <td>NaN</td>\n",
       "    </tr>\n",
       "    <tr>\n",
       "      <th>1124</th>\n",
       "      <td>997</td>\n",
       "      <td>Schimmel, Gleichner and O'Keefe</td>\n",
       "      <td>25/12/2024</td>\n",
       "      <td>NaN</td>\n",
       "      <td>In hac habitasse platea dictumst. Morbi vestib...</td>\n",
       "    </tr>\n",
       "    <tr>\n",
       "      <th>1125</th>\n",
       "      <td>998</td>\n",
       "      <td>Strosin, Tromp and Dicki</td>\n",
       "      <td>23/05/2024</td>\n",
       "      <td>4.0</td>\n",
       "      <td>NaN</td>\n",
       "    </tr>\n",
       "    <tr>\n",
       "      <th>1127</th>\n",
       "      <td>1000</td>\n",
       "      <td>Prohaska, Quitzon and Strosin</td>\n",
       "      <td>30/03/2024</td>\n",
       "      <td>1.0</td>\n",
       "      <td>NaN</td>\n",
       "    </tr>\n",
       "  </tbody>\n",
       "</table>\n",
       "<p>477 rows × 5 columns</p>\n",
       "</div>"
      ],
      "text/plain": [
       "        id                          Empresa       Fecha  Calificación  \\\n",
       "3        4                    McDermott Inc  01/12/2024           1.0   \n",
       "6        7                    Moen-Hartmann  11/03/2024           NaN   \n",
       "7        8                Lubowitz and Sons  27/01/2024           NaN   \n",
       "8        9                     Waters-Lakin  04/09/2024           NaN   \n",
       "9       10                     Legros-Olson  12/11/2024           5.0   \n",
       "...    ...                              ...         ...           ...   \n",
       "1121   995                   Altenwerth LLC  13/09/2024           NaN   \n",
       "1122   995                   Altenwerth LLC  13/09/2024           NaN   \n",
       "1124   997  Schimmel, Gleichner and O'Keefe  25/12/2024           NaN   \n",
       "1125   998         Strosin, Tromp and Dicki  23/05/2024           4.0   \n",
       "1127  1000    Prohaska, Quitzon and Strosin  30/03/2024           1.0   \n",
       "\n",
       "                                            Comentarios  \n",
       "3                                                   NaN  \n",
       "6                                                   NaN  \n",
       "7     Donec diam neque, vestibulum eget, vulputate u...  \n",
       "8                                                   NaN  \n",
       "9                                                   NaN  \n",
       "...                                                 ...  \n",
       "1121                                                NaN  \n",
       "1122                                                NaN  \n",
       "1124  In hac habitasse platea dictumst. Morbi vestib...  \n",
       "1125                                                NaN  \n",
       "1127                                                NaN  \n",
       "\n",
       "[477 rows x 5 columns]"
      ]
     },
     "execution_count": 46,
     "metadata": {},
     "output_type": "execute_result"
    }
   ],
   "source": [
    "df_satis[df_satis.isnull().any(axis=1)]"
   ]
  },
  {
   "cell_type": "markdown",
   "metadata": {
    "id": "Zi0n5cJ9twro"
   },
   "source": [
    "## Tratamiento de datos nulos"
   ]
  },
  {
   "cell_type": "markdown",
   "metadata": {
    "id": "HboQX6EjmoXk"
   },
   "source": [
    "### drop"
   ]
  },
  {
   "cell_type": "markdown",
   "metadata": {
    "id": "rqqvPnXqDXSz"
   },
   "source": [
    "`dropna` se usa para eliminar registros que contengan datos nulos\n",
    "<BR>\n",
    "[Pandas dropna](https://pandas.pydata.org/docs/reference/api/pandas.DataFrame.dropna.html)\n",
    "\n",
    "* how: para especificar si (any / all) celdas deben tener NaN\n",
    "* thresh: indicar la cantidad de NaN para ejecutar el drop (no se puede combinar con any)\n",
    "* subset: indicar las columnas a evaluar\n",
    "* inplace: si guarda los cambios en el dataframe o retorna una copia"
   ]
  },
  {
   "cell_type": "markdown",
   "metadata": {
    "id": "cOVL42yRhcd5"
   },
   "source": [
    "Analizar y comparar que sucede cuando aplicamos dropna a todas las columnas o a algunas especificas."
   ]
  },
  {
   "cell_type": "code",
   "execution_count": 49,
   "metadata": {
    "id": "gcSHOHrzt11p"
   },
   "outputs": [
    {
     "name": "stdout",
     "output_type": "stream",
     "text": [
      "<class 'pandas.core.frame.DataFrame'>\n",
      "Index: 651 entries, 0 to 1126\n",
      "Data columns (total 5 columns):\n",
      " #   Column        Non-Null Count  Dtype  \n",
      "---  ------        --------------  -----  \n",
      " 0   id            651 non-null    int64  \n",
      " 1   Empresa       651 non-null    object \n",
      " 2   Fecha         651 non-null    object \n",
      " 3   Calificación  651 non-null    float64\n",
      " 4   Comentarios   651 non-null    object \n",
      "dtypes: float64(1), int64(1), object(3)\n",
      "memory usage: 30.5+ KB\n"
     ]
    }
   ],
   "source": [
    "# Eliminar un registro si alguna las columnas contienen NaA\n",
    "df_satis_pp2 = df_satis.dropna()\n",
    "df_satis_pp2.info()"
   ]
  },
  {
   "cell_type": "code",
   "execution_count": 50,
   "metadata": {
    "id": "Obuej6GHg1xY"
   },
   "outputs": [
    {
     "name": "stdout",
     "output_type": "stream",
     "text": [
      "<class 'pandas.core.frame.DataFrame'>\n",
      "RangeIndex: 1128 entries, 0 to 1127\n",
      "Data columns (total 5 columns):\n",
      " #   Column        Non-Null Count  Dtype  \n",
      "---  ------        --------------  -----  \n",
      " 0   id            1128 non-null   int64  \n",
      " 1   Empresa       1128 non-null   object \n",
      " 2   Fecha         1128 non-null   object \n",
      " 3   Calificación  904 non-null    float64\n",
      " 4   Comentarios   818 non-null    object \n",
      "dtypes: float64(1), int64(1), object(3)\n",
      "memory usage: 44.2+ KB\n"
     ]
    }
   ],
   "source": [
    "# Eliminar un registro si alguna o tdas las columnas contienen NaA\n",
    "df_satis_pp2 = df_satis.dropna(how=\"all\")\n",
    "df_satis_pp2.info()"
   ]
  },
  {
   "cell_type": "code",
   "execution_count": 51,
   "metadata": {
    "id": "dZhzbrx62Hse"
   },
   "outputs": [
    {
     "name": "stdout",
     "output_type": "stream",
     "text": [
      "<class 'pandas.core.frame.DataFrame'>\n",
      "Index: 651 entries, 0 to 1126\n",
      "Data columns (total 5 columns):\n",
      " #   Column        Non-Null Count  Dtype  \n",
      "---  ------        --------------  -----  \n",
      " 0   id            651 non-null    int64  \n",
      " 1   Empresa       651 non-null    object \n",
      " 2   Fecha         651 non-null    object \n",
      " 3   Calificación  651 non-null    float64\n",
      " 4   Comentarios   651 non-null    object \n",
      "dtypes: float64(1), int64(1), object(3)\n",
      "memory usage: 30.5+ KB\n"
     ]
    }
   ],
   "source": [
    "# Eliminar un registro solo evaluando NaN en las columnas indicadas\n",
    "df_satis_pp2 = df_satis.dropna(subset=[\"Comentarios\", \"Calificación\"])\n",
    "df_satis_pp2.info()"
   ]
  },
  {
   "cell_type": "code",
   "execution_count": 52,
   "metadata": {
    "id": "Nd0sdRmjeHa8"
   },
   "outputs": [
    {
     "name": "stdout",
     "output_type": "stream",
     "text": [
      "<class 'pandas.core.frame.DataFrame'>\n",
      "RangeIndex: 1128 entries, 0 to 1127\n",
      "Data columns (total 3 columns):\n",
      " #   Column   Non-Null Count  Dtype \n",
      "---  ------   --------------  ----- \n",
      " 0   id       1128 non-null   int64 \n",
      " 1   Empresa  1128 non-null   object\n",
      " 2   Fecha    1128 non-null   object\n",
      "dtypes: int64(1), object(2)\n",
      "memory usage: 26.6+ KB\n"
     ]
    }
   ],
   "source": [
    "# Eliminar una columna si contiene NaN\n",
    "df_satis_pp2 = df_satis.dropna(axis=1) # no accepta subset\n",
    "df_satis_pp2.info()"
   ]
  },
  {
   "cell_type": "markdown",
   "metadata": {
    "id": "Wlrcc3jeDVEh"
   },
   "source": [
    "### fill"
   ]
  },
  {
   "cell_type": "markdown",
   "metadata": {
    "id": "814RqpKuDdYP"
   },
   "source": [
    "`fillna` se utiliza para completar el dato faltante\n",
    "<BR>\n",
    "[Pandas fillna](https://pandas.pydata.org/docs/reference/api/pandas.DataFrame.fillna.html)\n",
    "<BR>\n",
    "* df.fillna(0)  se completa con un valor fijo\n",
    "* df.fillna(method=\"ffill\")  completa con el valor del registro anterior\n",
    "* df.fillna(method=\"bfill\") completa con el valor del registro previo\n",
    "* df[\"col\"].fillna(df[\"col\"].mean()) completa con la media de la columna\n",
    "* df.fillna({\"col1\": 0, \"col2\": \"desconocido\"})"
   ]
  },
  {
   "cell_type": "markdown",
   "metadata": {
    "id": "lkVpokeetAzd"
   },
   "source": [
    "1. completamos con un valor fijo"
   ]
  },
  {
   "cell_type": "code",
   "execution_count": null,
   "metadata": {
    "id": "G-Uk5sk3nf2Z"
   },
   "outputs": [],
   "source": [
    "# usamos el atributo value con un valor fijo en 0\n",
    "df_satis_pp3 = df_satis.fillna(value = 0)\n",
    "df_satis_pp3.info()"
   ]
  },
  {
   "cell_type": "code",
   "execution_count": null,
   "metadata": {
    "id": "J7BqXahzsIXk"
   },
   "outputs": [],
   "source": [
    "# También podríamos usar un diccionario\n",
    "df_satis_pp3 = df_satis.fillna({\"Calificación\": 0, \"Comentarios\": \"Sin dato\"})"
   ]
  },
  {
   "cell_type": "code",
   "execution_count": null,
   "metadata": {
    "id": "5l6K3Ch8p3iz"
   },
   "outputs": [],
   "source": [
    "# listamos los primeros registros\n",
    "df_satis_pp3.head(10)"
   ]
  },
  {
   "cell_type": "code",
   "execution_count": null,
   "metadata": {
    "collapsed": true,
    "id": "kgZc2LqiokLt"
   },
   "outputs": [],
   "source": [
    "# Eventualmente ajustamos el tipo de dato\n",
    "df_satis_pp3 = df_satis_pp3.astype({\"Comentarios\": \"string\"})\n",
    "df_satis_pp3.info()"
   ]
  },
  {
   "cell_type": "code",
   "execution_count": null,
   "metadata": {
    "id": "fg4NNCoCnlMI"
   },
   "outputs": [],
   "source": [
    "# Podemos aplicar filtros\n",
    "df_satis_pp3[df_satis_pp3[\"Comentarios\"]==\"0\"]"
   ]
  },
  {
   "cell_type": "markdown",
   "metadata": {
    "id": "NYIeIyXftF9d"
   },
   "source": [
    "2. Completamos con el valor próximo"
   ]
  },
  {
   "cell_type": "code",
   "execution_count": null,
   "metadata": {
    "id": "gH12WAjWpvRk"
   },
   "outputs": [],
   "source": [
    "df_satis_pp3 = df_satis.fillna(method = \"ffill\")\n",
    "df_satis_pp3.info()"
   ]
  },
  {
   "cell_type": "markdown",
   "metadata": {
    "id": "5BZgmxVmtMH7"
   },
   "source": [
    "3. Completamos con el valor previo"
   ]
  },
  {
   "cell_type": "code",
   "execution_count": null,
   "metadata": {
    "id": "RoNmFPentOep"
   },
   "outputs": [],
   "source": [
    "df_satis_pp3 = df_satis.fillna(method = \"bfill\")\n",
    "df_satis_pp3.info()"
   ]
  },
  {
   "cell_type": "markdown",
   "metadata": {
    "id": "hpYrnpu5tVuX"
   },
   "source": [
    "4. Completamos con la media, meadiana, moda"
   ]
  },
  {
   "cell_type": "code",
   "execution_count": null,
   "metadata": {
    "id": "_m_azcEhtZ4D"
   },
   "outputs": [],
   "source": [
    "df_satis_pp3 = df_satis.fillna(df_satis.mean(numeric_only=True))\n",
    "df_satis_pp3.info()"
   ]
  },
  {
   "cell_type": "code",
   "execution_count": null,
   "metadata": {
    "id": "PWILEjXpInLC"
   },
   "outputs": [],
   "source": [
    "# calcular la media de la columna Calificación\n",
    "media_calif = df_satis[\"Calificación\"].mode()[0] # mean() / median() / mode()[0]\n",
    "\n",
    "# aplicar fillna con diccionario\n",
    "df_satis_pp3 = df_satis.fillna({\n",
    "    \"Calificación\": media_calif,\n",
    "    \"Comentarios\": \"Sin dato\"\n",
    "})"
   ]
  },
  {
   "cell_type": "code",
   "execution_count": null,
   "metadata": {
    "id": "Gsc7wa8Luhuz"
   },
   "outputs": [],
   "source": [
    "df_satis_pp3.head(5)"
   ]
  },
  {
   "cell_type": "markdown",
   "metadata": {
    "id": "irB1hu0SL0zD"
   },
   "source": [
    "Analicemos el dataset pacientes"
   ]
  },
  {
   "cell_type": "code",
   "execution_count": null,
   "metadata": {
    "id": "sfPx4yl3MSz2"
   },
   "outputs": [],
   "source": [
    "df_pacientes.info()"
   ]
  },
  {
   "cell_type": "code",
   "execution_count": null,
   "metadata": {
    "id": "-dpCdJYhMVFD"
   },
   "outputs": [],
   "source": [
    "# Completamos con la media de la columna\n",
    "df_pacientes_pp1 = df_pacientes.fillna(df_pacientes.mean(numeric_only=True))\n",
    "df_pacientes_pp1.info()"
   ]
  },
  {
   "cell_type": "code",
   "execution_count": null,
   "metadata": {
    "id": "EZbSji4PMjRo"
   },
   "outputs": [],
   "source": [
    "# Completamos con la media de la fila usando lambda\n",
    "\n",
    "# seleccionar solo las columnas d1...d10\n",
    "cols = df_pacientes.columns[1:]   # todas excepto 'nombre'\n",
    "\n",
    "# aplicar moda por fila\n",
    "df_pacientes_pp1[cols] = df_pacientes[cols].apply(\n",
    "    lambda row: row.fillna(row.mean()), axis=1\n",
    ")"
   ]
  },
  {
   "cell_type": "code",
   "execution_count": null,
   "metadata": {
    "id": "FRGn91HNPUtT"
   },
   "outputs": [],
   "source": [
    "# Completamos con la media de la fila usando T (traspuesta)\n",
    "df_pacientes_pp1[cols] = df_pacientes[cols].T.fillna(df_pacientes[cols].mean(axis=1)).T"
   ]
  },
  {
   "cell_type": "code",
   "execution_count": null,
   "metadata": {
    "id": "5htetQ0ROA1Y"
   },
   "outputs": [],
   "source": [
    "#df_pacientes.head()\n",
    "df_pacientes_pp1.head()"
   ]
  },
  {
   "cell_type": "markdown",
   "metadata": {
    "id": "INXLSCxaPreV"
   },
   "source": [
    "Veamos el concepto de Traspuesta"
   ]
  },
  {
   "cell_type": "code",
   "execution_count": null,
   "metadata": {
    "id": "ijYKicyTPvoW"
   },
   "outputs": [],
   "source": [
    "df = pd.DataFrame({\n",
    "    \"A\": [1, 2, 3],\n",
    "    \"B\": [4, 5, 6]\n",
    "})\n",
    "print(\"Original:\")\n",
    "print(df)\n",
    "\n",
    "print(\"\\nTranspuesta:\")\n",
    "print(df.T)"
   ]
  },
  {
   "cell_type": "markdown",
   "metadata": {
    "id": "DaGJeJEJNSy5"
   },
   "source": [
    "## Normalización de datos"
   ]
  },
  {
   "cell_type": "markdown",
   "metadata": {
    "id": "zqzMRpOvL24q"
   },
   "source": [
    "## Ajustar tipo de dato"
   ]
  },
  {
   "cell_type": "markdown",
   "metadata": {
    "id": "puSQmvDdP-4l"
   },
   "source": [
    "### astype()"
   ]
  },
  {
   "cell_type": "markdown",
   "metadata": {
    "id": "qgJXk5YWQDPg"
   },
   "source": [
    "* df[\"col\"] = df[\"col\"].astype(int)\n",
    "* df[\"col\"] = df[\"col\"].astype(float)\n",
    "* df[\"col\"] = df[\"col\"].astype(str)"
   ]
  },
  {
   "cell_type": "code",
   "execution_count": null,
   "metadata": {
    "id": "YgYCrtZHQNrD"
   },
   "outputs": [],
   "source": [
    "df_satis_pp4 = df_satis.copy()\n",
    "df_satis_pp4[\"Comentarios\"] = df_satis[\"Comentarios\"].astype(\"string\")"
   ]
  },
  {
   "cell_type": "code",
   "execution_count": null,
   "metadata": {
    "id": "jHcS9qJcQCkw"
   },
   "outputs": [],
   "source": [
    "df_satis_pp4.info()"
   ]
  },
  {
   "cell_type": "markdown",
   "metadata": {
    "id": "KLdTIJTmQ1BJ"
   },
   "source": [
    "### to_numeric()"
   ]
  },
  {
   "cell_type": "code",
   "execution_count": null,
   "metadata": {
    "id": "H3ILDagaQ8rt"
   },
   "outputs": [],
   "source": [
    "pd.to_numeric(df[\"col\"], errors=\"coerce\")"
   ]
  },
  {
   "cell_type": "markdown",
   "metadata": {
    "id": "y536nQ_1GU12"
   },
   "source": [
    "### to_datetime()"
   ]
  },
  {
   "cell_type": "code",
   "execution_count": null,
   "metadata": {
    "id": "zScj_SodHWXm"
   },
   "outputs": [],
   "source": [
    "type(df_satis[\"Fecha\"][0])\n",
    "df_satis[\"Fecha\"][0]"
   ]
  },
  {
   "cell_type": "code",
   "execution_count": null,
   "metadata": {
    "id": "qH0J8NRLGZOK"
   },
   "outputs": [],
   "source": [
    "# pd.to_datetime(df_satis.Fecha)\n",
    "pd.to_datetime(df_satis[\"Fecha\"], format=\"%d/%m/%Y\")\n"
   ]
  },
  {
   "cell_type": "markdown",
   "metadata": {
    "id": "vH7IoUz7Nclh"
   },
   "source": [
    "## Filtrado de datos"
   ]
  },
  {
   "cell_type": "code",
   "execution_count": null,
   "metadata": {
    "id": "G-E9FpFTR07-"
   },
   "outputs": [],
   "source": [
    "df_satis.info()"
   ]
  },
  {
   "cell_type": "code",
   "execution_count": null,
   "metadata": {
    "id": "4_86iYp-R0DR"
   },
   "outputs": [],
   "source": [
    "# Con una sola columna\n",
    "df_satis[\"Empresa\"]"
   ]
  },
  {
   "cell_type": "code",
   "execution_count": null,
   "metadata": {
    "id": "ZyrhE8uHR59U"
   },
   "outputs": [],
   "source": [
    "# Con varias columnas\n",
    "df_satis[[\"Empresa\", \"Fecha\"]]"
   ]
  },
  {
   "cell_type": "code",
   "execution_count": null,
   "metadata": {
    "id": "wL0YWCEhSycC"
   },
   "outputs": [],
   "source": [
    "df_satis[df_satis[\"Empresa\"] == \"Kuhn-Fay\"]"
   ]
  },
  {
   "cell_type": "code",
   "execution_count": null,
   "metadata": {
    "id": "TVVA2KMgSEbN"
   },
   "outputs": [],
   "source": [
    "# Con condición\n",
    "df_satis[[(\"Empresa\") ==\"Alpha\" & (\"Comentarios\" > \"3\")]]"
   ]
  }
 ],
 "metadata": {
  "colab": {
   "authorship_tag": "ABX9TyPPNffOeglLI8vY9psOO6YG",
   "provenance": [
    {
     "file_id": "1yiZU3RVCCIe_JJXyTO8bmlkdakoI3U_b",
     "timestamp": 1758576138671
    }
   ],
   "toc_visible": true
  },
  "kernelspec": {
   "display_name": "Python 3",
   "name": "python3"
  },
  "language_info": {
   "codemirror_mode": {
    "name": "ipython",
    "version": 3
   },
   "file_extension": ".py",
   "mimetype": "text/x-python",
   "name": "python",
   "nbconvert_exporter": "python",
   "pygments_lexer": "ipython3",
   "version": "3.13.7"
  }
 },
 "nbformat": 4,
 "nbformat_minor": 0
}
