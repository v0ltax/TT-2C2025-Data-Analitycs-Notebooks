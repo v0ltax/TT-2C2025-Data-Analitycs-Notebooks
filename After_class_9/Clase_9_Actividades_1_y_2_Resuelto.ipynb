{
  "nbformat": 4,
  "nbformat_minor": 0,
  "metadata": {
    "colab": {
      "provenance": []
    },
    "kernelspec": {
      "name": "python3",
      "display_name": "Python 3"
    },
    "language_info": {
      "name": "python"
    }
  },
  "cells": [
    {
      "cell_type": "markdown",
      "source": [
        "#Actividad 1: Análisis de Tendencia Central\n",
        "##Contexto\n",
        "En esta nueva semana de pasantía en SynthData. Silvia, la Project Manager y Data Scientist, te acaba de asignar una tarea crucial para conocer mejor los datos de clientes que la empresa ha recopilado. Tenés que calcular las medidas de tendencia central de las ventas mensuales de un producto específico en el último año. Esto les ayudará a identificar patrones y tomar decisiones informadas sobre el inventario.\n",
        "##Objetivos\n",
        "Calcular la media, la mediana y la moda de las ventas mensuales.\n",
        "Comprender la importancia de estas medidas en el análisis de datos de ventas.\n",
        "##Ejercicio práctico\n",
        "Realiza los siguientes cálculos en Python con los datos sobre las ventas mensuales en unidades del último año:\n",
        "* Calcular la media de las ventas.\n",
        "* Calcular la mediana de las ventas.\n",
        "* Calcular la moda de las ventas.\n",
        "Interpretá y explicá qué significan estos valores.\n",
        "\n",
        "##Set de datos\n",
        "```\n",
        "ventas = {\n",
        "    'Mes': ['Enero', 'Febrero', 'Marzo', 'Abril', 'Mayo', 'Junio', 'Julio', 'Agosto', 'Septiembre', 'Octubre', 'Noviembre', 'Diciembre'],\n",
        "    'Ventas (millones)': [10.2, 12.5, 15.1, 18.3, 20.5, 22.1, 24.8, 26.2, 25.5, 23.8, 21.9, 19.2]\n",
        "}\n",
        "```\n",
        "##¿Por qué importa esto en SynthData?\n",
        "Las medidas de tendencia central son esenciales para entender el rendimiento de un producto en el mercado. Ayudan a identificar si las ventas están creciendo, estables o en declive, permitiendo tomar decisiones estratégicas para el negocio.\n"
      ],
      "metadata": {
        "id": "QB_qL1K6k7KC"
      }
    },
    {
      "cell_type": "code",
      "execution_count": null,
      "metadata": {
        "colab": {
          "base_uri": "https://localhost:8080/"
        },
        "id": "WVxYdIQ9kfhA",
        "outputId": "7c207015-3572-40a9-e280-ae3ed70f992b"
      },
      "outputs": [
        {
          "output_type": "stream",
          "name": "stdout",
          "text": [
            "           Mes  Ventas (millones)\n",
            "0        Enero                1.2\n",
            "1      Febrero                2.5\n",
            "2        Marzo                3.1\n",
            "3        Abril               18.3\n",
            "4         Mayo               40.5\n",
            "5        Junio               52.1\n",
            "6        Julio               54.8\n",
            "7       Agosto               46.2\n",
            "8   Septiembre               25.5\n",
            "9      Octubre               13.8\n",
            "10   Noviembre               11.9\n",
            "11   Diciembre                9.2\n",
            "\n",
            "Media de las ventas: 23.26 millones\n",
            "Mediana de las ventas: 16.05 millones\n",
            "Moda de las ventas: 1.20 millones\n"
          ]
        }
      ],
      "source": [
        "import pandas as pd\n",
        "\n",
        "# Crear un dataframe con las ventas de enero a diciembre\n",
        "ventas = {\n",
        "    'Mes': ['Enero', 'Febrero', 'Marzo', 'Abril', 'Mayo', 'Junio', 'Julio', 'Agosto', 'Septiembre', 'Octubre', 'Noviembre', 'Diciembre'],\n",
        "    'Ventas (millones)': [1.2, 2.5, 3.1, 18.3, 40.5, 52.1, 54.8, 46.2, 25.5, 13.8, 11.9, 9.2]\n",
        "}\n",
        "\n",
        "df = pd.DataFrame(ventas)\n",
        "\n",
        "print(df)\n",
        "print()\n",
        "\n",
        "# Calcular la media de las ventas\n",
        "media_ventas = df['Ventas (millones)'].mean()\n",
        "print(f\"Media de las ventas: {media_ventas:.2f} millones\")\n",
        "\n",
        "# Calcular la mediana de las ventas\n",
        "mediana_ventas = df['Ventas (millones)'].median()\n",
        "print(f\"Mediana de las ventas: {mediana_ventas:.2f} millones\")\n",
        "\n",
        "# Calcular la moda de las ventas\n",
        "moda_ventas = df['Ventas (millones)'].mode().values[0]\n",
        "print(f\"Moda de las ventas: {moda_ventas:.2f} millones\")"
      ]
    },
    {
      "cell_type": "markdown",
      "source": [
        "#Actividad 2: Medidas de Dispersión\n",
        "##Contexto\n",
        "Matías, el Data Analyst, te solicita que analices la variabilidad de las ventas mensuales que calculaste en la actividad anterior. Este análisis es fundamental para saber si las fluctuaciones en las ventas podrían afectar los pronósticos futuros. Así, podrás entender mejor el comportamiento del producto en distintos meses del año.\n",
        "##Objetivos\n",
        "Calcular el rango, la varianza y la desviación standard de las ventas mensuales.\n",
        "Reconocer cómo estas medidas de dispersión informan sobre la estabilidad de las ventas.\n",
        "##Ejercicio práctico\n",
        "Utiliza el mismo conjunto de datos de ventas mensuales del ejercicio anterior y realiza lo siguiente en Python:\n",
        "* Calcular el rango de las ventas.\n",
        "* Calcular la varianza de las ventas.\n",
        "* Calcular la desviación standard de las ventas.\n",
        "Teorizá a partir de las dos actividades: Si tuvieras que adivinar de qué producto se trata, ¿cuál crees que se ajusta más a los valores obtenidos? Justificá tu elección.\n",
        "```\n",
        "[ ] Leche\n",
        "[ ] Bufanda\n",
        "[ ] Árbol de navidad\n",
        "[ ] Kit de geometría escolar\n",
        "[ ] Bronceador\n",
        "```\n",
        "##¿Por qué importa esto en SynthData?\n",
        "Las medidas de dispersión son esenciales para evaluar el riesgo y la estabilidad de las ventas. Un alto rango, varianza o desviación standard puede indicar comportamientos erráticos, lo que podría afectar la planificación del inventario y ventas futuras.\n"
      ],
      "metadata": {
        "id": "yPBfs7FcnFwa"
      }
    },
    {
      "cell_type": "code",
      "source": [
        "# Calcular el rango de las ventas\n",
        "rango_ventas = df['Ventas (millones)'].max() - df['Ventas (millones)'].min()\n",
        "print(f\"Rango de las ventas: {rango_ventas:.2f} millones\")\n",
        "\n",
        "# Calcular la varianza de las ventas\n",
        "varianza_ventas = df['Ventas (millones)'].var()\n",
        "print(f\"Varianza de las ventas: {varianza_ventas:.2f} millones^2\")\n",
        "\n",
        "# Calcular la desviación standard de las ventas\n",
        "desviacion_standard_ventas = df['Ventas (millones)'].std()\n",
        "print(f\"Desviación standard de las ventas: {desviacion_standard_ventas:.2f} millones\")"
      ],
      "metadata": {
        "colab": {
          "base_uri": "https://localhost:8080/"
        },
        "id": "qFzB8lh8lpfS",
        "outputId": "ecffed62-2fd1-4b9e-8cec-b79097665b74"
      },
      "execution_count": null,
      "outputs": [
        {
          "output_type": "stream",
          "name": "stdout",
          "text": [
            "Rango de las ventas: 53.60 millones\n",
            "Varianza de las ventas: 401.81 millones^2\n",
            "Desviación standard de las ventas: 20.05 millones\n"
          ]
        }
      ]
    },
    {
      "cell_type": "markdown",
      "source": [
        "\n",
        "Basándome en el análisis de los datos, puedo deducir que los patrones de demanda del producto se ajustan a las métricas de consumo esperadas para las bufandas.\n",
        "Esto se debe a que el patrón estacional de las ventas, con un pico muy alto en los meses de mayo, junio y julio, se ajusta a la temporada de invierno en el hemisferio sur, cuando las temperaturas son más bajas.\n"
      ],
      "metadata": {
        "id": "mVtGcuA4nQ9f"
      }
    }
  ]
}