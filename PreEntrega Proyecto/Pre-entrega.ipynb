{
 "cells": [
  {
   "cell_type": "markdown",
   "metadata": {
    "id": "G2HrbM6xhNs-"
   },
   "source": [
    "# Análisis de datos con Pyhon - Pre-entrega\n",
    "### Nombre y apellido: Sebastian Hernan Ariel Robledo"
   ]
  },
  {
   "cell_type": "markdown",
   "metadata": {
    "id": "-CxKqzBrhVHX"
   },
   "source": [
    "---\n",
    "# Etapa 1"
   ]
  },
  {
   "cell_type": "markdown",
   "metadata": {
    "id": "Wm34ILh_i9hu"
   },
   "source": [
    "## Importar Datasets\n",
    "### Actividad 1"
   ]
  },
  {
   "cell_type": "code",
   "execution_count": 53,
   "metadata": {},
   "outputs": [],
   "source": [
    "# Carga de datasets alojados en github\n",
    "urlClientes = \"https://raw.githubusercontent.com/v0ltax/TT-2C2025-Data-Analitycs-Notebooks/refs/heads/main/_Pre-Entrega/clientes.csv\"\n",
    "urlMarketing = \"https://raw.githubusercontent.com/v0ltax/TT-2C2025-Data-Analitycs-Notebooks/refs/heads/main/_Pre-Entrega/marketing.csv\"\n",
    "urlVentas = \"https://raw.githubusercontent.com/v0ltax/TT-2C2025-Data-Analitycs-Notebooks/refs/heads/main/_Pre-Entrega/ventas.csv\"\n",
    "\n",
    "import pandas as pd\n",
    "\n",
    "df_clientes = pd.read_csv(urlClientes)\n",
    "df_marketing = pd.read_csv(urlMarketing)\n",
    "df_ventas = pd.read_csv(urlVentas)"
   ]
  },
  {
   "cell_type": "code",
   "execution_count": 54,
   "metadata": {},
   "outputs": [
    {
     "data": {
      "text/html": [
       "<div>\n",
       "<style scoped>\n",
       "    .dataframe tbody tr th:only-of-type {\n",
       "        vertical-align: middle;\n",
       "    }\n",
       "\n",
       "    .dataframe tbody tr th {\n",
       "        vertical-align: top;\n",
       "    }\n",
       "\n",
       "    .dataframe thead th {\n",
       "        text-align: right;\n",
       "    }\n",
       "</style>\n",
       "<table border=\"1\" class=\"dataframe\">\n",
       "  <thead>\n",
       "    <tr style=\"text-align: right;\">\n",
       "      <th></th>\n",
       "      <th>id_venta</th>\n",
       "      <th>producto</th>\n",
       "      <th>precio</th>\n",
       "      <th>cantidad</th>\n",
       "      <th>fecha_venta</th>\n",
       "      <th>categoria</th>\n",
       "    </tr>\n",
       "  </thead>\n",
       "  <tbody>\n",
       "    <tr>\n",
       "      <th>0</th>\n",
       "      <td>792</td>\n",
       "      <td>Cuadro decorativo</td>\n",
       "      <td>$69.94</td>\n",
       "      <td>5.0</td>\n",
       "      <td>02/01/2024</td>\n",
       "      <td>Decoración</td>\n",
       "    </tr>\n",
       "    <tr>\n",
       "      <th>1</th>\n",
       "      <td>811</td>\n",
       "      <td>Lámpara de mesa</td>\n",
       "      <td>$105.10</td>\n",
       "      <td>5.0</td>\n",
       "      <td>02/01/2024</td>\n",
       "      <td>Decoración</td>\n",
       "    </tr>\n",
       "    <tr>\n",
       "      <th>2</th>\n",
       "      <td>1156</td>\n",
       "      <td>Secadora</td>\n",
       "      <td>$97.96</td>\n",
       "      <td>3.0</td>\n",
       "      <td>02/01/2024</td>\n",
       "      <td>Electrodomésticos</td>\n",
       "    </tr>\n",
       "    <tr>\n",
       "      <th>3</th>\n",
       "      <td>1372</td>\n",
       "      <td>Heladera</td>\n",
       "      <td>$114.35</td>\n",
       "      <td>8.0</td>\n",
       "      <td>02/01/2024</td>\n",
       "      <td>Electrodomésticos</td>\n",
       "    </tr>\n",
       "    <tr>\n",
       "      <th>4</th>\n",
       "      <td>1546</td>\n",
       "      <td>Secadora</td>\n",
       "      <td>$106.21</td>\n",
       "      <td>4.0</td>\n",
       "      <td>02/01/2024</td>\n",
       "      <td>Electrodomésticos</td>\n",
       "    </tr>\n",
       "    <tr>\n",
       "      <th>...</th>\n",
       "      <td>...</td>\n",
       "      <td>...</td>\n",
       "      <td>...</td>\n",
       "      <td>...</td>\n",
       "      <td>...</td>\n",
       "      <td>...</td>\n",
       "    </tr>\n",
       "    <tr>\n",
       "      <th>3030</th>\n",
       "      <td>1837</td>\n",
       "      <td>Horno eléctrico</td>\n",
       "      <td>$104.12</td>\n",
       "      <td>9.0</td>\n",
       "      <td>30/12/2024</td>\n",
       "      <td>Electrodomésticos</td>\n",
       "    </tr>\n",
       "    <tr>\n",
       "      <th>3031</th>\n",
       "      <td>2276</td>\n",
       "      <td>Laptop</td>\n",
       "      <td>$85.27</td>\n",
       "      <td>9.0</td>\n",
       "      <td>30/12/2024</td>\n",
       "      <td>Electrónica</td>\n",
       "    </tr>\n",
       "    <tr>\n",
       "      <th>3032</th>\n",
       "      <td>2696</td>\n",
       "      <td>Laptop</td>\n",
       "      <td>$107.81</td>\n",
       "      <td>4.0</td>\n",
       "      <td>30/12/2024</td>\n",
       "      <td>Electrónica</td>\n",
       "    </tr>\n",
       "    <tr>\n",
       "      <th>3033</th>\n",
       "      <td>2913</td>\n",
       "      <td>Smartphone</td>\n",
       "      <td>$99.85</td>\n",
       "      <td>7.0</td>\n",
       "      <td>30/12/2024</td>\n",
       "      <td>Electrónica</td>\n",
       "    </tr>\n",
       "    <tr>\n",
       "      <th>3034</th>\n",
       "      <td>2930</td>\n",
       "      <td>Consola de videojuegos</td>\n",
       "      <td>$55.47</td>\n",
       "      <td>6.0</td>\n",
       "      <td>30/12/2024</td>\n",
       "      <td>Electrónica</td>\n",
       "    </tr>\n",
       "  </tbody>\n",
       "</table>\n",
       "<p>3035 rows × 6 columns</p>\n",
       "</div>"
      ],
      "text/plain": [
       "      id_venta                producto   precio  cantidad fecha_venta  \\\n",
       "0          792       Cuadro decorativo   $69.94       5.0  02/01/2024   \n",
       "1          811         Lámpara de mesa  $105.10       5.0  02/01/2024   \n",
       "2         1156                Secadora   $97.96       3.0  02/01/2024   \n",
       "3         1372                Heladera  $114.35       8.0  02/01/2024   \n",
       "4         1546                Secadora  $106.21       4.0  02/01/2024   \n",
       "...        ...                     ...      ...       ...         ...   \n",
       "3030      1837         Horno eléctrico  $104.12       9.0  30/12/2024   \n",
       "3031      2276                  Laptop   $85.27       9.0  30/12/2024   \n",
       "3032      2696                  Laptop  $107.81       4.0  30/12/2024   \n",
       "3033      2913              Smartphone   $99.85       7.0  30/12/2024   \n",
       "3034      2930  Consola de videojuegos   $55.47       6.0  30/12/2024   \n",
       "\n",
       "              categoria  \n",
       "0            Decoración  \n",
       "1            Decoración  \n",
       "2     Electrodomésticos  \n",
       "3     Electrodomésticos  \n",
       "4     Electrodomésticos  \n",
       "...                 ...  \n",
       "3030  Electrodomésticos  \n",
       "3031        Electrónica  \n",
       "3032        Electrónica  \n",
       "3033        Electrónica  \n",
       "3034        Electrónica  \n",
       "\n",
       "[3035 rows x 6 columns]"
      ]
     },
     "execution_count": 54,
     "metadata": {},
     "output_type": "execute_result"
    }
   ],
   "source": [
    "df_ventas"
   ]
  },
  {
   "cell_type": "markdown",
   "metadata": {
    "id": "4ILasuZOlQH2"
   },
   "source": [
    "## Script básico\n",
    "### Actividades 2 y 3"
   ]
  },
  {
   "cell_type": "code",
   "execution_count": 55,
   "metadata": {
    "id": "HCohGTwZlUL5"
   },
   "outputs": [],
   "source": [
    "# Generamos una lista de diccionarios que contenga algunos datos\n",
    "ventas = [\n",
    "  {'producto': 'Laptop', 'precio': 500.0, 'cantidad': 3},\n",
    "  {'producto': 'Heladera', 'precio': 1000.0, 'cantidad': 5},\n",
    "  {'producto': 'Smartphone', 'precio': 100.0, 'cantidad': 15}\n",
    "]"
   ]
  },
  {
   "cell_type": "code",
   "execution_count": 56,
   "metadata": {
    "id": "OEfBFwOql3Du"
   },
   "outputs": [
    {
     "data": {
      "text/plain": [
       "8000.0"
      ]
     },
     "execution_count": 56,
     "metadata": {},
     "output_type": "execute_result"
    }
   ],
   "source": [
    "# Calculamos las ventas acumuladas - map\n",
    "ventas_totales = sum(map(lambda x: x['precio'] * x['cantidad'], ventas))\n",
    "ventas_totales"
   ]
  },
  {
   "cell_type": "code",
   "execution_count": 57,
   "metadata": {
    "id": "bF7f3yB_rzAi"
   },
   "outputs": [
    {
     "data": {
      "text/plain": [
       "8000.0"
      ]
     },
     "execution_count": 57,
     "metadata": {},
     "output_type": "execute_result"
    }
   ],
   "source": [
    "# Calculamos las ventas acumuladas - listas por comprensión\n",
    "venta_acumuladas = sum([venta[\"precio\"] * venta[\"cantidad\"] for venta in ventas])\n",
    "venta_acumuladas"
   ]
  },
  {
   "cell_type": "markdown",
   "metadata": {
    "id": "7CF7mLnpsQ8p"
   },
   "source": [
    "## Dataframe ventas\n",
    "### Actividad 4\n",
    "### Análisis exploratorio de **datos**"
   ]
  },
  {
   "cell_type": "markdown",
   "metadata": {
    "id": "l2yM5nTLwKjJ"
   },
   "source": [
    "Aplicamos los métodos de EDA vistos en clase, `info`, `columns`, `dtypes`, `head`, `tail`, `sample`, `unique`, `value_counts`, `describe`, `duplicated`, `isnull`, etc. y documentamos las observaciones:"
   ]
  },
  {
   "cell_type": "code",
   "execution_count": 58,
   "metadata": {
    "id": "9u6pn82DsZ0k"
   },
   "outputs": [
    {
     "name": "stdout",
     "output_type": "stream",
     "text": [
      "<class 'pandas.core.frame.DataFrame'>\n",
      "RangeIndex: 3035 entries, 0 to 3034\n",
      "Data columns (total 6 columns):\n",
      " #   Column       Non-Null Count  Dtype  \n",
      "---  ------       --------------  -----  \n",
      " 0   id_venta     3035 non-null   int64  \n",
      " 1   producto     3035 non-null   object \n",
      " 2   precio       3033 non-null   object \n",
      " 3   cantidad     3033 non-null   float64\n",
      " 4   fecha_venta  3035 non-null   object \n",
      " 5   categoria    3035 non-null   object \n",
      "dtypes: float64(1), int64(1), object(4)\n",
      "memory usage: 142.4+ KB\n"
     ]
    }
   ],
   "source": [
    "# Aplicamos info() para familiarizarnos con el dataframe\n",
    "df_ventas.info()"
   ]
  },
  {
   "cell_type": "code",
   "execution_count": 59,
   "metadata": {
    "id": "QX_TXdPFwEpc"
   },
   "outputs": [
    {
     "data": {
      "text/html": [
       "<div>\n",
       "<style scoped>\n",
       "    .dataframe tbody tr th:only-of-type {\n",
       "        vertical-align: middle;\n",
       "    }\n",
       "\n",
       "    .dataframe tbody tr th {\n",
       "        vertical-align: top;\n",
       "    }\n",
       "\n",
       "    .dataframe thead th {\n",
       "        text-align: right;\n",
       "    }\n",
       "</style>\n",
       "<table border=\"1\" class=\"dataframe\">\n",
       "  <thead>\n",
       "    <tr style=\"text-align: right;\">\n",
       "      <th></th>\n",
       "      <th>id_venta</th>\n",
       "      <th>producto</th>\n",
       "      <th>precio</th>\n",
       "      <th>cantidad</th>\n",
       "      <th>fecha_venta</th>\n",
       "      <th>categoria</th>\n",
       "    </tr>\n",
       "  </thead>\n",
       "  <tbody>\n",
       "    <tr>\n",
       "      <th>0</th>\n",
       "      <td>792</td>\n",
       "      <td>Cuadro decorativo</td>\n",
       "      <td>$69.94</td>\n",
       "      <td>5.0</td>\n",
       "      <td>02/01/2024</td>\n",
       "      <td>Decoración</td>\n",
       "    </tr>\n",
       "    <tr>\n",
       "      <th>1</th>\n",
       "      <td>811</td>\n",
       "      <td>Lámpara de mesa</td>\n",
       "      <td>$105.10</td>\n",
       "      <td>5.0</td>\n",
       "      <td>02/01/2024</td>\n",
       "      <td>Decoración</td>\n",
       "    </tr>\n",
       "    <tr>\n",
       "      <th>2</th>\n",
       "      <td>1156</td>\n",
       "      <td>Secadora</td>\n",
       "      <td>$97.96</td>\n",
       "      <td>3.0</td>\n",
       "      <td>02/01/2024</td>\n",
       "      <td>Electrodomésticos</td>\n",
       "    </tr>\n",
       "    <tr>\n",
       "      <th>3</th>\n",
       "      <td>1372</td>\n",
       "      <td>Heladera</td>\n",
       "      <td>$114.35</td>\n",
       "      <td>8.0</td>\n",
       "      <td>02/01/2024</td>\n",
       "      <td>Electrodomésticos</td>\n",
       "    </tr>\n",
       "    <tr>\n",
       "      <th>4</th>\n",
       "      <td>1546</td>\n",
       "      <td>Secadora</td>\n",
       "      <td>$106.21</td>\n",
       "      <td>4.0</td>\n",
       "      <td>02/01/2024</td>\n",
       "      <td>Electrodomésticos</td>\n",
       "    </tr>\n",
       "  </tbody>\n",
       "</table>\n",
       "</div>"
      ],
      "text/plain": [
       "   id_venta           producto   precio  cantidad fecha_venta  \\\n",
       "0       792  Cuadro decorativo   $69.94       5.0  02/01/2024   \n",
       "1       811    Lámpara de mesa  $105.10       5.0  02/01/2024   \n",
       "2      1156           Secadora   $97.96       3.0  02/01/2024   \n",
       "3      1372           Heladera  $114.35       8.0  02/01/2024   \n",
       "4      1546           Secadora  $106.21       4.0  02/01/2024   \n",
       "\n",
       "           categoria  \n",
       "0         Decoración  \n",
       "1         Decoración  \n",
       "2  Electrodomésticos  \n",
       "3  Electrodomésticos  \n",
       "4  Electrodomésticos  "
      ]
     },
     "execution_count": 59,
     "metadata": {},
     "output_type": "execute_result"
    }
   ],
   "source": [
    "# Visualizamos los primeros registros con head()\n",
    "# también podemos usar tail() para visualizar los últimos\n",
    "df_ventas.head()"
   ]
  },
  {
   "cell_type": "code",
   "execution_count": 60,
   "metadata": {
    "id": "r4Yu43kOxpIK"
   },
   "outputs": [
    {
     "data": {
      "text/html": [
       "<div>\n",
       "<style scoped>\n",
       "    .dataframe tbody tr th:only-of-type {\n",
       "        vertical-align: middle;\n",
       "    }\n",
       "\n",
       "    .dataframe tbody tr th {\n",
       "        vertical-align: top;\n",
       "    }\n",
       "\n",
       "    .dataframe thead th {\n",
       "        text-align: right;\n",
       "    }\n",
       "</style>\n",
       "<table border=\"1\" class=\"dataframe\">\n",
       "  <thead>\n",
       "    <tr style=\"text-align: right;\">\n",
       "      <th></th>\n",
       "      <th>id_venta</th>\n",
       "      <th>producto</th>\n",
       "      <th>precio</th>\n",
       "      <th>cantidad</th>\n",
       "      <th>fecha_venta</th>\n",
       "      <th>categoria</th>\n",
       "    </tr>\n",
       "  </thead>\n",
       "  <tbody>\n",
       "    <tr>\n",
       "      <th>1812</th>\n",
       "      <td>1915</td>\n",
       "      <td>Lavadora</td>\n",
       "      <td>$106.83</td>\n",
       "      <td>12.0</td>\n",
       "      <td>29/07/2024</td>\n",
       "      <td>Electrodomésticos</td>\n",
       "    </tr>\n",
       "    <tr>\n",
       "      <th>1029</th>\n",
       "      <td>2565</td>\n",
       "      <td>Auriculares</td>\n",
       "      <td>$49.70</td>\n",
       "      <td>3.0</td>\n",
       "      <td>24/04/2024</td>\n",
       "      <td>Electrónica</td>\n",
       "    </tr>\n",
       "    <tr>\n",
       "      <th>2713</th>\n",
       "      <td>1881</td>\n",
       "      <td>Freidora eléctrica</td>\n",
       "      <td>$107.86</td>\n",
       "      <td>9.0</td>\n",
       "      <td>20/11/2024</td>\n",
       "      <td>Electrodomésticos</td>\n",
       "    </tr>\n",
       "    <tr>\n",
       "      <th>84</th>\n",
       "      <td>1885</td>\n",
       "      <td>Lavadora</td>\n",
       "      <td>$120.75</td>\n",
       "      <td>10.0</td>\n",
       "      <td>11/01/2024</td>\n",
       "      <td>Electrodomésticos</td>\n",
       "    </tr>\n",
       "    <tr>\n",
       "      <th>2877</th>\n",
       "      <td>1975</td>\n",
       "      <td>Lavadora</td>\n",
       "      <td>$116.55</td>\n",
       "      <td>6.0</td>\n",
       "      <td>11/12/2024</td>\n",
       "      <td>Electrodomésticos</td>\n",
       "    </tr>\n",
       "  </tbody>\n",
       "</table>\n",
       "</div>"
      ],
      "text/plain": [
       "      id_venta            producto   precio  cantidad fecha_venta  \\\n",
       "1812      1915            Lavadora  $106.83      12.0  29/07/2024   \n",
       "1029      2565         Auriculares   $49.70       3.0  24/04/2024   \n",
       "2713      1881  Freidora eléctrica  $107.86       9.0  20/11/2024   \n",
       "84        1885            Lavadora  $120.75      10.0  11/01/2024   \n",
       "2877      1975            Lavadora  $116.55       6.0  11/12/2024   \n",
       "\n",
       "              categoria  \n",
       "1812  Electrodomésticos  \n",
       "1029        Electrónica  \n",
       "2713  Electrodomésticos  \n",
       "84    Electrodomésticos  \n",
       "2877  Electrodomésticos  "
      ]
     },
     "execution_count": 60,
     "metadata": {},
     "output_type": "execute_result"
    }
   ],
   "source": [
    "# Usar sample() para tomar registros al azar\n",
    "df_ventas.sample(5)"
   ]
  },
  {
   "cell_type": "code",
   "execution_count": 61,
   "metadata": {
    "id": "yS_uqM3ry7oW"
   },
   "outputs": [
    {
     "data": {
      "text/plain": [
       "count       3033\n",
       "unique      2590\n",
       "top       $76.32\n",
       "freq           5\n",
       "Name: precio, dtype: object"
      ]
     },
     "execution_count": 61,
     "metadata": {},
     "output_type": "execute_result"
    }
   ],
   "source": [
    "# Analizamos el campo precio\n",
    "# Si es numericos se puede aplicar describe()\n",
    "df_ventas[\"precio\"].describe()"
   ]
  },
  {
   "cell_type": "code",
   "execution_count": 62,
   "metadata": {
    "id": "JCZSmwXK18u9"
   },
   "outputs": [
    {
     "data": {
      "text/plain": [
       "2199     9.0\n",
       "704     10.0\n",
       "1890    12.0\n",
       "933      1.0\n",
       "2571     8.0\n",
       "Name: cantidad, dtype: float64"
      ]
     },
     "execution_count": 62,
     "metadata": {},
     "output_type": "execute_result"
    }
   ],
   "source": [
    "# Analizamos el campo cantidad\n",
    "# si es numerico se puede aplicar describe()\n",
    "df_ventas[\"cantidad\"].sample(5)"
   ]
  },
  {
   "cell_type": "code",
   "execution_count": 63,
   "metadata": {
    "id": "IASdTdeN2OMw"
   },
   "outputs": [
    {
     "data": {
      "text/plain": [
       "0       02/01/2024\n",
       "1       02/01/2024\n",
       "2       02/01/2024\n",
       "3       02/01/2024\n",
       "4       02/01/2024\n",
       "           ...    \n",
       "3030    30/12/2024\n",
       "3031    30/12/2024\n",
       "3032    30/12/2024\n",
       "3033    30/12/2024\n",
       "3034    30/12/2024\n",
       "Name: fecha_venta, Length: 3035, dtype: object"
      ]
     },
     "execution_count": 63,
     "metadata": {},
     "output_type": "execute_result"
    }
   ],
   "source": [
    "# Analizamos el campo fecha_venta\n",
    "df_ventas[\"fecha_venta\"]"
   ]
  },
  {
   "cell_type": "code",
   "execution_count": 64,
   "metadata": {
    "id": "u0olGUXk2aQP"
   },
   "outputs": [
    {
     "data": {
      "text/plain": [
       "categoria\n",
       "Decoración           1015\n",
       "Electrónica          1012\n",
       "Electrodomésticos    1008\n",
       "Name: count, dtype: int64"
      ]
     },
     "execution_count": 64,
     "metadata": {},
     "output_type": "execute_result"
    }
   ],
   "source": [
    "# Analizamos el campo categoria\n",
    "# Probar con value_counts y unique\n",
    "df_ventas[\"categoria\"].value_counts()"
   ]
  },
  {
   "cell_type": "markdown",
   "metadata": {
    "id": "qF-Q6rCC6Ql8"
   },
   "source": [
    "### Actividad 5\n",
    "### Calidad de datos"
   ]
  },
  {
   "cell_type": "code",
   "execution_count": 65,
   "metadata": {
    "id": "qoJWMCaNyb1n"
   },
   "outputs": [
    {
     "data": {
      "text/plain": [
       "np.int64(35)"
      ]
     },
     "execution_count": 65,
     "metadata": {},
     "output_type": "execute_result"
    }
   ],
   "source": [
    "# Buscamos registros duplicados\n",
    "df_ventas.duplicated().sum()"
   ]
  },
  {
   "cell_type": "code",
   "execution_count": 66,
   "metadata": {
    "id": "T5ZrKVEn4aI-"
   },
   "outputs": [
    {
     "data": {
      "text/html": [
       "<div>\n",
       "<style scoped>\n",
       "    .dataframe tbody tr th:only-of-type {\n",
       "        vertical-align: middle;\n",
       "    }\n",
       "\n",
       "    .dataframe tbody tr th {\n",
       "        vertical-align: top;\n",
       "    }\n",
       "\n",
       "    .dataframe thead th {\n",
       "        text-align: right;\n",
       "    }\n",
       "</style>\n",
       "<table border=\"1\" class=\"dataframe\">\n",
       "  <thead>\n",
       "    <tr style=\"text-align: right;\">\n",
       "      <th></th>\n",
       "      <th>id_venta</th>\n",
       "      <th>producto</th>\n",
       "      <th>precio</th>\n",
       "      <th>cantidad</th>\n",
       "      <th>fecha_venta</th>\n",
       "      <th>categoria</th>\n",
       "    </tr>\n",
       "  </thead>\n",
       "  <tbody>\n",
       "    <tr>\n",
       "      <th>820</th>\n",
       "      <td>56</td>\n",
       "      <td>Cortinas</td>\n",
       "      <td>$66.24</td>\n",
       "      <td>5.0</td>\n",
       "      <td>05/04/2024</td>\n",
       "      <td>Decoración</td>\n",
       "    </tr>\n",
       "    <tr>\n",
       "      <th>826</th>\n",
       "      <td>56</td>\n",
       "      <td>Cortinas</td>\n",
       "      <td>$66.24</td>\n",
       "      <td>5.0</td>\n",
       "      <td>05/04/2024</td>\n",
       "      <td>Decoración</td>\n",
       "    </tr>\n",
       "    <tr>\n",
       "      <th>832</th>\n",
       "      <td>145</td>\n",
       "      <td>Alfombra</td>\n",
       "      <td>$41.72</td>\n",
       "      <td>8.0</td>\n",
       "      <td>06/04/2024</td>\n",
       "      <td>Decoración</td>\n",
       "    </tr>\n",
       "    <tr>\n",
       "      <th>844</th>\n",
       "      <td>145</td>\n",
       "      <td>Alfombra</td>\n",
       "      <td>$41.72</td>\n",
       "      <td>8.0</td>\n",
       "      <td>06/04/2024</td>\n",
       "      <td>Decoración</td>\n",
       "    </tr>\n",
       "    <tr>\n",
       "      <th>878</th>\n",
       "      <td>204</td>\n",
       "      <td>Jarrón decorativo</td>\n",
       "      <td>$94.75</td>\n",
       "      <td>1.0</td>\n",
       "      <td>08/04/2024</td>\n",
       "      <td>Decoración</td>\n",
       "    </tr>\n",
       "    <tr>\n",
       "      <th>...</th>\n",
       "      <td>...</td>\n",
       "      <td>...</td>\n",
       "      <td>...</td>\n",
       "      <td>...</td>\n",
       "      <td>...</td>\n",
       "      <td>...</td>\n",
       "    </tr>\n",
       "    <tr>\n",
       "      <th>830</th>\n",
       "      <td>2545</td>\n",
       "      <td>Auriculares</td>\n",
       "      <td>$32.81</td>\n",
       "      <td>11.0</td>\n",
       "      <td>05/04/2024</td>\n",
       "      <td>Electrónica</td>\n",
       "    </tr>\n",
       "    <tr>\n",
       "      <th>883</th>\n",
       "      <td>2705</td>\n",
       "      <td>Auriculares</td>\n",
       "      <td>$87.29</td>\n",
       "      <td>2.0</td>\n",
       "      <td>08/04/2024</td>\n",
       "      <td>Electrónica</td>\n",
       "    </tr>\n",
       "    <tr>\n",
       "      <th>889</th>\n",
       "      <td>2705</td>\n",
       "      <td>Auriculares</td>\n",
       "      <td>$87.29</td>\n",
       "      <td>2.0</td>\n",
       "      <td>08/04/2024</td>\n",
       "      <td>Electrónica</td>\n",
       "    </tr>\n",
       "    <tr>\n",
       "      <th>831</th>\n",
       "      <td>2778</td>\n",
       "      <td>SmartWatch</td>\n",
       "      <td>$70.66</td>\n",
       "      <td>7.0</td>\n",
       "      <td>05/04/2024</td>\n",
       "      <td>Electrónica</td>\n",
       "    </tr>\n",
       "    <tr>\n",
       "      <th>825</th>\n",
       "      <td>2778</td>\n",
       "      <td>SmartWatch</td>\n",
       "      <td>$70.66</td>\n",
       "      <td>7.0</td>\n",
       "      <td>05/04/2024</td>\n",
       "      <td>Electrónica</td>\n",
       "    </tr>\n",
       "  </tbody>\n",
       "</table>\n",
       "<p>70 rows × 6 columns</p>\n",
       "</div>"
      ],
      "text/plain": [
       "     id_venta           producto  precio  cantidad fecha_venta    categoria\n",
       "820        56           Cortinas  $66.24       5.0  05/04/2024   Decoración\n",
       "826        56           Cortinas  $66.24       5.0  05/04/2024   Decoración\n",
       "832       145           Alfombra  $41.72       8.0  06/04/2024   Decoración\n",
       "844       145           Alfombra  $41.72       8.0  06/04/2024   Decoración\n",
       "878       204  Jarrón decorativo  $94.75       1.0  08/04/2024   Decoración\n",
       "..        ...                ...     ...       ...         ...          ...\n",
       "830      2545        Auriculares  $32.81      11.0  05/04/2024  Electrónica\n",
       "883      2705        Auriculares  $87.29       2.0  08/04/2024  Electrónica\n",
       "889      2705        Auriculares  $87.29       2.0  08/04/2024  Electrónica\n",
       "831      2778         SmartWatch  $70.66       7.0  05/04/2024  Electrónica\n",
       "825      2778         SmartWatch  $70.66       7.0  05/04/2024  Electrónica\n",
       "\n",
       "[70 rows x 6 columns]"
      ]
     },
     "execution_count": 66,
     "metadata": {},
     "output_type": "execute_result"
    }
   ],
   "source": [
    "# Visualizamos los duplicados\n",
    "# keep: 'first', 'last', False\n",
    "df_ventas[df_ventas.duplicated(keep=False)].sort_values(by=\"id_venta\")"
   ]
  },
  {
   "cell_type": "code",
   "execution_count": 67,
   "metadata": {
    "id": "V0W9zk6I5dSG"
   },
   "outputs": [
    {
     "data": {
      "text/plain": [
       "id_venta       0\n",
       "producto       0\n",
       "precio         2\n",
       "cantidad       2\n",
       "fecha_venta    0\n",
       "categoria      0\n",
       "dtype: int64"
      ]
     },
     "execution_count": 67,
     "metadata": {},
     "output_type": "execute_result"
    }
   ],
   "source": [
    "# Buscamos datos nulos\n",
    "df_ventas.isnull().sum()"
   ]
  },
  {
   "cell_type": "code",
   "execution_count": 68,
   "metadata": {
    "id": "UuOnQjyc5n0w"
   },
   "outputs": [
    {
     "data": {
      "text/html": [
       "<div>\n",
       "<style scoped>\n",
       "    .dataframe tbody tr th:only-of-type {\n",
       "        vertical-align: middle;\n",
       "    }\n",
       "\n",
       "    .dataframe tbody tr th {\n",
       "        vertical-align: top;\n",
       "    }\n",
       "\n",
       "    .dataframe thead th {\n",
       "        text-align: right;\n",
       "    }\n",
       "</style>\n",
       "<table border=\"1\" class=\"dataframe\">\n",
       "  <thead>\n",
       "    <tr style=\"text-align: right;\">\n",
       "      <th></th>\n",
       "      <th>id_venta</th>\n",
       "      <th>producto</th>\n",
       "      <th>precio</th>\n",
       "      <th>cantidad</th>\n",
       "      <th>fecha_venta</th>\n",
       "      <th>categoria</th>\n",
       "    </tr>\n",
       "  </thead>\n",
       "  <tbody>\n",
       "    <tr>\n",
       "      <th>136</th>\n",
       "      <td>627</td>\n",
       "      <td>Elementos de cerámica</td>\n",
       "      <td>NaN</td>\n",
       "      <td>NaN</td>\n",
       "      <td>17/01/2024</td>\n",
       "      <td>Decoración</td>\n",
       "    </tr>\n",
       "    <tr>\n",
       "      <th>139</th>\n",
       "      <td>2171</td>\n",
       "      <td>Parlantes Bluetooth</td>\n",
       "      <td>NaN</td>\n",
       "      <td>NaN</td>\n",
       "      <td>17/01/2024</td>\n",
       "      <td>Electrónica</td>\n",
       "    </tr>\n",
       "  </tbody>\n",
       "</table>\n",
       "</div>"
      ],
      "text/plain": [
       "     id_venta               producto precio  cantidad fecha_venta    categoria\n",
       "136       627  Elementos de cerámica    NaN       NaN  17/01/2024   Decoración\n",
       "139      2171    Parlantes Bluetooth    NaN       NaN  17/01/2024  Electrónica"
      ]
     },
     "execution_count": 68,
     "metadata": {},
     "output_type": "execute_result"
    }
   ],
   "source": [
    "# Visualizar los nulos\n",
    "# df_ventas[df_ventas.isnull().any(axis=1)]\n",
    "df_ventas[df_ventas.isnull().any(axis=1)]"
   ]
  },
  {
   "cell_type": "code",
   "execution_count": 69,
   "metadata": {
    "id": "mUWDRsVQP42q"
   },
   "outputs": [
    {
     "data": {
      "text/plain": [
       "producto\n",
       "Lámpara de mesa           181\n",
       "Auriculares               147\n",
       "Microondas                135\n",
       "Cafetera                  118\n",
       "Laptop                    104\n",
       "Secadora                  103\n",
       "Jarrón decorativo         102\n",
       "Smartphone                102\n",
       "Alfombra                  102\n",
       "SmartWatch                102\n",
       "Aspiradora                102\n",
       "Cortinas                  102\n",
       "Rincón de plantas         102\n",
       "Freidora eléctrica        101\n",
       "Espejo decorativo         101\n",
       "Adorno de pared           101\n",
       "Lavadora                  100\n",
       "Consola de videojuegos    100\n",
       "Cuadro decorativo         100\n",
       "Horno eléctrico           100\n",
       "Plancha de vapor          100\n",
       "Proyector                 100\n",
       "Elementos de cerámica     100\n",
       "Batidora                  100\n",
       "Televisor                 100\n",
       "Cámara digital            100\n",
       "Parlantes Bluetooth        99\n",
       "Tablet                     58\n",
       "Heladera                   49\n",
       "Candelabro                 24\n",
       "Name: count, dtype: int64"
      ]
     },
     "execution_count": 69,
     "metadata": {},
     "output_type": "execute_result"
    }
   ],
   "source": [
    "# Analizar los precios de los NaN a ver que opciones tenemos\n",
    "# df_ventas[df_ventas[\"producto\"]==\"Elementos de cerámica\"]\n",
    "df_ventas[\"producto\"].value_counts()\n",
    "# df_ventas[\"producto\"].unique()\n"
   ]
  },
  {
   "cell_type": "markdown",
   "metadata": {
    "id": "MBdZ-O45lHho"
   },
   "source": [
    "### Observaciones\n",
    "* Cantidad de registros: 3035\n",
    "* Columnas 6\n",
    "* 35 duplicados, eliminarlos\n",
    "* Algunos nulos (2), 1% del faltante, dropna\n",
    "* Campo precio: encontre `$`, removerlo y luego cambiar el dtype a float64\n",
    "* Campo fecha: ajustar a dtype datetime"
   ]
  },
  {
   "cell_type": "markdown",
   "metadata": {
    "id": "ifR2yFTi8B95"
   },
   "source": [
    "## Dataframe marketing"
   ]
  },
  {
   "cell_type": "markdown",
   "metadata": {
    "id": "Ya-UhrM49tJU"
   },
   "source": [
    "### Analisis exploratorio de datos"
   ]
  },
  {
   "cell_type": "markdown",
   "metadata": {
    "id": "KhNX82PBTrSj"
   },
   "source": [
    "Aplicamos los métodos de EDA vistos en clase, `info`, `columns`, `dtypes`, `head`, `tail`, `sample`, `unique`, `value_counts`, `describe`, `duplicated`, `isnull`, etc. y documentamos las observaciones:"
   ]
  },
  {
   "cell_type": "code",
   "execution_count": 70,
   "metadata": {
    "id": "RuH1lakzTiE0"
   },
   "outputs": [
    {
     "name": "stdout",
     "output_type": "stream",
     "text": [
      "<class 'pandas.core.frame.DataFrame'>\n",
      "RangeIndex: 90 entries, 0 to 89\n",
      "Data columns (total 6 columns):\n",
      " #   Column        Non-Null Count  Dtype  \n",
      "---  ------        --------------  -----  \n",
      " 0   id_campanha   90 non-null     int64  \n",
      " 1   producto      90 non-null     object \n",
      " 2   canal         90 non-null     object \n",
      " 3   costo         90 non-null     float64\n",
      " 4   fecha_inicio  90 non-null     object \n",
      " 5   fecha_fin     90 non-null     object \n",
      "dtypes: float64(1), int64(1), object(4)\n",
      "memory usage: 4.3+ KB\n"
     ]
    }
   ],
   "source": [
    "# Aplicamos info() para familiarizarnos con el dataframe\n",
    "df_marketing.info()"
   ]
  },
  {
   "cell_type": "code",
   "execution_count": null,
   "metadata": {
    "id": "TFHFaSX5UWxy"
   },
   "outputs": [
    {
     "data": {
      "text/html": [
       "<div>\n",
       "<style scoped>\n",
       "    .dataframe tbody tr th:only-of-type {\n",
       "        vertical-align: middle;\n",
       "    }\n",
       "\n",
       "    .dataframe tbody tr th {\n",
       "        vertical-align: top;\n",
       "    }\n",
       "\n",
       "    .dataframe thead th {\n",
       "        text-align: right;\n",
       "    }\n",
       "</style>\n",
       "<table border=\"1\" class=\"dataframe\">\n",
       "  <thead>\n",
       "    <tr style=\"text-align: right;\">\n",
       "      <th></th>\n",
       "      <th>id_campanha</th>\n",
       "      <th>producto</th>\n",
       "      <th>canal</th>\n",
       "      <th>costo</th>\n",
       "      <th>fecha_inicio</th>\n",
       "      <th>fecha_fin</th>\n",
       "    </tr>\n",
       "  </thead>\n",
       "  <tbody>\n",
       "    <tr>\n",
       "      <th>0</th>\n",
       "      <td>74</td>\n",
       "      <td>Adorno de pared</td>\n",
       "      <td>TV</td>\n",
       "      <td>4.81</td>\n",
       "      <td>20/03/2024</td>\n",
       "      <td>03/05/2024</td>\n",
       "    </tr>\n",
       "    <tr>\n",
       "      <th>1</th>\n",
       "      <td>12</td>\n",
       "      <td>Tablet</td>\n",
       "      <td>RRSS</td>\n",
       "      <td>3.40</td>\n",
       "      <td>26/03/2024</td>\n",
       "      <td>13/05/2024</td>\n",
       "    </tr>\n",
       "    <tr>\n",
       "      <th>2</th>\n",
       "      <td>32</td>\n",
       "      <td>Lámpara de mesa</td>\n",
       "      <td>Email</td>\n",
       "      <td>5.54</td>\n",
       "      <td>28/03/2024</td>\n",
       "      <td>20/04/2024</td>\n",
       "    </tr>\n",
       "    <tr>\n",
       "      <th>3</th>\n",
       "      <td>21</td>\n",
       "      <td>Smartphone</td>\n",
       "      <td>RRSS</td>\n",
       "      <td>6.37</td>\n",
       "      <td>29/03/2024</td>\n",
       "      <td>16/05/2024</td>\n",
       "    </tr>\n",
       "    <tr>\n",
       "      <th>4</th>\n",
       "      <td>58</td>\n",
       "      <td>Alfombra</td>\n",
       "      <td>Email</td>\n",
       "      <td>4.25</td>\n",
       "      <td>31/03/2024</td>\n",
       "      <td>05/05/2024</td>\n",
       "    </tr>\n",
       "  </tbody>\n",
       "</table>\n",
       "</div>"
      ],
      "text/plain": [
       "   id_campanha         producto  canal  costo fecha_inicio   fecha_fin\n",
       "0           74  Adorno de pared     TV   4.81   20/03/2024  03/05/2024\n",
       "1           12           Tablet   RRSS   3.40   26/03/2024  13/05/2024\n",
       "2           32  Lámpara de mesa  Email   5.54   28/03/2024  20/04/2024\n",
       "3           21       Smartphone   RRSS   6.37   29/03/2024  16/05/2024\n",
       "4           58         Alfombra  Email   4.25   31/03/2024  05/05/2024"
      ]
     },
     "execution_count": 71,
     "metadata": {},
     "output_type": "execute_result"
    }
   ],
   "source": [
    "# Visualizamos los primeros registros con head()\n",
    "# también podemos usar tail() para visualizar los últimos\n",
    "df_marketing.head()"
   ]
  },
  {
   "cell_type": "code",
   "execution_count": 72,
   "metadata": {
    "id": "SCRikVnBUkHS"
   },
   "outputs": [
    {
     "data": {
      "text/plain": [
       "80    5.62\n",
       "4     4.25\n",
       "56    6.28\n",
       "61    6.00\n",
       "35    6.06\n",
       "Name: costo, dtype: float64"
      ]
     },
     "execution_count": 72,
     "metadata": {},
     "output_type": "execute_result"
    }
   ],
   "source": [
    "# Analizamos el campo costo\n",
    "df_marketing[\"costo\"].sample(5)"
   ]
  },
  {
   "cell_type": "code",
   "execution_count": 73,
   "metadata": {
    "id": "7dX9L7UwUq_7"
   },
   "outputs": [
    {
     "data": {
      "text/plain": [
       "74    01/11/2024\n",
       "22    31/05/2024\n",
       "23    31/05/2024\n",
       "49    14/08/2024\n",
       "36    15/07/2024\n",
       "Name: fecha_inicio, dtype: object"
      ]
     },
     "execution_count": 73,
     "metadata": {},
     "output_type": "execute_result"
    }
   ],
   "source": [
    "# Analizamos el campo fecha_inicio\n",
    "df_marketing[\"fecha_inicio\"].sample(5)"
   ]
  },
  {
   "cell_type": "code",
   "execution_count": 74,
   "metadata": {
    "id": "C7XtOyZPU56H"
   },
   "outputs": [
    {
     "data": {
      "text/plain": [
       "36    03/08/2024\n",
       "80     13/1/2025\n",
       "25    31/07/2024\n",
       "15    29/05/2024\n",
       "78    23/12/2024\n",
       "Name: fecha_fin, dtype: object"
      ]
     },
     "execution_count": 74,
     "metadata": {},
     "output_type": "execute_result"
    }
   ],
   "source": [
    "# Analizamos el campo fecha_fin\n",
    "df_marketing[\"fecha_fin\"].sample(5)"
   ]
  },
  {
   "cell_type": "markdown",
   "metadata": {
    "id": "FidOum8dU_82"
   },
   "source": [
    "### Calidad de los datos"
   ]
  },
  {
   "cell_type": "code",
   "execution_count": 109,
   "metadata": {
    "id": "rjzHFqEqVC7p"
   },
   "outputs": [
    {
     "data": {
      "text/plain": [
       "np.int64(0)"
      ]
     },
     "execution_count": 109,
     "metadata": {},
     "output_type": "execute_result"
    }
   ],
   "source": [
    "# Buscamos registros duplicados\n",
    "df_marketing.duplicated().sum()"
   ]
  },
  {
   "cell_type": "code",
   "execution_count": 111,
   "metadata": {},
   "outputs": [
    {
     "data": {
      "text/plain": [
       "id_campanha     0\n",
       "producto        0\n",
       "canal           0\n",
       "costo           0\n",
       "fecha_inicio    0\n",
       "fecha_fin       0\n",
       "dtype: int64"
      ]
     },
     "execution_count": 111,
     "metadata": {},
     "output_type": "execute_result"
    }
   ],
   "source": [
    "# Buscamos registros nulos\n",
    "df_marketing.isnull().sum()"
   ]
  },
  {
   "cell_type": "markdown",
   "metadata": {
    "id": "5ozl6XDO9vaD"
   },
   "source": [
    "### Observaciones\n",
    "* Cantidad de registros: 90\n",
    "* Columnas: 6\n",
    "* 0 duplicados\n",
    "* 0 nulos\n",
    "* Campo fecha_inicio: ajustar a dtype datetime\n",
    "* Campo fecha_fin: ajustar a dtype datetime"
   ]
  },
  {
   "cell_type": "markdown",
   "metadata": {
    "id": "HG-gP0gu9qTb"
   },
   "source": [
    "## Dataframe clientes"
   ]
  },
  {
   "cell_type": "markdown",
   "metadata": {
    "id": "m_3WYdEx9xee"
   },
   "source": [
    "### Analisis exploratorio de datos"
   ]
  },
  {
   "cell_type": "code",
   "execution_count": 118,
   "metadata": {},
   "outputs": [
    {
     "name": "stdout",
     "output_type": "stream",
     "text": [
      "<class 'pandas.core.frame.DataFrame'>\n",
      "RangeIndex: 567 entries, 0 to 566\n",
      "Data columns (total 5 columns):\n",
      " #   Column      Non-Null Count  Dtype  \n",
      "---  ------      --------------  -----  \n",
      " 0   id_cliente  567 non-null    int64  \n",
      " 1   nombre      567 non-null    object \n",
      " 2   edad        567 non-null    int64  \n",
      " 3   ciudad      567 non-null    object \n",
      " 4   ingresos    567 non-null    float64\n",
      "dtypes: float64(1), int64(2), object(2)\n",
      "memory usage: 22.3+ KB\n"
     ]
    }
   ],
   "source": [
    "# Aplicamos info() para familiarizarnos con el dataframe\n",
    "df_clientes.info()"
   ]
  },
  {
   "cell_type": "code",
   "execution_count": 122,
   "metadata": {},
   "outputs": [
    {
     "data": {
      "text/html": [
       "<div>\n",
       "<style scoped>\n",
       "    .dataframe tbody tr th:only-of-type {\n",
       "        vertical-align: middle;\n",
       "    }\n",
       "\n",
       "    .dataframe tbody tr th {\n",
       "        vertical-align: top;\n",
       "    }\n",
       "\n",
       "    .dataframe thead th {\n",
       "        text-align: right;\n",
       "    }\n",
       "</style>\n",
       "<table border=\"1\" class=\"dataframe\">\n",
       "  <thead>\n",
       "    <tr style=\"text-align: right;\">\n",
       "      <th></th>\n",
       "      <th>id_cliente</th>\n",
       "      <th>nombre</th>\n",
       "      <th>edad</th>\n",
       "      <th>ciudad</th>\n",
       "      <th>ingresos</th>\n",
       "    </tr>\n",
       "  </thead>\n",
       "  <tbody>\n",
       "    <tr>\n",
       "      <th>0</th>\n",
       "      <td>1</td>\n",
       "      <td>Aloysia Screase</td>\n",
       "      <td>44</td>\n",
       "      <td>Mar del Plata</td>\n",
       "      <td>42294.68</td>\n",
       "    </tr>\n",
       "    <tr>\n",
       "      <th>1</th>\n",
       "      <td>2</td>\n",
       "      <td>Kristina Scaplehorn</td>\n",
       "      <td>25</td>\n",
       "      <td>Posadas</td>\n",
       "      <td>24735.04</td>\n",
       "    </tr>\n",
       "    <tr>\n",
       "      <th>2</th>\n",
       "      <td>3</td>\n",
       "      <td>Filip Castagne</td>\n",
       "      <td>50</td>\n",
       "      <td>Resistencia</td>\n",
       "      <td>35744.85</td>\n",
       "    </tr>\n",
       "    <tr>\n",
       "      <th>3</th>\n",
       "      <td>4</td>\n",
       "      <td>Liuka Luard</td>\n",
       "      <td>39</td>\n",
       "      <td>Bahía Blanca</td>\n",
       "      <td>27647.96</td>\n",
       "    </tr>\n",
       "    <tr>\n",
       "      <th>4</th>\n",
       "      <td>5</td>\n",
       "      <td>Dore Cockshtt</td>\n",
       "      <td>28</td>\n",
       "      <td>Rosario</td>\n",
       "      <td>28245.65</td>\n",
       "    </tr>\n",
       "    <tr>\n",
       "      <th>...</th>\n",
       "      <td>...</td>\n",
       "      <td>...</td>\n",
       "      <td>...</td>\n",
       "      <td>...</td>\n",
       "      <td>...</td>\n",
       "    </tr>\n",
       "    <tr>\n",
       "      <th>562</th>\n",
       "      <td>563</td>\n",
       "      <td>Dione Forsyde</td>\n",
       "      <td>29</td>\n",
       "      <td>Posadas</td>\n",
       "      <td>26757.73</td>\n",
       "    </tr>\n",
       "    <tr>\n",
       "      <th>563</th>\n",
       "      <td>564</td>\n",
       "      <td>Fleming Gow</td>\n",
       "      <td>39</td>\n",
       "      <td>Santa Fe</td>\n",
       "      <td>43674.96</td>\n",
       "    </tr>\n",
       "    <tr>\n",
       "      <th>564</th>\n",
       "      <td>565</td>\n",
       "      <td>Jewelle Mabbett</td>\n",
       "      <td>33</td>\n",
       "      <td>Córdoba</td>\n",
       "      <td>30522.64</td>\n",
       "    </tr>\n",
       "    <tr>\n",
       "      <th>565</th>\n",
       "      <td>566</td>\n",
       "      <td>Lauri Munns</td>\n",
       "      <td>23</td>\n",
       "      <td>Resistencia</td>\n",
       "      <td>31259.14</td>\n",
       "    </tr>\n",
       "    <tr>\n",
       "      <th>566</th>\n",
       "      <td>567</td>\n",
       "      <td>Micah Matis</td>\n",
       "      <td>31</td>\n",
       "      <td>Corrientes</td>\n",
       "      <td>42927.86</td>\n",
       "    </tr>\n",
       "  </tbody>\n",
       "</table>\n",
       "<p>567 rows × 5 columns</p>\n",
       "</div>"
      ],
      "text/plain": [
       "     id_cliente               nombre  edad         ciudad  ingresos\n",
       "0             1      Aloysia Screase    44  Mar del Plata  42294.68\n",
       "1             2  Kristina Scaplehorn    25        Posadas  24735.04\n",
       "2             3       Filip Castagne    50    Resistencia  35744.85\n",
       "3             4          Liuka Luard    39   Bahía Blanca  27647.96\n",
       "4             5        Dore Cockshtt    28        Rosario  28245.65\n",
       "..          ...                  ...   ...            ...       ...\n",
       "562         563        Dione Forsyde    29        Posadas  26757.73\n",
       "563         564          Fleming Gow    39       Santa Fe  43674.96\n",
       "564         565      Jewelle Mabbett    33        Córdoba  30522.64\n",
       "565         566          Lauri Munns    23    Resistencia  31259.14\n",
       "566         567          Micah Matis    31     Corrientes  42927.86\n",
       "\n",
       "[567 rows x 5 columns]"
      ]
     },
     "execution_count": 122,
     "metadata": {},
     "output_type": "execute_result"
    }
   ],
   "source": [
    "# para ver los datos head y tail del dataframe\n",
    "df_clientes"
   ]
  },
  {
   "cell_type": "markdown",
   "metadata": {},
   "source": [
    "### Calidad de los datos"
   ]
  },
  {
   "cell_type": "code",
   "execution_count": null,
   "metadata": {},
   "outputs": [
    {
     "data": {
      "text/plain": [
       "np.int64(0)"
      ]
     },
     "execution_count": 116,
     "metadata": {},
     "output_type": "execute_result"
    }
   ],
   "source": [
    "# Buscamos registros duplicados\n",
    "df_clientes.duplicated().sum()"
   ]
  },
  {
   "cell_type": "code",
   "execution_count": 123,
   "metadata": {},
   "outputs": [
    {
     "data": {
      "text/plain": [
       "id_cliente    0\n",
       "nombre        0\n",
       "edad          0\n",
       "ciudad        0\n",
       "ingresos      0\n",
       "dtype: int64"
      ]
     },
     "execution_count": 123,
     "metadata": {},
     "output_type": "execute_result"
    }
   ],
   "source": [
    "# Buscamos datos nulos\n",
    "df_clientes.isnull().sum()"
   ]
  },
  {
   "cell_type": "markdown",
   "metadata": {
    "id": "tnUto8c_9zaV"
   },
   "source": [
    "### Observaciones\n",
    "* Cantidad de registros: 567\n",
    "* Columnas: 5\n",
    "* 0 duplicados\n",
    "* 0 nulos"
   ]
  },
  {
   "cell_type": "markdown",
   "metadata": {
    "id": "rHt5rt_i93rw"
   },
   "source": [
    "---\n",
    "# Etapa 2"
   ]
  },
  {
   "cell_type": "markdown",
   "metadata": {
    "id": "wtww21zh-LYZ"
   },
   "source": [
    "## Limpieza de datos\n",
    "Actividad 1 - Limpiar el conjunto de datos eliminando duplicados y caracteres no deseados. Documentar el proceso y los resultados."
   ]
  },
  {
   "cell_type": "markdown",
   "metadata": {
    "id": "J4Gwrqt1VxL0"
   },
   "source": [
    "### Dataframe ventas"
   ]
  },
  {
   "cell_type": "markdown",
   "metadata": {
    "id": "NByZ8lMdNPih"
   },
   "source": [
    "* 35 duplicados, eliminarlos - se eliminaron 35 duplicados\n",
    "* Algunos nulos (2), 1% del faltante, dropna - se eliminaron 2 registros con 2 NaN\n",
    "* Campo precio: encontre `$`, removerlo y luego cambiar el dtype a float64 - Ok\n",
    "* Campo fecha: ajustar a dtype datetime - Ok"
   ]
  },
  {
   "cell_type": "code",
   "execution_count": 76,
   "metadata": {
    "id": "X4a0lL4zM6p1"
   },
   "outputs": [],
   "source": [
    "# Eliminamos registros duplicados\n",
    "# atributos a evaluar, keep, ignore_index, inplace\n",
    "df_ventas.drop_duplicates(inplace=True, ignore_index=True)"
   ]
  },
  {
   "cell_type": "code",
   "execution_count": 77,
   "metadata": {
    "id": "pyL2FvnRO8yf"
   },
   "outputs": [
    {
     "data": {
      "text/plain": [
       "np.int64(0)"
      ]
     },
     "execution_count": 77,
     "metadata": {},
     "output_type": "execute_result"
    }
   ],
   "source": [
    "# Validamos que no haya duplicados\n",
    "df_ventas.duplicated().sum()"
   ]
  },
  {
   "cell_type": "code",
   "execution_count": 78,
   "metadata": {
    "id": "dGWwZLq9PjCc"
   },
   "outputs": [],
   "source": [
    "# Eliminamos registros con datos nulos\n",
    "df_ventas.dropna(inplace=True)"
   ]
  },
  {
   "cell_type": "code",
   "execution_count": 79,
   "metadata": {
    "id": "M9wWpuyVRy-P"
   },
   "outputs": [
    {
     "name": "stdout",
     "output_type": "stream",
     "text": [
      "<class 'pandas.core.frame.DataFrame'>\n",
      "Index: 2998 entries, 0 to 2999\n",
      "Data columns (total 6 columns):\n",
      " #   Column       Non-Null Count  Dtype  \n",
      "---  ------       --------------  -----  \n",
      " 0   id_venta     2998 non-null   int64  \n",
      " 1   producto     2998 non-null   object \n",
      " 2   precio       2998 non-null   object \n",
      " 3   cantidad     2998 non-null   float64\n",
      " 4   fecha_venta  2998 non-null   object \n",
      " 5   categoria    2998 non-null   object \n",
      "dtypes: float64(1), int64(1), object(4)\n",
      "memory usage: 164.0+ KB\n"
     ]
    }
   ],
   "source": [
    "# Validamos que no haya nulos\n",
    "# df_ventas.isnull().sum()\n",
    "df_ventas.info()"
   ]
  },
  {
   "cell_type": "code",
   "execution_count": 80,
   "metadata": {
    "id": "U-VCJ_qWR563"
   },
   "outputs": [],
   "source": [
    "# Eliminamos el caracter especial $ de precio\n",
    "# Normalización: usar replace()\n",
    "# De ser necesario, podemos usar el atributo regex=True\n",
    "df_ventas[\"precio\"] = df_ventas[\"precio\"].str.strip().str.replace(\"$\", \"\")"
   ]
  },
  {
   "cell_type": "code",
   "execution_count": 81,
   "metadata": {
    "id": "SY_xSj6sSEji"
   },
   "outputs": [
    {
     "data": {
      "text/plain": [
       "1220     79.11\n",
       "646      90.34\n",
       "2908    122.17\n",
       "Name: precio, dtype: object"
      ]
     },
     "execution_count": 81,
     "metadata": {},
     "output_type": "execute_result"
    }
   ],
   "source": [
    "# Validamos que precio no contenga $\n",
    "df_ventas[\"precio\"].sample(3)"
   ]
  },
  {
   "cell_type": "code",
   "execution_count": 82,
   "metadata": {
    "id": "zoU01rGkT_tc"
   },
   "outputs": [],
   "source": [
    "# Convertimos precio de str a float\n",
    "# Podemos usar pd.to_numeric o astype o incluso combinarlos\n",
    "df_ventas[\"precio\"] = df_ventas[\"precio\"].astype(float)"
   ]
  },
  {
   "cell_type": "code",
   "execution_count": 83,
   "metadata": {
    "id": "NFv2jIKlSwbA"
   },
   "outputs": [],
   "source": [
    "# Convertir el dtype de cantidad, de float64 a int64\n",
    "df_ventas[\"cantidad\"]= df_ventas[\"cantidad\"].astype(int)"
   ]
  },
  {
   "cell_type": "code",
   "execution_count": 84,
   "metadata": {
    "id": "bT2M5_wKT160"
   },
   "outputs": [
    {
     "data": {
      "text/plain": [
       "dtype('int64')"
      ]
     },
     "execution_count": 84,
     "metadata": {},
     "output_type": "execute_result"
    }
   ],
   "source": [
    "# Validar la conversion a int\n",
    "df_ventas[\"cantidad\"].dtypes"
   ]
  },
  {
   "cell_type": "code",
   "execution_count": 85,
   "metadata": {
    "id": "HLZVUMnnUkSf"
   },
   "outputs": [],
   "source": [
    "# Convertir el campo fecha_venta a dtype datetime\n",
    "# pd.to_datetime(df_ventas[\"fecha_venta\"], format=\"%d/%m/%Y\")\n",
    "# pd.to_datetime(df_ventas[\"fecha_venta\"], dayfirst=True)\n",
    "df_ventas['fecha_venta'] = pd.to_datetime(df_ventas['fecha_venta'], format=\"%d/%m/%Y\")"
   ]
  },
  {
   "cell_type": "code",
   "execution_count": 86,
   "metadata": {
    "id": "l5t40uUPUrY-"
   },
   "outputs": [
    {
     "data": {
      "text/plain": [
       "dtype('<M8[ns]')"
      ]
     },
     "execution_count": 86,
     "metadata": {},
     "output_type": "execute_result"
    }
   ],
   "source": [
    "# Validar la conversion de fecha\n",
    "df_ventas['fecha_venta'].dtype"
   ]
  },
  {
   "cell_type": "markdown",
   "metadata": {
    "id": "Mpd7zlOIV2BV"
   },
   "source": [
    "### Dataframe marketing"
   ]
  },
  {
   "cell_type": "markdown",
   "metadata": {
    "id": "Z7-rjrs-V4W3"
   },
   "source": [
    "*** Acciones ***"
   ]
  },
  {
   "cell_type": "code",
   "execution_count": 87,
   "metadata": {
    "id": "JGZ5gwDYV8B9"
   },
   "outputs": [],
   "source": [
    "# Convertir el campo fecha_inicio a dtype datetime\n"
   ]
  },
  {
   "cell_type": "code",
   "execution_count": 88,
   "metadata": {
    "id": "dNvT4ou6Whob"
   },
   "outputs": [],
   "source": [
    "# Convertir el campo fecha_fin a dtype datetime\n"
   ]
  },
  {
   "cell_type": "code",
   "execution_count": 89,
   "metadata": {
    "id": "P4-yJ7-VWtf-"
   },
   "outputs": [],
   "source": [
    "# Validamos los cambios\n"
   ]
  },
  {
   "cell_type": "markdown",
   "metadata": {
    "id": "vw58H5kt-Ocd"
   },
   "source": [
    "## Transformación de datos\n",
    "Actividad 2 - Aplicar filtros y transformaciones para crear una tabla de ventas que muestre solo los productos con alto rendimiento."
   ]
  },
  {
   "cell_type": "code",
   "execution_count": 90,
   "metadata": {
    "id": "34USfJIXbfGL"
   },
   "outputs": [
    {
     "data": {
      "text/html": [
       "<div>\n",
       "<style scoped>\n",
       "    .dataframe tbody tr th:only-of-type {\n",
       "        vertical-align: middle;\n",
       "    }\n",
       "\n",
       "    .dataframe tbody tr th {\n",
       "        vertical-align: top;\n",
       "    }\n",
       "\n",
       "    .dataframe thead th {\n",
       "        text-align: right;\n",
       "    }\n",
       "</style>\n",
       "<table border=\"1\" class=\"dataframe\">\n",
       "  <thead>\n",
       "    <tr style=\"text-align: right;\">\n",
       "      <th></th>\n",
       "      <th>id_venta</th>\n",
       "      <th>producto</th>\n",
       "      <th>precio</th>\n",
       "      <th>cantidad</th>\n",
       "      <th>fecha_venta</th>\n",
       "      <th>categoria</th>\n",
       "    </tr>\n",
       "  </thead>\n",
       "  <tbody>\n",
       "    <tr>\n",
       "      <th>0</th>\n",
       "      <td>792</td>\n",
       "      <td>Cuadro decorativo</td>\n",
       "      <td>69.94</td>\n",
       "      <td>5</td>\n",
       "      <td>2024-01-02</td>\n",
       "      <td>Decoración</td>\n",
       "    </tr>\n",
       "    <tr>\n",
       "      <th>1</th>\n",
       "      <td>811</td>\n",
       "      <td>Lámpara de mesa</td>\n",
       "      <td>105.10</td>\n",
       "      <td>5</td>\n",
       "      <td>2024-01-02</td>\n",
       "      <td>Decoración</td>\n",
       "    </tr>\n",
       "  </tbody>\n",
       "</table>\n",
       "</div>"
      ],
      "text/plain": [
       "   id_venta           producto  precio  cantidad fecha_venta   categoria\n",
       "0       792  Cuadro decorativo   69.94         5  2024-01-02  Decoración\n",
       "1       811    Lámpara de mesa  105.10         5  2024-01-02  Decoración"
      ]
     },
     "execution_count": 90,
     "metadata": {},
     "output_type": "execute_result"
    }
   ],
   "source": [
    "df_ventas.head(2)"
   ]
  },
  {
   "cell_type": "code",
   "execution_count": 91,
   "metadata": {
    "id": "SYFA9Egcbrwz"
   },
   "outputs": [],
   "source": [
    "# Transformación:\n",
    "# Calculamos el valor de cada venta = precio * cantidad\n",
    "# Agregamos una nueva columnas\n",
    "df_ventas[\"valor_venta\"] = df_ventas[\"precio\"] * df_ventas[\"cantidad\"]"
   ]
  },
  {
   "cell_type": "code",
   "execution_count": 92,
   "metadata": {
    "id": "XjDkhBIKb8eF"
   },
   "outputs": [
    {
     "data": {
      "text/html": [
       "<div>\n",
       "<style scoped>\n",
       "    .dataframe tbody tr th:only-of-type {\n",
       "        vertical-align: middle;\n",
       "    }\n",
       "\n",
       "    .dataframe tbody tr th {\n",
       "        vertical-align: top;\n",
       "    }\n",
       "\n",
       "    .dataframe thead th {\n",
       "        text-align: right;\n",
       "    }\n",
       "</style>\n",
       "<table border=\"1\" class=\"dataframe\">\n",
       "  <thead>\n",
       "    <tr style=\"text-align: right;\">\n",
       "      <th></th>\n",
       "      <th>id_venta</th>\n",
       "      <th>producto</th>\n",
       "      <th>precio</th>\n",
       "      <th>cantidad</th>\n",
       "      <th>fecha_venta</th>\n",
       "      <th>categoria</th>\n",
       "      <th>valor_venta</th>\n",
       "    </tr>\n",
       "  </thead>\n",
       "  <tbody>\n",
       "    <tr>\n",
       "      <th>0</th>\n",
       "      <td>792</td>\n",
       "      <td>Cuadro decorativo</td>\n",
       "      <td>69.94</td>\n",
       "      <td>5</td>\n",
       "      <td>2024-01-02</td>\n",
       "      <td>Decoración</td>\n",
       "      <td>349.7</td>\n",
       "    </tr>\n",
       "    <tr>\n",
       "      <th>1</th>\n",
       "      <td>811</td>\n",
       "      <td>Lámpara de mesa</td>\n",
       "      <td>105.10</td>\n",
       "      <td>5</td>\n",
       "      <td>2024-01-02</td>\n",
       "      <td>Decoración</td>\n",
       "      <td>525.5</td>\n",
       "    </tr>\n",
       "  </tbody>\n",
       "</table>\n",
       "</div>"
      ],
      "text/plain": [
       "   id_venta           producto  precio  cantidad fecha_venta   categoria  \\\n",
       "0       792  Cuadro decorativo   69.94         5  2024-01-02  Decoración   \n",
       "1       811    Lámpara de mesa  105.10         5  2024-01-02  Decoración   \n",
       "\n",
       "   valor_venta  \n",
       "0        349.7  \n",
       "1        525.5  "
      ]
     },
     "execution_count": 92,
     "metadata": {},
     "output_type": "execute_result"
    }
   ],
   "source": [
    "# Visualizamos\n",
    "df_ventas.head(2)"
   ]
  },
  {
   "cell_type": "code",
   "execution_count": 93,
   "metadata": {
    "id": "19aqzhamccGf"
   },
   "outputs": [
    {
     "data": {
      "text/html": [
       "<div>\n",
       "<style scoped>\n",
       "    .dataframe tbody tr th:only-of-type {\n",
       "        vertical-align: middle;\n",
       "    }\n",
       "\n",
       "    .dataframe tbody tr th {\n",
       "        vertical-align: top;\n",
       "    }\n",
       "\n",
       "    .dataframe thead th {\n",
       "        text-align: right;\n",
       "    }\n",
       "</style>\n",
       "<table border=\"1\" class=\"dataframe\">\n",
       "  <thead>\n",
       "    <tr style=\"text-align: right;\">\n",
       "      <th></th>\n",
       "      <th>producto</th>\n",
       "      <th>valor_venta</th>\n",
       "    </tr>\n",
       "  </thead>\n",
       "  <tbody>\n",
       "    <tr>\n",
       "      <th>0</th>\n",
       "      <td>Adorno de pared</td>\n",
       "      <td>48093.49</td>\n",
       "    </tr>\n",
       "    <tr>\n",
       "      <th>1</th>\n",
       "      <td>Alfombra</td>\n",
       "      <td>44773.06</td>\n",
       "    </tr>\n",
       "    <tr>\n",
       "      <th>2</th>\n",
       "      <td>Aspiradora</td>\n",
       "      <td>50085.86</td>\n",
       "    </tr>\n",
       "    <tr>\n",
       "      <th>3</th>\n",
       "      <td>Auriculares</td>\n",
       "      <td>74175.58</td>\n",
       "    </tr>\n",
       "    <tr>\n",
       "      <th>4</th>\n",
       "      <td>Batidora</td>\n",
       "      <td>50979.20</td>\n",
       "    </tr>\n",
       "  </tbody>\n",
       "</table>\n",
       "</div>"
      ],
      "text/plain": [
       "          producto  valor_venta\n",
       "0  Adorno de pared     48093.49\n",
       "1         Alfombra     44773.06\n",
       "2       Aspiradora     50085.86\n",
       "3      Auriculares     74175.58\n",
       "4         Batidora     50979.20"
      ]
     },
     "execution_count": 93,
     "metadata": {},
     "output_type": "execute_result"
    }
   ],
   "source": [
    "# Agregación:\n",
    "# Agrupar valor_venta por producto\n",
    "# Sumamos las ventas dentro de cada grupo\n",
    "tabla_ventas = (df_ventas.groupby(\"producto\", as_index=False)[\"valor_venta\"].sum())\n",
    "tabla_ventas.head()"
   ]
  },
  {
   "cell_type": "code",
   "execution_count": 94,
   "metadata": {
    "id": "xFr3GaReewb1"
   },
   "outputs": [
    {
     "data": {
      "text/html": [
       "<div>\n",
       "<style scoped>\n",
       "    .dataframe tbody tr th:only-of-type {\n",
       "        vertical-align: middle;\n",
       "    }\n",
       "\n",
       "    .dataframe tbody tr th {\n",
       "        vertical-align: top;\n",
       "    }\n",
       "\n",
       "    .dataframe thead th {\n",
       "        text-align: right;\n",
       "    }\n",
       "</style>\n",
       "<table border=\"1\" class=\"dataframe\">\n",
       "  <thead>\n",
       "    <tr style=\"text-align: right;\">\n",
       "      <th></th>\n",
       "      <th>valor_venta</th>\n",
       "    </tr>\n",
       "  </thead>\n",
       "  <tbody>\n",
       "    <tr>\n",
       "      <th>count</th>\n",
       "      <td>30.000000</td>\n",
       "    </tr>\n",
       "    <tr>\n",
       "      <th>mean</th>\n",
       "      <td>48903.117333</td>\n",
       "    </tr>\n",
       "    <tr>\n",
       "      <th>std</th>\n",
       "      <td>13265.561715</td>\n",
       "    </tr>\n",
       "    <tr>\n",
       "      <th>min</th>\n",
       "      <td>11128.800000</td>\n",
       "    </tr>\n",
       "    <tr>\n",
       "      <th>25%</th>\n",
       "      <td>45601.920000</td>\n",
       "    </tr>\n",
       "    <tr>\n",
       "      <th>50%</th>\n",
       "      <td>48140.245000</td>\n",
       "    </tr>\n",
       "    <tr>\n",
       "      <th>75%</th>\n",
       "      <td>51092.960000</td>\n",
       "    </tr>\n",
       "    <tr>\n",
       "      <th>max</th>\n",
       "      <td>82276.380000</td>\n",
       "    </tr>\n",
       "  </tbody>\n",
       "</table>\n",
       "</div>"
      ],
      "text/plain": [
       "        valor_venta\n",
       "count     30.000000\n",
       "mean   48903.117333\n",
       "std    13265.561715\n",
       "min    11128.800000\n",
       "25%    45601.920000\n",
       "50%    48140.245000\n",
       "75%    51092.960000\n",
       "max    82276.380000"
      ]
     },
     "execution_count": 94,
     "metadata": {},
     "output_type": "execute_result"
    }
   ],
   "source": [
    "# Usemos describe para analizar algunos valores del dataframe resultante\n",
    "tabla_ventas.describe()"
   ]
  },
  {
   "cell_type": "code",
   "execution_count": 95,
   "metadata": {
    "id": "2y-tJBOaLKsT"
   },
   "outputs": [
    {
     "data": {
      "image/png": "[encoded data removed]",
      "text/plain": [
       "<Figure size 640x480 with 1 Axes>"
      ]
     },
     "metadata": {},
     "output_type": "display_data"
    }
   ],
   "source": [
    "# Agregamos un plot para visualizar graficamente la distribución\n",
    "import seaborn as sns\n",
    "import matplotlib.pyplot as plt\n",
    "\n",
    "sns.histplot(tabla_ventas[\"valor_venta\"], bins=30, kde=True, edgecolor=\"black\")\n",
    "plt.title(\"Distribución de Valor de Venta con Curva de Densidad\")\n",
    "plt.xlabel(\"Valor de venta\")\n",
    "plt.ylabel(\"Frecuencia\")\n",
    "plt.show()"
   ]
  },
  {
   "cell_type": "code",
   "execution_count": 96,
   "metadata": {
    "id": "eU4ZNyM7diww"
   },
   "outputs": [
    {
     "data": {
      "text/plain": [
       "np.float64(51092.96)"
      ]
     },
     "execution_count": 96,
     "metadata": {},
     "output_type": "execute_result"
    }
   ],
   "source": [
    "# Calcular el percentil 75 (umbral de alto rendimiento)\n",
    "umbral_ventas = tabla_ventas[\"valor_venta\"].quantile(0.75)\n",
    "umbral_ventas"
   ]
  },
  {
   "cell_type": "code",
   "execution_count": 97,
   "metadata": {
    "id": "TjRRnE88eUZe"
   },
   "outputs": [
    {
     "data": {
      "text/html": [
       "<div>\n",
       "<style scoped>\n",
       "    .dataframe tbody tr th:only-of-type {\n",
       "        vertical-align: middle;\n",
       "    }\n",
       "\n",
       "    .dataframe tbody tr th {\n",
       "        vertical-align: top;\n",
       "    }\n",
       "\n",
       "    .dataframe thead th {\n",
       "        text-align: right;\n",
       "    }\n",
       "</style>\n",
       "<table border=\"1\" class=\"dataframe\">\n",
       "  <thead>\n",
       "    <tr style=\"text-align: right;\">\n",
       "      <th></th>\n",
       "      <th>producto</th>\n",
       "      <th>valor_venta</th>\n",
       "    </tr>\n",
       "  </thead>\n",
       "  <tbody>\n",
       "    <tr>\n",
       "      <th>3</th>\n",
       "      <td>Auriculares</td>\n",
       "      <td>74175.58</td>\n",
       "    </tr>\n",
       "    <tr>\n",
       "      <th>5</th>\n",
       "      <td>Cafetera</td>\n",
       "      <td>59607.31</td>\n",
       "    </tr>\n",
       "    <tr>\n",
       "      <th>9</th>\n",
       "      <td>Cuadro decorativo</td>\n",
       "      <td>54297.60</td>\n",
       "    </tr>\n",
       "    <tr>\n",
       "      <th>16</th>\n",
       "      <td>Jarrón decorativo</td>\n",
       "      <td>51130.88</td>\n",
       "    </tr>\n",
       "    <tr>\n",
       "      <th>19</th>\n",
       "      <td>Lámpara de mesa</td>\n",
       "      <td>82276.38</td>\n",
       "    </tr>\n",
       "    <tr>\n",
       "      <th>20</th>\n",
       "      <td>Microondas</td>\n",
       "      <td>72562.89</td>\n",
       "    </tr>\n",
       "    <tr>\n",
       "      <th>25</th>\n",
       "      <td>Secadora</td>\n",
       "      <td>52115.45</td>\n",
       "    </tr>\n",
       "    <tr>\n",
       "      <th>27</th>\n",
       "      <td>Smartphone</td>\n",
       "      <td>54132.44</td>\n",
       "    </tr>\n",
       "  </tbody>\n",
       "</table>\n",
       "</div>"
      ],
      "text/plain": [
       "             producto  valor_venta\n",
       "3         Auriculares     74175.58\n",
       "5            Cafetera     59607.31\n",
       "9   Cuadro decorativo     54297.60\n",
       "16  Jarrón decorativo     51130.88\n",
       "19    Lámpara de mesa     82276.38\n",
       "20         Microondas     72562.89\n",
       "25           Secadora     52115.45\n",
       "27         Smartphone     54132.44"
      ]
     },
     "execution_count": 97,
     "metadata": {},
     "output_type": "execute_result"
    }
   ],
   "source": [
    "# Identificar productos que superan el umbral\n",
    "# productos_top = tabla_ventas.query(\"valor_venta >= @umbral\")\n",
    "productos_top = tabla_ventas[tabla_ventas[\"valor_venta\"] >= umbral_ventas]\n",
    "productos_top"
   ]
  },
  {
   "cell_type": "markdown",
   "metadata": {
    "id": "-mb9io4x-SAD"
   },
   "source": [
    "## Agregación\n",
    "Actividad 3 - Resumir las ventas por categoría de producto y analizar los ingresos generados."
   ]
  },
  {
   "cell_type": "code",
   "execution_count": 98,
   "metadata": {
    "id": "aK1C6C7kNFoy"
   },
   "outputs": [
    {
     "data": {
      "text/plain": [
       "Index(['id_venta', 'producto', 'precio', 'cantidad', 'fecha_venta',\n",
       "       'categoria', 'valor_venta'],\n",
       "      dtype='object')"
      ]
     },
     "execution_count": 98,
     "metadata": {},
     "output_type": "execute_result"
    }
   ],
   "source": [
    "df_ventas.columns"
   ]
  },
  {
   "cell_type": "code",
   "execution_count": 99,
   "metadata": {
    "id": "MbADnST1mLBi"
   },
   "outputs": [
    {
     "data": {
      "text/html": [
       "<div>\n",
       "<style scoped>\n",
       "    .dataframe tbody tr th:only-of-type {\n",
       "        vertical-align: middle;\n",
       "    }\n",
       "\n",
       "    .dataframe tbody tr th {\n",
       "        vertical-align: top;\n",
       "    }\n",
       "\n",
       "    .dataframe thead th {\n",
       "        text-align: right;\n",
       "    }\n",
       "</style>\n",
       "<table border=\"1\" class=\"dataframe\">\n",
       "  <thead>\n",
       "    <tr style=\"text-align: right;\">\n",
       "      <th></th>\n",
       "      <th>categoria</th>\n",
       "      <th>valor_venta</th>\n",
       "    </tr>\n",
       "  </thead>\n",
       "  <tbody>\n",
       "    <tr>\n",
       "      <th>0</th>\n",
       "      <td>Decoración</td>\n",
       "      <td>479216.09</td>\n",
       "    </tr>\n",
       "    <tr>\n",
       "      <th>1</th>\n",
       "      <td>Electrodomésticos</td>\n",
       "      <td>505299.63</td>\n",
       "    </tr>\n",
       "    <tr>\n",
       "      <th>2</th>\n",
       "      <td>Electrónica</td>\n",
       "      <td>482577.80</td>\n",
       "    </tr>\n",
       "  </tbody>\n",
       "</table>\n",
       "</div>"
      ],
      "text/plain": [
       "           categoria  valor_venta\n",
       "0         Decoración    479216.09\n",
       "1  Electrodomésticos    505299.63\n",
       "2        Electrónica    482577.80"
      ]
     },
     "execution_count": 99,
     "metadata": {},
     "output_type": "execute_result"
    }
   ],
   "source": [
    "# Agrupamos por categoria y agregamos la suma\n",
    "ventas_categoria = df_ventas.groupby(\"categoria\", as_index=False)[\"valor_venta\"].sum()\n",
    "ventas_categoria.head()"
   ]
  },
  {
   "cell_type": "code",
   "execution_count": 100,
   "metadata": {
    "id": "NHqXS2hxN2GC"
   },
   "outputs": [
    {
     "data": {
      "text/html": [
       "<div>\n",
       "<style scoped>\n",
       "    .dataframe tbody tr th:only-of-type {\n",
       "        vertical-align: middle;\n",
       "    }\n",
       "\n",
       "    .dataframe tbody tr th {\n",
       "        vertical-align: top;\n",
       "    }\n",
       "\n",
       "    .dataframe thead th {\n",
       "        text-align: right;\n",
       "    }\n",
       "</style>\n",
       "<table border=\"1\" class=\"dataframe\">\n",
       "  <thead>\n",
       "    <tr style=\"text-align: right;\">\n",
       "      <th></th>\n",
       "      <th>categoria</th>\n",
       "      <th>valor_venta</th>\n",
       "    </tr>\n",
       "  </thead>\n",
       "  <tbody>\n",
       "    <tr>\n",
       "      <th>0</th>\n",
       "      <td>Decoración</td>\n",
       "      <td>479216.09</td>\n",
       "    </tr>\n",
       "    <tr>\n",
       "      <th>1</th>\n",
       "      <td>Electrodomésticos</td>\n",
       "      <td>505299.63</td>\n",
       "    </tr>\n",
       "    <tr>\n",
       "      <th>2</th>\n",
       "      <td>Electrónica</td>\n",
       "      <td>482577.80</td>\n",
       "    </tr>\n",
       "  </tbody>\n",
       "</table>\n",
       "</div>"
      ],
      "text/plain": [
       "           categoria  valor_venta\n",
       "0         Decoración    479216.09\n",
       "1  Electrodomésticos    505299.63\n",
       "2        Electrónica    482577.80"
      ]
     },
     "execution_count": 100,
     "metadata": {},
     "output_type": "execute_result"
    }
   ],
   "source": [
    "ventas_categoria"
   ]
  },
  {
   "cell_type": "code",
   "execution_count": 101,
   "metadata": {
    "id": "iKLVXN9mn74g"
   },
   "outputs": [
    {
     "data": {
      "text/html": [
       "<div>\n",
       "<style scoped>\n",
       "    .dataframe tbody tr th:only-of-type {\n",
       "        vertical-align: middle;\n",
       "    }\n",
       "\n",
       "    .dataframe tbody tr th {\n",
       "        vertical-align: top;\n",
       "    }\n",
       "\n",
       "    .dataframe thead th {\n",
       "        text-align: right;\n",
       "    }\n",
       "</style>\n",
       "<table border=\"1\" class=\"dataframe\">\n",
       "  <thead>\n",
       "    <tr style=\"text-align: right;\">\n",
       "      <th></th>\n",
       "      <th>categoria</th>\n",
       "      <th>valor_venta</th>\n",
       "    </tr>\n",
       "  </thead>\n",
       "  <tbody>\n",
       "    <tr>\n",
       "      <th>0</th>\n",
       "      <td>Decoración</td>\n",
       "      <td>479216.09</td>\n",
       "    </tr>\n",
       "    <tr>\n",
       "      <th>1</th>\n",
       "      <td>Electrodomésticos</td>\n",
       "      <td>505299.63</td>\n",
       "    </tr>\n",
       "    <tr>\n",
       "      <th>2</th>\n",
       "      <td>Electrónica</td>\n",
       "      <td>482577.80</td>\n",
       "    </tr>\n",
       "  </tbody>\n",
       "</table>\n",
       "</div>"
      ],
      "text/plain": [
       "           categoria  valor_venta\n",
       "0         Decoración    479216.09\n",
       "1  Electrodomésticos    505299.63\n",
       "2        Electrónica    482577.80"
      ]
     },
     "execution_count": 101,
     "metadata": {},
     "output_type": "execute_result"
    }
   ],
   "source": [
    "# Ordenar y mostrar los resultados\n",
    "ventas_categoria"
   ]
  },
  {
   "cell_type": "markdown",
   "metadata": {
    "id": "YQB-_u0B-YsC"
   },
   "source": [
    "## Integración de datos\n",
    "Actividad 4 - Combinar los sets de datos de ventas y marketing para obtener una visión más amplia de las tendencias."
   ]
  },
  {
   "cell_type": "code",
   "execution_count": 102,
   "metadata": {
    "id": "Ee0ALtQoPm5v"
   },
   "outputs": [
    {
     "data": {
      "text/html": [
       "<div>\n",
       "<style scoped>\n",
       "    .dataframe tbody tr th:only-of-type {\n",
       "        vertical-align: middle;\n",
       "    }\n",
       "\n",
       "    .dataframe tbody tr th {\n",
       "        vertical-align: top;\n",
       "    }\n",
       "\n",
       "    .dataframe thead th {\n",
       "        text-align: right;\n",
       "    }\n",
       "</style>\n",
       "<table border=\"1\" class=\"dataframe\">\n",
       "  <thead>\n",
       "    <tr style=\"text-align: right;\">\n",
       "      <th></th>\n",
       "      <th>id_venta</th>\n",
       "      <th>producto</th>\n",
       "      <th>precio</th>\n",
       "      <th>cantidad</th>\n",
       "      <th>fecha_venta</th>\n",
       "      <th>categoria</th>\n",
       "      <th>valor_venta</th>\n",
       "    </tr>\n",
       "  </thead>\n",
       "  <tbody>\n",
       "    <tr>\n",
       "      <th>0</th>\n",
       "      <td>792</td>\n",
       "      <td>Cuadro decorativo</td>\n",
       "      <td>69.94</td>\n",
       "      <td>5</td>\n",
       "      <td>2024-01-02</td>\n",
       "      <td>Decoración</td>\n",
       "      <td>349.7</td>\n",
       "    </tr>\n",
       "    <tr>\n",
       "      <th>1</th>\n",
       "      <td>811</td>\n",
       "      <td>Lámpara de mesa</td>\n",
       "      <td>105.10</td>\n",
       "      <td>5</td>\n",
       "      <td>2024-01-02</td>\n",
       "      <td>Decoración</td>\n",
       "      <td>525.5</td>\n",
       "    </tr>\n",
       "  </tbody>\n",
       "</table>\n",
       "</div>"
      ],
      "text/plain": [
       "   id_venta           producto  precio  cantidad fecha_venta   categoria  \\\n",
       "0       792  Cuadro decorativo   69.94         5  2024-01-02  Decoración   \n",
       "1       811    Lámpara de mesa  105.10         5  2024-01-02  Decoración   \n",
       "\n",
       "   valor_venta  \n",
       "0        349.7  \n",
       "1        525.5  "
      ]
     },
     "execution_count": 102,
     "metadata": {},
     "output_type": "execute_result"
    }
   ],
   "source": [
    "df_ventas.head(2)"
   ]
  },
  {
   "cell_type": "code",
   "execution_count": 103,
   "metadata": {
    "id": "nf43t38GPpFF"
   },
   "outputs": [
    {
     "name": "stdout",
     "output_type": "stream",
     "text": [
      "<class 'pandas.core.frame.DataFrame'>\n",
      "RangeIndex: 90 entries, 0 to 89\n",
      "Data columns (total 6 columns):\n",
      " #   Column        Non-Null Count  Dtype  \n",
      "---  ------        --------------  -----  \n",
      " 0   id_campanha   90 non-null     int64  \n",
      " 1   producto      90 non-null     object \n",
      " 2   canal         90 non-null     object \n",
      " 3   costo         90 non-null     float64\n",
      " 4   fecha_inicio  90 non-null     object \n",
      " 5   fecha_fin     90 non-null     object \n",
      "dtypes: float64(1), int64(1), object(4)\n",
      "memory usage: 4.3+ KB\n"
     ]
    }
   ],
   "source": [
    "df_marketing.info()"
   ]
  },
  {
   "cell_type": "code",
   "execution_count": 104,
   "metadata": {
    "id": "XcPBF9V9xitw"
   },
   "outputs": [],
   "source": [
    "# Unir los datasets ventas y marketing por columna 'producto'\n",
    "ventas_marketing = pd.merge(df_ventas, df_marketing, on=\"producto\", how=\"left\")"
   ]
  },
  {
   "cell_type": "code",
   "execution_count": 105,
   "metadata": {
    "id": "V4_nJrEMXnOV"
   },
   "outputs": [
    {
     "data": {
      "text/html": [
       "<div>\n",
       "<style scoped>\n",
       "    .dataframe tbody tr th:only-of-type {\n",
       "        vertical-align: middle;\n",
       "    }\n",
       "\n",
       "    .dataframe tbody tr th {\n",
       "        vertical-align: top;\n",
       "    }\n",
       "\n",
       "    .dataframe thead th {\n",
       "        text-align: right;\n",
       "    }\n",
       "</style>\n",
       "<table border=\"1\" class=\"dataframe\">\n",
       "  <thead>\n",
       "    <tr style=\"text-align: right;\">\n",
       "      <th></th>\n",
       "      <th>id_venta</th>\n",
       "      <th>producto</th>\n",
       "      <th>precio</th>\n",
       "      <th>cantidad</th>\n",
       "      <th>fecha_venta</th>\n",
       "      <th>categoria</th>\n",
       "      <th>valor_venta</th>\n",
       "      <th>id_campanha</th>\n",
       "      <th>canal</th>\n",
       "      <th>costo</th>\n",
       "      <th>fecha_inicio</th>\n",
       "      <th>fecha_fin</th>\n",
       "    </tr>\n",
       "  </thead>\n",
       "  <tbody>\n",
       "    <tr>\n",
       "      <th>0</th>\n",
       "      <td>792</td>\n",
       "      <td>Cuadro decorativo</td>\n",
       "      <td>69.94</td>\n",
       "      <td>5</td>\n",
       "      <td>2024-01-02</td>\n",
       "      <td>Decoración</td>\n",
       "      <td>349.7</td>\n",
       "      <td>1</td>\n",
       "      <td>RRSS</td>\n",
       "      <td>5.27</td>\n",
       "      <td>27/04/2024</td>\n",
       "      <td>04/06/2024</td>\n",
       "    </tr>\n",
       "    <tr>\n",
       "      <th>1</th>\n",
       "      <td>792</td>\n",
       "      <td>Cuadro decorativo</td>\n",
       "      <td>69.94</td>\n",
       "      <td>5</td>\n",
       "      <td>2024-01-02</td>\n",
       "      <td>Decoración</td>\n",
       "      <td>349.7</td>\n",
       "      <td>31</td>\n",
       "      <td>Email</td>\n",
       "      <td>5.28</td>\n",
       "      <td>15/08/2024</td>\n",
       "      <td>12/09/2024</td>\n",
       "    </tr>\n",
       "    <tr>\n",
       "      <th>2</th>\n",
       "      <td>792</td>\n",
       "      <td>Cuadro decorativo</td>\n",
       "      <td>69.94</td>\n",
       "      <td>5</td>\n",
       "      <td>2024-01-02</td>\n",
       "      <td>Decoración</td>\n",
       "      <td>349.7</td>\n",
       "      <td>61</td>\n",
       "      <td>TV</td>\n",
       "      <td>5.30</td>\n",
       "      <td>05/11/2024</td>\n",
       "      <td>23/12/2024</td>\n",
       "    </tr>\n",
       "    <tr>\n",
       "      <th>3</th>\n",
       "      <td>811</td>\n",
       "      <td>Lámpara de mesa</td>\n",
       "      <td>105.10</td>\n",
       "      <td>5</td>\n",
       "      <td>2024-01-02</td>\n",
       "      <td>Decoración</td>\n",
       "      <td>525.5</td>\n",
       "      <td>32</td>\n",
       "      <td>Email</td>\n",
       "      <td>5.54</td>\n",
       "      <td>28/03/2024</td>\n",
       "      <td>20/04/2024</td>\n",
       "    </tr>\n",
       "    <tr>\n",
       "      <th>4</th>\n",
       "      <td>811</td>\n",
       "      <td>Lámpara de mesa</td>\n",
       "      <td>105.10</td>\n",
       "      <td>5</td>\n",
       "      <td>2024-01-02</td>\n",
       "      <td>Decoración</td>\n",
       "      <td>525.5</td>\n",
       "      <td>2</td>\n",
       "      <td>RRSS</td>\n",
       "      <td>5.88</td>\n",
       "      <td>30/05/2024</td>\n",
       "      <td>29/06/2024</td>\n",
       "    </tr>\n",
       "  </tbody>\n",
       "</table>\n",
       "</div>"
      ],
      "text/plain": [
       "   id_venta           producto  precio  cantidad fecha_venta   categoria  \\\n",
       "0       792  Cuadro decorativo   69.94         5  2024-01-02  Decoración   \n",
       "1       792  Cuadro decorativo   69.94         5  2024-01-02  Decoración   \n",
       "2       792  Cuadro decorativo   69.94         5  2024-01-02  Decoración   \n",
       "3       811    Lámpara de mesa  105.10         5  2024-01-02  Decoración   \n",
       "4       811    Lámpara de mesa  105.10         5  2024-01-02  Decoración   \n",
       "\n",
       "   valor_venta  id_campanha  canal  costo fecha_inicio   fecha_fin  \n",
       "0        349.7            1   RRSS   5.27   27/04/2024  04/06/2024  \n",
       "1        349.7           31  Email   5.28   15/08/2024  12/09/2024  \n",
       "2        349.7           61     TV   5.30   05/11/2024  23/12/2024  \n",
       "3        525.5           32  Email   5.54   28/03/2024  20/04/2024  \n",
       "4        525.5            2   RRSS   5.88   30/05/2024  29/06/2024  "
      ]
     },
     "execution_count": 105,
     "metadata": {},
     "output_type": "execute_result"
    }
   ],
   "source": [
    "# Verificar coincidencias (muestra)\n",
    "ventas_marketing.head()"
   ]
  },
  {
   "cell_type": "markdown",
   "metadata": {
    "id": "YC40BdGVhCyj"
   },
   "source": [
    "### Analizamos el impacto de la campaña"
   ]
  },
  {
   "cell_type": "code",
   "execution_count": 106,
   "metadata": {
    "id": "GLyB_DgPfGrZ"
   },
   "outputs": [],
   "source": [
    "# Nos quedamos solo con los registros de ventas durante la campaña de marketing\n",
    "# Seleccionamos solo los campos que nos interesan: \"producto\", \"valor_venta\", \"costo\"\n"
   ]
  },
  {
   "cell_type": "code",
   "execution_count": 107,
   "metadata": {
    "id": "arV23U7ndcfR"
   },
   "outputs": [
    {
     "data": {
      "text/html": [
       "<div>\n",
       "<style scoped>\n",
       "    .dataframe tbody tr th:only-of-type {\n",
       "        vertical-align: middle;\n",
       "    }\n",
       "\n",
       "    .dataframe tbody tr th {\n",
       "        vertical-align: top;\n",
       "    }\n",
       "\n",
       "    .dataframe thead th {\n",
       "        text-align: right;\n",
       "    }\n",
       "</style>\n",
       "<table border=\"1\" class=\"dataframe\">\n",
       "  <thead>\n",
       "    <tr style=\"text-align: right;\">\n",
       "      <th></th>\n",
       "      <th>valor_venta</th>\n",
       "      <th>costo</th>\n",
       "    </tr>\n",
       "    <tr>\n",
       "      <th>categoria</th>\n",
       "      <th></th>\n",
       "      <th></th>\n",
       "    </tr>\n",
       "  </thead>\n",
       "  <tbody>\n",
       "    <tr>\n",
       "      <th>Decoración</th>\n",
       "      <td>1437648.27</td>\n",
       "      <td>15774.86</td>\n",
       "    </tr>\n",
       "    <tr>\n",
       "      <th>Electrodomésticos</th>\n",
       "      <td>1515898.89</td>\n",
       "      <td>14644.65</td>\n",
       "    </tr>\n",
       "    <tr>\n",
       "      <th>Electrónica</th>\n",
       "      <td>1447733.40</td>\n",
       "      <td>14243.90</td>\n",
       "    </tr>\n",
       "  </tbody>\n",
       "</table>\n",
       "</div>"
      ],
      "text/plain": [
       "                   valor_venta     costo\n",
       "categoria                               \n",
       "Decoración          1437648.27  15774.86\n",
       "Electrodomésticos   1515898.89  14644.65\n",
       "Electrónica         1447733.40  14243.90"
      ]
     },
     "execution_count": 107,
     "metadata": {},
     "output_type": "execute_result"
    }
   ],
   "source": [
    "# Agrupamos por producto y hacemos una agregación por \"valor de venta\" y \"costo\"\n",
    "ventas_marketing.groupby(\"categoria\")[[\"valor_venta\",\"costo\"]].sum()"
   ]
  },
  {
   "cell_type": "code",
   "execution_count": 108,
   "metadata": {
    "id": "Mi20QG2MhspI"
   },
   "outputs": [],
   "source": [
    "# Generamos una nueva columna con la diferencia entre lo vendido y lo invertido en la campaña\n"
   ]
  }
 ],
 "metadata": {
  "colab": {
   "authorship_tag": "ABX9TyN76tCvEZqQSERkd3UmCJ4F",
   "provenance": [],
   "toc_visible": true
  },
  "kernelspec": {
   "display_name": "Python 3",
   "name": "python3"
  },
  "language_info": {
   "codemirror_mode": {
    "name": "ipython",
    "version": 3
   },
   "file_extension": ".py",
   "mimetype": "text/x-python",
   "name": "python",
   "nbconvert_exporter": "python",
   "pygments_lexer": "ipython3",
   "version": "3.13.7"
  }
 },
 "nbformat": 4,
 "nbformat_minor": 0
}
